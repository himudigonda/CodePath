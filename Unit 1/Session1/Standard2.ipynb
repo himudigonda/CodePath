{
 "cells": [
  {
   "cell_type": "markdown",
   "id": "3390e6e2",
   "metadata": {},
   "source": [
    "## Problem 1: Batman"
   ]
  },
  {
   "cell_type": "code",
   "execution_count": 1,
   "id": "a272e616",
   "metadata": {},
   "outputs": [],
   "source": [
    "def batman():\n",
    "    print(\"I am vengeance. I am the night. I am Batman!\")"
   ]
  },
  {
   "cell_type": "code",
   "execution_count": 2,
   "id": "ee3cab25",
   "metadata": {},
   "outputs": [
    {
     "name": "stdout",
     "output_type": "stream",
     "text": [
      "I am vengeance. I am the night. I am Batman!\n"
     ]
    }
   ],
   "source": [
    "batman()"
   ]
  },
  {
   "cell_type": "markdown",
   "id": "ece6a9b9",
   "metadata": {},
   "source": [
    "## Problem 2: Mad Libs"
   ]
  },
  {
   "cell_type": "code",
   "execution_count": 3,
   "id": "7fba2741",
   "metadata": {},
   "outputs": [],
   "source": [
    "def madlib(verb):\n",
    "    print(f\"I have one power. I never {verb}. - Batman\")"
   ]
  },
  {
   "cell_type": "code",
   "execution_count": 4,
   "id": "2f872b1c",
   "metadata": {},
   "outputs": [
    {
     "name": "stdout",
     "output_type": "stream",
     "text": [
      "I have one power. I never give up. - Batman\n",
      "I have one power. I never nap. - Batman\n"
     ]
    }
   ],
   "source": [
    "verb = \"give up\"\n",
    "madlib(verb)\n",
    "\n",
    "verb = \"nap\"\n",
    "madlib(verb)"
   ]
  },
  {
   "cell_type": "markdown",
   "id": "076f171a",
   "metadata": {},
   "source": [
    "## Problem 3: Trilogy"
   ]
  },
  {
   "cell_type": "code",
   "execution_count": 5,
   "id": "9dd5e83b",
   "metadata": {},
   "outputs": [],
   "source": [
    "def trilogy(year):\n",
    "    if year == 2005:\n",
    "        print(\"Batman Begins\")\n",
    "    elif year == 2008:\n",
    "        print(\"The Dark Knight\")\n",
    "    elif year == 2012:\n",
    "        print(\"The Dark Knight Rises\")\n",
    "    else:\n",
    "        print(f\"Christopher Nolan did not release a Batman movie in {year}\")"
   ]
  },
  {
   "cell_type": "code",
   "execution_count": 6,
   "id": "ee3352ce",
   "metadata": {},
   "outputs": [
    {
     "name": "stdout",
     "output_type": "stream",
     "text": [
      "The Dark Knight\n",
      "Christopher Nolan did not release a Batman movie in 1998\n"
     ]
    }
   ],
   "source": [
    "year = 2008\n",
    "trilogy(year)\n",
    "\n",
    "year = 1998\n",
    "trilogy(year)"
   ]
  },
  {
   "cell_type": "markdown",
   "id": "29e7edb7",
   "metadata": {},
   "source": [
    "## Problem 4: Last"
   ]
  },
  {
   "cell_type": "code",
   "execution_count": 7,
   "id": "8aca1e40",
   "metadata": {},
   "outputs": [],
   "source": [
    "def get_last(items):\n",
    "    print(items[-1]) if len(items) > 0 else print(\"None\")"
   ]
  },
  {
   "cell_type": "code",
   "execution_count": 8,
   "id": "f43b033e",
   "metadata": {},
   "outputs": [
    {
     "name": "stdout",
     "output_type": "stream",
     "text": [
      "black adam\n",
      "None\n"
     ]
    }
   ],
   "source": [
    "items = [\"spider man\", \"batman\", \"superman\", \"iron man\", \"wonder woman\", \"black adam\"]\n",
    "get_last(items)\n",
    "\n",
    "items = []\n",
    "get_last(items)"
   ]
  },
  {
   "cell_type": "markdown",
   "id": "fddf5325",
   "metadata": {},
   "source": [
    "## Problem 5: Concatenate"
   ]
  },
  {
   "cell_type": "code",
   "execution_count": 9,
   "id": "65787aa0",
   "metadata": {},
   "outputs": [],
   "source": [
    "def concatenate(words):\n",
    "    print(\"\".join(words))"
   ]
  },
  {
   "cell_type": "code",
   "execution_count": 10,
   "id": "a57cc4d1",
   "metadata": {},
   "outputs": [
    {
     "name": "stdout",
     "output_type": "stream",
     "text": [
      "vengeancedarknessbatman\n",
      "\n"
     ]
    }
   ],
   "source": [
    "words = [\"vengeance\", \"darkness\", \"batman\"]\n",
    "concatenate(words)\n",
    "\n",
    "words = []\n",
    "concatenate(words)"
   ]
  },
  {
   "cell_type": "markdown",
   "id": "774e0945",
   "metadata": {},
   "source": [
    "## Problem 6: Squared"
   ]
  },
  {
   "cell_type": "code",
   "execution_count": 11,
   "id": "71e7aa1b",
   "metadata": {},
   "outputs": [],
   "source": [
    "def squared(numbers):\n",
    "    for i in range(len(numbers)):\n",
    "        numbers[i] = numbers[i] ** 2\n",
    "    print(numbers)"
   ]
  },
  {
   "cell_type": "code",
   "execution_count": 12,
   "id": "bf802eff",
   "metadata": {},
   "outputs": [
    {
     "name": "stdout",
     "output_type": "stream",
     "text": [
      "[1, 4, 9]\n"
     ]
    }
   ],
   "source": [
    "numbers = [1, 2, 3]\n",
    "squared(numbers)"
   ]
  },
  {
   "cell_type": "markdown",
   "id": "66307f12",
   "metadata": {},
   "source": [
    "## Problem 7: NaNaNa Batman!"
   ]
  },
  {
   "cell_type": "code",
   "execution_count": 19,
   "id": "66876284",
   "metadata": {},
   "outputs": [],
   "source": [
    "def nanana_batman(x):\n",
    "    res = []\n",
    "    y = x\n",
    "    while y > 0:\n",
    "        res.append(\"na\")\n",
    "        y -= 1\n",
    "    res = ''.join(res)\n",
    "    if x > 0:\n",
    "        res += ' '\n",
    "    res += 'batman!'\n",
    "    print(res)"
   ]
  },
  {
   "cell_type": "code",
   "execution_count": 20,
   "id": "a9f4fe72",
   "metadata": {},
   "outputs": [
    {
     "name": "stdout",
     "output_type": "stream",
     "text": [
      "nananananana batman!\n",
      "batman!\n"
     ]
    }
   ],
   "source": [
    "x = 6\n",
    "nanana_batman(x)\n",
    "\n",
    "x = 0\n",
    "nanana_batman(x)"
   ]
  },
  {
   "cell_type": "markdown",
   "id": "ae226936",
   "metadata": {},
   "source": [
    "## Problem 8: Find the Villain"
   ]
  },
  {
   "cell_type": "code",
   "execution_count": 22,
   "id": "d39e0016",
   "metadata": {},
   "outputs": [],
   "source": [
    "def find_villain(crowd, villain):\n",
    "    res = []\n",
    "    for idx, person in enumerate(crowd):\n",
    "        if person == villain:\n",
    "            res.append(idx)\n",
    "    return res"
   ]
  },
  {
   "cell_type": "code",
   "execution_count": 23,
   "id": "33bb39c4",
   "metadata": {},
   "outputs": [
    {
     "data": {
      "text/plain": [
       "[1, 4, 6]"
      ]
     },
     "execution_count": 23,
     "metadata": {},
     "output_type": "execute_result"
    }
   ],
   "source": [
    "crowd = [\n",
    "    \"Batman\",\n",
    "    \"The Joker\",\n",
    "    \"Alfred Pennyworth\",\n",
    "    \"Robin\",\n",
    "    \"The Joker\",\n",
    "    \"Catwoman\",\n",
    "    \"The Joker\",\n",
    "]\n",
    "villain = \"The Joker\"\n",
    "find_villain(crowd, villain)"
   ]
  },
  {
   "cell_type": "markdown",
   "id": "c282cb9d",
   "metadata": {},
   "source": [
    "## Problem 9: Odd"
   ]
  },
  {
   "cell_type": "code",
   "execution_count": 24,
   "id": "01503ce9",
   "metadata": {},
   "outputs": [],
   "source": [
    "def get_odds(nums):\n",
    "    res = [i for i in nums if i % 2 == 1]\n",
    "    return res"
   ]
  },
  {
   "cell_type": "code",
   "execution_count": 26,
   "id": "ae9c01e6",
   "metadata": {},
   "outputs": [
    {
     "name": "stdout",
     "output_type": "stream",
     "text": [
      "[1, 3]\n",
      "[]\n"
     ]
    }
   ],
   "source": [
    "nums = [1, 2, 3, 4]\n",
    "print(get_odds(nums))\n",
    "\n",
    "nums = [2, 4, 6, 8]\n",
    "print(get_odds(nums))"
   ]
  },
  {
   "cell_type": "markdown",
   "id": "33c30560",
   "metadata": {},
   "source": [
    "## Problem 10: Up and Down"
   ]
  },
  {
   "cell_type": "code",
   "execution_count": 27,
   "id": "2650bb1d",
   "metadata": {},
   "outputs": [],
   "source": [
    "def up_and_down(lst):\n",
    "    odds = 0\n",
    "    evens = 0\n",
    "    for i in lst:\n",
    "        if i % 2 == 0:\n",
    "            evens += 1\n",
    "        else:\n",
    "            odds += 1\n",
    "    return odds - evens"
   ]
  },
  {
   "cell_type": "code",
   "execution_count": 28,
   "id": "e69ef6b0",
   "metadata": {},
   "outputs": [
    {
     "name": "stdout",
     "output_type": "stream",
     "text": [
      "1\n",
      "3\n",
      "-4\n"
     ]
    }
   ],
   "source": [
    "lst = [1, 2, 3]\n",
    "print(up_and_down(lst))\n",
    "\n",
    "lst = [1, 3, 5]\n",
    "print(up_and_down(lst))\n",
    "\n",
    "lst = [2, 4, 10, 2]\n",
    "print(up_and_down(lst))"
   ]
  },
  {
   "cell_type": "markdown",
   "id": "3864e5e4",
   "metadata": {},
   "source": [
    "## Problem 11: Running Sum"
   ]
  },
  {
   "cell_type": "code",
   "execution_count": 31,
   "id": "58ce5dc5",
   "metadata": {},
   "outputs": [],
   "source": [
    "def running_sum(superhero_stats):\n",
    "    res = [0] * len(superhero_stats)\n",
    "    total = 0\n",
    "    for idx, val in enumerate(superhero_stats):\n",
    "        total += val\n",
    "        res[idx] = total\n",
    "    return res"
   ]
  },
  {
   "cell_type": "code",
   "execution_count": 32,
   "id": "955f7665",
   "metadata": {},
   "outputs": [
    {
     "name": "stdout",
     "output_type": "stream",
     "text": [
      "[1, 3, 6, 10]\n",
      "[1, 2, 3, 4, 5]\n",
      "[3, 4, 6, 16, 17]\n"
     ]
    }
   ],
   "source": [
    "superhero_stats = [1, 2, 3, 4]\n",
    "print(running_sum(superhero_stats))\n",
    "\n",
    "superhero_stats = [1, 1, 1, 1, 1]\n",
    "print(running_sum(superhero_stats))\n",
    "\n",
    "superhero_stats = [3, 1, 2, 10, 1]\n",
    "print(running_sum(superhero_stats))"
   ]
  },
  {
   "cell_type": "markdown",
   "id": "f3455a20",
   "metadata": {},
   "source": [
    "## Problem 12: Shuffle"
   ]
  },
  {
   "cell_type": "code",
   "execution_count": 41,
   "id": "edef84d6",
   "metadata": {},
   "outputs": [],
   "source": [
    "def shuffle(cards):\n",
    "    res = []\n",
    "    cardsA = cards[: len(cards) // 2]\n",
    "    cardsB = cards[len(cards) // 2 :]\n",
    "    # print(cardsA, cardsB)\n",
    "    for cardA, cardB in zip(cardsA, cardsB):\n",
    "        res.append(cardA)\n",
    "        res.append(cardB)\n",
    "    return res"
   ]
  },
  {
   "cell_type": "code",
   "execution_count": 42,
   "id": "bc4026de",
   "metadata": {},
   "outputs": [
    {
     "name": "stdout",
     "output_type": "stream",
     "text": [
      "['Joker', 3, 'Queen', 'Ace', 2, 7]\n",
      "[9, 'Joker', 2, 3, 3, 2, 'Joker', 9]\n",
      "[10, 2, 10, 2]\n"
     ]
    }
   ],
   "source": [
    "cards = [\"Joker\", \"Queen\", 2, 3, \"Ace\", 7]\n",
    "print(shuffle(cards))\n",
    "\n",
    "cards = [9, 2, 3, \"Joker\", \"Joker\", 3, 2, 9]\n",
    "print(shuffle(cards))\n",
    "\n",
    "cards = [10, 10, 2, 2]\n",
    "print(shuffle(cards))"
   ]
  },
  {
   "cell_type": "markdown",
   "id": "dffc918f",
   "metadata": {},
   "source": [
    "# THE END"
   ]
  }
 ],
 "metadata": {
  "kernelspec": {
   "display_name": ".venv",
   "language": "python",
   "name": "python3"
  },
  "language_info": {
   "codemirror_mode": {
    "name": "ipython",
    "version": 3
   },
   "file_extension": ".py",
   "mimetype": "text/x-python",
   "name": "python",
   "nbconvert_exporter": "python",
   "pygments_lexer": "ipython3",
   "version": "3.12.11"
  }
 },
 "nbformat": 4,
 "nbformat_minor": 5
}
