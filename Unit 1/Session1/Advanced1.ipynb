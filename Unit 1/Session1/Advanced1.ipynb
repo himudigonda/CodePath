{
 "cells": [
  {
   "cell_type": "markdown",
   "id": "c8e5f851",
   "metadata": {},
   "source": [
    "## Problem 1: Hunny Hunt"
   ]
  },
  {
   "cell_type": "code",
   "execution_count": 1,
   "id": "b888ecac",
   "metadata": {},
   "outputs": [],
   "source": [
    "def linear_search(items, target):\n",
    "    for i in range(len(items)):\n",
    "        if items[i] == target:\n",
    "            return i\n",
    "    return -1\n"
   ]
  },
  {
   "cell_type": "code",
   "execution_count": 4,
   "id": "22b79ee4",
   "metadata": {},
   "outputs": [
    {
     "name": "stdout",
     "output_type": "stream",
     "text": [
      "3\n",
      "-1\n"
     ]
    }
   ],
   "source": [
    "items = [\"haycorn\", \"haycorn\", \"haycorn\", \"hunny\", \"haycorn\"]\n",
    "target = \"hunny\"\n",
    "print(linear_search(items, target))\n",
    "\n",
    "items = [\"bed\", \"blue jacket\", \"red shirt\", \"hunny\"]\n",
    "target = \"red balloon\"\n",
    "print(linear_search(items, target))"
   ]
  },
  {
   "cell_type": "markdown",
   "id": "945a055f",
   "metadata": {},
   "source": [
    "Problem 2: Bouncy, Flouncy, Trouncy, Pouncy"
   ]
  },
  {
   "cell_type": "code",
   "execution_count": 3,
   "id": "f78b4235",
   "metadata": {},
   "outputs": [],
   "source": [
    "def final_value_after_operations(operations):\n",
    "    tigger = 1\n",
    "    for i in operations:\n",
    "        if i == \"bouncy\" or i ==  \"flouncy\":\n",
    "            tigger += 1\n",
    "        elif i == \"trouncy\" or i == \"pouncy\":\n",
    "            tigger -= 1\n",
    "    return tigger"
   ]
  },
  {
   "cell_type": "code",
   "execution_count": 4,
   "id": "b2778506",
   "metadata": {},
   "outputs": [
    {
     "name": "stdout",
     "output_type": "stream",
     "text": [
      "2\n",
      "4\n"
     ]
    }
   ],
   "source": [
    "operations = [\"trouncy\", \"flouncy\", \"flouncy\"]\n",
    "print(final_value_after_operations(operations))\n",
    "\n",
    "operations = [\"bouncy\", \"bouncy\", \"flouncy\"]\n",
    "print(final_value_after_operations(operations))"
   ]
  },
  {
   "cell_type": "markdown",
   "id": "a672b1ee",
   "metadata": {},
   "source": [
    "## Problem 3: T-I-Double Guh-Er II"
   ]
  },
  {
   "cell_type": "code",
   "execution_count": 5,
   "id": "9039f7ac",
   "metadata": {},
   "outputs": [],
   "source": [
    "def tiggerfy(word):\n",
    "    word = word.replace(\"T\",\"\")\n",
    "    word = word.replace(\"I\",\"\")\n",
    "    word = word.replace(\"GG\",\"\")\n",
    "    word = word.replace(\"ER\",\"\")\n",
    "    word = word.replace(\"t\",\"\")\n",
    "    word = word.replace(\"i\",\"\")\n",
    "    word = word.replace(\"gg\",\"\")\n",
    "    word = word.replace(\"er\",\"\")\n",
    "    return word"
   ]
  },
  {
   "cell_type": "code",
   "execution_count": 6,
   "id": "a22b1ea5",
   "metadata": {},
   "outputs": [
    {
     "name": "stdout",
     "output_type": "stream",
     "text": [
      "r\n",
      "eplan\n",
      "Chor\n"
     ]
    }
   ],
   "source": [
    "word = \"Trigger\"\n",
    "print(tiggerfy(word))\n",
    "\n",
    "word = \"eggplant\"\n",
    "print(tiggerfy(word))\n",
    "\n",
    "word = \"Choir\"\n",
    "print(tiggerfy(word))"
   ]
  },
  {
   "cell_type": "markdown",
   "id": "cb35eb9d",
   "metadata": {},
   "source": [
    "## Problem 4: Non-decreasing Array"
   ]
  },
  {
   "cell_type": "code",
   "execution_count": 10,
   "id": "241fd195",
   "metadata": {},
   "outputs": [],
   "source": [
    "def non_decreasing(nums):\n",
    "    n = len(nums)\n",
    "    if n <= 1: return True\n",
    "    num_voilations = 0\n",
    "    for i in range(n - 1):\n",
    "        print(nums)\n",
    "        if nums[i]>nums[i+1]:\n",
    "            num_voilations += 1\n",
    "        if num_voilations > 1:\n",
    "            return False\n",
    "        if i == 0 or nums[i+1] > nums[i-1]:\n",
    "            nums[i] = nums[i + 1]\n",
    "        else:\n",
    "            nums[i + 1] = nums[i]\n",
    "    return True"
   ]
  },
  {
   "cell_type": "code",
   "execution_count": 11,
   "id": "8fef243d",
   "metadata": {},
   "outputs": [
    {
     "name": "stdout",
     "output_type": "stream",
     "text": [
      "[4, 2, 3]\n",
      "[2, 2, 3]\n",
      "True\n",
      "[3, 4, 5, 3]\n",
      "[4, 4, 5, 3]\n",
      "[4, 5, 5, 3]\n",
      "True\n",
      "[3, 2, 5, 6]\n",
      "[2, 2, 5, 6]\n",
      "[2, 5, 5, 6]\n",
      "True\n",
      "[4, 2, 1]\n",
      "[2, 2, 1]\n",
      "False\n"
     ]
    }
   ],
   "source": [
    "nums = [4, 2, 3]\n",
    "print(non_decreasing(nums))\n",
    "\n",
    "nums = [3, 4, 5, 3]\n",
    "print(non_decreasing(nums))\n",
    "\n",
    "nums = [3, 2, 5, 6]\n",
    "print(non_decreasing(nums))\n",
    "\n",
    "nums = [4, 2, 1]\n",
    "print(non_decreasing(nums))"
   ]
  },
  {
   "cell_type": "markdown",
   "id": "ecf5ec13",
   "metadata": {},
   "source": [
    "## Problem 5: Missing Clues"
   ]
  },
  {
   "cell_type": "code",
   "execution_count": 14,
   "id": "986871b1",
   "metadata": {},
   "outputs": [],
   "source": [
    "def find_missing_clues(clues, lower, upper):\n",
    "    clues.sort()\n",
    "    print(clues)\n",
    "    previous_number = 0\n",
    "    res = []\n",
    "    for i in range(len(clues)):\n",
    "        missing = []\n",
    "        if clues[i]<lower or clues[i]>upper:\n",
    "            previous_number = clues[i]\n",
    "            continue\n",
    "        if  i >= 1:\n",
    "            if clues[i] == clues[i - 1] + 1:\n",
    "                continue\n",
    "            else:\n",
    "                missing.append([clues[i-1] + 1, clues[i] - 1])\n",
    "        if len(missing)>0:\n",
    "            res.append(missing)\n",
    "    if clues[-1] < upper:\n",
    "        res.append([clues[-1], upper])\n",
    "    return res"
   ]
  },
  {
   "cell_type": "code",
   "execution_count": 15,
   "id": "77b1465e",
   "metadata": {},
   "outputs": [
    {
     "name": "stdout",
     "output_type": "stream",
     "text": [
      "[0, 1, 3, 50, 75]\n",
      "[[[2, 2]], [[4, 49]], [[51, 74]], [75, 99]]\n",
      "[-1]\n",
      "[]\n"
     ]
    }
   ],
   "source": [
    "clues = [0, 1, 3, 50, 75]\n",
    "lower = 0\n",
    "upper = 99\n",
    "print(find_missing_clues(clues, lower, upper))\n",
    "\n",
    "clues = [-1]\n",
    "lower = -1\n",
    "upper = -1\n",
    "print(find_missing_clues(clues, lower, upper))"
   ]
  },
  {
   "cell_type": "markdown",
   "id": "87b2f5de",
   "metadata": {},
   "source": [
    "## Problem 6: Vegetable Harvest"
   ]
  },
  {
   "cell_type": "code",
   "execution_count": 18,
   "id": "5883ba90",
   "metadata": {},
   "outputs": [],
   "source": [
    "def harvest(vegetable_patch):\n",
    "    res = 0\n",
    "    for i in range(len(vegetable_patch)):\n",
    "        for j in range(len(vegetable_patch[0])):\n",
    "            if vegetable_patch[i][j] == 'c':\n",
    "                res += 1\n",
    "    return res"
   ]
  },
  {
   "cell_type": "code",
   "execution_count": 19,
   "id": "d722c696",
   "metadata": {},
   "outputs": [
    {
     "data": {
      "text/plain": [
       "6"
      ]
     },
     "execution_count": 19,
     "metadata": {},
     "output_type": "execute_result"
    }
   ],
   "source": [
    "vegetable_patch = [[\"x\", \"c\", \"x\"], [\"x\", \"x\", \"x\"], [\"x\", \"c\", \"c\"], [\"c\", \"c\", \"c\"]]\n",
    "harvest(vegetable_patch)"
   ]
  },
  {
   "cell_type": "markdown",
   "id": "94c32239",
   "metadata": {},
   "source": [
    "## Problem 7: Eeyore's House\n"
   ]
  },
  {
   "cell_type": "code",
   "execution_count": 30,
   "id": "085ddd95",
   "metadata": {},
   "outputs": [],
   "source": [
    "def good_pairs(pile1, pile2, k):\n",
    "    pile2 = [i * k for i in pile2]\n",
    "    res = 0\n",
    "    for i in range(len(pile1)):\n",
    "        for j in range(len(pile2)):\n",
    "            if pile1[i] % pile2[j] == 0:\n",
    "                res += 1\n",
    "    return res"
   ]
  },
  {
   "cell_type": "code",
   "execution_count": 31,
   "id": "8c440537",
   "metadata": {},
   "outputs": [
    {
     "name": "stdout",
     "output_type": "stream",
     "text": [
      "5\n",
      "2\n"
     ]
    }
   ],
   "source": [
    "pile1 = [1, 3, 4]\n",
    "pile2 = [1, 3, 4]\n",
    "k = 1\n",
    "print(good_pairs(pile1, pile2, k))\n",
    "\n",
    "pile1 = [1, 2, 4, 12]\n",
    "pile2 = [2, 4]\n",
    "k = 3\n",
    "print(good_pairs(pile1, pile2, k))"
   ]
  },
  {
   "cell_type": "markdown",
   "id": "26fc3288",
   "metadata": {},
   "source": [
    "## Problem 8: Local Maximums\n"
   ]
  },
  {
   "cell_type": "code",
   "execution_count": 36,
   "id": "279deca0",
   "metadata": {},
   "outputs": [],
   "source": [
    "def local_maximums(grid):\n",
    "    output = []\n",
    "    for i in range(len(grid) - 2):\n",
    "        arr = []\n",
    "        for j in range(len(grid[0]) - 2):\n",
    "            local_max = float('-inf')\n",
    "            for a in range(i, i + 3):\n",
    "                for b in range(j, j + 3):\n",
    "                    local_max = max(grid[a][b], local_max)\n",
    "            arr.append(local_max)\n",
    "        output.append(arr)\n",
    "    return output\n",
    "        "
   ]
  },
  {
   "cell_type": "code",
   "execution_count": 37,
   "id": "a7b8a17c",
   "metadata": {},
   "outputs": [
    {
     "name": "stdout",
     "output_type": "stream",
     "text": [
      "[[9, 9], [8, 6]]\n",
      "[[2, 2, 2], [2, 2, 2], [2, 2, 2]]\n"
     ]
    }
   ],
   "source": [
    "grid = [\n",
    "    [9, 9, 8, 1], \n",
    "    [5, 6, 2, 6], \n",
    "    [8, 2, 6, 4], \n",
    "    [6, 2, 2, 2]\n",
    "]\n",
    "print(local_maximums(grid))\n",
    "\n",
    "grid = [\n",
    "    [1, 1, 1, 1, 1],\n",
    "    [1, 1, 1, 1, 1],\n",
    "    [1, 1, 2, 1, 1],\n",
    "    [1, 1, 1, 1, 1],\n",
    "    [1, 1, 1, 1, 1],\n",
    "]\n",
    "print(local_maximums(grid))"
   ]
  },
  {
   "cell_type": "code",
   "execution_count": 38,
   "id": "1b4e3daf",
   "metadata": {},
   "outputs": [],
   "source": [
    "# THE END"
   ]
  }
 ],
 "metadata": {
  "kernelspec": {
   "display_name": ".venv",
   "language": "python",
   "name": "python3"
  },
  "language_info": {
   "codemirror_mode": {
    "name": "ipython",
    "version": 3
   },
   "file_extension": ".py",
   "mimetype": "text/x-python",
   "name": "python",
   "nbconvert_exporter": "python",
   "pygments_lexer": "ipython3",
   "version": "3.12.11"
  }
 },
 "nbformat": 4,
 "nbformat_minor": 5
}
