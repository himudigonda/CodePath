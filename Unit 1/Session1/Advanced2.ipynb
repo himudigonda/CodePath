{
 "cells": [
  {
   "cell_type": "markdown",
   "id": "7c35a602",
   "metadata": {},
   "source": [
    "## Problem 1: Words Containing Character"
   ]
  },
  {
   "cell_type": "code",
   "execution_count": 1,
   "id": "e5fc106d",
   "metadata": {},
   "outputs": [],
   "source": [
    "def words_with_char(words, x):\n",
    "\tres = []\n",
    "\tfor i in range(len(words)):\n",
    "\t\tif x in words[i]:\n",
    "\t\t\tres.append(i)\n",
    "\treturn res\n"
   ]
  },
  {
   "cell_type": "code",
   "execution_count": 2,
   "id": "5f7f3203",
   "metadata": {},
   "outputs": [
    {
     "name": "stdout",
     "output_type": "stream",
     "text": [
      "[0, 1]\n",
      "[0, 2]\n",
      "[]\n"
     ]
    }
   ],
   "source": [
    "words = [\"batman\", \"superman\"]\n",
    "x = \"a\"\n",
    "print(words_with_char(words, x))\n",
    "\n",
    "words = [\"black panther\", \"hulk\", \"black widow\", \"thor\"]\n",
    "x = \"a\"\n",
    "print(words_with_char(words, x))\n",
    "\n",
    "words = [\"star-lord\", \"gamora\", \"groot\", \"rocket\"]\n",
    "x = \"z\"\n",
    "print(words_with_char(words, x))"
   ]
  },
  {
   "cell_type": "markdown",
   "id": "9de4c899",
   "metadata": {},
   "source": [
    "## Problem 2: HulkSmash"
   ]
  },
  {
   "cell_type": "code",
   "execution_count": 14,
   "id": "6ba1502f",
   "metadata": {},
   "outputs": [],
   "source": [
    "def hulk_smash(n):\n",
    "    res = []\n",
    "    for i in range(1, n):\n",
    "        if i % 5 == 0 and i % 3 == 0:\n",
    "            res.append(\"HulkSmash\")\n",
    "        elif i % 5 == 0:\n",
    "            res.append(\"Smash\")\n",
    "        elif i % 3 == 0:\n",
    "            res.append(\"Hulk\")\n",
    "        else:\n",
    "            res.append(i)\n",
    "    return res"
   ]
  },
  {
   "cell_type": "code",
   "execution_count": 17,
   "id": "33a9dc1b",
   "metadata": {},
   "outputs": [
    {
     "name": "stdout",
     "output_type": "stream",
     "text": [
      "[1, 2]\n",
      "[1, 2, 'Hulk', 4]\n",
      "[1, 2, 'Hulk', 4, 'Smash', 'Hulk', 7, 8, 'Hulk', 'Smash', 11, 'Hulk', 13, 14]\n"
     ]
    }
   ],
   "source": [
    "n = 3\n",
    "print(hulk_smash(n))\n",
    "\n",
    "n = 5\n",
    "print(hulk_smash(n))\n",
    "\n",
    "n = 15\n",
    "print(hulk_smash(n))\n"
   ]
  },
  {
   "cell_type": "markdown",
   "id": "b36929a3",
   "metadata": {},
   "source": [
    "## Problem 3: Encode"
   ]
  },
  {
   "cell_type": "code",
   "execution_count": 18,
   "id": "47c0128b",
   "metadata": {},
   "outputs": [],
   "source": [
    "def shuffle(message, indices):\n",
    "\tres = []\n",
    "\tif len(message) != len(indices):\n",
    "\t\treturn \"FAIL\"\n",
    "\tfor i in indices:\n",
    "\t\tres.append(message[i])\n",
    "\treturn \"\".join(res)"
   ]
  },
  {
   "cell_type": "code",
   "execution_count": 19,
   "id": "fe8e203d",
   "metadata": {},
   "outputs": [
    {
     "name": "stdout",
     "output_type": "stream",
     "text": [
      "lvie\n",
      "findme\n"
     ]
    }
   ],
   "source": [
    "message = \"evil\"\n",
    "indices = [3, 1, 2, 0]\n",
    "print(shuffle(message, indices))\n",
    "\n",
    "message = \"findme\"\n",
    "indices = [0, 1, 2, 3, 4, 5]\n",
    "print(shuffle(message, indices))\n"
   ]
  },
  {
   "cell_type": "markdown",
   "id": "f4ba7976",
   "metadata": {},
   "source": [
    "## Problem 4: Good Samaritan"
   ]
  },
  {
   "cell_type": "code",
   "execution_count": 28,
   "id": "725fc508",
   "metadata": {},
   "outputs": [],
   "source": [
    "def minimum_boxes(meals, capacity):\n",
    "\tmeals_sum = sum(meals)\n",
    "\tres = 0\n",
    "\tfor i in capacity:\n",
    "\t\tif meals_sum<0:\n",
    "\t\t\tbreak\n",
    "\t\tmeals_sum -= i\n",
    "\t\tres += 1\n",
    "\treturn res\n"
   ]
  },
  {
   "cell_type": "code",
   "execution_count": 29,
   "id": "ffe31a68",
   "metadata": {},
   "outputs": [
    {
     "name": "stdout",
     "output_type": "stream",
     "text": [
      "2\n",
      "4\n"
     ]
    }
   ],
   "source": [
    "meals = [1, 3, 2]\n",
    "capacity = [4, 3, 1, 5, 2]\n",
    "print(minimum_boxes(meals, capacity))\n",
    "\n",
    "meals = [5, 5, 5]\n",
    "capacity = [2, 4, 2, 7]\n",
    "print(minimum_boxes(meals, capacity))\n"
   ]
  },
  {
   "cell_type": "markdown",
   "id": "60aecbab",
   "metadata": {},
   "source": [
    "## Problem 5: Heist"
   ]
  },
  {
   "cell_type": "code",
   "execution_count": 32,
   "id": "73035eb5",
   "metadata": {},
   "outputs": [],
   "source": [
    "def wealthiest_customer(accounts):\n",
    "    richest_index = -1\n",
    "    richest_money = -1\n",
    "\n",
    "    for idx, bank_wealth in enumerate(accounts):\n",
    "        money = sum(bank_wealth)\n",
    "        if richest_money < money:\n",
    "            richest_money = money\n",
    "            richest_index = idx\n",
    "    return [richest_index, richest_money]"
   ]
  },
  {
   "cell_type": "code",
   "execution_count": 33,
   "id": "56afef52",
   "metadata": {},
   "outputs": [
    {
     "name": "stdout",
     "output_type": "stream",
     "text": [
      "[0, 6]\n",
      "[1, 10]\n",
      "[0, 17]\n"
     ]
    }
   ],
   "source": [
    "accounts = [\n",
    "\t[1, 2, 3],\n",
    "\t[3, 2, 1]\n",
    "]\n",
    "print(wealthiest_customer(accounts))\n",
    "\n",
    "accounts = [\n",
    "\t[1, 5],\n",
    "\t[7, 3],\n",
    "\t[3, 5]\n",
    "]\n",
    "print(wealthiest_customer(accounts))\n",
    "\n",
    "accounts = [\n",
    "\t[2, 8, 7],\n",
    "\t[7, 1, 3],\n",
    "\t[1, 9, 5]\n",
    "]\n",
    "print(wealthiest_customer(accounts))\n"
   ]
  },
  {
   "cell_type": "markdown",
   "id": "92b8b52a",
   "metadata": {},
   "source": [
    "## Problem 6: Smaller Than"
   ]
  },
  {
   "cell_type": "code",
   "execution_count": 45,
   "id": "c708fdd7",
   "metadata": {},
   "outputs": [],
   "source": [
    "def smaller_than_current(nums):\n",
    "\ttemp = sorted(nums)\n",
    "\tmapping = {}\n",
    "\tres = []\n",
    "\n",
    "\tfor i in range(len(temp)):\n",
    "\t\tif temp[i] not in mapping:\n",
    "\t\t\tmapping[temp[i]] = i\n",
    "\tfor i in range(len(nums)):\n",
    "\t\tres.append(mapping[nums[i]])\n",
    "\treturn res\n",
    "\n"
   ]
  },
  {
   "cell_type": "code",
   "execution_count": 46,
   "id": "397b6541",
   "metadata": {},
   "outputs": [
    {
     "name": "stdout",
     "output_type": "stream",
     "text": [
      "[4, 0, 1, 1, 3]\n",
      "[2, 1, 0, 3]\n",
      "[0, 0, 0, 0]\n"
     ]
    }
   ],
   "source": [
    "nums = [8, 1, 2, 2, 3]\n",
    "print(smaller_than_current(nums))\n",
    "\n",
    "nums = [6, 5, 4, 8]\n",
    "print(smaller_than_current(nums))\n",
    "\n",
    "nums = [7, 7, 7, 7]\n",
    "smaller_than_current(nums)\n",
    "print(smaller_than_current(nums))\n"
   ]
  },
  {
   "cell_type": "markdown",
   "id": "2b95e2b8",
   "metadata": {},
   "source": [
    "## Problem 7: Diagonal"
   ]
  },
  {
   "cell_type": "code",
   "execution_count": 74,
   "id": "162aba59",
   "metadata": {},
   "outputs": [],
   "source": [
    "def diagonal_sum(grid):\n",
    "    n = len(grid)\n",
    "    total = 0\n",
    "    for i in range(n):\n",
    "        total += grid[i][i]\n",
    "        total += grid[i][n - i - 1]\n",
    "    \n",
    "    if n % 2 != 0:\n",
    "        total -= grid[n//2][n//2]\n",
    "    return total\n"
   ]
  },
  {
   "cell_type": "code",
   "execution_count": 75,
   "id": "3bf7357c",
   "metadata": {},
   "outputs": [
    {
     "name": "stdout",
     "output_type": "stream",
     "text": [
      "25\n",
      "8\n",
      "5\n"
     ]
    }
   ],
   "source": [
    "grid = [\n",
    "\t[1, 2, 3],\n",
    "    [4, 5, 6],\n",
    "    [7, 8, 9]\n",
    "]\n",
    "print(diagonal_sum(grid))\n",
    "\n",
    "grid = [\n",
    "\t[1, 1, 1, 1],\n",
    "    [1, 1, 1, 1],\n",
    "\t[1, 1, 1, 1],\n",
    "    [1, 1, 1, 1]\n",
    "]\n",
    "print(diagonal_sum(grid))\n",
    "\n",
    "grid = [\n",
    "\t[5]\n",
    "]\n",
    "print(diagonal_sum(grid))\n"
   ]
  },
  {
   "cell_type": "markdown",
   "id": "d32d932a",
   "metadata": {},
   "source": [
    "## Problem 8: Defuse the Bomb"
   ]
  },
  {
   "cell_type": "code",
   "execution_count": 88,
   "id": "2f95362e",
   "metadata": {},
   "outputs": [],
   "source": [
    "def defuse(code, k):\n",
    "\tlenarr = len(code)\n",
    "\tif k == 0:\n",
    "\t\treturn [0]*lenarr\n",
    "\textendedcode = code*2\n",
    "\tres = [0] * lenarr\n",
    "\tstep = abs(k)\n",
    "\tif k > 0:\n",
    "\t\twindow_sum = sum(extendedcode[1: 1 + step])\n",
    "\t\tres[0] = window_sum\n",
    "\t\tfor i in range(1, lenarr):\n",
    "\t\t\twindow_sum += extendedcode[i + step] - extendedcode[i]\n",
    "\t\t\tres[i] = window_sum\n",
    "\n",
    "\telse:\n",
    "\t\twindow_sum = sum(extendedcode[lenarr-step:lenarr])\n",
    "\t\tres[0] = window_sum\n",
    "\t\tfor i in range(1, lenarr):\n",
    "\t\t\twindow_sum += extendedcode[i + lenarr - 1] - extendedcode[i + lenarr - 1 - step]\n",
    "\t\t\tres[i] = window_sum\n",
    "\treturn res"
   ]
  },
  {
   "cell_type": "code",
   "execution_count": 89,
   "id": "f29d0ff2",
   "metadata": {},
   "outputs": [
    {
     "name": "stdout",
     "output_type": "stream",
     "text": [
      "[12, 10, 16, 13]\n",
      "[0, 0, 0, 0]\n",
      "[12, 5, 6, 13]\n"
     ]
    }
   ],
   "source": [
    "code = [5, 7, 1, 4]\n",
    "k = 3\n",
    "print(defuse(code, k))\n",
    "\n",
    "code = [1, 2, 3, 4]\n",
    "k = 0\n",
    "print(defuse(code, k))\n",
    "\n",
    "code = [2, 4, 9, 3]\n",
    "k = -2\n",
    "print(defuse(code, k))\n"
   ]
  },
  {
   "cell_type": "markdown",
   "id": "d8851e73",
   "metadata": {},
   "source": [
    "# THE END"
   ]
  }
 ],
 "metadata": {
  "kernelspec": {
   "display_name": ".venv",
   "language": "python",
   "name": "python3"
  },
  "language_info": {
   "codemirror_mode": {
    "name": "ipython",
    "version": 3
   },
   "file_extension": ".py",
   "mimetype": "text/x-python",
   "name": "python",
   "nbconvert_exporter": "python",
   "pygments_lexer": "ipython3",
   "version": "3.12.11"
  }
 },
 "nbformat": 4,
 "nbformat_minor": 5
}
