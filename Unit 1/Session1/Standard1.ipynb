{
 "cells": [
  {
   "cell_type": "markdown",
   "id": "e0eaf88b",
   "metadata": {},
   "source": [
    "## Problem 1: Hundred Acre Wood"
   ]
  },
  {
   "cell_type": "code",
   "execution_count": 3,
   "id": "d6ca9b0d",
   "metadata": {},
   "outputs": [],
   "source": [
    "# Code\n",
    "def welcome():\n",
    "    print(\"Welcome to The Hundred Acre Wood!\")"
   ]
  },
  {
   "cell_type": "code",
   "execution_count": 4,
   "id": "899db03a",
   "metadata": {},
   "outputs": [
    {
     "name": "stdout",
     "output_type": "stream",
     "text": [
      "Welcome to The Hundred Acre Wood!\n"
     ]
    }
   ],
   "source": [
    "# Tests\n",
    "welcome()"
   ]
  },
  {
   "cell_type": "markdown",
   "id": "e8bd07db",
   "metadata": {},
   "source": [
    "## Problem 2: Greeting"
   ]
  },
  {
   "cell_type": "code",
   "execution_count": 5,
   "id": "f68d715a",
   "metadata": {},
   "outputs": [],
   "source": [
    "# Code\n",
    "def greeting(name):\n",
    "    print(f\"Welcome to The Hundred Acre Wood {name}! My name is Christopher Robin.\")"
   ]
  },
  {
   "cell_type": "code",
   "execution_count": 6,
   "id": "fea31b53",
   "metadata": {},
   "outputs": [
    {
     "name": "stdout",
     "output_type": "stream",
     "text": [
      "Welcome to The Hundred Acre Wood Michael! My name is Christopher Robin.\n",
      "Welcome to The Hundred Acre Wood Winnie the Pooh! My name is Christopher Robin.\n"
     ]
    }
   ],
   "source": [
    "greeting(\"Michael\")\n",
    "greeting(\"Winnie the Pooh\")"
   ]
  },
  {
   "cell_type": "markdown",
   "id": "18c68d36",
   "metadata": {},
   "source": [
    "## Problem 3: Catchphrase"
   ]
  },
  {
   "cell_type": "code",
   "execution_count": 11,
   "id": "36dffb24",
   "metadata": {},
   "outputs": [],
   "source": [
    "def print_catchphrase(character):\n",
    "    if character == \"Pooh\":\n",
    "        print(\"Oh bother!\")\n",
    "    elif character == \"Tigger\":\n",
    "        print(\"TTFN: Ta-ta for now!\")\n",
    "    elif character == \"Eeyore\":\n",
    "        print(\"Thanks for noticing me.\")\n",
    "    elif character == \"Christopher Robin\":\n",
    "        print(\"Silly old bear.\")\n",
    "    else:\n",
    "        print(f\"Sorry! I don't know {character}'s catchphrase!\")"
   ]
  },
  {
   "cell_type": "code",
   "execution_count": 14,
   "id": "0f75c0c1",
   "metadata": {},
   "outputs": [
    {
     "name": "stdout",
     "output_type": "stream",
     "text": [
      "Oh bother!\n",
      "Sorry! I don't know Piglet's catchphrase!\n"
     ]
    }
   ],
   "source": [
    "character = \"Pooh\"\n",
    "print_catchphrase(character)\n",
    "\n",
    "character = \"Piglet\"\n",
    "print_catchphrase(character)"
   ]
  },
  {
   "cell_type": "markdown",
   "id": "0f7de43e",
   "metadata": {},
   "source": [
    "## Problem 4: Return Item"
   ]
  },
  {
   "cell_type": "code",
   "execution_count": 15,
   "id": "c8cd9c30",
   "metadata": {},
   "outputs": [],
   "source": [
    "def get_item(items, x):\n",
    "    if x > len(items):\n",
    "        return None\n",
    "    return items[x]\n",
    "    "
   ]
  },
  {
   "cell_type": "code",
   "execution_count": 17,
   "id": "87007c58",
   "metadata": {},
   "outputs": [
    {
     "name": "stdout",
     "output_type": "stream",
     "text": [
      "roo\n",
      "None\n"
     ]
    }
   ],
   "source": [
    "items = [\"piglet\", \"pooh\", \"roo\", \"rabbit\"]\n",
    "x = 2\n",
    "print(get_item(items, x))\n",
    "\n",
    "items = [\"piglet\", \"pooh\", \"roo\", \"rabbit\"]\n",
    "x = 5\n",
    "print(get_item(items, x))"
   ]
  },
  {
   "cell_type": "markdown",
   "id": "6cb96feb",
   "metadata": {},
   "source": [
    "## Problem 5: Total Honey"
   ]
  },
  {
   "cell_type": "code",
   "execution_count": 21,
   "id": "3da7879b",
   "metadata": {},
   "outputs": [],
   "source": [
    "def sum_honey(hunny_jars):\n",
    "    # print(sum(hunny_jars))\n",
    "    total = 0\n",
    "    for num in hunny_jars:\n",
    "        total += num\n",
    "    print(total)"
   ]
  },
  {
   "cell_type": "code",
   "execution_count": 22,
   "id": "49666cc7",
   "metadata": {},
   "outputs": [
    {
     "name": "stdout",
     "output_type": "stream",
     "text": [
      "14\n",
      "0\n"
     ]
    }
   ],
   "source": [
    "hunny_jars = [2, 3, 4, 5]\n",
    "sum_honey(hunny_jars)\n",
    "\n",
    "hunny_jars = []\n",
    "sum_honey(hunny_jars)"
   ]
  },
  {
   "cell_type": "markdown",
   "id": "835f1ebd",
   "metadata": {},
   "source": [
    "## Problem 6: Double Trouble\n"
   ]
  },
  {
   "cell_type": "code",
   "execution_count": 23,
   "id": "2cbe8d9d",
   "metadata": {},
   "outputs": [],
   "source": [
    "def doubled(hunny_jars):\n",
    "    ret = [i*2 for i in hunny_jars]\n",
    "    print(ret)"
   ]
  },
  {
   "cell_type": "code",
   "execution_count": 24,
   "id": "e8d86721",
   "metadata": {},
   "outputs": [
    {
     "name": "stdout",
     "output_type": "stream",
     "text": [
      "[2, 4, 6]\n"
     ]
    }
   ],
   "source": [
    "hunny_jars = [1, 2, 3]\n",
    "doubled(hunny_jars)"
   ]
  },
  {
   "cell_type": "markdown",
   "id": "608d6c1f",
   "metadata": {},
   "source": [
    "## Problem 7: Poohsticks"
   ]
  },
  {
   "cell_type": "code",
   "execution_count": 25,
   "id": "a5f291ff",
   "metadata": {},
   "outputs": [],
   "source": [
    "def count_less_than(race_times, threshold):\n",
    "    if len(race_times) == 0:\n",
    "        return 0\n",
    "    \n",
    "    good = 0\n",
    "    for times in race_times:\n",
    "        if times < threshold:\n",
    "            good += 1\n",
    "    print(good)"
   ]
  },
  {
   "cell_type": "code",
   "execution_count": 26,
   "id": "7fe2e109",
   "metadata": {},
   "outputs": [
    {
     "name": "stdout",
     "output_type": "stream",
     "text": [
      "3\n"
     ]
    },
    {
     "data": {
      "text/plain": [
       "0"
      ]
     },
     "execution_count": 26,
     "metadata": {},
     "output_type": "execute_result"
    }
   ],
   "source": [
    "race_times = [1, 2, 3, 4, 5, 6]\n",
    "threshold = 4\n",
    "count_less_than(race_times, threshold)\n",
    "\n",
    "race_times = []\n",
    "threshold = 4\n",
    "count_less_than(race_times, threshold)"
   ]
  },
  {
   "cell_type": "markdown",
   "id": "8b7fdf4c",
   "metadata": {},
   "source": [
    "## Problem 8: Pooh's To Do's"
   ]
  },
  {
   "cell_type": "code",
   "execution_count": 27,
   "id": "fff0cfb5",
   "metadata": {},
   "outputs": [],
   "source": [
    "def print_todo_list(task):\n",
    "    print(\"Pooh's To Dos:\")\n",
    "    i = 0\n",
    "    for i in range(len(task)):\n",
    "        print(str(i)+'. '+task[i])\n",
    "    "
   ]
  },
  {
   "cell_type": "code",
   "execution_count": 28,
   "id": "b6e4faa3",
   "metadata": {},
   "outputs": [
    {
     "name": "stdout",
     "output_type": "stream",
     "text": [
      "Pooh's To Dos:\n",
      "0. Count all the bees in the hive\n",
      "1. Chase all the clouds from the sky\n",
      "2. Think\n",
      "3. Stoutness Exercises\n",
      "Pooh's To Dos:\n"
     ]
    }
   ],
   "source": [
    "task = [\n",
    "    \"Count all the bees in the hive\",\n",
    "    \"Chase all the clouds from the sky\",\n",
    "    \"Think\",\n",
    "    \"Stoutness Exercises\",\n",
    "]\n",
    "print_todo_list(task)\n",
    "\n",
    "task = []\n",
    "print_todo_list(task)"
   ]
  },
  {
   "cell_type": "markdown",
   "id": "f64f480c",
   "metadata": {},
   "source": [
    "## Problem 9: Pairs"
   ]
  },
  {
   "cell_type": "code",
   "execution_count": 30,
   "id": "688f796c",
   "metadata": {},
   "outputs": [],
   "source": [
    "def can_pair(item_quantities):\n",
    "    if len(item_quantities) == 0:\n",
    "        return True\n",
    "    for i in item_quantities:\n",
    "        if i % 2 != 0:\n",
    "            return False\n",
    "    return True"
   ]
  },
  {
   "cell_type": "code",
   "execution_count": 32,
   "id": "d99fef74",
   "metadata": {},
   "outputs": [
    {
     "name": "stdout",
     "output_type": "stream",
     "text": [
      "True\n",
      "False\n",
      "True\n"
     ]
    }
   ],
   "source": [
    "item_quantities = [2, 4, 6, 8]\n",
    "print(can_pair(item_quantities))\n",
    "\n",
    "item_quantities = [1, 2, 3, 4]\n",
    "print(can_pair(item_quantities))\n",
    "\n",
    "item_quantities = []\n",
    "print(can_pair(item_quantities))"
   ]
  },
  {
   "cell_type": "markdown",
   "id": "626a0424",
   "metadata": {},
   "source": [
    "## Problem 10: Split Haycorns\n"
   ]
  },
  {
   "cell_type": "code",
   "execution_count": 39,
   "id": "677783bc",
   "metadata": {},
   "outputs": [],
   "source": [
    "def split_haycorns(quantity):\n",
    "    divisors = []\n",
    "    for i in range(1, quantity//2+1):\n",
    "        if quantity % i == 0:\n",
    "            divisors.append(i)\n",
    "    divisors.append(quantity)\n",
    "    return divisors"
   ]
  },
  {
   "cell_type": "code",
   "execution_count": 40,
   "id": "fc938ea5",
   "metadata": {},
   "outputs": [
    {
     "name": "stdout",
     "output_type": "stream",
     "text": [
      "[1, 2, 3, 6]\n",
      "[1]\n"
     ]
    }
   ],
   "source": [
    "quantity = 6\n",
    "print(split_haycorns(quantity))\n",
    "\n",
    "quantity = 1\n",
    "print(split_haycorns(quantity))"
   ]
  },
  {
   "cell_type": "markdown",
   "id": "dc6bfb40",
   "metadata": {},
   "source": [
    "## Problem 11: T-I-Double Guh-ER"
   ]
  },
  {
   "cell_type": "code",
   "execution_count": 44,
   "id": "afdeeee6",
   "metadata": {},
   "outputs": [],
   "source": [
    "def tiggerfy(s):\n",
    "    s = s.replace('t','')\n",
    "    s = s.replace('i','')\n",
    "    s = s.replace('g','')\n",
    "    s = s.replace('e','')\n",
    "    s = s.replace('r','')\n",
    "    s = s.replace('T','')\n",
    "    s = s.replace('I','')\n",
    "    s = s.replace('G','')\n",
    "    s = s.replace('E','')\n",
    "    s = s.replace('R','')\n",
    "    return s"
   ]
  },
  {
   "cell_type": "code",
   "execution_count": 45,
   "id": "74ffd164",
   "metadata": {},
   "outputs": [
    {
     "name": "stdout",
     "output_type": "stream",
     "text": [
      "suspcous\n",
      "\n",
      "Hunny\n"
     ]
    }
   ],
   "source": [
    "s = \"suspicerous\"\n",
    "print(tiggerfy(s))\n",
    "\n",
    "s = \"Trigger\"\n",
    "print(tiggerfy(s))\n",
    "\n",
    "s = \"Hunny\"\n",
    "print(tiggerfy(s))"
   ]
  },
  {
   "cell_type": "markdown",
   "id": "f0dd6b19",
   "metadata": {},
   "source": [
    "## Problem 12: Thistle Hunt"
   ]
  },
  {
   "cell_type": "code",
   "execution_count": 46,
   "id": "168f465f",
   "metadata": {},
   "outputs": [],
   "source": [
    "def locate_thistles(items):\n",
    "    ret = []\n",
    "    for idx, name in enumerate(items):\n",
    "        if name == \"thistle\":\n",
    "            ret.append(idx)\n",
    "    return ret"
   ]
  },
  {
   "cell_type": "code",
   "execution_count": 47,
   "id": "feb7ae23",
   "metadata": {},
   "outputs": [
    {
     "name": "stdout",
     "output_type": "stream",
     "text": [
      "[0, 3]\n",
      "[]\n"
     ]
    }
   ],
   "source": [
    "items = [\"thistle\", \"stick\", \"carrot\", \"thistle\", \"eeyore's tail\"]\n",
    "print(locate_thistles(items))\n",
    "\n",
    "items = [\"book\", \"bouncy ball\", \"leaf\", \"red balloon\"]\n",
    "print(locate_thistles(items))"
   ]
  },
  {
   "cell_type": "markdown",
   "id": "7a68d568",
   "metadata": {},
   "source": [
    "# THE END"
   ]
  }
 ],
 "metadata": {
  "kernelspec": {
   "display_name": ".venv",
   "language": "python",
   "name": "python3"
  },
  "language_info": {
   "codemirror_mode": {
    "name": "ipython",
    "version": 3
   },
   "file_extension": ".py",
   "mimetype": "text/x-python",
   "name": "python",
   "nbconvert_exporter": "python",
   "pygments_lexer": "ipython3",
   "version": "3.12.11"
  }
 },
 "nbformat": 4,
 "nbformat_minor": 5
}
