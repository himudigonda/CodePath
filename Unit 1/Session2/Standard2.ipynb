{
 "cells": [
  {
   "cell_type": "markdown",
   "id": "e15e85a4",
   "metadata": {},
   "source": [
    "## Problem 1: String Array Equivalency\n"
   ]
  },
  {
   "cell_type": "code",
   "execution_count": 2,
   "id": "02f7b298",
   "metadata": {},
   "outputs": [],
   "source": [
    "def are_equivalent(word1, word2):\n",
    "    str1 = ''.join(word1)\n",
    "    str2 = ''.join(word2)\n",
    "    return str1 == str2"
   ]
  },
  {
   "cell_type": "code",
   "execution_count": 4,
   "id": "c9acdcae",
   "metadata": {},
   "outputs": [
    {
     "name": "stdout",
     "output_type": "stream",
     "text": [
      "True\n",
      "False\n",
      "True\n"
     ]
    }
   ],
   "source": [
    "word1 = [\"bat\", \"man\"]\n",
    "word2 = [\"b\", \"atman\"]\n",
    "print(are_equivalent(word1, word2))\n",
    "\n",
    "word1 = [\"alfred\", \"pennyworth\"]\n",
    "word2 = [\"alfredpenny\", \"word\"]\n",
    "print(are_equivalent(word1, word2))\n",
    "\n",
    "word1  = [\"cat\", \"wom\", \"an\"]\n",
    "word2 = [\"catwoman\"]\n",
    "print(are_equivalent(word1, word2))\n"
   ]
  },
  {
   "cell_type": "markdown",
   "id": "2cb6787b",
   "metadata": {},
   "source": [
    "## Problem 2: Count Even Strings\n"
   ]
  },
  {
   "cell_type": "code",
   "execution_count": 8,
   "id": "0d6e9299",
   "metadata": {},
   "outputs": [],
   "source": [
    "def count_evens(lst):\n",
    "    res = 0\n",
    "    for word in lst:\n",
    "        if len(word) % 2 == 0:\n",
    "            res += 1\n",
    "    return res"
   ]
  },
  {
   "cell_type": "code",
   "execution_count": 9,
   "id": "b51ba9fc",
   "metadata": {},
   "outputs": [
    {
     "name": "stdout",
     "output_type": "stream",
     "text": [
      "4\n",
      "0\n",
      "9\n"
     ]
    }
   ],
   "source": [
    "lst = [\"na\", \"nana\", \"nanana\", \"batman\", \"!\"]\n",
    "print(count_evens(lst))\n",
    "\n",
    "lst = [\"the\", \"joker\", \"robin\"]\n",
    "print(count_evens(lst))\n",
    "\n",
    "lst = [\n",
    "    \"you\",\n",
    "    \"either\",\n",
    "    \"die\",\n",
    "    \"a\",\n",
    "    \"hero\",\n",
    "    \"or\",\n",
    "    \"you\",\n",
    "    \"live\",\n",
    "    \"long\",\n",
    "    \"enough\",\n",
    "    \"to\",\n",
    "    \"see\",\n",
    "    \"yourself\",\n",
    "    \"become\",\n",
    "    \"the\",\n",
    "    \"villain\",\n",
    "]\n",
    "print(count_evens(lst))"
   ]
  },
  {
   "cell_type": "markdown",
   "id": "4c92a7fb",
   "metadata": {},
   "source": [
    "## Problem 3: Secret Identity"
   ]
  },
  {
   "cell_type": "code",
   "execution_count": 20,
   "id": "2b5d9063",
   "metadata": {},
   "outputs": [],
   "source": [
    "def remove_name(people, secret_identity):\n",
    "    for index, name in enumerate(people):\n",
    "        if name == secret_identity:\n",
    "            people.pop(index)\n",
    "    return people"
   ]
  },
  {
   "cell_type": "code",
   "execution_count": 21,
   "id": "e6edca64",
   "metadata": {},
   "outputs": [
    {
     "name": "stdout",
     "output_type": "stream",
     "text": [
      "['Batman', 'Superman', 'The Riddler']\n"
     ]
    }
   ],
   "source": [
    "people = [\"Batman\", \"Superman\", \"Bruce Wayne\", \"The Riddler\", \"Bruce Wayne\"]\n",
    "secret_identity = \"Bruce Wayne\"\n",
    "print(remove_name(people, secret_identity))"
   ]
  },
  {
   "cell_type": "markdown",
   "id": "cc402808",
   "metadata": {},
   "source": [
    "## Problem 4: Count Digits"
   ]
  },
  {
   "cell_type": "code",
   "execution_count": 29,
   "id": "ba2231ce",
   "metadata": {},
   "outputs": [],
   "source": [
    "def count_digits(n):\n",
    "    if n == 0: return 1\n",
    "    count = 0\n",
    "    while n>0:\n",
    "        n = n//10\n",
    "        count += 1\n",
    "    return count"
   ]
  },
  {
   "cell_type": "code",
   "execution_count": 30,
   "id": "6c3959e7",
   "metadata": {},
   "outputs": [
    {
     "name": "stdout",
     "output_type": "stream",
     "text": [
      "3\n",
      "1\n"
     ]
    }
   ],
   "source": [
    "n = 964\n",
    "print(count_digits(n))\n",
    "\n",
    "n = 0\n",
    "print(count_digits(n))"
   ]
  },
  {
   "cell_type": "markdown",
   "id": "ae7701e4",
   "metadata": {},
   "source": [
    "## Problem 5: Move Zeroes"
   ]
  },
  {
   "cell_type": "code",
   "execution_count": 66,
   "id": "ec1ec895",
   "metadata": {},
   "outputs": [],
   "source": [
    "def move_zeroes(lst):\n",
    "    left = 0\n",
    "    for right in range(len(lst)):\n",
    "        if lst[right]:\n",
    "            lst[left], lst[right] = lst[right], lst[left]\n",
    "            left += 1\n",
    "    return lst"
   ]
  },
  {
   "cell_type": "code",
   "execution_count": 70,
   "id": "63e60bd9",
   "metadata": {},
   "outputs": [
    {
     "name": "stdout",
     "output_type": "stream",
     "text": [
      "[1, 2, 3, 0, 0, 0]\n",
      "[1, 1, 2, 3, 0, 0, 0]\n"
     ]
    }
   ],
   "source": [
    "lst = [1, 0, 2, 0, 3, 0]\n",
    "print(move_zeroes(lst))\n",
    "\n",
    "lst = [1, 1, 0, 2, 0, 3, 0]\n",
    "print(move_zeroes(lst))"
   ]
  },
  {
   "cell_type": "markdown",
   "id": "6484f939",
   "metadata": {},
   "source": [
    "## Problem 6: Reverse Vowels of a String"
   ]
  },
  {
   "cell_type": "code",
   "execution_count": 11,
   "id": "472b697c",
   "metadata": {},
   "outputs": [],
   "source": [
    "def reverse_vowels(s):\n",
    "    vowels = ['a','e','i','o','u','A','E','I','O','U']\n",
    "    left = 0\n",
    "    s = list(s)\n",
    "    right = len(s) - 1\n",
    "    while left < right:\n",
    "        while s[left] not in vowels and left < right:\n",
    "            left += 1\n",
    "        while s[right] not in vowels and left < right:\n",
    "            right -= 1\n",
    "        s[left], s[right] = s[right], s[left]\n",
    "        left += 1\n",
    "        right -= 1\n",
    "    return ''.join(s)"
   ]
  },
  {
   "cell_type": "code",
   "execution_count": 12,
   "id": "b712fbd5",
   "metadata": {},
   "outputs": [
    {
     "name": "stdout",
     "output_type": "stream",
     "text": [
      "ribon\n",
      "BiTgArl\n",
      "batman\n"
     ]
    }
   ],
   "source": [
    "s = \"robin\"\n",
    "print(reverse_vowels(s))\n",
    "\n",
    "s = \"BATgirl\"\n",
    "print(reverse_vowels(s))\n",
    "\n",
    "s = \"batman\"\n",
    "print(reverse_vowels(s))"
   ]
  },
  {
   "cell_type": "markdown",
   "id": "dcc292b2",
   "metadata": {},
   "source": [
    "## Problem 7: Vantage Point\n"
   ]
  },
  {
   "cell_type": "code",
   "execution_count": 14,
   "id": "dc019b0f",
   "metadata": {},
   "outputs": [],
   "source": [
    "def highest_altitude(gain):\n",
    "    height = 0\n",
    "    max_height = 0\n",
    "    for delta in gain:\n",
    "        height += delta\n",
    "        max_height = max(height, max_height)\n",
    "    return max_height"
   ]
  },
  {
   "cell_type": "code",
   "execution_count": 15,
   "id": "6b495420",
   "metadata": {},
   "outputs": [
    {
     "name": "stdout",
     "output_type": "stream",
     "text": [
      "1\n",
      "0\n"
     ]
    }
   ],
   "source": [
    "gain = [-5, 1, 5, 0, -7]\n",
    "print(highest_altitude(gain))\n",
    "\n",
    "gain = [-4, -3, -2, -1, 4, 3, 2]\n",
    "print(highest_altitude(gain))"
   ]
  },
  {
   "cell_type": "markdown",
   "id": "9bdba822",
   "metadata": {},
   "source": [
    "## Problem 8: Left and Right Sum Differences\n"
   ]
  },
  {
   "cell_type": "code",
   "execution_count": 29,
   "id": "1da90ce0",
   "metadata": {},
   "outputs": [],
   "source": [
    "def left_right_difference(nums):\n",
    "    if len(nums) == 1: return 0\n",
    "    prefix = [0] * (len(nums))\n",
    "    postfix = [0] * (len(nums))\n",
    "    res = [0] * (len(nums))\n",
    "\n",
    "    for left in range(1, len(nums) -1):\n",
    "        prefix[left] = prefix[left - 1] + nums[left - 1]\n",
    "\n",
    "    for right in range(len(nums) - 2, -1, -1):\n",
    "        postfix[right] = postfix[right + 1] + nums[right + 1]\n",
    "        \n",
    "    for i in range(len(nums)):\n",
    "        res[i] = prefix[i] - postfix[i]\n",
    "    return res"
   ]
  },
  {
   "cell_type": "code",
   "execution_count": 33,
   "id": "f89b3967",
   "metadata": {},
   "outputs": [],
   "source": [
    "def left_right_difference(nums):\n",
    "    total = sum(nums)\n",
    "    left_sum = 0\n",
    "    res = [0] * len(nums)\n",
    "\n",
    "    for i in range(len(nums)):\n",
    "        right_sum = total - left_sum - nums[i]\n",
    "        res[i] = left_sum - right_sum\n",
    "        left_sum += nums[i]\n",
    "    return res"
   ]
  },
  {
   "cell_type": "code",
   "execution_count": 34,
   "id": "25284ee8",
   "metadata": {},
   "outputs": [
    {
     "name": "stdout",
     "output_type": "stream",
     "text": [
      "[-15, -1, 11, 22]\n",
      "[0]\n"
     ]
    }
   ],
   "source": [
    "nums = [10, 4, 8, 3]\n",
    "print(left_right_difference(nums))\n",
    "\n",
    "nums = [1]\n",
    "print(left_right_difference(nums))"
   ]
  },
  {
   "cell_type": "markdown",
   "id": "ef3d55c1",
   "metadata": {},
   "source": [
    "## Problem 9: Common Cause"
   ]
  },
  {
   "cell_type": "code",
   "execution_count": 37,
   "id": "f5122267",
   "metadata": {},
   "outputs": [],
   "source": [
    "def common_elements(lst1, lst2):\n",
    "    return [i for i in lst1 if i in lst2]"
   ]
  },
  {
   "cell_type": "code",
   "execution_count": 38,
   "id": "c2905206",
   "metadata": {},
   "outputs": [
    {
     "name": "stdout",
     "output_type": "stream",
     "text": [
      "['super speed']\n",
      "[]\n"
     ]
    }
   ],
   "source": [
    "lst1 = [\"super strength\", \"super speed\", \"x-ray vision\"]\n",
    "lst2 = [\"super speed\", \"time travel\", \"dimensional travel\"]\n",
    "print(common_elements(lst1, lst2))\n",
    "\n",
    "lst1 = [\"super strength\", \"super speed\", \"x-ray vision\"]\n",
    "lst2 = [\"martial arts\", \"stealth\", \"master detective\"]\n",
    "print(common_elements(lst1, lst2))"
   ]
  },
  {
   "cell_type": "markdown",
   "id": "9c4787a3",
   "metadata": {},
   "source": [
    "## Problem 10: Exposing Superman"
   ]
  },
  {
   "cell_type": "code",
   "execution_count": 39,
   "id": "045f17e6",
   "metadata": {},
   "outputs": [],
   "source": [
    "def expose_superman(trust, n):\n",
    "    scores = [0] * (n + 1)\n",
    "\n",
    "    for a,b in trust:\n",
    "        scores[a] -= 1\n",
    "        scores[b] += 1\n",
    "    \n",
    "    for i in range(n + 1):\n",
    "        if scores[i] == n - 1:\n",
    "            return i\n",
    "    return -1\n",
    "\n",
    "    "
   ]
  },
  {
   "cell_type": "code",
   "execution_count": 41,
   "id": "c59490f3",
   "metadata": {},
   "outputs": [
    {
     "name": "stdout",
     "output_type": "stream",
     "text": [
      "2\n",
      "3\n",
      "-1\n"
     ]
    }
   ],
   "source": [
    "n = 2\n",
    "trust = [[1, 2]]\n",
    "print(expose_superman(trust, n))\n",
    "\n",
    "n = 3\n",
    "trust = [[1, 3], [2, 3]]\n",
    "print(expose_superman(trust, n))\n",
    "\n",
    "n = 3\n",
    "trust = [[1, 3], [2, 3], [3, 1]]\n",
    "print(expose_superman(trust, n))"
   ]
  },
  {
   "cell_type": "markdown",
   "id": "ca340680",
   "metadata": {},
   "source": [
    "# THE END"
   ]
  }
 ],
 "metadata": {
  "kernelspec": {
   "display_name": ".venv",
   "language": "python",
   "name": "python3"
  },
  "language_info": {
   "codemirror_mode": {
    "name": "ipython",
    "version": 3
   },
   "file_extension": ".py",
   "mimetype": "text/x-python",
   "name": "python",
   "nbconvert_exporter": "python",
   "pygments_lexer": "ipython3",
   "version": "3.12.11"
  }
 },
 "nbformat": 4,
 "nbformat_minor": 5
}
