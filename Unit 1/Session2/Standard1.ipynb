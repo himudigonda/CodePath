{
 "cells": [
  {
   "cell_type": "markdown",
   "id": "beb940d1",
   "metadata": {},
   "source": [
    "## Problem 1: Reverse Sentence"
   ]
  },
  {
   "cell_type": "code",
   "execution_count": 6,
   "id": "4f841cff",
   "metadata": {},
   "outputs": [],
   "source": [
    "def reverse_sentence(sentence):\n",
    "    words = sentence.split()\n",
    "    words = words[::-1]\n",
    "    return \" \".join(words)\n"
   ]
  },
  {
   "cell_type": "code",
   "execution_count": 7,
   "id": "b80b624e",
   "metadata": {},
   "outputs": [
    {
     "name": "stdout",
     "output_type": "stream",
     "text": [
      "fluff with stuffed all cubby little tubby\n",
      "Pooh\n"
     ]
    }
   ],
   "source": [
    "sentence = \"tubby little cubby all stuffed with fluff\"\n",
    "print(reverse_sentence(sentence))\n",
    "\n",
    "sentence = \"Pooh\"\n",
    "print(reverse_sentence(sentence))\n"
   ]
  },
  {
   "cell_type": "markdown",
   "id": "8933afb9",
   "metadata": {},
   "source": [
    "## Problem 2: Goldilocks Number"
   ]
  },
  {
   "cell_type": "code",
   "execution_count": 15,
   "id": "5ca944d9",
   "metadata": {},
   "outputs": [],
   "source": [
    "def goldilocks_approved(nums):\n",
    "    if len(nums)<=2:\n",
    "        return -1\n",
    "    \n",
    "    min_ = min(nums)\n",
    "    max_ = max(nums)\n",
    "    for i in nums:\n",
    "        if i != min_ or i != max_:\n",
    "            return i"
   ]
  },
  {
   "cell_type": "code",
   "execution_count": 14,
   "id": "7d72d9b0",
   "metadata": {},
   "outputs": [
    {
     "name": "stdout",
     "output_type": "stream",
     "text": [
      "3\n",
      "-1\n",
      "2\n"
     ]
    }
   ],
   "source": [
    "nums = [3, 2, 1, 4]\n",
    "print(goldilocks_approved(nums))\n",
    "\n",
    "nums = [1, 2]\n",
    "print(goldilocks_approved(nums))\n",
    "\n",
    "nums = [2, 1, 3]\n",
    "print(goldilocks_approved(nums))"
   ]
  },
  {
   "cell_type": "markdown",
   "id": "d3c30b49",
   "metadata": {},
   "source": [
    "## Problem 3: Delete Minimum"
   ]
  },
  {
   "cell_type": "code",
   "execution_count": 16,
   "id": "b1b61986",
   "metadata": {},
   "outputs": [],
   "source": [
    "def delete_minimum_elements(hunny_jar_sizes):\n",
    "    res = []\n",
    "    while len(hunny_jar_sizes)>=1:\n",
    "        min_ = min(hunny_jar_sizes)\n",
    "        res.append(min_)\n",
    "        hunny_jar_sizes.remove(min_)\n",
    "    return res"
   ]
  },
  {
   "cell_type": "code",
   "execution_count": 17,
   "id": "977b6801",
   "metadata": {},
   "outputs": [
    {
     "name": "stdout",
     "output_type": "stream",
     "text": [
      "[1, 2, 3, 4, 5]\n",
      "[1, 2, 2, 5, 8]\n"
     ]
    }
   ],
   "source": [
    "hunny_jar_sizes = [5, 3, 2, 4, 1]\n",
    "print(delete_minimum_elements(hunny_jar_sizes))\n",
    "\n",
    "hunny_jar_sizes = [5, 2, 1, 8, 2]\n",
    "print(delete_minimum_elements(hunny_jar_sizes))"
   ]
  },
  {
   "cell_type": "markdown",
   "id": "2fb0b56d",
   "metadata": {},
   "source": [
    "## Problem 4: Sum of Digits"
   ]
  },
  {
   "cell_type": "code",
   "execution_count": 26,
   "id": "72e0e54a",
   "metadata": {},
   "outputs": [],
   "source": [
    "def sum_of_digits(num):\n",
    "    while num >= 10:\n",
    "        res = 0\n",
    "        while num:\n",
    "            res += num % 10\n",
    "            num = num//10\n",
    "        num = res\n",
    "    return num\n",
    "        "
   ]
  },
  {
   "cell_type": "code",
   "execution_count": 27,
   "id": "aed7a193",
   "metadata": {},
   "outputs": [
    {
     "name": "stdout",
     "output_type": "stream",
     "text": [
      "4\n",
      "4\n"
     ]
    }
   ],
   "source": [
    "num = 4234\n",
    "print(sum_of_digits(num))\n",
    "\n",
    "num = 4\n",
    "print(sum_of_digits(num))"
   ]
  },
  {
   "cell_type": "markdown",
   "id": "cdc92cb2",
   "metadata": {},
   "source": [
    "## Problem 5: Bouncy, Flouncy, Trouncy, Pouncy"
   ]
  },
  {
   "cell_type": "code",
   "execution_count": 29,
   "id": "b33b79e1",
   "metadata": {},
   "outputs": [],
   "source": [
    "def final_value_after_operations(operations):\n",
    "    tigger = 1\n",
    "    for op in operations:\n",
    "        if op == 'bouncy' or op == 'flouncy':\n",
    "            tigger += 1\n",
    "        elif op == 'trouncy' or op == 'pouncy':\n",
    "            tigger -= 1\n",
    "    return tigger"
   ]
  },
  {
   "cell_type": "code",
   "execution_count": 30,
   "id": "8afdf787",
   "metadata": {},
   "outputs": [
    {
     "name": "stdout",
     "output_type": "stream",
     "text": [
      "2\n",
      "4\n"
     ]
    }
   ],
   "source": [
    "operations = [\"trouncy\", \"flouncy\", \"flouncy\"]\n",
    "print(final_value_after_operations(operations))\n",
    "\n",
    "operations = [\"bouncy\", \"bouncy\", \"flouncy\"]\n",
    "print(final_value_after_operations(operations))"
   ]
  },
  {
   "cell_type": "markdown",
   "id": "6473bcaf",
   "metadata": {},
   "source": [
    "## Problem 6: Acronym"
   ]
  },
  {
   "cell_type": "code",
   "execution_count": 35,
   "id": "009f5e67",
   "metadata": {},
   "outputs": [],
   "source": [
    "def is_acronym(words, s):\n",
    "    res = []\n",
    "    for word in words:\n",
    "        res.append(word[0])\n",
    "    return \"\".join(res) == s"
   ]
  },
  {
   "cell_type": "code",
   "execution_count": 37,
   "id": "a50ada2e",
   "metadata": {},
   "outputs": [
    {
     "name": "stdout",
     "output_type": "stream",
     "text": [
      "True\n"
     ]
    }
   ],
   "source": [
    "words = [\"christopher\", \"robin\", \"milne\"]\n",
    "s = \"crm\"\n",
    "print(is_acronym(words, s))"
   ]
  },
  {
   "cell_type": "markdown",
   "id": "0571838e",
   "metadata": {},
   "source": [
    "## Problem 7: Good Things Come in Threes"
   ]
  },
  {
   "cell_type": "code",
   "execution_count": 42,
   "id": "430b62ae",
   "metadata": {},
   "outputs": [],
   "source": [
    "def make_divisible_by_3(nums):\n",
    "    # nums = [num%3 for num in nums]\n",
    "    res = 0\n",
    "    for i in nums:\n",
    "        if i % 3 != 0:\n",
    "            res += 1\n",
    "    return res"
   ]
  },
  {
   "cell_type": "code",
   "execution_count": 43,
   "id": "03aab9df",
   "metadata": {},
   "outputs": [
    {
     "name": "stdout",
     "output_type": "stream",
     "text": [
      "3\n",
      "0\n"
     ]
    }
   ],
   "source": [
    "nums = [1, 2, 3, 4]\n",
    "print(make_divisible_by_3(nums))\n",
    "\n",
    "nums = [3, 6, 9]\n",
    "print(make_divisible_by_3(nums))"
   ]
  },
  {
   "cell_type": "markdown",
   "id": "b9f97126",
   "metadata": {},
   "source": [
    "## Problem 8: Exclusive Elements\n"
   ]
  },
  {
   "cell_type": "code",
   "execution_count": null,
   "id": "fbedebfc",
   "metadata": {},
   "outputs": [],
   "source": [
    "def exclusive_elemts(lst1, lst2):\n",
    "    a = [i for i in lst1 if i not in lst2]\n",
    "    b = [i for i in lst2 if i not in lst1]\n",
    "    return a+b"
   ]
  },
  {
   "cell_type": "code",
   "execution_count": 54,
   "id": "b8768f73",
   "metadata": {},
   "outputs": [
    {
     "name": "stdout",
     "output_type": "stream",
     "text": [
      "['pooh', 'roo', 'eeyore', 'owl']\n",
      "['pooh', 'roo', 'piglet', 'eeyore', 'owl', 'kanga']\n",
      "[]\n"
     ]
    }
   ],
   "source": [
    "lst1 = [\"pooh\", \"roo\", \"piglet\"]\n",
    "lst2 = [\"piglet\", \"eeyore\", \"owl\"]\n",
    "print(exclusive_elemts(lst1, lst2))\n",
    "\n",
    "lst1 = [\"pooh\", \"roo\"]\n",
    "lst2 = [\"piglet\", \"eeyore\", \"owl\", \"kanga\"]\n",
    "print(exclusive_elemts(lst1, lst2))\n",
    "\n",
    "lst1 = [\"pooh\", \"roo\", \"piglet\"]\n",
    "lst2 = [\"pooh\", \"roo\", \"piglet\"]\n",
    "print(exclusive_elemts(lst1, lst2))"
   ]
  },
  {
   "cell_type": "markdown",
   "id": "76fe787b",
   "metadata": {},
   "source": [
    "## Problem 9: Merge Strings Alternately"
   ]
  },
  {
   "cell_type": "code",
   "execution_count": 60,
   "id": "8ab380d8",
   "metadata": {},
   "outputs": [],
   "source": [
    "def merge_alternately(word1, word2):\n",
    "    left = 0\n",
    "    res = []\n",
    "    iterover = min(len(word1), len(word2))\n",
    "    max_ = max(len(word1), len(word2))\n",
    "    for left in range(max_):\n",
    "        ch1 = word1[left] if left < len(word1) else ''\n",
    "        ch2 = word2[left] if left < len(word2) else ''\n",
    "        res.append(ch1)\n",
    "        res.append(ch2)\n",
    "    return ''.join(res)"
   ]
  },
  {
   "cell_type": "code",
   "execution_count": 62,
   "id": "ba01bd18",
   "metadata": {},
   "outputs": [
    {
     "name": "stdout",
     "output_type": "stream",
     "text": [
      "woozle\n",
      "heffalump\n",
      "eeyore\n"
     ]
    }
   ],
   "source": [
    "word1 = \"wol\"\n",
    "word2 = \"oze\"\n",
    "print(merge_alternately(word1, word2))\n",
    "\n",
    "word1 = \"hfa\"\n",
    "word2 = \"eflump\"\n",
    "print(merge_alternately(word1, word2))\n",
    "\n",
    "word1 = \"eyre\"\n",
    "word2 = \"eo\"\n",
    "print(merge_alternately(word1, word2))"
   ]
  },
  {
   "cell_type": "markdown",
   "id": "d50e6b4f",
   "metadata": {},
   "source": [
    "## Problem 10: Eeyore's House"
   ]
  },
  {
   "cell_type": "code",
   "execution_count": 69,
   "id": "d1e6208a",
   "metadata": {},
   "outputs": [],
   "source": [
    "def good_pairs(pile1, pile2, k):\n",
    "    count = 0\n",
    "    for i in range(len(pile1)):\n",
    "        for j in range(len(pile2)):\n",
    "            if pile1[i] % (pile2[j]*k) == 0:\n",
    "                count += 1\n",
    "    return count\n"
   ]
  },
  {
   "cell_type": "code",
   "execution_count": 70,
   "id": "85aa9851",
   "metadata": {},
   "outputs": [
    {
     "name": "stdout",
     "output_type": "stream",
     "text": [
      "5\n",
      "2\n"
     ]
    }
   ],
   "source": [
    "pile1 = [1, 3, 4]\n",
    "pile2 = [1, 3, 4]\n",
    "k = 1\n",
    "print(good_pairs(pile1, pile2, k))\n",
    "\n",
    "pile1 = [1, 2, 4, 12]\n",
    "pile2 = [2, 4]\n",
    "k = 3\n",
    "print(good_pairs(pile1, pile2, k))"
   ]
  },
  {
   "cell_type": "markdown",
   "id": "dfbd808f",
   "metadata": {},
   "source": [
    "# THE END"
   ]
  }
 ],
 "metadata": {
  "kernelspec": {
   "display_name": ".venv",
   "language": "python",
   "name": "python3"
  },
  "language_info": {
   "codemirror_mode": {
    "name": "ipython",
    "version": 3
   },
   "file_extension": ".py",
   "mimetype": "text/x-python",
   "name": "python",
   "nbconvert_exporter": "python",
   "pygments_lexer": "ipython3",
   "version": "3.12.11"
  }
 },
 "nbformat": 4,
 "nbformat_minor": 5
}
