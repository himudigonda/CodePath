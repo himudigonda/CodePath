{
 "cells": [
  {
   "cell_type": "markdown",
   "id": "e74eca2e",
   "metadata": {},
   "source": [
    "## Problem 1: Matrix Addition"
   ]
  },
  {
   "cell_type": "code",
   "execution_count": 3,
   "id": "f976f43f",
   "metadata": {},
   "outputs": [],
   "source": [
    "def add_matrices(matrix1, matrix2):\n",
    "    res = [[0]* len(matrix1)] * len(matrix1[0])\n",
    "    for i in range(len(matrix1)):\n",
    "        for j in range(len(matrix1[0])):\n",
    "            res[i][j] = matrix1[i][j] + matrix2[i][j]\n",
    "    return res\n"
   ]
  },
  {
   "cell_type": "code",
   "execution_count": null,
   "id": "15686574",
   "metadata": {},
   "outputs": [
    {
     "data": {
      "text/plain": [
       "[[10, 10, 10], [10, 10, 10], [10, 10, 10]]"
      ]
     },
     "execution_count": 4,
     "metadata": {},
     "output_type": "execute_result"
    }
   ],
   "source": [
    "matrix1 = [[1, 2, 3], [4, 5, 6], [7, 8, 9]]\n",
    "\n",
    "matrix2 = [[9, 8, 7], [6, 5, 4], [3, 2, 1]]\n",
    "\n",
    "add_matrices(matrix1, matrix2)"
   ]
  },
  {
   "cell_type": "markdown",
   "id": "50010565",
   "metadata": {},
   "source": [
    "## Problem 2: Two-Pointer Palindrome"
   ]
  },
  {
   "cell_type": "code",
   "execution_count": 5,
   "id": "88397e33",
   "metadata": {},
   "outputs": [],
   "source": [
    "def is_palindrome(s):\n",
    "    left = 0\n",
    "    right = len(s) - 1\n",
    "    while left < right:\n",
    "        if s[left] == s[right]:\n",
    "            left += 1\n",
    "            right -= 1\n",
    "        else:\n",
    "            return False\n",
    "    return True"
   ]
  },
  {
   "cell_type": "code",
   "execution_count": 6,
   "id": "eca408fc",
   "metadata": {},
   "outputs": [
    {
     "name": "stdout",
     "output_type": "stream",
     "text": [
      "True\n",
      "False\n"
     ]
    }
   ],
   "source": [
    "s = \"madam\"\n",
    "print(is_palindrome(s))\n",
    "\n",
    "s = \"madamweb\"\n",
    "print(is_palindrome(s))"
   ]
  },
  {
   "cell_type": "markdown",
   "id": "08ebc1cf",
   "metadata": {},
   "source": [
    "## Problem 3: Squash Spaces"
   ]
  },
  {
   "cell_type": "code",
   "execution_count": 9,
   "id": "fe7149e1",
   "metadata": {},
   "outputs": [],
   "source": [
    "def squash_spaces(s):\n",
    "    arr = s.split()\n",
    "    return \" \".join(arr)"
   ]
  },
  {
   "cell_type": "code",
   "execution_count": 11,
   "id": "7d904afa",
   "metadata": {},
   "outputs": [
    {
     "name": "stdout",
     "output_type": "stream",
     "text": [
      "Up, up, and away!\n",
      "With great power comes great responsibility.\n"
     ]
    }
   ],
   "source": [
    "s = \"   Up,     up,   and  away! \"\n",
    "print(squash_spaces(s))\n",
    "\n",
    "s = \"With great power comes great responsibility.\"\n",
    "print(squash_spaces(s))"
   ]
  },
  {
   "cell_type": "markdown",
   "id": "039164e3",
   "metadata": {},
   "source": [
    "## Problem 4: Two-Pointer Two Sum"
   ]
  },
  {
   "cell_type": "code",
   "execution_count": 14,
   "id": "53cd5552",
   "metadata": {},
   "outputs": [],
   "source": [
    "def two_sum(nums, target):\n",
    "    left = 0\n",
    "    right = len(nums) - 1\n",
    "    nums.sort()\n",
    "\n",
    "    while left < right:\n",
    "        if nums[left] + nums[right] == target:\n",
    "            return [left, right]\n",
    "        elif nums[left] + nums[right] < target:\n",
    "            left += 1\n",
    "        else:\n",
    "            right -= 1\n",
    "    return -1"
   ]
  },
  {
   "cell_type": "code",
   "execution_count": 16,
   "id": "e82f2067",
   "metadata": {},
   "outputs": [
    {
     "name": "stdout",
     "output_type": "stream",
     "text": [
      "[0, 1]\n",
      "[1, 2]\n"
     ]
    }
   ],
   "source": [
    "nums = [2, 7, 11, 15]\n",
    "target = 9\n",
    "print(two_sum(nums, target))\n",
    "\n",
    "nums = [2, 7, 11, 15]\n",
    "target = 18\n",
    "print(two_sum(nums, target))"
   ]
  },
  {
   "cell_type": "markdown",
   "id": "4063ad5a",
   "metadata": {},
   "source": [
    "## Problem 5: Three Sum"
   ]
  },
  {
   "cell_type": "code",
   "execution_count": 43,
   "id": "4c72fb04",
   "metadata": {},
   "outputs": [],
   "source": [
    "def three_sum(nums):\n",
    "    nums.sort()\n",
    "    a = 0\n",
    "    j = len(nums) - 1\n",
    "    res = []\n",
    "\n",
    "    while a < len(nums) - 2:\n",
    "        i = a + 1\n",
    "        while i < j:\n",
    "            if nums[i] + nums[j] + nums[a] == 0 and [nums[i], nums[j], nums[a]] not in res:\n",
    "                res.append([nums[a], nums[i], nums[j]])\n",
    "                i += 1\n",
    "            elif nums[i] + nums[j] + nums[a] < 0:\n",
    "                i += 1\n",
    "            else:\n",
    "                j -= 1\n",
    "        a += 1\n",
    "    return res"
   ]
  },
  {
   "cell_type": "code",
   "execution_count": 44,
   "id": "2343d810",
   "metadata": {},
   "outputs": [
    {
     "name": "stdout",
     "output_type": "stream",
     "text": [
      "[[-1, -1, 2], [-1, 0, 1], [-1, 0, 1]]\n",
      "[]\n",
      "[[0, 0, 0]]\n"
     ]
    }
   ],
   "source": [
    "nums = [-1, 0, 1, 2, -1, -4]\n",
    "print(three_sum(nums))\n",
    "\n",
    "nums = [0, 1, 1]\n",
    "print(three_sum(nums))\n",
    "\n",
    "nums = [0, 0, 0]\n",
    "print(three_sum(nums))"
   ]
  },
  {
   "cell_type": "markdown",
   "id": "d3819c75",
   "metadata": {},
   "source": [
    "## Problem 6: Insert Interval"
   ]
  },
  {
   "cell_type": "code",
   "execution_count": 14,
   "id": "3b72ba46",
   "metadata": {},
   "outputs": [],
   "source": [
    "def insert_interval(intervals, new_interval):\n",
    "    res = []\n",
    "    for i in range(len(intervals)):\n",
    "        if new_interval[1] < intervals[i][0]:\n",
    "            res.append(new_interval)\n",
    "            return res + intervals[i:]\n",
    "        elif new_interval[0] > intervals[i][1]:\n",
    "            res.append(intervals[i])\n",
    "        else:\n",
    "            new_interval = [min(new_interval[0], intervals[i][0]), max(new_interval[1], intervals[i][1])]\n",
    "    res.append(new_interval)\n",
    "    return res"
   ]
  },
  {
   "cell_type": "code",
   "execution_count": 15,
   "id": "4702e3d3",
   "metadata": {},
   "outputs": [
    {
     "name": "stdout",
     "output_type": "stream",
     "text": [
      "[[1, 5], [6, 9]]\n",
      "[[1, 2], [3, 10], [12, 16]]\n"
     ]
    }
   ],
   "source": [
    "intervals = [[1, 3], [6, 9]]\n",
    "new_interval = [2, 5]\n",
    "print(insert_interval(intervals, new_interval))\n",
    "\n",
    "intervals = [[1, 2], [3, 5], [6, 7], [8, 10], [12, 16]]\n",
    "new_interval = [4, 8]\n",
    "print(insert_interval(intervals, new_interval))"
   ]
  },
  {
   "cell_type": "markdown",
   "id": "7449f2d4",
   "metadata": {},
   "source": [
    "# THE END"
   ]
  }
 ],
 "metadata": {
  "kernelspec": {
   "display_name": ".venv",
   "language": "python",
   "name": "python3"
  },
  "language_info": {
   "codemirror_mode": {
    "name": "ipython",
    "version": 3
   },
   "file_extension": ".py",
   "mimetype": "text/x-python",
   "name": "python",
   "nbconvert_exporter": "python",
   "pygments_lexer": "ipython3",
   "version": "3.12.11"
  }
 },
 "nbformat": 4,
 "nbformat_minor": 5
}
