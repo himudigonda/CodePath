{
 "cells": [
  {
   "cell_type": "markdown",
   "id": "e12b6130",
   "metadata": {},
   "source": [
    "## Problem 1: Transpose Matrix"
   ]
  },
  {
   "cell_type": "code",
   "execution_count": 6,
   "id": "628b0b08",
   "metadata": {},
   "outputs": [],
   "source": [
    "def transpose(matrix):\n",
    "    res = []\n",
    "    for col in range(len(matrix[0])):\n",
    "        new_row = []\n",
    "        for row in range(len(matrix)):\n",
    "            new_row.append(matrix[row][col])\n",
    "        res.append(new_row)\n",
    "    return res"
   ]
  },
  {
   "cell_type": "code",
   "execution_count": 9,
   "id": "de22effc",
   "metadata": {},
   "outputs": [
    {
     "name": "stdout",
     "output_type": "stream",
     "text": [
      "[[2, -10, 18], [4, 5, -7], [-1, 11, 6]]\n",
      "[[1, 4, 7], [2, 5, 8], [3, 6, 9]]\n",
      "[[1, 4], [2, 5], [3, 6]]\n"
     ]
    }
   ],
   "source": [
    "matrix = [\n",
    "    [2, 4, -1],\n",
    "    [-10, 5, 11],\n",
    "    [18, -7, 6]\n",
    "]\n",
    "print(transpose(matrix))\n",
    "\n",
    "matrix = [\n",
    "    [1, 2, 3],\n",
    "    [4, 5, 6],\n",
    "    [7, 8, 9]\n",
    "]\n",
    "print(transpose(matrix))\n",
    "\n",
    "matrix = [\n",
    "    [1, 2, 3],\n",
    "    [4, 5, 6]\n",
    "]\n",
    "print(transpose(matrix))\n"
   ]
  },
  {
   "cell_type": "markdown",
   "id": "bfc66f49",
   "metadata": {},
   "source": [
    "## Problem 2: Two-Pointer Reverse List"
   ]
  },
  {
   "cell_type": "code",
   "execution_count": 10,
   "id": "1fcc1c16",
   "metadata": {},
   "outputs": [],
   "source": [
    "def reverse_list(lst):\n",
    "    left = 0\n",
    "    right = len(lst) - 1\n",
    "\n",
    "    while left < right:\n",
    "        lst[left], lst[right] = lst[right], lst[left]\n",
    "        left += 1\n",
    "        right -= 1\n",
    "    return lst"
   ]
  },
  {
   "cell_type": "code",
   "execution_count": 11,
   "id": "53dddc27",
   "metadata": {},
   "outputs": [
    {
     "name": "stdout",
     "output_type": "stream",
     "text": [
      "['eeyore', 'roo', 'piglet', 'christopher robin', 'pooh']\n"
     ]
    }
   ],
   "source": [
    "lst = [\"pooh\", \"christopher robin\", \"piglet\", \"roo\", \"eeyore\"]\n",
    "print(reverse_list(lst))"
   ]
  },
  {
   "cell_type": "markdown",
   "id": "0ca4c609",
   "metadata": {},
   "source": [
    "## Problem 3: Remove Duplicates\n"
   ]
  },
  {
   "cell_type": "code",
   "execution_count": 20,
   "id": "04bf354e",
   "metadata": {},
   "outputs": [],
   "source": [
    "def remove_dupes(items):\n",
    "    items_len = len(items)\n",
    "    for i in range(items_len - 1):\n",
    "        if items[i] == items[i + 1]:\n",
    "            items.pop(i + 1)\n",
    "    return len(items)"
   ]
  },
  {
   "cell_type": "code",
   "execution_count": 22,
   "id": "2af79be3",
   "metadata": {},
   "outputs": [
    {
     "name": "stdout",
     "output_type": "stream",
     "text": [
      "4\n",
      "4\n"
     ]
    }
   ],
   "source": [
    "items = [\"extract of malt\", \"haycorns\", \"honey\", \"thistle\", \"thistle\"]\n",
    "print(remove_dupes(items))\n",
    "\n",
    "items = [\"extract of malt\", \"haycorns\", \"honey\", \"thistle\"]\n",
    "print(remove_dupes(items))"
   ]
  },
  {
   "cell_type": "markdown",
   "id": "02deda03",
   "metadata": {},
   "source": [
    "## Problem 4: Sort Array by Parity"
   ]
  },
  {
   "cell_type": "code",
   "execution_count": 29,
   "id": "5af260d0",
   "metadata": {},
   "outputs": [],
   "source": [
    "def sort_by_parity(nums):\n",
    "    if len(nums) == 1:\n",
    "        return nums\n",
    "    if len(nums) == 0:\n",
    "        return []\n",
    "\n",
    "    left = 0\n",
    "    right = 1\n",
    "    while nums[left] % 2 == 0:\n",
    "        left += 1\n",
    "        right += 1\n",
    "    while right <= len(nums) - 1:\n",
    "        if nums[right] % 2 == 0:\n",
    "            nums[left], nums[right] = nums[right], nums[left]\n",
    "            left += 1\n",
    "            right += 1\n",
    "        else:\n",
    "            right += 1\n",
    "    return nums\n"
   ]
  },
  {
   "cell_type": "code",
   "execution_count": 32,
   "id": "6d3354c8",
   "metadata": {},
   "outputs": [
    {
     "name": "stdout",
     "output_type": "stream",
     "text": [
      "[2, 4, 3, 1]\n",
      "[0]\n"
     ]
    }
   ],
   "source": [
    "nums = [3, 1, 2, 4]\n",
    "print(sort_by_parity(nums))\n",
    "\n",
    "nums = [0]\n",
    "print(sort_by_parity(nums))"
   ]
  },
  {
   "cell_type": "markdown",
   "id": "4d4c5580",
   "metadata": {},
   "source": [
    "## Problem 5: Container with Most Honey"
   ]
  },
  {
   "cell_type": "code",
   "execution_count": 46,
   "id": "867bb24a",
   "metadata": {},
   "outputs": [],
   "source": [
    "def most_honey(heights):\n",
    "    area = 0\n",
    "    max_area = 0\n",
    "    left = 0\n",
    "    right = len(heights) - 1\n",
    "\n",
    "    while left < right:\n",
    "        area = min(heights[left], heights[right]) * -(left - right)\n",
    "        max_area = max(max_area, area)\n",
    "        if heights[left]<heights[right]:\n",
    "            left += 1\n",
    "        else:\n",
    "            right -= 1\n",
    "    return max_area"
   ]
  },
  {
   "cell_type": "code",
   "execution_count": 47,
   "id": "aaa1e831",
   "metadata": {},
   "outputs": [
    {
     "name": "stdout",
     "output_type": "stream",
     "text": [
      "49\n",
      "1\n"
     ]
    }
   ],
   "source": [
    "height = [1, 8, 6, 2, 5, 4, 8, 3, 7]\n",
    "print(most_honey(height))\n",
    "\n",
    "height = [1, 1]\n",
    "print(most_honey(height))"
   ]
  },
  {
   "cell_type": "markdown",
   "id": "e1a41670",
   "metadata": {},
   "source": [
    "## Problem 6: Merge Intervals"
   ]
  },
  {
   "cell_type": "code",
   "execution_count": null,
   "id": "a2385890",
   "metadata": {},
   "outputs": [],
   "source": [
    "def merge_intervals(intervals):\n",
    "    intervals = sorted(intervals, key=lambda intervals: intervals[0])\n",
    "    # broken while\n",
    "    # i = 0\n",
    "    # while i < len(intervals) - 1:\n",
    "    #     if intervals[i][1] >= intervals[i+1][0]:\n",
    "    #         intervals[i][1] = max(intervals[i][1], intervals[i + 1][1])\n",
    "    #         if intervals[i][0]>intervals[i+1][0]:\n",
    "    #             intervals[i][0] = min(intervals[i][0], intervals[i + 1][0])\n",
    "    #         intervals.pop(i + 1)\n",
    "    #     i += 1\n",
    "    # return intervals\n",
    "\n",
    "    # Fix for\n",
    "    # output = [intervals[0]]\n",
    "\n",
    "    # for start, end in intervals[1:]:\n",
    "    #     lastEnd = output[-1][1]\n",
    "    #     if start <= lastEnd:\n",
    "    #         output[-1][1] = max(lastEnd, end)\n",
    "    #     else:\n",
    "    #         output.append([start, end])\n",
    "    # return output\n",
    "\n",
    "    # Fix while\n",
    "    # output = [intervals[0]]\n",
    "    # i = 1\n",
    "    # while i < len(intervals):\n",
    "    #     start, end = intervals[i]\n",
    "    #     lastEnd = output[-1][1]\n",
    "    #     if start <= lastEnd:\n",
    "    #         output[-1][1] = max(lastEnd, end)\n",
    "    #     else:\n",
    "    #         output.append([start, end])\n",
    "    #     i += 1\n",
    "    # return output\n",
    "\n",
    "    # broken fix while lol\n",
    "    i = 0\n",
    "    while i < len(intervals) - 1:\n",
    "        if intervals[i][1] > intervals[i + 1][0]:\n",
    "            intervals[i][1] = max(intervals[i][1], intervals[i + 1][1])\n",
    "            intervals.pop(i + 1)\n",
    "        else:\n",
    "            i += 1\n",
    "    return intervals"
   ]
  },
  {
   "cell_type": "code",
   "execution_count": 104,
   "id": "dd41b3d8",
   "metadata": {},
   "outputs": [
    {
     "name": "stdout",
     "output_type": "stream",
     "text": [
      "[[1, 12], [12, 26]]\n",
      "[[1, 10]]\n"
     ]
    }
   ],
   "source": [
    "intervals = [[1, 3], [2, 6], [8, 10], [15, 18], [12, 26], [3, 12]]\n",
    "print(merge_intervals(intervals))\n",
    "\n",
    "intervals = [[1, 4], [4, 5], [3,6], [1, 10]]\n",
    "print(merge_intervals(intervals))"
   ]
  },
  {
   "cell_type": "markdown",
   "id": "a9d9e578",
   "metadata": {},
   "source": [
    "# THE END"
   ]
  }
 ],
 "metadata": {
  "kernelspec": {
   "display_name": ".venv",
   "language": "python",
   "name": "python3"
  },
  "language_info": {
   "codemirror_mode": {
    "name": "ipython",
    "version": 3
   },
   "file_extension": ".py",
   "mimetype": "text/x-python",
   "name": "python",
   "nbconvert_exporter": "python",
   "pygments_lexer": "ipython3",
   "version": "3.12.11"
  }
 },
 "nbformat": 4,
 "nbformat_minor": 5
}
