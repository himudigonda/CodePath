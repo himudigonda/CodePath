{
 "cells": [
  {
   "cell_type": "markdown",
   "id": "8a32653f",
   "metadata": {},
   "source": [
    "## Problem 1: Cook Off"
   ]
  },
  {
   "cell_type": "code",
   "execution_count": 1,
   "id": "699c5a9b",
   "metadata": {},
   "outputs": [],
   "source": [
    "from collections import Counter\n",
    "def max_attempts(ingredients, target_meal):\n",
    "    counter_ingredients = Counter(ingredients)\n",
    "    counter_target_meal = Counter(target_meal)\n",
    "\n",
    "    max_copies = float(\n",
    "        \"inf\"\n",
    "    )\n",
    "\n",
    "    for ingr in counter_target_meal.keys():\n",
    "        target = 0\n",
    "        if ingr not in counter_ingredients.keys():\n",
    "            return 0\n",
    "\n",
    "        target = counter_ingredients[ingr] // counter_target_meal[ingr]\n",
    "        max_copies = min(max_copies, target)\n",
    "    return max_copies"
   ]
  },
  {
   "cell_type": "code",
   "execution_count": 2,
   "id": "b91eecc4",
   "metadata": {},
   "outputs": [
    {
     "name": "stdout",
     "output_type": "stream",
     "text": [
      "2\n",
      "3\n",
      "1\n"
     ]
    }
   ],
   "source": [
    "ingredients1 = \"aabbbcccc\"\n",
    "target_meal1 = \"abc\"\n",
    "print(max_attempts(ingredients1, target_meal1))\n",
    "\n",
    "ingredients2 = \"ppppqqqrrr\"\n",
    "target_meal2 = \"pqr\"\n",
    "print(max_attempts(ingredients2, target_meal2))\n",
    "\n",
    "ingredients3 = \"ingredientsforcooking\"\n",
    "target_meal3 = \"cooking\"\n",
    "print(max_attempts(ingredients3, target_meal3))"
   ]
  },
  {
   "cell_type": "markdown",
   "id": "3f9dbed3",
   "metadata": {},
   "source": [
    "## Problem 2: Dialogue Similarity"
   ]
  },
  {
   "cell_type": "code",
   "execution_count": 4,
   "id": "57ce8aa8",
   "metadata": {},
   "outputs": [],
   "source": [
    "def is_similar(sentence1, sentence2, similar_pairs):\n",
    "    if len(sentence1) != len(sentence2):\n",
    "        return False\n",
    "    \n",
    "    for i in range(len(sentence1)):\n",
    "        if sentence1[i] == sentence2[i]:\n",
    "            continue\n",
    "        else:\n",
    "            if [sentence1[i], sentence2[i]] in similar_pairs:\n",
    "                continue\n",
    "            else:\n",
    "                return False\n",
    "    return True\n"
   ]
  },
  {
   "cell_type": "code",
   "execution_count": 5,
   "id": "de1f6eb3",
   "metadata": {},
   "outputs": [
    {
     "name": "stdout",
     "output_type": "stream",
     "text": [
      "True\n",
      "False\n"
     ]
    }
   ],
   "source": [
    "sentence1 = [\"my\", \"type\", \"on\", \"paper\"]\n",
    "sentence2 = [\"my\", \"type\", \"in\", \"theory\"]\n",
    "similar_pairs = [[\"on\", \"in\"], [\"paper\", \"theory\"]]\n",
    "\n",
    "sentence3 = [\"no\", \"tea\", \"no\", \"shade\"]\n",
    "sentence4 = [\"no\", \"offense\"]\n",
    "similar_pairs2 = [[\"shade\", \"offense\"]]\n",
    "\n",
    "print(is_similar(sentence1, sentence2, similar_pairs))\n",
    "print(is_similar(sentence3, sentence4, similar_pairs2))"
   ]
  },
  {
   "cell_type": "markdown",
   "id": "9cd6ba7c",
   "metadata": {},
   "source": [
    "## Problem 3: Cows and Bulls"
   ]
  },
  {
   "cell_type": "code",
   "execution_count": 12,
   "id": "478dcf81",
   "metadata": {},
   "outputs": [],
   "source": [
    "def get_hint(secret, guess):\n",
    "    cows = 0\n",
    "    bulls = 0\n",
    "    for idx in range(len(secret)):\n",
    "        if secret[idx] == guess[idx]:\n",
    "            bulls += 1\n",
    "        elif secret[idx] != guess[idx]:\n",
    "            if secret[idx] not in guess:\n",
    "                continue\n",
    "            else:\n",
    "                cows += 1\n",
    "    return f\"{bulls}A{cows}B\""
   ]
  },
  {
   "cell_type": "code",
   "execution_count": 13,
   "id": "72f3a933",
   "metadata": {},
   "outputs": [
    {
     "name": "stdout",
     "output_type": "stream",
     "text": [
      "1A3B\n",
      "1A1B\n"
     ]
    }
   ],
   "source": [
    "secret1 = \"1807\"\n",
    "guess1 = \"7810\"\n",
    "\n",
    "secret2 = \"1123\"\n",
    "guess2 = \"0111\"\n",
    "\n",
    "print(get_hint(secret1, guess1))\n",
    "print(get_hint(secret2, guess2))"
   ]
  },
  {
   "cell_type": "markdown",
   "id": "0b1cef55",
   "metadata": {},
   "source": [
    "## Problem 4"
   ]
  },
  {
   "cell_type": "code",
   "execution_count": 2,
   "id": "12cd459e",
   "metadata": {},
   "outputs": [],
   "source": [
    "def count_winning_pairings(star_power):\n",
    "    # Helper function with bit masking\n",
    "    def is_p_2(n):\n",
    "        return n > 0 and (n & (n - 1) == 0)\n",
    "\n",
    "    res = 0\n",
    "    for i in range(len(star_power)):\n",
    "        for j in range(i + 1, len(star_power)):\n",
    "            summ = star_power[i] + star_power[j]\n",
    "            # print(summ, end=\" \")\n",
    "            if is_p_2(summ):\n",
    "                res += 1\n",
    "                # print(\"it is\")\n",
    "    return res"
   ]
  },
  {
   "cell_type": "code",
   "execution_count": 3,
   "id": "791134f3",
   "metadata": {},
   "outputs": [
    {
     "name": "stdout",
     "output_type": "stream",
     "text": [
      "4\n",
      "15\n"
     ]
    }
   ],
   "source": [
    "star_power1 = [1, 3, 5, 7, 9]\n",
    "print(count_winning_pairings(star_power1))\n",
    "\n",
    "star_power2 = [1, 1, 1, 3, 3, 3, 7]\n",
    "print(count_winning_pairings(star_power2))"
   ]
  },
  {
   "cell_type": "markdown",
   "id": "8d3d6125",
   "metadata": {},
   "source": [
    "## Problem 5: Assigning Unique Nicknames to Contestants"
   ]
  },
  {
   "cell_type": "code",
   "execution_count": 7,
   "id": "a32b2d92",
   "metadata": {},
   "outputs": [],
   "source": [
    "def assign_unique_nicknames(nicknames):\n",
    "    counts = {}\n",
    "    res = []\n",
    "    for name in nicknames:\n",
    "        if name in counts:\n",
    "            counts[name] += 1\n",
    "            res.append(name+\"(\"+str(counts[name]-1)+\")\")\n",
    "        else:\n",
    "            counts[name] = 1\n",
    "            res.append(name)\n",
    "    return res"
   ]
  },
  {
   "cell_type": "code",
   "execution_count": 8,
   "id": "89970a49",
   "metadata": {},
   "outputs": [
    {
     "name": "stdout",
     "output_type": "stream",
     "text": [
      "['Champ', 'Diva', 'Champ(1)', 'Ace']\n",
      "['Ace', 'Ace(1)', 'Ace(2)', 'Maverick']\n",
      "['Star', 'Star(1)', 'Star(2)', 'Star(3)', 'Star(4)']\n"
     ]
    }
   ],
   "source": [
    "nicknames1 = [\"Champ\", \"Diva\", \"Champ\", \"Ace\"]\n",
    "print(assign_unique_nicknames(nicknames1))\n",
    "\n",
    "nicknames2 = [\"Ace\", \"Ace\", \"Ace\", \"Maverick\"]\n",
    "print(assign_unique_nicknames(nicknames2))\n",
    "\n",
    "nicknames3 = [\"Star\", \"Star\", \"Star\", \"Star\", \"Star\"]\n",
    "print(assign_unique_nicknames(nicknames3))"
   ]
  },
  {
   "cell_type": "markdown",
   "id": "74fb4ce5",
   "metadata": {},
   "source": [
    "## Problem 6: Pair Contestants\n"
   ]
  },
  {
   "cell_type": "code",
   "execution_count": 97,
   "id": "4dccf6b7",
   "metadata": {},
   "outputs": [],
   "source": [
    "def pair_contestants(scores, k):\n",
    "    used = [False] * len(scores)\n",
    "    for i in range(len(scores)):\n",
    "        if used[i]: continue\n",
    "        is_paired = False\n",
    "        for j in range(i + 1, len(scores)):\n",
    "            if not used[j] and (scores[i] + scores[j]) % k == 0:\n",
    "                used[i] = True\n",
    "                used[j] = True\n",
    "                is_paired = True\n",
    "                break\n",
    "        if not is_paired: return False\n",
    "    return True"
   ]
  },
  {
   "cell_type": "code",
   "execution_count": 93,
   "id": "745aeaa7",
   "metadata": {},
   "outputs": [],
   "source": [
    "def pair_contestants(scores, k):\n",
    "    remainder_count = {}\n",
    "\n",
    "    for score in scores:\n",
    "        remainder = score % k\n",
    "        if remainder in remainder_count:\n",
    "            remainder_count[remainder] += 1\n",
    "        else:\n",
    "            remainder_count[remainder] = 1\n",
    "\n",
    "    if remainder_count.get(0, 0) % 2 != 0:\n",
    "        return False\n",
    "\n",
    "    if k % 2 == 0 and remainder_count.get(k//2, 0) % 2 != 0:\n",
    "        return False\n",
    "\n",
    "    for r in range(1, (k//2) + 1):\n",
    "        if remainder_count.get(r, 0) != remainder_count.get(k - r, 0):\n",
    "            return False\n",
    "\n",
    "    return True"
   ]
  },
  {
   "cell_type": "code",
   "execution_count": 98,
   "id": "9b28340e",
   "metadata": {},
   "outputs": [
    {
     "name": "stdout",
     "output_type": "stream",
     "text": [
      "True\n",
      "True\n",
      "False\n",
      "False\n",
      "False\n"
     ]
    }
   ],
   "source": [
    "scores1 = [1, 2, 3, 4, 5, 10, 6, 7, 8, 9]\n",
    "k1 = 5\n",
    "print(pair_contestants(scores1, k1))\n",
    "\n",
    "scores2 = [1, 2, 3, 4, 5, 6]\n",
    "k2 = 7\n",
    "print(pair_contestants(scores2, k2))\n",
    "\n",
    "scores3 = [1, 2, 3, 4, 5, 6]\n",
    "k3 = 10\n",
    "print(pair_contestants(scores3, k3))\n",
    "\n",
    "scores3 = [0, 1, 2, 3, 4, 5, 6]\n",
    "k3 = 6\n",
    "print(pair_contestants(scores3, k3))\n",
    "\n",
    "scores3 = [3, 3, 1, 6]\n",
    "k3 = 7\n",
    "print(pair_contestants(scores3, k3))"
   ]
  },
  {
   "cell_type": "markdown",
   "id": "68065e98",
   "metadata": {},
   "source": [
    "# THE END"
   ]
  }
 ],
 "metadata": {
  "kernelspec": {
   "display_name": ".venv",
   "language": "python",
   "name": "python3"
  },
  "language_info": {
   "codemirror_mode": {
    "name": "ipython",
    "version": 3
   },
   "file_extension": ".py",
   "mimetype": "text/x-python",
   "name": "python",
   "nbconvert_exporter": "python",
   "pygments_lexer": "ipython3",
   "version": "3.12.11"
  }
 },
 "nbformat": 4,
 "nbformat_minor": 5
}
