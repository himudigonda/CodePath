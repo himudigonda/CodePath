{
 "cells": [
  {
   "cell_type": "markdown",
   "id": "4821fd0d",
   "metadata": {},
   "source": [
    "## Problem 1: Filter Destinations\n"
   ]
  },
  {
   "cell_type": "code",
   "execution_count": 5,
   "id": "bb03dccf",
   "metadata": {},
   "outputs": [],
   "source": [
    "def remove_low_rated_destinations(destinations, rating_threshold):\n",
    "    ret = {}\n",
    "    for dest, rating in destinations.items():\n",
    "        if rating >= rating_threshold:\n",
    "            ret[dest] = rating\n",
    "    return ret"
   ]
  },
  {
   "cell_type": "code",
   "execution_count": 7,
   "id": "0d91bbe0",
   "metadata": {},
   "outputs": [
    {
     "name": "stdout",
     "output_type": "stream",
     "text": [
      "{'Paris': 4.8, 'Addis Ababa': 4.9}\n",
      "{}\n"
     ]
    }
   ],
   "source": [
    "destinations = {\"Paris\": 4.8, \"Berlin\": 3.5, \"Addis Ababa\": 4.9, \"Moscow\": 2.8}\n",
    "destinations2 = {\"Bogotá\": 4.8, \"Kansas City\": 3.9, \"Tokyo\": 4.5, \"Sydney\": 3.0}\n",
    "\n",
    "print(remove_low_rated_destinations(destinations, 4.0))\n",
    "print(remove_low_rated_destinations(destinations2, 4.9))"
   ]
  },
  {
   "cell_type": "markdown",
   "id": "2b9cb9c8",
   "metadata": {},
   "source": [
    "## Problem 2: Unique Travel Souvenirs"
   ]
  },
  {
   "cell_type": "code",
   "execution_count": 19,
   "id": "7f7bfed8",
   "metadata": {},
   "outputs": [],
   "source": [
    "def unique_souvenir_counts(souvenirs):\n",
    "    return len(set(souvenirs)) != len(souvenirs)"
   ]
  },
  {
   "cell_type": "code",
   "execution_count": 16,
   "id": "73fcf3e1",
   "metadata": {},
   "outputs": [],
   "source": [
    "from collections import Counter\n",
    "def unique_souvenir_counts(souvenirs):\n",
    "    counts = Counter(souvenirs)\n",
    "    return len(counts) != sum(counts.values())"
   ]
  },
  {
   "cell_type": "code",
   "execution_count": 20,
   "id": "95a292df",
   "metadata": {},
   "outputs": [
    {
     "name": "stdout",
     "output_type": "stream",
     "text": [
      "True\n",
      "True\n",
      "False\n"
     ]
    }
   ],
   "source": [
    "souvenirs1 = [\"keychain\", \"hat\", \"hat\", \"keychain\", \"keychain\", \"postcard\"]\n",
    "souvenirs2 = [\"postcard\", \"postcard\", \"postcard\", \"postcard\"]\n",
    "souvenirs3 = [\"keychain\", \"magnet\", \"hat\", \"candy\", \"postcard\", \"stuffed bear\"]\n",
    "\n",
    "print(unique_souvenir_counts(souvenirs1))\n",
    "print(unique_souvenir_counts(souvenirs2))\n",
    "print(unique_souvenir_counts(souvenirs3))"
   ]
  },
  {
   "cell_type": "markdown",
   "id": "a20ae73b",
   "metadata": {},
   "source": [
    "## Problem 3: Secret Beach\n"
   ]
  },
  {
   "cell_type": "code",
   "execution_count": 124,
   "id": "2fef6ad0",
   "metadata": {},
   "outputs": [],
   "source": [
    "from collections import defaultdict\n",
    "def decode_message(key, message):\n",
    "    atoz = list('abcdefghijklmnopqrstuvwxyz')\n",
    "    keys_letters = []\n",
    "    for i in key:\n",
    "        if i == ' ':\n",
    "            continue\n",
    "        if i not in keys_letters:\n",
    "            keys_letters.append(i)\n",
    "\n",
    "    mapping = defaultdict(str)\n",
    "    for a, z in zip(keys_letters, atoz):\n",
    "        mapping[a] = z\n",
    "    res = []\n",
    "    for a in message:\n",
    "        if a == ' ':\n",
    "            res.append(' ')\n",
    "        else:\n",
    "            res.append(mapping[a])\n",
    "    return ''.join(res)"
   ]
  },
  {
   "cell_type": "code",
   "execution_count": 125,
   "id": "b40ba6aa",
   "metadata": {},
   "outputs": [
    {
     "name": "stdout",
     "output_type": "stream",
     "text": [
      "this is a secret\n"
     ]
    }
   ],
   "source": [
    "key1 = \"the quick brown fox jumps over the lazy dog\"\n",
    "message1 = \"vkbs bs t suepuv\"\n",
    "\n",
    "print(decode_message(key1, message1))"
   ]
  },
  {
   "cell_type": "markdown",
   "id": "49ebade2",
   "metadata": {},
   "source": [
    "## Problem 4: Longest Harmonious Travel Sequence\n"
   ]
  },
  {
   "cell_type": "code",
   "execution_count": 134,
   "id": "4c9a8ee3",
   "metadata": {},
   "outputs": [],
   "source": [
    "def find_longest_harmonious_travel_sequence(ratings):\n",
    "    # Initialize a dictionary to store the frequency of each rating\n",
    "    frequency = {}\n",
    "\n",
    "    # Count the occurrences of each rating\n",
    "    for rating in ratings:\n",
    "        if rating in frequency:\n",
    "            frequency[rating] += 1\n",
    "        else:\n",
    "            frequency[rating] = 1\n",
    "    max_length = 0\n",
    "\n",
    "    # Find the longest harmonious sequence\n",
    "    for rating in frequency:\n",
    "        if rating + 1 in frequency:\n",
    "            max_length = max(\n",
    "                max_length,\n",
    "                frequency[rating] + frequency[rating + 1],\n",
    "            )\n",
    "    return max_length"
   ]
  },
  {
   "cell_type": "code",
   "execution_count": 135,
   "id": "40cc430b",
   "metadata": {},
   "outputs": [
    {
     "name": "stdout",
     "output_type": "stream",
     "text": [
      "5\n",
      "2\n",
      "0\n"
     ]
    }
   ],
   "source": [
    "ratings1 = [1, 3, 2, 2, 5, 2, 3, 7]\n",
    "ratings2 = [1, 2, 3, 4]\n",
    "ratings3 = [1, 1, 1, 1]\n",
    "\n",
    "print(find_longest_harmonious_travel_sequence(ratings1))  # 5\n",
    "print(find_longest_harmonious_travel_sequence(ratings2))  # 2\n",
    "print(find_longest_harmonious_travel_sequence(ratings3))  # 0"
   ]
  },
  {
   "cell_type": "markdown",
   "id": "4a4892e9",
   "metadata": {},
   "source": [
    "## Problem 5: Check if All Destinations in a Route are Covered\n"
   ]
  },
  {
   "cell_type": "code",
   "execution_count": 168,
   "id": "365caacb",
   "metadata": {},
   "outputs": [],
   "source": [
    "def is_route_covered(trips, start_dest, end_dest):\n",
    "    trips.sort(key = lambda x:x[0])\n",
    "    \n",
    "    merged = []\n",
    "    for trip in trips:\n",
    "        if not merged or merged[-1][1] < trip[0] - 1:\n",
    "            merged.append(trip)\n",
    "        else:\n",
    "            merged[-1][1] = max(merged[-1][1], trip[1])\n",
    "    \n",
    "\n",
    "    covered = start_dest\n",
    "    # for start, end in merged:\n",
    "    #     if start <= start_dest <= end:\n",
    "    #         cur_end = end\n",
    "    #         for s, e in merged:\n",
    "    #             if s <= cur_end + 1 <= e:\n",
    "    #                 cur_end = max(cur_end, e)\n",
    "    #             if cur_end >= end_dest:\n",
    "    #                 return True\n",
    "    #         return False\n",
    "    #     return False\n",
    "\n",
    "    # for s, e in merged:\n",
    "    #     if s <= covered <= e:\n",
    "    #         covered = e + 1\n",
    "    #     if covered > end_dest:\n",
    "    #         return True\n",
    "    # return False\n",
    "        \n",
    "    for s, e in merged:\n",
    "        if s <= start_dest and end_dest<= e: return True\n",
    "    return False"
   ]
  },
  {
   "cell_type": "code",
   "execution_count": 169,
   "id": "9294dcee",
   "metadata": {},
   "outputs": [
    {
     "name": "stdout",
     "output_type": "stream",
     "text": [
      "True\n",
      "False\n",
      "True\n"
     ]
    }
   ],
   "source": [
    "trips1 = [[1, 2], [3, 4], [5, 6]]\n",
    "start_dest1, end_dest1 = 2, 5\n",
    "\n",
    "trips2 = [[1, 10], [10, 20]]\n",
    "start_dest2, end_dest2 = 21, 21\n",
    "\n",
    "trips3 = [[1, 2], [3, 5]]\n",
    "start_dest3, end_dest3 = 2, 5\n",
    "\n",
    "print(is_route_covered(trips1, start_dest1, end_dest1))\n",
    "print(is_route_covered(trips2, start_dest2, end_dest2))\n",
    "print(is_route_covered(trips3, start_dest3, end_dest3))"
   ]
  },
  {
   "cell_type": "markdown",
   "id": "163eeb71",
   "metadata": {},
   "source": [
    "## Problem 6: Most Popular Even Destination\n"
   ]
  },
  {
   "cell_type": "code",
   "execution_count": 245,
   "id": "4664c010",
   "metadata": {},
   "outputs": [],
   "source": [
    "def most_popular_even_destination(destinations):\n",
    "    counts = defaultdict(int)\n",
    "    for i in destinations:\n",
    "        if i % 2 == 0:\n",
    "            counts[i] += 1\n",
    "    if not counts: return -1\n",
    "    counts = dict(counts)\n",
    "    counts = sorted(counts.items(), key=lambda x:x[0])\n",
    "    counts = sorted(counts, key=lambda x:-x[1])\n",
    "    return counts[0][0]"
   ]
  },
  {
   "cell_type": "code",
   "execution_count": 246,
   "id": "788a7506",
   "metadata": {},
   "outputs": [
    {
     "name": "stdout",
     "output_type": "stream",
     "text": [
      "2\n",
      "4\n",
      "-1\n"
     ]
    }
   ],
   "source": [
    "destinations1 = [0, 1, 2, 2, 4, 4, 1]\n",
    "destinations2 = [4, 4, 4, 9, 2, 4]\n",
    "destinations3 = [29, 47, 21, 41, 13, 37, 25, 7]\n",
    "\n",
    "print(most_popular_even_destination(destinations1))\n",
    "print(most_popular_even_destination(destinations2))\n",
    "print(most_popular_even_destination(destinations3))"
   ]
  },
  {
   "cell_type": "markdown",
   "id": "3665d857",
   "metadata": {},
   "source": [
    "## Problem 7: Check if Itinerary is Valid\n"
   ]
  },
  {
   "cell_type": "code",
   "execution_count": null,
   "id": "328da475",
   "metadata": {},
   "outputs": [],
   "source": [
    "def is_valid_itinerary(itinerary):\n",
    "    if not itinerary:\n",
    "        return False\n",
    "    maxx = max(itinerary)\n",
    "    base = [i for i in range(1, maxx + 1)] + [maxx]\n",
    "    return base == sorted(itinerary)"
   ]
  },
  {
   "cell_type": "code",
   "execution_count": 266,
   "id": "d4961db9",
   "metadata": {},
   "outputs": [
    {
     "name": "stdout",
     "output_type": "stream",
     "text": [
      "False\n",
      "True\n",
      "True\n"
     ]
    }
   ],
   "source": [
    "itinerary1 = [2, 1, 3]\n",
    "itinerary2 = [1, 3, 3, 2]\n",
    "itinerary3 = [1, 1]\n",
    "\n",
    "print(is_valid_itinerary(itinerary1))\n",
    "print(is_valid_itinerary(itinerary2))\n",
    "print(is_valid_itinerary(itinerary3))"
   ]
  },
  {
   "cell_type": "markdown",
   "id": "1c2690d8",
   "metadata": {},
   "source": [
    "## Problem 8: Finding Common Tourist Attractions with Least Travel Time"
   ]
  },
  {
   "cell_type": "code",
   "execution_count": 281,
   "id": "edfa9b1b",
   "metadata": {},
   "outputs": [],
   "source": [
    "def find_attractions(tourist_list1, tourist_list2):\n",
    "    mapping1 = defaultdict(int)\n",
    "    mapping2 = defaultdict(int)\n",
    "\n",
    "    for idx, val in enumerate(tourist_list1):\n",
    "        mapping1[val] = idx\n",
    "\n",
    "    for idx, val in enumerate(tourist_list2):\n",
    "        mapping2[val] = idx\n",
    "\n",
    "    common = list(set(tourist_list1) & set(tourist_list2))\n",
    "\n",
    "    low_num = float('inf')\n",
    "    low_name = []\n",
    "    for i in common:\n",
    "        idx1 = mapping1[i]\n",
    "        idx2 = mapping2[i]\n",
    "        if low_num > idx1 + idx2:\n",
    "            low_name = [i]\n",
    "            low_num = idx1 + idx2\n",
    "        elif low_num == idx1 + idx2:\n",
    "            low_name.append(i)\n",
    "    return low_name"
   ]
  },
  {
   "cell_type": "code",
   "execution_count": 303,
   "id": "529a45c6",
   "metadata": {},
   "outputs": [],
   "source": [
    "def find_attractions(tourist_list1, tourist_list2):\n",
    "    tourist_set2 = set(tourist_list2)\n",
    "    mapping = {val: idx for idx, val in enumerate(tourist_list1) if val in tourist_set2}\n",
    "\n",
    "    low_num = float('inf')\n",
    "    low_name = []\n",
    "\n",
    "    for i, val in enumerate(tourist_list2):\n",
    "        if val in mapping:\n",
    "            total = mapping[val] + i\n",
    "            if total < low_num:\n",
    "                low_name = [val]\n",
    "                low_num = total\n",
    "            elif total == low_num:\n",
    "                low_name.append(val)\n",
    "    return low_name"
   ]
  },
  {
   "cell_type": "code",
   "execution_count": 304,
   "id": "42494aef",
   "metadata": {},
   "outputs": [
    {
     "name": "stdout",
     "output_type": "stream",
     "text": [
      "['Eiffel Tower']\n",
      "['Eiffel Tower']\n",
      "['mountain', 'beach']\n"
     ]
    }
   ],
   "source": [
    "tourist_list1 = [\"Eiffel Tower\", \"Louvre Museum\", \"Notre-Dame\", \"Disneyland\"]\n",
    "tourist_list2 = [\"Colosseum\", \"Trevi Fountain\", \"Pantheon\", \"Eiffel Tower\"]\n",
    "\n",
    "print(find_attractions(tourist_list1, tourist_list2))\n",
    "\n",
    "tourist_list1 = [\"Eiffel Tower\", \"Louvre Museum\", \"Notre-Dame\", \"Disneyland\"]\n",
    "tourist_list2 = [\"Disneyland\", \"Eiffel Tower\", \"Notre-Dame\"]\n",
    "\n",
    "print(find_attractions(tourist_list1, tourist_list2))\n",
    "\n",
    "tourist_list1 = [\"beach\", \"mountain\", \"forest\"]\n",
    "tourist_list2 = [\"mountain\", \"beach\", \"forest\"]\n",
    "\n",
    "print(find_attractions(tourist_list1, tourist_list2))"
   ]
  },
  {
   "cell_type": "markdown",
   "id": "50004db3",
   "metadata": {},
   "source": [
    "\n",
    "## THE END"
   ]
  }
 ],
 "metadata": {
  "kernelspec": {
   "display_name": "codepath",
   "language": "python",
   "name": "python3"
  },
  "language_info": {
   "codemirror_mode": {
    "name": "ipython",
    "version": 3
   },
   "file_extension": ".py",
   "mimetype": "text/x-python",
   "name": "python",
   "nbconvert_exporter": "python",
   "pygments_lexer": "ipython3",
   "version": "3.12.11"
  }
 },
 "nbformat": 4,
 "nbformat_minor": 5
}
