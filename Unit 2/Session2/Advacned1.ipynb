{
 "cells": [
  {
   "cell_type": "markdown",
   "id": "c001da15",
   "metadata": {},
   "source": [
    "## Problem 1: Balanced Art Collection"
   ]
  },
  {
   "cell_type": "code",
   "execution_count": 3,
   "id": "494125ff",
   "metadata": {},
   "outputs": [],
   "source": [
    "from collections import Counter\n",
    "def find_balanced_subsequence(art_pieces):\n",
    "    counts = Counter(art_pieces)\n",
    "\n",
    "    max_len = 0\n",
    "    for val in counts:\n",
    "        if val + 1 in counts:\n",
    "            max_len = max(max_len, counts[val] + counts[val + 1])\n",
    "    return max_len"
   ]
  },
  {
   "cell_type": "code",
   "execution_count": 4,
   "id": "6b7382a5",
   "metadata": {},
   "outputs": [
    {
     "name": "stdout",
     "output_type": "stream",
     "text": [
      "5\n",
      "2\n",
      "0\n"
     ]
    }
   ],
   "source": [
    "art_pieces1 = [1, 3, 2, 2, 5, 2, 3, 7]\n",
    "art_pieces2 = [1, 2, 3, 4]\n",
    "art_pieces3 = [1, 1, 1, 1]\n",
    "\n",
    "print(find_balanced_subsequence(art_pieces1))\n",
    "print(find_balanced_subsequence(art_pieces2))\n",
    "print(find_balanced_subsequence(art_pieces3))"
   ]
  },
  {
   "cell_type": "markdown",
   "id": "71ba9944",
   "metadata": {},
   "source": [
    "## Problem 2: Verifying Authenticity\n"
   ]
  },
  {
   "cell_type": "code",
   "execution_count": 5,
   "id": "794292ce",
   "metadata": {},
   "outputs": [],
   "source": [
    "def is_authentic_collection(art_pieces):\n",
    "    if len(art_pieces) == 0: return False\n",
    "    n = max(art_pieces)\n",
    "    base = [i for i in range(1, n + 1)] + [n]\n",
    "    count_a = Counter(art_pieces)\n",
    "    count_b = Counter(base)\n",
    "    return count_a == count_b\n"
   ]
  },
  {
   "cell_type": "code",
   "execution_count": 6,
   "id": "a10cc689",
   "metadata": {},
   "outputs": [],
   "source": [
    "def is_authentic_collection(art_pieces):\n",
    "    if not art_pieces:\n",
    "        return False\n",
    "\n",
    "    n = max(art_pieces)\n",
    "    if len(art_pieces) != n + 1: return False\n",
    "\n",
    "    counts = Counter(art_pieces)\n",
    "    for i in range(1, n):\n",
    "        if counts[i] != 1: return False\n",
    "    if counts[n] != 2: return False\n",
    "    if len(counts) != n: return False\n",
    "    return True\n"
   ]
  },
  {
   "cell_type": "code",
   "execution_count": 7,
   "id": "fbff9dd8",
   "metadata": {},
   "outputs": [
    {
     "name": "stdout",
     "output_type": "stream",
     "text": [
      "False\n",
      "True\n",
      "True\n",
      "False\n"
     ]
    }
   ],
   "source": [
    "collection1 = [2, 1, 3]\n",
    "collection2 = [1, 3, 3, 2]\n",
    "collection3 = [1, 1]\n",
    "collection4 = []\n",
    "\n",
    "print(is_authentic_collection(collection1))\n",
    "print(is_authentic_collection(collection2))\n",
    "print(is_authentic_collection(collection3))\n",
    "print(is_authentic_collection(collection4))"
   ]
  },
  {
   "cell_type": "markdown",
   "id": "dae215fe",
   "metadata": {},
   "source": [
    "## Problem 3: Gallery Wall"
   ]
  },
  {
   "cell_type": "code",
   "execution_count": 24,
   "id": "5e487048",
   "metadata": {},
   "outputs": [],
   "source": [
    "def organize_exhibition(collection):\n",
    "    count = Counter(collection)\n",
    "    output = []\n",
    "\n",
    "    while count:\n",
    "        currow = []\n",
    "        for artist in list(count.keys()):\n",
    "            currow.append(artist)\n",
    "            count[artist] -= 1\n",
    "            if count[artist] <= 0: del count[artist]\n",
    "        output.append(currow)\n",
    "    return output\n"
   ]
  },
  {
   "cell_type": "code",
   "execution_count": 25,
   "id": "d2462493",
   "metadata": {},
   "outputs": [
    {
     "name": "stdout",
     "output_type": "stream",
     "text": [
      "[[\"O'Keefe\", 'Kahlo', 'Picasso', 'Warhol'], [\"O'Keefe\", 'Kahlo'], [\"O'Keefe\"]]\n",
      "[['Kusama', 'Monet', 'Ofili', 'Banksy']]\n"
     ]
    }
   ],
   "source": [
    "collection1 = [\"O'Keefe\", \"Kahlo\", \"Picasso\", \"O'Keefe\", \"Warhol\", \"Kahlo\", \"O'Keefe\"]\n",
    "collection2 = [\"Kusama\", \"Monet\", \"Ofili\", \"Banksy\"]\n",
    "\n",
    "print(organize_exhibition(collection1))\n",
    "print(organize_exhibition(collection2))"
   ]
  },
  {
   "cell_type": "markdown",
   "id": "e92ef665",
   "metadata": {},
   "source": [
    "## Problem 4: Gallery Subdomain Traffic\n"
   ]
  },
  {
   "cell_type": "code",
   "execution_count": null,
   "id": "2ea35e57",
   "metadata": {},
   "outputs": [],
   "source": [
    "from collections import defaultdict\n",
    "\n",
    "def subdomain_visits(cpdomains):\n",
    "    output = []\n",
    "    counts = defaultdict(int)\n",
    "    for domain in cpdomains:\n",
    "        visits, visit_domain = domain.split(\" \")\n",
    "        domains = visit_domain.split(\".\")\n",
    "        suffix_domain = [domains[len(domains) - 1]]\n",
    "        for i in range(len(domains) - 2, -1, -1):\n",
    "            suffix_domain.append(domains[i] + '.' + suffix_domain[-1])\n",
    "        for i in suffix_domain:\n",
    "            counts[i] += int(visits)\n",
    "    for domain, visit in counts.items():\n",
    "        output.append(str(visit) + \" \" + domain)\n",
    "    return output"
   ]
  },
  {
   "cell_type": "code",
   "execution_count": 82,
   "id": "08543db1",
   "metadata": {},
   "outputs": [],
   "source": [
    "from collections import defaultdict\n",
    "\n",
    "\n",
    "def subdomain_visits(cpdomains):\n",
    "    counts = defaultdict(int)\n",
    "    for domain in cpdomains:\n",
    "        visits, full_domain = domain.split()\n",
    "        visits = int(visits)\n",
    "        parts = full_domain.split(\".\")\n",
    "        for i in range(len(parts)):\n",
    "            sub = \".\".join(parts[i:])\n",
    "            counts[sub] += visits\n",
    "    return [f\"{v} {d}\" for d, v in counts.items()]"
   ]
  },
  {
   "cell_type": "code",
   "execution_count": 83,
   "id": "49eb44a1",
   "metadata": {},
   "outputs": [
    {
     "name": "stdout",
     "output_type": "stream",
     "text": [
      "['9001 modern.artmuseum.com', '9001 artmuseum.com', '9001 com']\n",
      "['900 abstract.gallery.com', '901 gallery.com', '951 com', '50 impressionism.com', '1 contemporary.gallery.com', '5 medieval.org', '5 org']\n"
     ]
    }
   ],
   "source": [
    "cpdomains1 = [\"9001 modern.artmuseum.com\"]\n",
    "cpdomains2 = [\n",
    "    \"900 abstract.gallery.com\",\n",
    "    \"50 impressionism.com\",\n",
    "    \"1 contemporary.gallery.com\",\n",
    "    \"5 medieval.org\",\n",
    "]\n",
    "\n",
    "print(subdomain_visits(cpdomains1))\n",
    "print(subdomain_visits(cpdomains2))"
   ]
  },
  {
   "cell_type": "markdown",
   "id": "161eb160",
   "metadata": {},
   "source": [
    "## Problem 5: Beautiful Collection\n"
   ]
  },
  {
   "cell_type": "code",
   "execution_count": 15,
   "id": "55d45dc4",
   "metadata": {},
   "outputs": [],
   "source": [
    "from collections import Counter\n",
    "def beauty_sum(collection):\n",
    "    # output = 0\n",
    "    # left = 0\n",
    "    # right = 1\n",
    "    # while right < len(collection):\n",
    "    #     count = Counter(collection[left: right])\n",
    "    #     if len(count) == 1:\n",
    "    #         right += 1\n",
    "    #         continue\n",
    "    #     else:\n",
    "    #         counts = count.most_common()\n",
    "    #         output += counts[0][1] - counts[-1][1]\n",
    "    #         right += 1\n",
    "    # while left < len(collection):\n",
    "    #     count = Counter(collection[left:right])\n",
    "    #     if len(count) == 1:\n",
    "    #         left += 1\n",
    "    #         continue\n",
    "    #     else:\n",
    "    #         counts = count.most_common()\n",
    "    #         output += counts[0][1] - counts[-1][1]\n",
    "    #         left += 1\n",
    "    # return output\n",
    "    output = 0\n",
    "    n = len(collection)\n",
    "\n",
    "    for left in range(n):\n",
    "        count = Counter()\n",
    "        for right in range(left, n):\n",
    "            count[collection[right]] += 1\n",
    "            if len(count) > 1:\n",
    "                counts = count.most_common()\n",
    "                output += counts[0][1] - counts[-1][1]\n",
    "    return output"
   ]
  },
  {
   "cell_type": "code",
   "execution_count": 19,
   "id": "32483028",
   "metadata": {},
   "outputs": [],
   "source": [
    "from collections import Counter\n",
    "def beauty_sum(collection):\n",
    "    n = len(collection)\n",
    "    total = 0\n",
    "\n",
    "    for i in range(n):\n",
    "        freq = [0] * 26\n",
    "        for j in range(i, n):\n",
    "            idx = ord(collection[j]) - ord('a')\n",
    "            freq[idx] += 1\n",
    "            max_freq = 0\n",
    "            min_freq = float('inf')\n",
    "            for f in freq:\n",
    "                if f > 0:\n",
    "                    min_freq = min(min_freq, f)\n",
    "                    max_freq = max(max_freq, f)\n",
    "            total += max_freq - min_freq\n",
    "    return total"
   ]
  },
  {
   "cell_type": "code",
   "execution_count": 20,
   "id": "a53d9e27",
   "metadata": {},
   "outputs": [
    {
     "name": "stdout",
     "output_type": "stream",
     "text": [
      "5\n",
      "17\n"
     ]
    }
   ],
   "source": [
    "print(beauty_sum(\"aabcb\"))\n",
    "print(beauty_sum(\"aabcbaa\"))"
   ]
  },
  {
   "cell_type": "markdown",
   "id": "22e8b252",
   "metadata": {},
   "source": [
    "## Problem 6: Counting Divisible Collections in the Gallery"
   ]
  },
  {
   "cell_type": "code",
   "execution_count": 43,
   "id": "c6ba2370",
   "metadata": {},
   "outputs": [],
   "source": [
    "def count_divisible_collections(collection_sizes, k):\n",
    "    count = 0\n",
    "    n = len(collection_sizes)\n",
    "\n",
    "    for i in range(n):\n",
    "        for j in range(i, n + 1):\n",
    "            target = collection_sizes[i:j]\n",
    "            summ = sum(target)\n",
    "            if summ % k == 0 and len(target) > 0:\n",
    "                count += 1\n",
    "    return count"
   ]
  },
  {
   "cell_type": "code",
   "execution_count": 44,
   "id": "fc041532",
   "metadata": {},
   "outputs": [
    {
     "name": "stdout",
     "output_type": "stream",
     "text": [
      "7\n",
      "0\n"
     ]
    }
   ],
   "source": [
    "nums1 = [4, 5, 0, -2, -3, 1]\n",
    "k1 = 5\n",
    "nums2 = [5]\n",
    "k2 = 9\n",
    "\n",
    "print(count_divisible_collections(nums1, k1))\n",
    "print(count_divisible_collections(nums2, k2))"
   ]
  },
  {
   "cell_type": "markdown",
   "id": "243290e4",
   "metadata": {},
   "source": [
    "# THE END"
   ]
  }
 ],
 "metadata": {
  "kernelspec": {
   "display_name": "codepath",
   "language": "python",
   "name": "python3"
  },
  "language_info": {
   "codemirror_mode": {
    "name": "ipython",
    "version": 3
   },
   "file_extension": ".py",
   "mimetype": "text/x-python",
   "name": "python",
   "nbconvert_exporter": "python",
   "pygments_lexer": "ipython3",
   "version": "3.12.11"
  }
 },
 "nbformat": 4,
 "nbformat_minor": 5
}
