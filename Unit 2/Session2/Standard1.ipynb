{
 "cells": [
  {
   "cell_type": "markdown",
   "id": "04f011d7",
   "metadata": {},
   "source": [
    "## Problem 1: Most Endangered Species"
   ]
  },
  {
   "cell_type": "code",
   "execution_count": 4,
   "id": "953895df",
   "metadata": {},
   "outputs": [],
   "source": [
    "def most_endangered(species_list):\n",
    "    least_pop = float(\"inf\")\n",
    "    least_name = \"\"\n",
    "\n",
    "    for i in species_list:\n",
    "        if i['population'] < least_pop:\n",
    "            least_name = i['name']\n",
    "            least_pop = i['population']\n",
    "    return least_name"
   ]
  },
  {
   "cell_type": "code",
   "execution_count": 5,
   "id": "d73d5d39",
   "metadata": {},
   "outputs": [
    {
     "name": "stdout",
     "output_type": "stream",
     "text": [
      "Vaquita\n"
     ]
    }
   ],
   "source": [
    "species_list = [\n",
    "    {\"name\": \"Amur Leopard\",\n",
    "     \"habitat\": \"Temperate forests\",\n",
    "     \"population\": 84\n",
    "    },\n",
    "    {\"name\": \"Javan Rhino\",\n",
    "     \"habitat\": \"Tropical forests\",\n",
    "     \"population\": 72\n",
    "    },\n",
    "    {\"name\": \"Vaquita\",\n",
    "     \"habitat\": \"Marine\",\n",
    "     \"population\": 10\n",
    "    }\n",
    "]\n",
    "\n",
    "print(most_endangered(species_list))\n"
   ]
  },
  {
   "cell_type": "markdown",
   "id": "5adbd696",
   "metadata": {},
   "source": [
    "## Problem 2: Identifying Endangered Species"
   ]
  },
  {
   "cell_type": "code",
   "execution_count": 10,
   "id": "36fb0376",
   "metadata": {},
   "outputs": [],
   "source": [
    "from collections import Counter\n",
    "def count_endangered_species(endangered_species, observed_species):\n",
    "    counts = Counter(observed_species)\n",
    "    num_end = 0\n",
    "    for name, many in counts.items():\n",
    "        if name in list(endangered_species):\n",
    "            num_end += counts[name]\n",
    "    return num_end"
   ]
  },
  {
   "cell_type": "code",
   "execution_count": 11,
   "id": "af2435fc",
   "metadata": {},
   "outputs": [
    {
     "name": "stdout",
     "output_type": "stream",
     "text": [
      "3\n",
      "0\n"
     ]
    }
   ],
   "source": [
    "endangered_species1 = \"aA\"\n",
    "observed_species1 = \"aAAbbbb\"\n",
    "\n",
    "endangered_species2 = \"z\"\n",
    "observed_species2 = \"ZZ\"\n",
    "\n",
    "print(count_endangered_species(endangered_species1, observed_species1))\n",
    "print(count_endangered_species(endangered_species2, observed_species2))"
   ]
  },
  {
   "cell_type": "markdown",
   "id": "7a288de2",
   "metadata": {},
   "source": [
    "## Problem 3: Navigating the Research Station"
   ]
  },
  {
   "cell_type": "code",
   "execution_count": 14,
   "id": "62654b34",
   "metadata": {},
   "outputs": [],
   "source": [
    "from collections import defaultdict\n",
    "def navigate_research_station(station_layout, observations):\n",
    "    locs = defaultdict(int)\n",
    "    for idx, val in enumerate(station_layout):\n",
    "        locs[val] = idx\n",
    "\n",
    "    total = 0\n",
    "    prev = 0\n",
    "    for char in observations:\n",
    "        cur = locs[char]\n",
    "        total += abs(prev-cur)\n",
    "        prev = cur\n",
    "    return total"
   ]
  },
  {
   "cell_type": "code",
   "execution_count": 15,
   "id": "ddb56b60",
   "metadata": {},
   "outputs": [
    {
     "name": "stdout",
     "output_type": "stream",
     "text": [
      "45\n",
      "4\n"
     ]
    }
   ],
   "source": [
    "station_layout1 = \"pqrstuvwxyzabcdefghijklmno\"\n",
    "observations1 = \"wildlife\"\n",
    "\n",
    "station_layout2 = \"abcdefghijklmnopqrstuvwxyz\"\n",
    "observations2 = \"cba\"\n",
    "\n",
    "print(navigate_research_station(station_layout1, observations1))\n",
    "print(navigate_research_station(station_layout2, observations2))"
   ]
  },
  {
   "cell_type": "markdown",
   "id": "8dbc7d42",
   "metadata": {},
   "source": [
    "## Problem 4: Prioritizing Endangered Species Observations"
   ]
  },
  {
   "cell_type": "code",
   "execution_count": 52,
   "id": "17ee81b3",
   "metadata": {},
   "outputs": [],
   "source": [
    "def prioritize_observations(observed_species, priority_species):\n",
    "    counts = Counter(observed_species)\n",
    "    res = []\n",
    "    for animal in priority_species:\n",
    "        res.extend([animal] * counts[animal])\n",
    "        # print(res)\n",
    "    counts = sorted([a for a in counts.keys() if a not in res])\n",
    "    for animal in counts:\n",
    "        if animal not in priority_species:\n",
    "            res.append(animal)\n",
    "    return res"
   ]
  },
  {
   "cell_type": "code",
   "execution_count": 53,
   "id": "53bdd424",
   "metadata": {},
   "outputs": [
    {
     "name": "stdout",
     "output_type": "stream",
     "text": [
      "['🐯', '🐯', '🐯', '🦌', '🐘', '🦁', '🦁', '🐍', '🐻', '🐼', '🦑']\n",
      "['cardinal', 'sparrow', 'bluejay', 'crow', 'robin']\n"
     ]
    }
   ],
   "source": [
    "observed_species1 = [\"🐯\", \"🦁\", \"🦌\", \"🦁\", \"🐯\", \"🐘\", \"🐍\", \"🦑\", \"🐻\", \"🐯\", \"🐼\"]\n",
    "priority_species1 = [\"🐯\", \"🦌\", \"🐘\", \"🦁\"]\n",
    "\n",
    "observed_species2 = [\"bluejay\", \"sparrow\", \"cardinal\", \"robin\", \"crow\"]\n",
    "priority_species2 = [\"cardinal\", \"sparrow\", \"bluejay\"]\n",
    "\n",
    "print(prioritize_observations(observed_species1, priority_species1))\n",
    "print(prioritize_observations(observed_species2, priority_species2))"
   ]
  },
  {
   "cell_type": "markdown",
   "id": "4839507c",
   "metadata": {},
   "source": [
    "## Problem 7: Count Unique Species\n"
   ]
  },
  {
   "cell_type": "code",
   "execution_count": 93,
   "id": "77932ea2",
   "metadata": {},
   "outputs": [],
   "source": [
    "def count_unique_species(ecosystem_data):\n",
    "    data = list(ecosystem_data)\n",
    "    for i in range(len(data)):\n",
    "        if not data[i].isdigit():\n",
    "            data[i] = ' '\n",
    "    temp = (\"\".join(data)).split()\n",
    "    temp = [int(a) for a in temp]\n",
    "    return len(list(set(temp)))"
   ]
  },
  {
   "cell_type": "code",
   "execution_count": 94,
   "id": "3a9678be",
   "metadata": {},
   "outputs": [
    {
     "name": "stdout",
     "output_type": "stream",
     "text": [
      "3\n",
      "2\n",
      "1\n"
     ]
    }
   ],
   "source": [
    "ecosystem_data1 = \"f123de34g8hi34\"\n",
    "ecosystem_data2 = \"species1234forest234\"\n",
    "ecosystem_data3 = \"x1y01z001\"\n",
    "\n",
    "print(count_unique_species(ecosystem_data1))\n",
    "print(count_unique_species(ecosystem_data2))\n",
    "print(count_unique_species(ecosystem_data3))"
   ]
  },
  {
   "cell_type": "markdown",
   "id": "9f713ba5",
   "metadata": {},
   "source": [
    "## Problem 8: Equivalent Species Pairs\n"
   ]
  },
  {
   "cell_type": "code",
   "execution_count": 110,
   "id": "3309515b",
   "metadata": {},
   "outputs": [],
   "source": [
    "def num_equiv_species_pairs(species_pairs):\n",
    "    res = 0\n",
    "    for i in range(len(species_pairs)):\n",
    "        for j in range(i + 1, len(species_pairs)):\n",
    "            if (\n",
    "                species_pairs[i][0] == species_pairs[j][0]\n",
    "                and species_pairs[i][1] == species_pairs[j][1]\n",
    "            ) or (\n",
    "                species_pairs[i][1] == species_pairs[j][0]\n",
    "                and species_pairs[i][0] == species_pairs[j][1]\n",
    "            ):\n",
    "                res += 1\n",
    "    return res"
   ]
  },
  {
   "cell_type": "code",
   "execution_count": 120,
   "id": "31930465",
   "metadata": {},
   "outputs": [],
   "source": [
    "def num_equiv_species_pairs(species_pairs):\n",
    "    seen = {}\n",
    "    res = 0\n",
    "    for a, b in species_pairs:\n",
    "        key = tuple(sorted((a, b)))\n",
    "        res += seen.get(key, 0)\n",
    "        seen[key] = seen.get(key, 0) + 1\n",
    "    return res"
   ]
  },
  {
   "cell_type": "code",
   "execution_count": 121,
   "id": "1ddfdb8b",
   "metadata": {},
   "outputs": [
    {
     "name": "stdout",
     "output_type": "stream",
     "text": [
      "1\n",
      "3\n"
     ]
    }
   ],
   "source": [
    "species_pairs1 = [[1, 2], [2, 1], [3, 4], [5, 6]]\n",
    "species_pairs2 = [[1, 2], [1, 2], [1, 1], [1, 2], [2, 2]]\n",
    "\n",
    "print(num_equiv_species_pairs(species_pairs1))\n",
    "print(num_equiv_species_pairs(species_pairs2))"
   ]
  },
  {
   "cell_type": "markdown",
   "id": "b364d820",
   "metadata": {},
   "source": [
    "# THE END"
   ]
  }
 ],
 "metadata": {
  "kernelspec": {
   "display_name": "codepath",
   "language": "python",
   "name": "python3"
  },
  "language_info": {
   "codemirror_mode": {
    "name": "ipython",
    "version": 3
   },
   "file_extension": ".py",
   "mimetype": "text/x-python",
   "name": "python",
   "nbconvert_exporter": "python",
   "pygments_lexer": "ipython3",
   "version": "3.12.11"
  }
 },
 "nbformat": 4,
 "nbformat_minor": 5
}
