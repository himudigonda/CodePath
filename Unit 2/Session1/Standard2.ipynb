{
 "cells": [
  {
   "cell_type": "markdown",
   "id": "c6ed6149",
   "metadata": {},
   "source": [
    "## Problem 1: Space Crew\n"
   ]
  },
  {
   "cell_type": "code",
   "execution_count": 3,
   "id": "baf7019e",
   "metadata": {},
   "outputs": [],
   "source": [
    "def space_crew(crew, position):\n",
    "    n = len(crew)\n",
    "    mapping = dict()\n",
    "    for i in range(len(crew)):\n",
    "        mapping[crew[i]] = position[i]\n",
    "    return mapping"
   ]
  },
  {
   "cell_type": "code",
   "execution_count": 4,
   "id": "5ec62ab6",
   "metadata": {},
   "outputs": [
    {
     "name": "stdout",
     "output_type": "stream",
     "text": [
      "{'Andreas Mogensen': 'Commander', 'Jasmin Moghbeli': 'Flight Engineer', 'Satoshi Furukawa': 'Flight Engineer', \"Loral O'Hara\": ' Flight Engineer', 'Konstantin Borisov': 'Flight Engineer'}\n",
      "{'Michael Lopez-Alegria': 'Commander', 'Walter Villadei': 'Mission Pilot', 'Alper Gezeravci': 'Mission Specialist', 'Marcus Wandt': 'Mission Specialist'}\n"
     ]
    }
   ],
   "source": [
    "exp70_crew = [\"Andreas Mogensen\", \"Jasmin Moghbeli\", \"Satoshi Furukawa\", \"Loral O'Hara\", \"Konstantin Borisov\"]\n",
    "exp70_positions = [\"Commander\", \"Flight Engineer\", \"Flight Engineer\", \" Flight Engineer\", \"Flight Engineer\"] \n",
    "\n",
    "ax3_crew = [\"Michael Lopez-Alegria\", \"Walter Villadei\", \"Alper Gezeravci\", \"Marcus Wandt\"]\n",
    "ax3_positions = [\"Commander\", \"Mission Pilot\", \"Mission Specialist\", \"Mission Specialist\"]\n",
    "\n",
    "print(space_crew(exp70_crew, exp70_positions))\n",
    "print(space_crew(ax3_crew, ax3_positions))\n"
   ]
  },
  {
   "cell_type": "markdown",
   "id": "ad87c899",
   "metadata": {},
   "source": [
    "## Problem 2: Space Encyclopedia\n"
   ]
  },
  {
   "cell_type": "code",
   "execution_count": 16,
   "id": "e1381167",
   "metadata": {},
   "outputs": [],
   "source": [
    "def planet_lookup(planet_name):\n",
    "    planetary_info = {\n",
    "        \"Mercury\": {\"Moons\": 0, \"Orbital Period\": 88},\n",
    "        \"Earth\": {\"Moons\": 1, \"Orbital Period\": 365.25},\n",
    "        \"Mars\": {\"Moons\": 2, \"Orbital Period\": 687},\n",
    "        \"Jupiter\": {\"Moons\": 79, \"Orbital Period\": 10592},\n",
    "    }\n",
    "    return (\n",
    "        f\"Planet {planet_name} has an orbital period of {planetary_info[planet_name][\"Orbital Period\"]} Earth days and has {planetary_info[planet_name]['Moons']} moons.\"\n",
    "        if planet_name in planetary_info.keys()\n",
    "        else \"Sorry, I have no data on that planet.\"\n",
    "    )"
   ]
  },
  {
   "cell_type": "code",
   "execution_count": 18,
   "id": "c9f780ac",
   "metadata": {},
   "outputs": [
    {
     "name": "stdout",
     "output_type": "stream",
     "text": [
      "Planet Jupiter has an orbital period of 10592 Earth days and has 79 moons.\n",
      "Sorry, I have no data on that planet.\n"
     ]
    }
   ],
   "source": [
    "print(planet_lookup(\"Jupiter\"))\n",
    "print(planet_lookup(\"Pluto\"))"
   ]
  },
  {
   "cell_type": "markdown",
   "id": "4b420b67",
   "metadata": {},
   "source": [
    "## Problem 3: Breathing Room"
   ]
  },
  {
   "cell_type": "code",
   "execution_count": 27,
   "id": "53de1165",
   "metadata": {},
   "outputs": [],
   "source": [
    "def check_oxygen_levels(oxygen_levels, min_val, max_val):\n",
    "    res = []\n",
    "    for i in oxygen_levels:\n",
    "        if min_val <= oxygen_levels[i] <= max_val:\n",
    "            continue\n",
    "        else:\n",
    "            res.append(i)\n",
    "    return res"
   ]
  },
  {
   "cell_type": "code",
   "execution_count": 28,
   "id": "fbebef7b",
   "metadata": {},
   "outputs": [
    {
     "name": "stdout",
     "output_type": "stream",
     "text": [
      "['Storage Bay']\n"
     ]
    }
   ],
   "source": [
    "oxygen_levels = {\n",
    "    \"Command Module\": 21,\n",
    "    \"Habitation Module\": 20,\n",
    "    \"Laboratory Module\": 19,\n",
    "    \"Airlock\": 22,\n",
    "    \"Storage Bay\": 18,\n",
    "}\n",
    "\n",
    "min_val = 19\n",
    "max_val = 22\n",
    "\n",
    "print(check_oxygen_levels(oxygen_levels, min_val, max_val))"
   ]
  },
  {
   "cell_type": "markdown",
   "id": "197b45d2",
   "metadata": {},
   "source": [
    "## Problem 4: Experiment Analysis"
   ]
  },
  {
   "cell_type": "code",
   "execution_count": 4,
   "id": "27e2b053",
   "metadata": {},
   "outputs": [],
   "source": [
    "def data_difference(experiment1, experiment2):\n",
    "    res = {}\n",
    "    for i in experiment1:\n",
    "        if i in experiment2.keys():\n",
    "            if experiment1[i] == experiment2[i]:\n",
    "                continue\n",
    "        res[i] = experiment1[i]\n",
    "    return res"
   ]
  },
  {
   "cell_type": "code",
   "execution_count": 5,
   "id": "26d76469",
   "metadata": {},
   "outputs": [
    {
     "name": "stdout",
     "output_type": "stream",
     "text": [
      "{'temperature': 22, 'humidity': 45}\n"
     ]
    }
   ],
   "source": [
    "exp1_data = {\"temperature\": 22, \"pressure\": 101.3, \"humidity\": 45}\n",
    "exp2_data = {\"temperature\": 18, \"pressure\": 101.3, \"radiation\": 0.5}\n",
    "\n",
    "print(data_difference(exp1_data, exp2_data))"
   ]
  },
  {
   "cell_type": "markdown",
   "id": "9a379092",
   "metadata": {},
   "source": [
    "## Problem 5: Name the Node"
   ]
  },
  {
   "cell_type": "code",
   "execution_count": 33,
   "id": "a6c8c857",
   "metadata": {},
   "outputs": [],
   "source": [
    "from collections import Counter\n",
    "def get_winner(votes):\n",
    "    counts = Counter(votes)\n",
    "    counts = dict(sorted(counts.items(), key = lambda x: x[1], reverse=True))\n",
    "    return list(counts.keys())[0]"
   ]
  },
  {
   "cell_type": "code",
   "execution_count": 38,
   "id": "1df86132",
   "metadata": {},
   "outputs": [
    {
     "name": "stdout",
     "output_type": "stream",
     "text": [
      "Colbert\n",
      "Colbert\n"
     ]
    }
   ],
   "source": [
    "votes1 = [\"Colbert\", \"Serenity\", \"Serenity\", \"Tranquility\", \"Colbert\", \"Colbert\"]\n",
    "votes2 = [\"Colbert\", \"Serenity\", \"Serenity\", \"Tranquility\", \"Colbert\"]\n",
    "\n",
    "print(get_winner(votes1))\n",
    "print(get_winner(votes2))"
   ]
  },
  {
   "cell_type": "markdown",
   "id": "1444028f",
   "metadata": {},
   "source": [
    "## Problem 6: Check if the Transmission is Complete"
   ]
  },
  {
   "cell_type": "code",
   "execution_count": 53,
   "id": "646acb5c",
   "metadata": {},
   "outputs": [],
   "source": [
    "def check_if_complete_transmission(transmission):\n",
    "    \"\"\"\n",
    "    :type transmission: str\n",
    "    :rtype: bool\n",
    "    \"\"\"\n",
    "    maps = dict()\n",
    "    target = Counter(\"abcdefghijklmnopqrstuvwxyz\")\n",
    "    for ch in transmission:\n",
    "        maps[ch] = 1\n",
    "    return maps.keys() == target.keys()\n",
    "    # return len(maps.keys()) == 26\n",
    "    "
   ]
  },
  {
   "cell_type": "code",
   "execution_count": 54,
   "id": "6b7b92eb",
   "metadata": {},
   "outputs": [
    {
     "name": "stdout",
     "output_type": "stream",
     "text": [
      "True\n",
      "False\n",
      "True\n"
     ]
    }
   ],
   "source": [
    "transmission1 = \"thequickbrownfoxjumpsoverthelazydog\"\n",
    "transmission2 = \"spacetravel\"\n",
    "transmission3 = \"abcdefghijklmnopqrstuvwxyz\"\n",
    "\n",
    "print(check_if_complete_transmission(transmission1))\n",
    "print(check_if_complete_transmission(transmission2))\n",
    "print(check_if_complete_transmission(transmission3))"
   ]
  },
  {
   "cell_type": "markdown",
   "id": "ebee7a30",
   "metadata": {},
   "source": [
    "## Problem 7: Signal Pairs"
   ]
  },
  {
   "cell_type": "code",
   "execution_count": 63,
   "id": "08498d52",
   "metadata": {},
   "outputs": [],
   "source": [
    "def max_number_of_string_pairs(signals):\n",
    "    # mapping = defaultdict(int)\n",
    "    count = 0\n",
    "    for signal in signals:\n",
    "        if signal[::-1] in signals:\n",
    "            if signal[0] == signal[1]:\n",
    "                continue\n",
    "            else:\n",
    "                count += 1\n",
    "                signals.remove(signal[::-1])\n",
    "    return count"
   ]
  },
  {
   "cell_type": "code",
   "execution_count": 64,
   "id": "d05d6482",
   "metadata": {},
   "outputs": [
    {
     "name": "stdout",
     "output_type": "stream",
     "text": [
      "2\n",
      "1\n",
      "0\n"
     ]
    }
   ],
   "source": [
    "signals1 = [\"cd\", \"ac\", \"dc\", \"ca\", \"zz\"]\n",
    "signals2 = [\"ab\", \"ba\", \"cc\"]\n",
    "signals3 = [\"aa\", \"ab\"]\n",
    "\n",
    "print(max_number_of_string_pairs(signals1))\n",
    "print(max_number_of_string_pairs(signals2))\n",
    "print(max_number_of_string_pairs(signals3))"
   ]
  },
  {
   "cell_type": "markdown",
   "id": "c3d60d1c",
   "metadata": {},
   "source": [
    "\n",
    "## Problem 8: Find the Difference of Two Signal Arrays"
   ]
  },
  {
   "cell_type": "code",
   "execution_count": null,
   "id": "3b681763",
   "metadata": {},
   "outputs": [],
   "source": [
    "def find_difference(signals1, signals2):\n",
    "    set1 = set(signals1)\n",
    "    set2 = set(signals2)\n",
    "    return [list(set1-set2), list(set2-set1)]"
   ]
  },
  {
   "cell_type": "code",
   "execution_count": 72,
   "id": "2b3c7458",
   "metadata": {},
   "outputs": [
    {
     "name": "stdout",
     "output_type": "stream",
     "text": [
      "[[1, 3], [4, 6]]\n",
      "[[3], []]\n"
     ]
    }
   ],
   "source": [
    "signals1_example1 = [1, 2, 3]\n",
    "signals2_example1 = [2, 4, 6]\n",
    "\n",
    "signals1_example2 = [1, 2, 3, 3]\n",
    "signals2_example2 = [1, 1, 2, 2]\n",
    "\n",
    "print(find_difference(signals1_example1, signals2_example1))\n",
    "print(find_difference(signals1_example2, signals2_example2))"
   ]
  },
  {
   "cell_type": "markdown",
   "id": "bb9e3ddd",
   "metadata": {},
   "source": [
    "## Problem 9: Common Signals Between Space Probes"
   ]
  },
  {
   "cell_type": "code",
   "execution_count": 73,
   "id": "57234071",
   "metadata": {},
   "outputs": [],
   "source": [
    "def find_common_signals(signals1, signals2):\n",
    "    ans1 = []\n",
    "    ans2 = []\n",
    "    for i in signals1:\n",
    "        if i in signals2:\n",
    "            ans1.append(i)\n",
    "    for j in signals2:\n",
    "        if j in signals1:\n",
    "            ans2.append(j)\n",
    "    return [len(ans1), len(ans2)]"
   ]
  },
  {
   "cell_type": "code",
   "execution_count": 74,
   "id": "3350225c",
   "metadata": {},
   "outputs": [
    {
     "name": "stdout",
     "output_type": "stream",
     "text": [
      "[2, 1]\n",
      "[3, 4]\n",
      "[0, 0]\n"
     ]
    }
   ],
   "source": [
    "signals1_example1 = [2, 3, 2]\n",
    "signals2_example1 = [1, 2]\n",
    "print(find_common_signals(signals1_example1, signals2_example1))\n",
    "\n",
    "signals1_example2 = [4, 3, 2, 3, 1]\n",
    "signals2_example2 = [2, 2, 5, 2, 3, 6]\n",
    "print(find_common_signals(signals1_example2, signals2_example2))\n",
    "\n",
    "signals1_example3 = [3, 4, 2, 3]\n",
    "signals2_example3 = [1, 5]\n",
    "print(find_common_signals(signals1_example3, signals2_example3))"
   ]
  },
  {
   "cell_type": "markdown",
   "id": "18e2ba10",
   "metadata": {},
   "source": [
    "## Problem 10: Common Signals Between Space Probes II"
   ]
  },
  {
   "cell_type": "code",
   "execution_count": 91,
   "id": "fed59b01",
   "metadata": {},
   "outputs": [],
   "source": [
    "def find_common_signals(signals1, signals2):\n",
    "    # dict\n",
    "    counter1 = Counter(signals1)\n",
    "    counter2 = Counter(signals2)\n",
    "\n",
    "    # for i in signals1:\n",
    "    #     if i in counter2:\n",
    "    #         counter2[i] -= 1\n",
    "    # for j in signals2:\n",
    "    #     if j in counter1:\n",
    "    #         counter1[j] -= 1\n",
    "    counts2 = []\n",
    "    counts1 = []\n",
    "    for val in counter2:\n",
    "        if val in counter1:\n",
    "            counts2.append(counter1[val])\n",
    "    for val in counter1:\n",
    "        if val in counter2:\n",
    "            counts1.append(counter2[val])\n",
    "    return [sum(counts1), sum(counts2)]"
   ]
  },
  {
   "cell_type": "code",
   "execution_count": 92,
   "id": "043a1f89",
   "metadata": {},
   "outputs": [
    {
     "name": "stdout",
     "output_type": "stream",
     "text": [
      "[1, 2]\n",
      "[4, 3]\n",
      "[0, 0]\n"
     ]
    }
   ],
   "source": [
    "signals1_example1 = [2, 3, 2]\n",
    "signals2_example1 = [1, 2]\n",
    "print(find_common_signals(signals1_example1, signals2_example1))\n",
    "\n",
    "signals1_example2 = [4, 3, 2, 3, 1]\n",
    "signals2_example2 = [2, 2, 5, 2, 3, 6]\n",
    "print(find_common_signals(signals1_example2, signals2_example2))\n",
    "\n",
    "signals1_example3 = [3, 4, 2, 3]\n",
    "signals2_example3 = [1, 5]\n",
    "print(find_common_signals(signals1_example3, signals2_example3))"
   ]
  },
  {
   "cell_type": "markdown",
   "id": "b07b6dd9",
   "metadata": {},
   "source": [
    "## Problem 11: Sort Signal Data\n"
   ]
  },
  {
   "cell_type": "code",
   "execution_count": 5,
   "id": "5610169d",
   "metadata": {},
   "outputs": [],
   "source": [
    "def frequency_sort(signals):\n",
    "    freq = {}\n",
    "    for signal in signals:\n",
    "        if signal in freq:\n",
    "            freq[signal] += 1\n",
    "        else:\n",
    "            freq[signal] = 1\n",
    "\n",
    "    sorted_signals = sorted(signals, key=lambda x: (freq[x], -x))\n",
    "\n",
    "    return sorted_signals"
   ]
  },
  {
   "cell_type": "code",
   "execution_count": 6,
   "id": "41a9d98e",
   "metadata": {},
   "outputs": [
    {
     "name": "stdout",
     "output_type": "stream",
     "text": [
      "[3, 1, 1, 2, 2, 2]\n",
      "[1, 3, 3, 2, 2]\n",
      "[5, -1, 4, 4, -6, -6, 1, 1, 1]\n"
     ]
    }
   ],
   "source": [
    "signals1 = [1, 1, 2, 2, 2, 3]\n",
    "signals2 = [2, 3, 1, 3, 2]\n",
    "signals3 = [-1, 1, -6, 4, 5, -6, 1, 4, 1]\n",
    "\n",
    "print(frequency_sort(signals1))\n",
    "print(frequency_sort(signals2))\n",
    "print(frequency_sort(signals3))"
   ]
  },
  {
   "cell_type": "markdown",
   "id": "512babcb",
   "metadata": {},
   "source": [
    "## Problem 12: Final Communication Hub"
   ]
  },
  {
   "cell_type": "code",
   "execution_count": 3,
   "id": "45a42c59",
   "metadata": {},
   "outputs": [],
   "source": [
    "from collections import defaultdict\n",
    "def find_final_hub(paths):\n",
    "    incoming = defaultdict(int)\n",
    "    outgoing = defaultdict(int)\n",
    "    for out, inc in paths:\n",
    "        if not outgoing[inc]: outgoing[inc] == 0\n",
    "        if not incoming[out]: incoming[out] == 0\n",
    "        outgoing[out] += 1\n",
    "        incoming[inc] += 1\n",
    "    \n",
    "    for name, count in outgoing.items():\n",
    "        if count == 0:\n",
    "            return name\n"
   ]
  },
  {
   "cell_type": "code",
   "execution_count": 4,
   "id": "0bbce849",
   "metadata": {},
   "outputs": [
    {
     "name": "stdout",
     "output_type": "stream",
     "text": [
      "Europa\n",
      "Delta\n",
      "StationZ\n"
     ]
    }
   ],
   "source": [
    "paths1 = [[\"Earth\", \"Mars\"], [\"Mars\", \"Titan\"], [\"Titan\", \"Europa\"]]\n",
    "paths2 = [[\"Alpha\", \"Beta\"], [\"Gamma\", \"Alpha\"], [\"Beta\", \"Delta\"]]\n",
    "paths3 = [[\"StationA\", \"StationZ\"]]\n",
    "\n",
    "print(find_final_hub(paths1))\n",
    "print(find_final_hub(paths2))\n",
    "print(find_final_hub(paths3))"
   ]
  },
  {
   "cell_type": "markdown",
   "id": "058f970f",
   "metadata": {},
   "source": [
    "# THE END"
   ]
  }
 ],
 "metadata": {
  "kernelspec": {
   "display_name": ".venv",
   "language": "python",
   "name": "python3"
  },
  "language_info": {
   "codemirror_mode": {
    "name": "ipython",
    "version": 3
   },
   "file_extension": ".py",
   "mimetype": "text/x-python",
   "name": "python",
   "nbconvert_exporter": "python",
   "pygments_lexer": "ipython3",
   "version": "3.12.11"
  }
 },
 "nbformat": 4,
 "nbformat_minor": 5
}
