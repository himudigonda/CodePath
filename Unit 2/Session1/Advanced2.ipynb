{
 "cells": [
  {
   "cell_type": "markdown",
   "id": "148f831c",
   "metadata": {},
   "source": [
    "## Problem 1: The Library of Alexandria\n"
   ]
  },
  {
   "cell_type": "code",
   "execution_count": 6,
   "id": "b28394cf",
   "metadata": {},
   "outputs": [],
   "source": [
    "def analyze_library(library_catalog, actual_distribution):\n",
    "    res = {}\n",
    "    for loc, value in library_catalog.items():\n",
    "        res[loc] = actual_distribution[loc] - value\n",
    "    return res"
   ]
  },
  {
   "cell_type": "code",
   "execution_count": 7,
   "id": "21811393",
   "metadata": {},
   "outputs": [
    {
     "name": "stdout",
     "output_type": "stream",
     "text": [
      "{'Room A': 0, 'Room B': -10, 'Room C': 10, 'Room D': 0}\n"
     ]
    }
   ],
   "source": [
    "library_catalog = {\"Room A\": 150, \"Room B\": 200, \"Room C\": 250, \"Room D\": 300}\n",
    "\n",
    "actual_distribution = {\"Room A\": 150, \"Room B\": 190, \"Room C\": 260, \"Room D\": 300}\n",
    "\n",
    "\n",
    "print(analyze_library(library_catalog, actual_distribution))"
   ]
  },
  {
   "cell_type": "markdown",
   "id": "984b650f",
   "metadata": {},
   "source": [
    "## Problem 2: Grecian Artifacts"
   ]
  },
  {
   "cell_type": "code",
   "execution_count": 10,
   "id": "375da579",
   "metadata": {},
   "outputs": [],
   "source": [
    "def find_common_artifacts(artifacts1, artifacts2):\n",
    "    return list(set(artifacts1)&set(artifacts2))"
   ]
  },
  {
   "cell_type": "code",
   "execution_count": 11,
   "id": "6836f697",
   "metadata": {},
   "outputs": [
    {
     "name": "stdout",
     "output_type": "stream",
     "text": [
      "['Golden Vase', 'Bronze Shield']\n"
     ]
    }
   ],
   "source": [
    "artifacts1 = [\"Statue of Zeus\", \"Golden Vase\", \"Bronze Shield\"]\n",
    "artifacts2 = [\"Golden Vase\", \"Silver Sword\", \"Bronze Shield\"]\n",
    "\n",
    "print(find_common_artifacts(artifacts1, artifacts2))"
   ]
  },
  {
   "cell_type": "markdown",
   "id": "0ccb40dd",
   "metadata": {},
   "source": [
    "## Problem 3: Souvenir Declutter\n"
   ]
  },
  {
   "cell_type": "code",
   "execution_count": 16,
   "id": "e836cc16",
   "metadata": {},
   "outputs": [],
   "source": [
    "def declutter(souvenirs, threshold):\n",
    "    freq = {}\n",
    "    for i in souvenirs:\n",
    "        if i not in freq:\n",
    "            freq[i] = 1\n",
    "        else:\n",
    "            freq[i] += 1\n",
    "    res = []\n",
    "    for sou, fre in freq.items():\n",
    "        if fre < threshold:\n",
    "            res.append(sou)\n",
    "    return res"
   ]
  },
  {
   "cell_type": "code",
   "execution_count": 18,
   "id": "d39444fd",
   "metadata": {},
   "outputs": [
    {
     "name": "stdout",
     "output_type": "stream",
     "text": [
      "['alien egg', 'map', 'statue']\n",
      "['sword']\n"
     ]
    }
   ],
   "source": [
    "souvenirs1 = [\"coin\", \"alien egg\", \"coin\", \"coin\", \"map\", \"map\", \"statue\"]\n",
    "threshold1 = 3\n",
    "print(declutter(souvenirs1, threshold1))\n",
    "\n",
    "souvenirs2 = [\"postcard\", \"postcard\", \"postcard\", \"sword\"]\n",
    "threshold2 = 2\n",
    "print(declutter(souvenirs2, threshold2))"
   ]
  },
  {
   "cell_type": "markdown",
   "id": "eb0f232b",
   "metadata": {},
   "source": [
    "## Problem 4: Time Portals\n"
   ]
  },
  {
   "cell_type": "code",
   "execution_count": 27,
   "id": "4f3fdffb",
   "metadata": {},
   "outputs": [],
   "source": [
    "def num_of_time_portals(portals, destination):\n",
    "    count = 0\n",
    "    for i in range(len(portals)):\n",
    "        for j in range(len(portals)):\n",
    "            if i == j: continue\n",
    "            else:\n",
    "                if portals[i] + portals[j] == destination: count += 1\n",
    "    return count"
   ]
  },
  {
   "cell_type": "code",
   "execution_count": 33,
   "id": "c4cb0c85",
   "metadata": {},
   "outputs": [],
   "source": [
    "from collections import Counter\n",
    "def num_of_time_portals(portals, destination):\n",
    "    count = 0\n",
    "    mapping = Counter(portals)\n",
    "    for p in portals:\n",
    "        if destination.startswith(p):\n",
    "            suffix = destination[len(p):]\n",
    "            if suffix in portals:\n",
    "                count += mapping[suffix]\n",
    "                if suffix == p:\n",
    "                    count -= 1\n",
    "    return count"
   ]
  },
  {
   "cell_type": "code",
   "execution_count": 34,
   "id": "f77245b4",
   "metadata": {},
   "outputs": [
    {
     "name": "stdout",
     "output_type": "stream",
     "text": [
      "4\n",
      "2\n",
      "6\n"
     ]
    }
   ],
   "source": [
    "portals1 = [\"777\", \"7\", \"77\", \"77\"]\n",
    "destination1 = \"7777\"\n",
    "portals2 = [\"123\", \"4\", \"12\", \"34\"]\n",
    "destination2 = \"1234\"\n",
    "portals3 = [\"1\", \"1\", \"1\"]\n",
    "destination3 = \"11\"\n",
    "\n",
    "print(num_of_time_portals(portals1, destination1))\n",
    "print(num_of_time_portals(portals2, destination2))\n",
    "print(num_of_time_portals(portals3, destination3))"
   ]
  },
  {
   "cell_type": "markdown",
   "id": "539f5900",
   "metadata": {},
   "source": [
    "## Problem 5: Detect Temporal Anomaly\n"
   ]
  },
  {
   "cell_type": "code",
   "execution_count": 47,
   "id": "bb040489",
   "metadata": {},
   "outputs": [],
   "source": [
    "from collections import defaultdict\n",
    "def detect_temporal_anomaly(time_points, k):\n",
    "    mapping = defaultdict(list)\n",
    "    for idx, time in enumerate(time_points):\n",
    "        mapping[time].append(idx)\n",
    "\n",
    "    for _, arr in mapping.items():\n",
    "        if len(arr) == 1: continue\n",
    "        for j in range(len(arr) - 1):\n",
    "            if arr[j + 1] - arr[j] <= k: return True\n",
    "    return False"
   ]
  },
  {
   "cell_type": "code",
   "execution_count": 54,
   "id": "cf240fe7",
   "metadata": {},
   "outputs": [],
   "source": [
    "def detect_temporal_anomaly(time_points, k):\n",
    "    last_seen = {}\n",
    "    for i, event in enumerate(time_points):\n",
    "        if event in last_seen and i - last_seen[event] <= k:\n",
    "            return True\n",
    "        last_seen[event] = i\n",
    "    return False"
   ]
  },
  {
   "cell_type": "code",
   "execution_count": 55,
   "id": "2f9efa16",
   "metadata": {},
   "outputs": [
    {
     "name": "stdout",
     "output_type": "stream",
     "text": [
      "True\n",
      "True\n",
      "False\n"
     ]
    }
   ],
   "source": [
    "time_points1 = [1, 2, 3, 1]\n",
    "k1 = 3\n",
    "\n",
    "time_points2 = [1, 0, 1, 1]\n",
    "k2 = 1\n",
    "\n",
    "time_points3 = [1, 2, 3, 1, 2, 3]\n",
    "k3 = 2\n",
    "\n",
    "print(detect_temporal_anomaly(time_points1, k1))\n",
    "print(detect_temporal_anomaly(time_points2, k2))\n",
    "print(detect_temporal_anomaly(time_points3, k3))"
   ]
  },
  {
   "cell_type": "markdown",
   "id": "9f5904de",
   "metadata": {},
   "source": [
    "## Problem 6: Time Portal Race Rankings"
   ]
  },
  {
   "cell_type": "code",
   "execution_count": 84,
   "id": "05baee19",
   "metadata": {},
   "outputs": [],
   "source": [
    "def find_travelers(races):\n",
    "    winners = []\n",
    "    loosers = []\n",
    "    for win, loss in races:\n",
    "        winners.append(win)\n",
    "        loosers.append(loss)\n",
    "    winners = Counter(winners)\n",
    "    loosers = Counter(loosers)\n",
    "\n",
    "    wind = []\n",
    "    lossd = []\n",
    "\n",
    "    for i in winners:\n",
    "        if i not in loosers:\n",
    "            wind.append(i)\n",
    "    for j in winners:\n",
    "        if loosers[j] == 1:\n",
    "            lossd.append(j)\n",
    "    for j in loosers:\n",
    "        if loosers[j] == 1 and j not in lossd:\n",
    "            lossd.append(j)\n",
    "    return [sorted(wind), sorted(lossd)]"
   ]
  },
  {
   "cell_type": "code",
   "execution_count": 90,
   "id": "27706e6a",
   "metadata": {},
   "outputs": [],
   "source": [
    "def find_travelers(races):\n",
    "    losses = defaultdict(int)\n",
    "    players = set()\n",
    "\n",
    "    for winner, looser in races:\n",
    "        players.add(winner)\n",
    "        players.add(looser)\n",
    "        losses[looser] += 1\n",
    "\n",
    "    neverlost = [p for p in players if losses[p] == 0]\n",
    "    lostonce = [p for p in players if losses[p] == 1]\n",
    "\n",
    "    return [sorted(neverlost), sorted(lostonce)]"
   ]
  },
  {
   "cell_type": "code",
   "execution_count": 91,
   "id": "87e27467",
   "metadata": {},
   "outputs": [
    {
     "name": "stdout",
     "output_type": "stream",
     "text": [
      "[[1, 2, 10], [4, 5, 7, 8]]\n",
      "[[1, 2, 5, 6], []]\n"
     ]
    }
   ],
   "source": [
    "races1 = [\n",
    "    [1, 3],\n",
    "    [2, 3],\n",
    "    [3, 6],\n",
    "    [5, 6],\n",
    "    [5, 7],\n",
    "    [4, 5],\n",
    "    [4, 8],\n",
    "    [4, 9],\n",
    "    [10, 4],\n",
    "    [10, 9],\n",
    "]\n",
    "races2 = [[2, 3], [1, 3], [5, 4], [6, 4]]\n",
    "\n",
    "print(find_travelers(races1))\n",
    "print(find_travelers(races2))"
   ]
  },
  {
   "cell_type": "markdown",
   "id": "365760ff",
   "metadata": {},
   "source": [
    "## Problem 7: Lingual Frequencies\n"
   ]
  },
  {
   "cell_type": "code",
   "execution_count": 201,
   "id": "ef3a27d1",
   "metadata": {},
   "outputs": [],
   "source": [
    "def find_most_frequent_word(text, illegibles):\n",
    "    illegibles = [i.lower() for i in illegibles]\n",
    "    words = []\n",
    "    curword = []\n",
    "\n",
    "    for char in text:\n",
    "        if char.isalpha():\n",
    "            curword.append(char.lower())\n",
    "        if not char.isalpha():\n",
    "            words.append(''.join(curword))\n",
    "            curword = []\n",
    "\n",
    "    if curword: words.append(''.join(curword))\n",
    "\n",
    "    counts = Counter(words)\n",
    "    counts = sorted(counts.items(), key = lambda x: -x[1])\n",
    "\n",
    "    for key, value in counts:\n",
    "        if key not in illegibles:\n",
    "            return key\n",
    "    return \"\"\n",
    "\n"
   ]
  },
  {
   "cell_type": "code",
   "execution_count": 208,
   "id": "96b9ac07",
   "metadata": {},
   "outputs": [],
   "source": [
    "def find_most_frequent_word(text, illegibles):\n",
    "    illegibles = set(i.lower() for i in illegibles)  # make a set out of illegibles\n",
    "    words = []  # list of all words\n",
    "    curword = []  # building current word\n",
    "    for char in text:  # for each char\n",
    "        if char.isalpha():  # if char is a letter\n",
    "            curword.append(\n",
    "                char.lower()\n",
    "            )  # append that char to the current building word\n",
    "        if (\n",
    "            not char.isalpha() and curword\n",
    "        ):  # if it is not a letter and curword has some values\n",
    "            words.append(\"\".join(curword))  # add into list of words the current word\n",
    "            curword = []  # reset currernt word\n",
    "    if curword:\n",
    "        words.append(\n",
    "            \"\".join(curword)\n",
    "        )  # after the loop, if the curword still exists add into words\n",
    "    counts = Counter(words)  # make a counter of the words\n",
    "\n",
    "    for key, value in counts.most_common(): # for a word, count pair in the sorted counter\n",
    "        # for a counter, this is how you sort based on value\n",
    "        if key not in illegibles:  # if the word not in the illegible set\n",
    "            return key  # return that\n",
    "    return \"\"  # else return empty string"
   ]
  },
  {
   "cell_type": "code",
   "execution_count": 209,
   "id": "30bc0fc9",
   "metadata": {},
   "outputs": [
    {
     "name": "stdout",
     "output_type": "stream",
     "text": [
      "a\n",
      "ball\n"
     ]
    }
   ],
   "source": [
    "paragraph1 = \"a.\"\n",
    "illegibles1 = []\n",
    "print(find_most_frequent_word(paragraph1, illegibles1))\n",
    "\n",
    "paragraph2 = \"Bob hit a ball, the hit BALL flew far after it was hit.\"\n",
    "illegibles2 = [\"hit\"]\n",
    "print(find_most_frequent_word(paragraph2, illegibles2))"
   ]
  },
  {
   "cell_type": "markdown",
   "id": "9c361f26",
   "metadata": {},
   "source": [
    "## Problem 8: Time Portal Usage"
   ]
  },
  {
   "cell_type": "code",
   "execution_count": null,
   "id": "c5797d93",
   "metadata": {},
   "outputs": [],
   "source": [
    "def display_time_portal_usage(usage_records):\n",
    "    output = [[]]\n",
    "    distinct_time = set()\n",
    "    portals = []\n",
    "    for name, portal, time in usage_records:\n",
    "        distinct_time.add(time)\n",
    "        if int(portal) not in portals: portals.append(int(portal))\n",
    "    \n",
    "    distinct_time = sorted(distinct_time)\n",
    "\n",
    "    output[0].append(\"Portal\")\n",
    "    output[0].extend(list(distinct_time))\n",
    "    \n",
    "    portals = sorted(portals)\n",
    "    \n",
    "    for portal in portals:\n",
    "        cur_row = []\n",
    "        mapping = {}\n",
    "        for time in distinct_time:\n",
    "            mapping[time] = 0\n",
    "        for person, used_portal, time_at in usage_records:\n",
    "            if int(used_portal) == portal:\n",
    "                mapping[time_at] += 1\n",
    "        cur_row.append(portal)\n",
    "\n",
    "        for t, n in mapping.items():\n",
    "            cur_row.extend(str(n))\n",
    "\n",
    "        output.append(cur_row)\n",
    "    return output"
   ]
  },
  {
   "cell_type": "code",
   "execution_count": 85,
   "id": "fcf7bd0d",
   "metadata": {},
   "outputs": [],
   "source": [
    "from collections import defaultdict\n",
    "def display_time_portal_usage(usage_records):\n",
    "    distinct_time = set()\n",
    "    portal_set = set()\n",
    "\n",
    "    counts = defaultdict(lambda: defaultdict(int))\n",
    "    \n",
    "    for name, portal, time in usage_records:\n",
    "        portal = int(portal)\n",
    "        distinct_time.add(time)\n",
    "        portal_set.add(portal)\n",
    "        counts[portal][time] += 1\n",
    "    \n",
    "    times = sorted(distinct_time)\n",
    "    portals = sorted(portal_set)\n",
    "\n",
    "    output = [['Portal'] + times]\n",
    "\n",
    "    for portal in portals:\n",
    "        row = [str(portal)]\n",
    "        for time in times:\n",
    "            row.append(str(counts[portal].get(time, 0)))\n",
    "        output.append(row)\n",
    "\n",
    "    return output"
   ]
  },
  {
   "cell_type": "code",
   "execution_count": 86,
   "id": "2638d1f0",
   "metadata": {},
   "outputs": [
    {
     "name": "stdout",
     "output_type": "stream",
     "text": [
      "[['Portal', '10:00', '10:15', '10:30', '11:00'], ['3', '2', '0', '1', '0'], ['5', '1', '0', '0', '1'], ['10', '0', '1', '0', '0']]\n",
      "[['Portal', '09:00', '11:00'], ['1', '2', '0'], ['12', '0', '3']]\n",
      "[['Portal', '08:00', '08:15', '08:30'], ['2', '1', '1', '1']]\n"
     ]
    }
   ],
   "source": [
    "usage_records1 = [\n",
    "    [\"David\", \"3\", \"10:00\"],\n",
    "    [\"Corina\", \"10\", \"10:15\"],\n",
    "    [\"David\", \"3\", \"10:30\"],\n",
    "    [\"Carla\", \"5\", \"11:00\"],\n",
    "    [\"Carla\", \"5\", \"10:00\"],\n",
    "    [\"Rous\", \"3\", \"10:00\"],\n",
    "]\n",
    "usage_records2 = [\n",
    "    [\"James\", \"12\", \"11:00\"],\n",
    "    [\"Ratesh\", \"12\", \"11:00\"],\n",
    "    [\"Amadeus\", \"12\", \"11:00\"],\n",
    "    [\"Adam\", \"1\", \"09:00\"],\n",
    "    [\"Brianna\", \"1\", \"09:00\"],\n",
    "]\n",
    "usage_records3 = [\n",
    "    [\"Laura\", \"2\", \"08:00\"],\n",
    "    [\"Jhon\", \"2\", \"08:15\"],\n",
    "    [\"Melissa\", \"2\", \"08:30\"],\n",
    "]\n",
    "\n",
    "print(display_time_portal_usage(usage_records1))\n",
    "print(display_time_portal_usage(usage_records2))\n",
    "print(display_time_portal_usage(usage_records3))"
   ]
  },
  {
   "cell_type": "markdown",
   "id": "770af467",
   "metadata": {},
   "source": [
    "# THE END"
   ]
  }
 ],
 "metadata": {
  "kernelspec": {
   "display_name": "codepath",
   "language": "python",
   "name": "python3"
  },
  "language_info": {
   "codemirror_mode": {
    "name": "ipython",
    "version": 3
   },
   "file_extension": ".py",
   "mimetype": "text/x-python",
   "name": "python",
   "nbconvert_exporter": "python",
   "pygments_lexer": "ipython3",
   "version": "3.12.11"
  }
 },
 "nbformat": 4,
 "nbformat_minor": 5
}
