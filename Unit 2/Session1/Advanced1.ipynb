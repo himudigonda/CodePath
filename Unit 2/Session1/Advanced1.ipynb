{
 "cells": [
  {
   "cell_type": "code",
   "execution_count": 2,
   "id": "417531cc",
   "metadata": {},
   "outputs": [],
   "source": [
    "from collections import Counter"
   ]
  },
  {
   "cell_type": "markdown",
   "id": "20265894",
   "metadata": {},
   "source": [
    "## Problem 1: Counting Treasure"
   ]
  },
  {
   "cell_type": "code",
   "execution_count": 3,
   "id": "e64cfc3e",
   "metadata": {},
   "outputs": [],
   "source": [
    "\n",
    "def total_treasures(treasure_map):\n",
    "    values = treasure_map.values()\n",
    "    return sum(values)"
   ]
  },
  {
   "cell_type": "code",
   "execution_count": 4,
   "id": "ce891f6b",
   "metadata": {},
   "outputs": [
    {
     "name": "stdout",
     "output_type": "stream",
     "text": [
      "15\n",
      "50\n"
     ]
    }
   ],
   "source": [
    "treasure_map1 = {\"Cove\": 3, \"Beach\": 7, \"Forest\": 5}\n",
    "\n",
    "treasure_map2 = {\"Shipwreck\": 10, \"Cave\": 20, \"Lagoon\": 15, \"Island Peak\": 5}\n",
    "\n",
    "print(total_treasures(treasure_map1))\n",
    "print(total_treasures(treasure_map2))"
   ]
  },
  {
   "cell_type": "markdown",
   "id": "ddf38de4",
   "metadata": {},
   "source": [
    "## Problem 2: Pirate Message Check"
   ]
  },
  {
   "cell_type": "code",
   "execution_count": 5,
   "id": "aeee62dc",
   "metadata": {},
   "outputs": [],
   "source": [
    "from collections import Counter\n",
    "def can_trust_message(message):\n",
    "    letters = \"sphinxofblackquartzjudgemyvow\"\n",
    "    counter = Counter(letters)\n",
    "    for char in message:\n",
    "        if char == ' ':\n",
    "            continue\n",
    "        counter[char] -= 1\n",
    "    return sum(counter.values()) == 0\n"
   ]
  },
  {
   "cell_type": "code",
   "execution_count": 6,
   "id": "38155aff",
   "metadata": {},
   "outputs": [
    {
     "name": "stdout",
     "output_type": "stream",
     "text": [
      "True\n",
      "False\n"
     ]
    }
   ],
   "source": [
    "message1 = \"sphinx of black quartz judge my vow\"\n",
    "message2 = \"trust me\"\n",
    "\n",
    "print(can_trust_message(message1))\n",
    "print(can_trust_message(message2))"
   ]
  },
  {
   "cell_type": "markdown",
   "id": "16df08a4",
   "metadata": {},
   "source": [
    "## Problem 3: Find All Duplicate Treasure Chests in an Array"
   ]
  },
  {
   "cell_type": "code",
   "execution_count": 7,
   "id": "0b36d4dc",
   "metadata": {},
   "outputs": [],
   "source": [
    "def find_duplicate_chests(chests):\n",
    "    counts = Counter(chests)\n",
    "    res = []\n",
    "    for key, val in counts.items():\n",
    "        if val == 2:\n",
    "            res.append(key)\n",
    "    return res"
   ]
  },
  {
   "cell_type": "code",
   "execution_count": 8,
   "id": "17f0d795",
   "metadata": {},
   "outputs": [
    {
     "name": "stdout",
     "output_type": "stream",
     "text": [
      "[3, 2]\n",
      "[1]\n",
      "[]\n"
     ]
    }
   ],
   "source": [
    "chests1 = [4, 3, 2, 7, 8, 2, 3, 1]\n",
    "chests2 = [1, 1, 2]\n",
    "chests3 = [1]\n",
    "\n",
    "print(find_duplicate_chests(chests1))\n",
    "print(find_duplicate_chests(chests2))\n",
    "print(find_duplicate_chests(chests3))"
   ]
  },
  {
   "cell_type": "markdown",
   "id": "704e8073",
   "metadata": {},
   "source": [
    "## Problem 4: Booby Trap"
   ]
  },
  {
   "cell_type": "code",
   "execution_count": 9,
   "id": "cd8b10ea",
   "metadata": {},
   "outputs": [],
   "source": [
    "def can_make_balanced(code):\n",
    "    counts = Counter(code)\n",
    "    values = counts.values()\n",
    "    sett = set(values)\n",
    "    if len(sett)>=3:\n",
    "        return False\n",
    "    elif len(sett) == 1:\n",
    "        return False\n",
    "    \n",
    "    a = sett.pop()\n",
    "    b = sett.pop()\n",
    "\n",
    "    if abs(a-b) == 1:\n",
    "        return True\n",
    "    return False"
   ]
  },
  {
   "cell_type": "code",
   "execution_count": 10,
   "id": "a86df209",
   "metadata": {},
   "outputs": [
    {
     "name": "stdout",
     "output_type": "stream",
     "text": [
      "True\n",
      "False\n"
     ]
    }
   ],
   "source": [
    "code1 = \"arghh\"\n",
    "code2 = \"haha\"\n",
    "\n",
    "print(can_make_balanced(code1))\n",
    "print(can_make_balanced(code2))"
   ]
  },
  {
   "cell_type": "markdown",
   "id": "ee360d7f",
   "metadata": {},
   "source": [
    "## Problem 5: Overflowing With Gold"
   ]
  },
  {
   "cell_type": "code",
   "execution_count": 11,
   "id": "d4c554ea",
   "metadata": {},
   "outputs": [],
   "source": [
    "from collections import defaultdict\n",
    "def find_treasure_indices(gold_amounts, target):\n",
    "    mapping = defaultdict(int)\n",
    "    for idx, val in enumerate(gold_amounts):\n",
    "        if target - val in mapping:\n",
    "            return [mapping[target - val], idx]\n",
    "        mapping[val] = idx\n",
    "    return\n",
    "\n",
    "\n"
   ]
  },
  {
   "cell_type": "code",
   "execution_count": 12,
   "id": "6b29efc7",
   "metadata": {},
   "outputs": [
    {
     "name": "stdout",
     "output_type": "stream",
     "text": [
      "[0, 1]\n",
      "[1, 2]\n",
      "[0, 1]\n"
     ]
    }
   ],
   "source": [
    "gold_amounts1 = [2, 7, 11, 15]\n",
    "target1 = 9\n",
    "\n",
    "gold_amounts2 = [3, 2, 4]\n",
    "target2 = 6\n",
    "\n",
    "gold_amounts3 = [3, 3]\n",
    "target3 = 6\n",
    "\n",
    "print(find_treasure_indices(gold_amounts1, target1))\n",
    "print(find_treasure_indices(gold_amounts2, target2))\n",
    "print(find_treasure_indices(gold_amounts3, target3))"
   ]
  },
  {
   "cell_type": "markdown",
   "id": "9a16ecfb",
   "metadata": {},
   "source": [
    "## Problem 6: Organize the Pirate Crew\n"
   ]
  },
  {
   "cell_type": "code",
   "execution_count": 33,
   "id": "552a1825",
   "metadata": {},
   "outputs": [],
   "source": [
    "from collections import defaultdict\n",
    "def organize_pirate_crew(group_sizes):\n",
    "    mapping = defaultdict(list)\n",
    "    for pirate_id, group_size in enumerate(group_sizes):\n",
    "        mapping[group_size].append(pirate_id)\n",
    "    res = []\n",
    "    for group_size, pirates in mapping.items():\n",
    "        while pirates:\n",
    "            group = pirates[:group_size]\n",
    "            pirates = pirates[group_size:]\n",
    "            res.append(group)\n",
    "    return res"
   ]
  },
  {
   "cell_type": "code",
   "execution_count": 34,
   "id": "a95a4a1c",
   "metadata": {},
   "outputs": [
    {
     "name": "stdout",
     "output_type": "stream",
     "text": [
      "[[0, 1, 2], [3, 4, 6], [5]]\n"
     ]
    }
   ],
   "source": [
    "group_sizes1 = [3, 3, 3, 3, 3, 1, 3]\n",
    "# group_sizes2 = [2, 1, 3, 3, 3, 2]\n",
    "\n",
    "print(organize_pirate_crew(group_sizes1))\n",
    "# print(organize_pirate_crew(group_sizes2)) "
   ]
  },
  {
   "cell_type": "markdown",
   "id": "2051ef94",
   "metadata": {},
   "source": [
    "## Problem 7: Minimum Number of Steps to Match Treasure Maps"
   ]
  },
  {
   "cell_type": "code",
   "execution_count": 37,
   "id": "9d807631",
   "metadata": {},
   "outputs": [],
   "source": [
    "def min_steps_to_match_maps(map1, map2):\n",
    "    map1 = sorted(map1)\n",
    "    map2 = sorted(map2)\n",
    "    if len(map1) != len(map2):\n",
    "        return -1\n",
    "    \n",
    "    ptr = 0\n",
    "    step = 0\n",
    "    while ptr < len(map1):\n",
    "        if map1[ptr] != map2[ptr]:\n",
    "            step += 1\n",
    "            ptr += 1\n",
    "        if map1[ptr] == map2[ptr]:\n",
    "            ptr += 1\n",
    "    return step\n",
    "        \n"
   ]
  },
  {
   "cell_type": "code",
   "execution_count": 38,
   "id": "fc8a54c5",
   "metadata": {},
   "outputs": [
    {
     "name": "stdout",
     "output_type": "stream",
     "text": [
      "1\n",
      "6\n",
      "0\n"
     ]
    }
   ],
   "source": [
    "map1_1 = \"bab\"\n",
    "map2_1 = \"aba\"\n",
    "map1_2 = \"treasure\"\n",
    "map2_2 = \"huntgold\"\n",
    "map1_3 = \"anagram\"\n",
    "map2_3 = \"mangaar\"\n",
    "\n",
    "print(min_steps_to_match_maps(map1_1, map2_1))\n",
    "print(min_steps_to_match_maps(map1_2, map2_2))\n",
    "print(min_steps_to_match_maps(map1_3, map2_3))"
   ]
  },
  {
   "cell_type": "markdown",
   "id": "10b44671",
   "metadata": {},
   "source": [
    "## Problem 8: Counting Pirates' Action Minutes"
   ]
  },
  {
   "cell_type": "code",
   "execution_count": 75,
   "id": "5c1c8f70",
   "metadata": {},
   "outputs": [],
   "source": [
    "from collections import Counter\n",
    "def counting_pirates_action_minutes(logs, k):\n",
    "    # ans = [0] * k\n",
    "    # pirate_list = [i for i, j in logs]\n",
    "    # max_pirate = max(pirate_list)\n",
    "    # mapping = defaultdict(set)\n",
    "    # pam = defaultdict(int)\n",
    "    # for pirate, action_time in logs:\n",
    "    #     mapping[pirate].add(action_time)\n",
    "\n",
    "\n",
    "    # for pirate in range(max_pirate + 1):\n",
    "    #     pam[pirate] = len(mapping[pirate])\n",
    "    # count_pam = Counter(pam)\n",
    "    # print(count_pam)\n",
    "    # return ans\n",
    "    mapping = defaultdict(set)\n",
    "    for pirate, time in logs:\n",
    "        # for each pirate we are adding the time into the work set\n",
    "        mapping[pirate].add(time)\n",
    "\n",
    "    ans = [0] * k\n",
    "    for pirate, times in mapping.items():\n",
    "        pam = len(times)\n",
    "        if 1 <= pam <= k:\n",
    "            ans[pam - 1] += 1 #0 indexing\n",
    "    return ans"
   ]
  },
  {
   "cell_type": "code",
   "execution_count": 77,
   "id": "74de5ff2",
   "metadata": {},
   "outputs": [
    {
     "name": "stdout",
     "output_type": "stream",
     "text": [
      "[0, 2, 0, 0, 0]\n",
      "[1, 1, 0, 0]\n"
     ]
    }
   ],
   "source": [
    "logs1 = [[0, 5], [1, 2], [0, 2], [0, 5], [1, 3]]\n",
    "k1 = 5\n",
    "logs2 = [[1, 1], [2, 2], [2, 3]]\n",
    "k2 = 4\n",
    "\n",
    "print(counting_pirates_action_minutes(logs1, k1))\n",
    "print(counting_pirates_action_minutes(logs2, k2))"
   ]
  },
  {
   "cell_type": "markdown",
   "id": "29917efe",
   "metadata": {},
   "source": [
    "# THE END"
   ]
  }
 ],
 "metadata": {
  "kernelspec": {
   "display_name": ".venv",
   "language": "python",
   "name": "python3"
  },
  "language_info": {
   "codemirror_mode": {
    "name": "ipython",
    "version": 3
   },
   "file_extension": ".py",
   "mimetype": "text/x-python",
   "name": "python",
   "nbconvert_exporter": "python",
   "pygments_lexer": "ipython3",
   "version": "3.12.11"
  }
 },
 "nbformat": 4,
 "nbformat_minor": 5
}
