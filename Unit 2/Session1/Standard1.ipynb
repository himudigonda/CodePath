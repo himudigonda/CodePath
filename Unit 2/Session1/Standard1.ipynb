{
 "cells": [
  {
   "cell_type": "markdown",
   "id": "54d25819",
   "metadata": {},
   "source": [
    "## Problem 1: Festival Lineup"
   ]
  },
  {
   "cell_type": "code",
   "execution_count": 1,
   "id": "7e48a880",
   "metadata": {},
   "outputs": [],
   "source": [
    "def lineup(artists, set_times):\n",
    "    ret = {}\n",
    "    for i in range(len(artists)):\n",
    "        ret[artists[i]] = set_times[i]\n",
    "    return ret"
   ]
  },
  {
   "cell_type": "code",
   "execution_count": 2,
   "id": "df64e79c",
   "metadata": {},
   "outputs": [
    {
     "name": "stdout",
     "output_type": "stream",
     "text": [
      "{'Kendrick Lamar': '9:30 PM', 'Chappell Roan': '5:00 PM', 'Mitski': '2:00 PM', 'Rosalia': '7:30 PM'}\n",
      "{}\n"
     ]
    }
   ],
   "source": [
    "artists1 = [\"Kendrick Lamar\", \"Chappell Roan\", \"Mitski\", \"Rosalia\"]\n",
    "set_times1 = [\"9:30 PM\", \"5:00 PM\", \"2:00 PM\", \"7:30 PM\"]\n",
    "\n",
    "artists2 = []\n",
    "set_times2 = []\n",
    "\n",
    "print(lineup(artists1, set_times1))\n",
    "print(lineup(artists2, set_times2))"
   ]
  },
  {
   "cell_type": "markdown",
   "id": "c5393484",
   "metadata": {},
   "source": [
    "## Problem 2: Planning App"
   ]
  },
  {
   "cell_type": "code",
   "execution_count": 3,
   "id": "68c05e41",
   "metadata": {},
   "outputs": [],
   "source": [
    "def get_artist_info(artist, festival_schedule):\n",
    "    return festival_schedule[artist] if artist in festival_schedule else {'message': 'Artist not found'}"
   ]
  },
  {
   "cell_type": "code",
   "execution_count": 4,
   "id": "1d5afb3d",
   "metadata": {},
   "outputs": [
    {
     "name": "stdout",
     "output_type": "stream",
     "text": [
      "{'day': 'Friday', 'time': '9:00 PM', 'stage': 'Main Stage'}\n",
      "{'message': 'Artist not found'}\n"
     ]
    }
   ],
   "source": [
    "festival_schedule = {\n",
    "    \"Blood Orange\": {\"day\": \"Friday\", \"time\": \"9:00 PM\", \"stage\": \"Main Stage\"},\n",
    "    \"Metallica\": {\"day\": \"Saturday\", \"time\": \"8:00 PM\", \"stage\": \"Main Stage\"},\n",
    "    \"Kali Uchis\": {\"day\": \"Sunday\", \"time\": \"7:00 PM\", \"stage\": \"Second Stage\"},\n",
    "    \"Lawrence\": {\"day\": \"Friday\", \"time\": \"6:00 PM\", \"stage\": \"Main Stage\"},\n",
    "}\n",
    "\n",
    "print(get_artist_info(\"Blood Orange\", festival_schedule))\n",
    "print(get_artist_info(\"Taylor Swift\", festival_schedule))"
   ]
  },
  {
   "cell_type": "markdown",
   "id": "95c46bef",
   "metadata": {},
   "source": [
    "## Problem 3: Ticket Sales"
   ]
  },
  {
   "cell_type": "code",
   "execution_count": 5,
   "id": "775d1dd3",
   "metadata": {},
   "outputs": [],
   "source": [
    "def total_sales(ticket_sales):\n",
    "    return sum(ticket_sales.values())"
   ]
  },
  {
   "cell_type": "code",
   "execution_count": 6,
   "id": "492da355",
   "metadata": {},
   "outputs": [
    {
     "name": "stdout",
     "output_type": "stream",
     "text": [
      "4500\n"
     ]
    }
   ],
   "source": [
    "ticket_sales = {\"Friday\": 200, \"Saturday\": 1000, \"Sunday\": 800, \"3-Day Pass\": 2500}\n",
    "\n",
    "print(total_sales(ticket_sales))"
   ]
  },
  {
   "cell_type": "markdown",
   "id": "86da2426",
   "metadata": {},
   "source": [
    "## Problem 4: Scheduling Conflict"
   ]
  },
  {
   "cell_type": "code",
   "execution_count": 7,
   "id": "3cbd27f4",
   "metadata": {},
   "outputs": [],
   "source": [
    "def identify_conflicts(venue1_schedule, venue2_schedule):\n",
    "    result = {}\n",
    "    for artist in venue1_schedule.keys():\n",
    "        if artist in venue2_schedule:\n",
    "            if venue1_schedule[artist] == venue2_schedule[artist]:\n",
    "                result[artist] = venue1_schedule[artist]\n",
    "    return result"
   ]
  },
  {
   "cell_type": "code",
   "execution_count": 8,
   "id": "d8d0cc85",
   "metadata": {},
   "outputs": [
    {
     "name": "stdout",
     "output_type": "stream",
     "text": [
      "{'Stromae': '9:00 PM', 'HARDY': '7:00 PM'}\n"
     ]
    }
   ],
   "source": [
    "venue1_schedule = {\n",
    "    \"Stromae\": \"9:00 PM\",\n",
    "    \"Janelle Monáe\": \"8:00 PM\",\n",
    "    \"HARDY\": \"7:00 PM\",\n",
    "    \"Bruce Springsteen\": \"6:00 PM\",\n",
    "}\n",
    "\n",
    "venue2_schedule = {\n",
    "    \"Stromae\": \"9:00 PM\",\n",
    "    \"Janelle Monáe\": \"10:30 PM\",\n",
    "    \"HARDY\": \"7:00 PM\",\n",
    "    \"Wizkid\": \"6:00 PM\",\n",
    "}\n",
    "\n",
    "print(identify_conflicts(venue1_schedule, venue2_schedule))"
   ]
  },
  {
   "cell_type": "markdown",
   "id": "4bb98c78",
   "metadata": {},
   "source": [
    "## Problem 5: Best Set"
   ]
  },
  {
   "cell_type": "code",
   "execution_count": 9,
   "id": "9368157f",
   "metadata": {},
   "outputs": [],
   "source": [
    "from collections import Counter\n",
    "def best_set(votes):\n",
    "    votes = list(votes.values())\n",
    "    counts = Counter(votes)\n",
    "    return max(counts.items(), key = lambda count: counts[count])[0]"
   ]
  },
  {
   "cell_type": "code",
   "execution_count": 10,
   "id": "d0cd2384",
   "metadata": {},
   "outputs": [
    {
     "name": "stdout",
     "output_type": "stream",
     "text": [
      "SZA\n",
      "SZA\n"
     ]
    }
   ],
   "source": [
    "votes1 = {\n",
    "    1234: \"SZA\",\n",
    "    1235: \"Yo-Yo Ma\",\n",
    "    1236: \"Ethel Cain\",\n",
    "    1237: \"Ethel Cain\",\n",
    "    1238: \"SZA\",\n",
    "    1239: \"SZA\",\n",
    "}\n",
    "\n",
    "votes2 = {\n",
    "    1234: \"SZA\",\n",
    "    1235: \"Yo-Yo Ma\",\n",
    "    1236: \"Ethel Cain\",\n",
    "    1237: \"Ethel Cain\",\n",
    "    1238: \"SZA\",\n",
    "}\n",
    "\n",
    "print(best_set(votes1))\n",
    "print(best_set(votes2))"
   ]
  },
  {
   "cell_type": "markdown",
   "id": "380b256f",
   "metadata": {},
   "source": [
    "## Problem 6: Performances with Maximum Audience"
   ]
  },
  {
   "cell_type": "code",
   "execution_count": 11,
   "id": "d21c02dc",
   "metadata": {},
   "outputs": [],
   "source": [
    "def max_audience_performances(audiences):\n",
    "    val = max(audiences)\n",
    "    counts = Counter(audiences)\n",
    "    return counts[val]*val"
   ]
  },
  {
   "cell_type": "code",
   "execution_count": 12,
   "id": "e6a73227",
   "metadata": {},
   "outputs": [
    {
     "name": "stdout",
     "output_type": "stream",
     "text": [
      "250\n",
      "440\n"
     ]
    }
   ],
   "source": [
    "audiences1 = [100, 200, 200, 150, 100, 250]\n",
    "audiences2 = [120, 180, 220, 150, 220]\n",
    "\n",
    "print(max_audience_performances(audiences1))\n",
    "print(max_audience_performances(audiences2))"
   ]
  },
  {
   "cell_type": "markdown",
   "id": "28e714aa",
   "metadata": {},
   "source": [
    "## Problem 7: Performances with Maximum Audience II"
   ]
  },
  {
   "cell_type": "code",
   "execution_count": 13,
   "id": "d0a1b6d0",
   "metadata": {},
   "outputs": [],
   "source": [
    "def max_audience_performances(audiences):\n",
    "    max_val = float('-inf')\n",
    "    max_count = 0\n",
    "    total_sum = 0\n",
    "\n",
    "    for i in audiences:\n",
    "        if max_val == i:\n",
    "            max_count += 1\n",
    "        elif max_val>i:\n",
    "            continue\n",
    "        else:\n",
    "            max_val = i\n",
    "            max_count = 1\n",
    "    return max_count * max_val"
   ]
  },
  {
   "cell_type": "code",
   "execution_count": 14,
   "id": "a6ecdacc",
   "metadata": {},
   "outputs": [
    {
     "name": "stdout",
     "output_type": "stream",
     "text": [
      "250\n",
      "440\n"
     ]
    }
   ],
   "source": [
    "audiences1 = [100, 200, 200, 150, 100, 250]\n",
    "audiences2 = [120, 180, 220, 150, 220]\n",
    "\n",
    "print(max_audience_performances(audiences1))\n",
    "print(max_audience_performances(audiences2))"
   ]
  },
  {
   "cell_type": "markdown",
   "id": "fc1b0911",
   "metadata": {},
   "source": [
    "## Problem 8: Popular Song Pairs"
   ]
  },
  {
   "cell_type": "code",
   "execution_count": null,
   "id": "49c47009",
   "metadata": {},
   "outputs": [],
   "source": [
    "def num_popular_pairs(popularity_scores):\n",
    "    seen = {}\n",
    "    res = 0\n",
    "    for i in popularity_scores:\n",
    "        if i in seen:\n",
    "            res += seen[i]\n",
    "            seen[i] += 1\n",
    "        else:\n",
    "            seen[i] = 1\n",
    "    return res\n",
    "\n",
    "# from collections import defaultdict\n",
    "# def num_popular_pairs(popularity_scores):\n",
    "#     seen = defaultdict(int)\n",
    "#     res = 0\n",
    "#     for i in popularity_scores:\n",
    "#         res += seen[i]\n",
    "#         seen[i] += 1\n",
    "#     return res"
   ]
  },
  {
   "cell_type": "code",
   "execution_count": 28,
   "id": "4112ead7",
   "metadata": {},
   "outputs": [
    {
     "name": "stdout",
     "output_type": "stream",
     "text": [
      "4\n",
      "6\n",
      "0\n"
     ]
    }
   ],
   "source": [
    "popularity_scores1 = [1, 2, 3, 1, 1, 3]\n",
    "popularity_scores2 = [1, 1, 1, 1]\n",
    "popularity_scores3 = [1, 2, 3]\n",
    "\n",
    "print(num_popular_pairs(popularity_scores1))\n",
    "print(num_popular_pairs(popularity_scores2))\n",
    "print(num_popular_pairs(popularity_scores3))"
   ]
  },
  {
   "cell_type": "markdown",
   "id": "4ebf3d76",
   "metadata": {},
   "source": [
    "## Problem 9: Stage Arrangement Difference Between Two Performances\n"
   ]
  },
  {
   "cell_type": "code",
   "execution_count": 29,
   "id": "4b56312b",
   "metadata": {},
   "outputs": [],
   "source": [
    "def find_stage_arrangement_difference(s, t):\n",
    "    \"\"\"\n",
    "    :type s: List[str]\n",
    "    :type t: List[str]\n",
    "    :rtype: int\n",
    "    \"\"\"\n",
    "    res = 0\n",
    "    for name in s:\n",
    "        s_loc = s.index(name)\n",
    "        t_loc = t.index(name)\n",
    "        res += abs(s_loc - t_loc)\n",
    "    return res\n"
   ]
  },
  {
   "cell_type": "code",
   "execution_count": 30,
   "id": "075dca59",
   "metadata": {},
   "outputs": [
    {
     "name": "stdout",
     "output_type": "stream",
     "text": [
      "2\n",
      "12\n"
     ]
    }
   ],
   "source": [
    "s1 = [\"Alice\", \"Bob\", \"Charlie\"]\n",
    "t1 = [\"Bob\", \"Alice\", \"Charlie\"]\n",
    "s2 = [\"Alice\", \"Bob\", \"Charlie\", \"David\", \"Eve\"]\n",
    "t2 = [\"Eve\", \"David\", \"Bob\", \"Alice\", \"Charlie\"]\n",
    "\n",
    "print(find_stage_arrangement_difference(s1, t1))\n",
    "print(find_stage_arrangement_difference(s2, t2))"
   ]
  },
  {
   "cell_type": "markdown",
   "id": "75d103e3",
   "metadata": {},
   "source": [
    "## Problem 10: VIP Passes and Guests"
   ]
  },
  {
   "cell_type": "code",
   "execution_count": 31,
   "id": "4640b6a7",
   "metadata": {},
   "outputs": [],
   "source": [
    "def num_VIP_guests(vip_passes, guests):\n",
    "    vip_set = set(vip_passes)\n",
    "    res = 0\n",
    "    for char in guests:\n",
    "        if char in vip_set:\n",
    "            res += 1\n",
    "\n",
    "    return res\n"
   ]
  },
  {
   "cell_type": "code",
   "execution_count": 32,
   "id": "50e8de79",
   "metadata": {},
   "outputs": [
    {
     "name": "stdout",
     "output_type": "stream",
     "text": [
      "3\n",
      "0\n"
     ]
    }
   ],
   "source": [
    "vip_passes1 = \"aA\"\n",
    "guests1 = \"aAAbbbb\"\n",
    "\n",
    "vip_passes2 = \"z\"\n",
    "guests2 = \"ZZ\"\n",
    "\n",
    "print(num_VIP_guests(vip_passes1, guests1))\n",
    "print(num_VIP_guests(vip_passes2, guests2))"
   ]
  },
  {
   "cell_type": "markdown",
   "id": "127e6b00",
   "metadata": {},
   "source": [
    "## Problem 11: Performer Schedule Pattern\n"
   ]
  },
  {
   "cell_type": "code",
   "execution_count": 55,
   "id": "545bdc89",
   "metadata": {},
   "outputs": [],
   "source": [
    "def schedule_pattern(pattern, schedule):\n",
    "\n",
    "    genres = schedule.split()\n",
    "\n",
    "    if len(genres) != len(pattern):\n",
    "        return False\n",
    "\n",
    "    char_to_genre = {}\n",
    "    genre_to_char = {}\n",
    "\n",
    "    for char, genre in zip(pattern, genres):\n",
    "        if char in char_to_genre:\n",
    "            if char_to_genre[char] == genre:\n",
    "                # return True\n",
    "                continue\n",
    "            else:\n",
    "                return False\n",
    "        else:\n",
    "            char_to_genre[char] = genre\n",
    "            # return False\n",
    "\n",
    "        if genre in genre_to_char:\n",
    "            if genre_to_char[genre] == char:\n",
    "                # return True\n",
    "                continue\n",
    "            else:\n",
    "                return False\n",
    "        else:\n",
    "            genre_to_char[genre] = char\n",
    "\n",
    "    # return False\n",
    "    return True"
   ]
  },
  {
   "cell_type": "code",
   "execution_count": 56,
   "id": "d14c8ebd",
   "metadata": {},
   "outputs": [
    {
     "name": "stdout",
     "output_type": "stream",
     "text": [
      "True\n",
      "False\n",
      "False\n"
     ]
    }
   ],
   "source": [
    "pattern1 = \"abba\"\n",
    "schedule1 = \"rock jazz jazz rock\"\n",
    "\n",
    "pattern2 = \"abba\"\n",
    "schedule2 = \"rock jazz jazz blues\"\n",
    "\n",
    "pattern3 = \"aaaa\"\n",
    "schedule3 = \"rock jazz jazz rock\"\n",
    "\n",
    "print(schedule_pattern(pattern1, schedule1))\n",
    "print(schedule_pattern(pattern2, schedule2))\n",
    "print(schedule_pattern(pattern3, schedule3))"
   ]
  },
  {
   "cell_type": "markdown",
   "id": "41faeac2",
   "metadata": {},
   "source": [
    "## Problem 12: Sort the Performers\n"
   ]
  },
  {
   "cell_type": "code",
   "execution_count": 79,
   "id": "62afd12b",
   "metadata": {},
   "outputs": [],
   "source": [
    "def sort_performers(performer_names, performance_times):\n",
    "    \"\"\"\n",
    "    :type performer_names: List[str]\n",
    "    :type performance_times: List[int]\n",
    "    :rtype: List[str]\n",
    "    \"\"\"\n",
    "    mapping = []\n",
    "    for i in range(len(performance_times)):\n",
    "        mapping.append([performer_names[i],performance_times[i]])\n",
    "    mapping_sorted = sorted(mapping, key = lambda a:a[1], reverse=True)\n",
    "    return [i for i, j in mapping_sorted]"
   ]
  },
  {
   "cell_type": "code",
   "execution_count": 80,
   "id": "84324124",
   "metadata": {},
   "outputs": [
    {
     "name": "stdout",
     "output_type": "stream",
     "text": [
      "['Mary', 'Emma', 'John']\n",
      "['Bob', 'Alice', 'Bob']\n"
     ]
    }
   ],
   "source": [
    "performer_names1 = [\"Mary\", \"John\", \"Emma\"]\n",
    "performance_times1 = [180, 165, 170]\n",
    "\n",
    "performer_names2 = [\"Alice\", \"Bob\", \"Bob\"]\n",
    "performance_times2 = [155, 185, 150]\n",
    "\n",
    "print(sort_performers(performer_names1, performance_times1))\n",
    "print(sort_performers(performer_names2, performance_times2))"
   ]
  },
  {
   "cell_type": "markdown",
   "id": "81f7bf7e",
   "metadata": {},
   "source": [
    "# THE END"
   ]
  }
 ],
 "metadata": {
  "kernelspec": {
   "display_name": ".venv",
   "language": "python",
   "name": "python3"
  },
  "language_info": {
   "codemirror_mode": {
    "name": "ipython",
    "version": 3
   },
   "file_extension": ".py",
   "mimetype": "text/x-python",
   "name": "python",
   "nbconvert_exporter": "python",
   "pygments_lexer": "ipython3",
   "version": "3.12.11"
  }
 },
 "nbformat": 4,
 "nbformat_minor": 5
}
