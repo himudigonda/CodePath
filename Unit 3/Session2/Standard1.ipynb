{
 "cells": [
  {
   "cell_type": "markdown",
   "id": "3c45c05d",
   "metadata": {},
   "source": [
    "Problem 1: Manage Performance Stage Changes\n"
   ]
  },
  {
   "cell_type": "code",
   "execution_count": 5,
   "id": "c5b7c891",
   "metadata": {},
   "outputs": [],
   "source": [
    "def manage_stage_changes(changes):\n",
    "    output = []\n",
    "    cancelled = []\n",
    "    for i in changes:\n",
    "        if i.startswith('Schedule'):\n",
    "            output.append(i.split()[1])\n",
    "        if i == \"Cancel\":\n",
    "            cancelled.append(output.pop())\n",
    "        if i == \"Reschedule\":\n",
    "            output.append(cancelled.pop())\n",
    "    return output"
   ]
  },
  {
   "cell_type": "code",
   "execution_count": 6,
   "id": "1e1a6700",
   "metadata": {},
   "outputs": [
    {
     "name": "stdout",
     "output_type": "stream",
     "text": [
      "['A', 'C', 'B', 'D']\n",
      "[]\n",
      "['Z']\n"
     ]
    }
   ],
   "source": [
    "print(manage_stage_changes([\"Schedule A\", \"Schedule B\", \"Cancel\", \"Schedule C\", \"Reschedule\", \"Schedule D\"]))  \n",
    "print(manage_stage_changes([\"Schedule A\", \"Cancel\", \"Schedule B\", \"Cancel\", \"Reschedule\", \"Cancel\"])) \n",
    "print(manage_stage_changes([\"Schedule X\", \"Schedule Y\", \"Cancel\", \"Cancel\", \"Schedule Z\"])) \n"
   ]
  },
  {
   "cell_type": "markdown",
   "id": "29b5f2ff",
   "metadata": {},
   "source": [
    "## Problem 2: Queue of Performance Requests\n"
   ]
  },
  {
   "cell_type": "code",
   "execution_count": 19,
   "id": "ac32943c",
   "metadata": {},
   "outputs": [],
   "source": [
    "def process_performance_requests(requests):\n",
    "    result = []\n",
    "    temp = []\n",
    "    for i in requests:\n",
    "        while result and result[-1][0] < i[0]:\n",
    "            temp.append(result.pop())\n",
    "        result.append(i)\n",
    "        while temp:\n",
    "            result.append(temp.pop())\n",
    "    return [j for i, j in result]"
   ]
  },
  {
   "cell_type": "code",
   "execution_count": 20,
   "id": "ecb3d3a8",
   "metadata": {},
   "outputs": [
    {
     "name": "stdout",
     "output_type": "stream",
     "text": [
      "['Music', 'Dance', 'Drama']\n",
      "['Concert', 'Stand-up Comedy', 'Poetry', 'Magic Show']\n",
      "['Keynote Speech', 'Panel Discussion', 'Film Screening', 'Workshop', 'Art Exhibition']\n"
     ]
    }
   ],
   "source": [
    "print(process_performance_requests([(3, \"Dance\"), (5, \"Music\"), (1, \"Drama\")]))\n",
    "print(\n",
    "    process_performance_requests(\n",
    "        [(2, \"Poetry\"), (1, \"Magic Show\"), (4, \"Concert\"), (3, \"Stand-up Comedy\")]\n",
    "    )\n",
    ")\n",
    "print(\n",
    "    process_performance_requests(\n",
    "        [\n",
    "            (1, \"Art Exhibition\"),\n",
    "            (3, \"Film Screening\"),\n",
    "            (2, \"Workshop\"),\n",
    "            (5, \"Keynote Speech\"),\n",
    "            (4, \"Panel Discussion\"),\n",
    "        ]\n",
    "    )\n",
    ")"
   ]
  },
  {
   "cell_type": "markdown",
   "id": "0de7231d",
   "metadata": {},
   "source": [
    "## Problem 3: Collecting Points at Festival Booths\n"
   ]
  },
  {
   "cell_type": "code",
   "execution_count": 21,
   "id": "cad9de92",
   "metadata": {},
   "outputs": [],
   "source": [
    "def collect_festival_points(points):\n",
    "    result = 0\n",
    "    while points:\n",
    "        result += points.pop()\n",
    "    return result"
   ]
  },
  {
   "cell_type": "code",
   "execution_count": 22,
   "id": "92b7f718",
   "metadata": {},
   "outputs": [
    {
     "name": "stdout",
     "output_type": "stream",
     "text": [
      "26\n",
      "19\n",
      "25\n"
     ]
    }
   ],
   "source": [
    "print(collect_festival_points([5, 8, 3, 10]))\n",
    "print(collect_festival_points([2, 7, 4, 6]))\n",
    "print(collect_festival_points([1, 5, 9, 2, 8]))"
   ]
  },
  {
   "cell_type": "markdown",
   "id": "acd931e1",
   "metadata": {},
   "source": [
    "## Problem 4: Festival Booth Navigation"
   ]
  },
  {
   "cell_type": "code",
   "execution_count": 25,
   "id": "d47cb774",
   "metadata": {},
   "outputs": [],
   "source": [
    "def booth_navigation(clues):\n",
    "    res = []\n",
    "    for clue in clues:\n",
    "        if clue != 'back':\n",
    "            res.append(clue)\n",
    "        else:\n",
    "            if not res: continue\n",
    "            res.pop()\n",
    "\n",
    "    return res"
   ]
  },
  {
   "cell_type": "code",
   "execution_count": 26,
   "id": "da9ecac7",
   "metadata": {},
   "outputs": [
    {
     "name": "stdout",
     "output_type": "stream",
     "text": [
      "[1, 3, 4]\n",
      "[5, 7]\n",
      "[3]\n"
     ]
    }
   ],
   "source": [
    "clues = [1, 2, \"back\", 3, 4]\n",
    "print(booth_navigation(clues))\n",
    "\n",
    "clues = [5, 3, 2, \"back\", \"back\", 7]\n",
    "print(booth_navigation(clues))\n",
    "\n",
    "clues = [1, \"back\", 2, \"back\", \"back\", 3]\n",
    "print(booth_navigation(clues))"
   ]
  },
  {
   "cell_type": "markdown",
   "id": "f8f244c1",
   "metadata": {},
   "source": [
    "## Problem 5: Merge Performance Schedules\n"
   ]
  },
  {
   "cell_type": "code",
   "execution_count": 33,
   "id": "a0023323",
   "metadata": {},
   "outputs": [],
   "source": [
    "def merge_schedules(schedule1, schedule2):\n",
    "    i = 0\n",
    "    res = []\n",
    "    while i<min(len(schedule1), len(schedule2)):\n",
    "        res.append(schedule1[i])\n",
    "        res.append(schedule2[i])\n",
    "        i += 1\n",
    "    if i < len(schedule1):\n",
    "        res.append(schedule1[i:])\n",
    "    if i < len(schedule2):\n",
    "        res.append(schedule2[i:])\n",
    "    return ''.join(res)"
   ]
  },
  {
   "cell_type": "code",
   "execution_count": 34,
   "id": "271fdea0",
   "metadata": {},
   "outputs": [
    {
     "name": "stdout",
     "output_type": "stream",
     "text": [
      "apbqcr\n",
      "apbqrs\n",
      "apbqcd\n"
     ]
    }
   ],
   "source": [
    "print(merge_schedules(\"abc\", \"pqr\"))\n",
    "print(merge_schedules(\"ab\", \"pqrs\"))\n",
    "print(merge_schedules(\"abcd\", \"pq\"))"
   ]
  },
  {
   "cell_type": "markdown",
   "id": "871cce07",
   "metadata": {},
   "source": [
    "## Problem 6: Next Greater Event\n"
   ]
  },
  {
   "cell_type": "code",
   "execution_count": 54,
   "id": "5203c4f1",
   "metadata": {},
   "outputs": [],
   "source": [
    "def next_greater_event(schedule1, schedule2):\n",
    "    # res = []\n",
    "    # for i in schedule1:\n",
    "    #     idx = schedule2.index(i)\n",
    "\n",
    "    #     nxt = -1\n",
    "    #     for j in schedule2[idx + 1:]:\n",
    "    #         if j > i:\n",
    "    #             nxt = j\n",
    "    #             break\n",
    "    #     res.append(nxt)\n",
    "    # return res\n",
    "\n",
    "    stack = [] # to store the untracked events\n",
    "    next_greater = {} # to mapping the next greatest event that comes after the current\n",
    "\n",
    "    for event in schedule2: # iter over each event in the sch2\n",
    "        while stack and event > stack[-1]: # while the stack and the top of the stack < event\n",
    "            smaller = stack.pop() # pop the top\n",
    "            next_greater[smaller] = event # the top's next greater is the cur event\n",
    "        stack.append(event) # now add the event to the stack to continue the mapping\n",
    "    \n",
    "    for leftover in stack: # after all the events are iterated and the stack still has elements\n",
    "        next_greater[leftover] = -1 # that means there are no larger events to the right, so -1\n",
    "    \n",
    "    return [next_greater[event] for event in schedule1] # now return the next grater for all events in the schedule1 using the next_greater mapping we did."
   ]
  },
  {
   "cell_type": "code",
   "execution_count": 55,
   "id": "b09d24bd",
   "metadata": {},
   "outputs": [
    {
     "name": "stdout",
     "output_type": "stream",
     "text": [
      "[-1, 3, -1]\n",
      "[3, -1]\n"
     ]
    }
   ],
   "source": [
    "print(next_greater_event([4, 1, 2], [1, 3, 4, 2]))\n",
    "print(next_greater_event([2, 4], [1, 2, 3, 4]))"
   ]
  },
  {
   "cell_type": "markdown",
   "id": "602fad2a",
   "metadata": {},
   "source": [
    "## Problem 7: Sort Performances by Type\n"
   ]
  },
  {
   "cell_type": "code",
   "execution_count": 67,
   "id": "89d9b7cc",
   "metadata": {},
   "outputs": [],
   "source": [
    "# def sort_performances_by_type(performances):\n",
    "#     even = []\n",
    "#     odd = []\n",
    "#     for i in performances:\n",
    "#         if i % 2 == 0:\n",
    "#             even.append(i)\n",
    "#         else:\n",
    "#             odd.append(i)\n",
    "#     even = even[::-1] # used for test case matching\n",
    "#     even.extend(odd[::-1]) # used for test case matching\n",
    "#     return even\n",
    "def sort_performances_by_type(performances):\n",
    "    left = 0\n",
    "    for right in range(len(performances)):\n",
    "        if performances[right] % 2 == 0:\n",
    "            performances[left], performances[right] = performances[right], performances[left]\n",
    "            left += 1\n",
    "    performances[:left] = performances[:left][::-1]  # used for test case matching\n",
    "    performances[left:] = performances[left:][::-1]  # used for test case matching\n",
    "    return performances"
   ]
  },
  {
   "cell_type": "code",
   "execution_count": 68,
   "id": "05c33d41",
   "metadata": {},
   "outputs": [
    {
     "name": "stdout",
     "output_type": "stream",
     "text": [
      "[4, 2, 1, 3]\n",
      "[0]\n"
     ]
    }
   ],
   "source": [
    "print(sort_performances_by_type([3, 1, 2, 4]))\n",
    "print(sort_performances_by_type([0]))"
   ]
  },
  {
   "cell_type": "markdown",
   "id": "11382a71",
   "metadata": {},
   "source": [
    "## THE END"
   ]
  }
 ],
 "metadata": {
  "kernelspec": {
   "display_name": "codepath",
   "language": "python",
   "name": "python3"
  },
  "language_info": {
   "codemirror_mode": {
    "name": "ipython",
    "version": 3
   },
   "file_extension": ".py",
   "mimetype": "text/x-python",
   "name": "python",
   "nbconvert_exporter": "python",
   "pygments_lexer": "ipython3",
   "version": "3.12.11"
  }
 },
 "nbformat": 4,
 "nbformat_minor": 5
}
