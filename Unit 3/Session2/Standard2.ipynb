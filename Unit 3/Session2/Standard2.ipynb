{
 "cells": [
  {
   "cell_type": "markdown",
   "id": "b9678263",
   "metadata": {},
   "source": [
    "## Problem 1: Final Costs After a Supply Discount\n"
   ]
  },
  {
   "cell_type": "code",
   "execution_count": 37,
   "id": "88380fbb",
   "metadata": {},
   "outputs": [],
   "source": [
    "def final_supply_costs(costs):\n",
    "    stack = []\n",
    "\n",
    "    result = [0] * len(costs)\n",
    "\n",
    "    for i in range(len(costs) - 1, -1, -1):\n",
    "        cost = costs[i]\n",
    "        while stack and stack[-1] > cost:\n",
    "            stack.pop()\n",
    "\n",
    "        result[i] = cost - stack[-1] if stack else cost\n",
    "        stack.append(cost)\n",
    "    return result"
   ]
  },
  {
   "cell_type": "code",
   "execution_count": 38,
   "id": "0de4086b",
   "metadata": {},
   "outputs": [
    {
     "name": "stdout",
     "output_type": "stream",
     "text": [
      "[4, 2, 4, 2, 3]\n",
      "[1, 2, 3, 4, 5]\n",
      "[9, 0, 1, 6]\n"
     ]
    }
   ],
   "source": [
    "print(final_supply_costs([8, 4, 6, 2, 3])) \n",
    "print(final_supply_costs([1, 2, 3, 4, 5])) \n",
    "print(final_supply_costs([10, 1, 1, 6])) \n"
   ]
  },
  {
   "cell_type": "markdown",
   "id": "00872568",
   "metadata": {},
   "source": [
    "## Problem 2: Find First Symmetrical Landmark Name\n"
   ]
  },
  {
   "cell_type": "code",
   "execution_count": 44,
   "id": "e1116760",
   "metadata": {},
   "outputs": [],
   "source": [
    "def first_symmetrical_landmark(landmarks):\n",
    "    def ispalindrome(word):\n",
    "        l = 0\n",
    "        r = len(word) - 1\n",
    "        while l < r:\n",
    "            if word[l] == word[r]:\n",
    "                l += 1\n",
    "                r -= 1\n",
    "            else:\n",
    "                return False\n",
    "        return True\n",
    "\n",
    "\n",
    "    for word in landmarks:\n",
    "        if ispalindrome(word):\n",
    "            return word\n",
    "    return None"
   ]
  },
  {
   "cell_type": "code",
   "execution_count": 45,
   "id": "d0792de0",
   "metadata": {},
   "outputs": [
    {
     "name": "stdout",
     "output_type": "stream",
     "text": [
      "rotor\n",
      "None\n"
     ]
    }
   ],
   "source": [
    "print(first_symmetrical_landmark([\"canyon\", \"forest\", \"rotor\", \"mountain\"]))\n",
    "print(first_symmetrical_landmark([\"plateau\", \"valley\", \"cliff\"]))"
   ]
  },
  {
   "cell_type": "markdown",
   "id": "41935c06",
   "metadata": {},
   "source": [
    "## Problem 3: Terrain Elevation Match\n"
   ]
  },
  {
   "cell_type": "code",
   "execution_count": 9,
   "id": "414551b2",
   "metadata": {},
   "outputs": [],
   "source": [
    "from itertools import permutations\n",
    "\n",
    "def terrain_elevation_match(terrain):\n",
    "    n = len(terrain)\n",
    "    numbers = [i for i in range(n + 1)]\n",
    "\n",
    "    for perm in permutations(numbers):\n",
    "        ok = True\n",
    "        for idx, ch in enumerate(terrain):\n",
    "            if ch == \"I\" and not perm[idx] < perm[idx + 1]:\n",
    "                ok = False\n",
    "                break\n",
    "            if ch == \"D\" and not perm[idx] > perm[idx + 1]:\n",
    "                ok = False\n",
    "                break\n",
    "        if ok:\n",
    "            return list(perm)\n",
    "    return []"
   ]
  },
  {
   "cell_type": "code",
   "execution_count": 15,
   "id": "d3003ffe",
   "metadata": {},
   "outputs": [],
   "source": [
    "def terrain_elevation_match(terrain):\n",
    "    n = len(terrain)\n",
    "    low = 0\n",
    "    high = n\n",
    "    result = []\n",
    "\n",
    "    for char in terrain:\n",
    "        if char == 'I':\n",
    "            result.append(low)\n",
    "            low += 1\n",
    "        if char == \"D\":\n",
    "            result.append(high)\n",
    "            high -= 1\n",
    "    result.append(low)\n",
    "    return result"
   ]
  },
  {
   "cell_type": "code",
   "execution_count": 16,
   "id": "0f80d4b5",
   "metadata": {},
   "outputs": [
    {
     "name": "stdout",
     "output_type": "stream",
     "text": [
      "[0, 4, 1, 3, 2]\n",
      "[0, 1, 2, 3]\n",
      "[3, 2, 0, 1]\n"
     ]
    }
   ],
   "source": [
    "print(terrain_elevation_match(\"IDID\"))\n",
    "print(terrain_elevation_match(\"III\"))\n",
    "print(terrain_elevation_match(\"DDI\"))"
   ]
  },
  {
   "cell_type": "markdown",
   "id": "e407ab08",
   "metadata": {},
   "source": [
    "## Problem 4: Find the Expedition Log Concatenation Value"
   ]
  },
  {
   "cell_type": "code",
   "execution_count": 35,
   "id": "a1a5eac3",
   "metadata": {},
   "outputs": [],
   "source": [
    "from collections import deque\n",
    "def find_the_log_conc_val(logs):\n",
    "    val = 0\n",
    "    q = deque(logs)\n",
    "    while q:\n",
    "        if len(q) >= 2:\n",
    "            a = q.popleft()\n",
    "            b = q.pop()\n",
    "            res = str(a) + str(b)\n",
    "            val += int(res)\n",
    "        else:\n",
    "            val += q.pop()\n",
    "    return val"
   ]
  },
  {
   "cell_type": "code",
   "execution_count": 36,
   "id": "9cd89a49",
   "metadata": {},
   "outputs": [
    {
     "name": "stdout",
     "output_type": "stream",
     "text": [
      "596\n",
      "673\n"
     ]
    }
   ],
   "source": [
    "print(find_the_log_conc_val([7, 52, 2, 4]))\n",
    "print(find_the_log_conc_val([5, 14, 13, 8, 12]))"
   ]
  },
  {
   "cell_type": "markdown",
   "id": "f72c1991",
   "metadata": {},
   "source": [
    "## Problem 5: Number of Explorers Unable to Gather Supplies\n"
   ]
  },
  {
   "cell_type": "code",
   "execution_count": 43,
   "id": "5b48ea39",
   "metadata": {},
   "outputs": [],
   "source": [
    "def count_explorers(explorers, supplies):\n",
    "    explorers = deque(explorers)\n",
    "    supplies = deque(supplies)\n",
    "    rot = 0\n",
    "\n",
    "    while explorers and supplies:\n",
    "        cur = explorers.popleft()\n",
    "        if cur == supplies[0]:\n",
    "            supplies.popleft()\n",
    "            rot = 0\n",
    "        else:\n",
    "            explorers.append(cur)\n",
    "            rot += 1\n",
    "        if rot == len(explorers):\n",
    "            break\n",
    "    return len(explorers)"
   ]
  },
  {
   "cell_type": "code",
   "execution_count": 47,
   "id": "e42136cc",
   "metadata": {},
   "outputs": [],
   "source": [
    "from collections import Counter\n",
    "def count_explorers(explorers, supplies):\n",
    "    counts = Counter(explorers)\n",
    "    for i in supplies:\n",
    "        if i == 0 and counts[0]:\n",
    "            counts[0] -= 1\n",
    "        elif i == 1 and counts[1]:\n",
    "            counts[1] -= 1\n",
    "        else:\n",
    "            break\n",
    "    return counts[0] + counts[1]"
   ]
  },
  {
   "cell_type": "code",
   "execution_count": 48,
   "id": "ae3b9e96",
   "metadata": {},
   "outputs": [
    {
     "name": "stdout",
     "output_type": "stream",
     "text": [
      "0\n",
      "3\n"
     ]
    }
   ],
   "source": [
    "print(count_explorers([1, 1, 0, 0], [0, 1, 0, 1]))\n",
    "print(count_explorers([1, 1, 1, 0, 0, 1], [1, 0, 0, 0, 1, 1]))"
   ]
  },
  {
   "cell_type": "markdown",
   "id": "ae51a244",
   "metadata": {},
   "source": [
    "## Problem 6: Count Balanced Terrain Subsections"
   ]
  },
  {
   "cell_type": "code",
   "execution_count": 2,
   "id": "24485284",
   "metadata": {},
   "outputs": [],
   "source": [
    "def count_balanced_terrain_subsections(terrain):\n",
    "    groups = []\n",
    "    count = 1\n",
    "    \n",
    "    for i in range(1, len(terrain)):\n",
    "        if terrain[i] == terrain[i - 1]:\n",
    "            count += 1\n",
    "        else:\n",
    "            groups.append(count)\n",
    "            count = 1\n",
    "    groups.append(count)\n",
    "\n",
    "    res = 0\n",
    "    for i in range(1, len(groups)):\n",
    "        res += min(groups[i - 1], groups[i])\n",
    "    return res"
   ]
  },
  {
   "cell_type": "code",
   "execution_count": 3,
   "id": "b8367851",
   "metadata": {},
   "outputs": [
    {
     "name": "stdout",
     "output_type": "stream",
     "text": [
      "6\n",
      "4\n"
     ]
    }
   ],
   "source": [
    "print(count_balanced_terrain_subsections(\"00110011\"))\n",
    "print(count_balanced_terrain_subsections(\"10101\"))"
   ]
  },
  {
   "cell_type": "markdown",
   "id": "613df446",
   "metadata": {},
   "source": [
    "## Problem 7: Check if a Signal Occurs as a Prefix in Any Transmission\n"
   ]
  },
  {
   "cell_type": "code",
   "execution_count": 5,
   "id": "72021565",
   "metadata": {},
   "outputs": [],
   "source": [
    "def is_prefix_of_signal(transmission, searchSignal):\n",
    "    words = transmission.split()\n",
    "    for idx, val in enumerate(words):\n",
    "        if val.startswith(searchSignal):\n",
    "            return idx + 1\n",
    "    return -1"
   ]
  },
  {
   "cell_type": "code",
   "execution_count": 6,
   "id": "7d08e65b",
   "metadata": {},
   "outputs": [
    {
     "name": "stdout",
     "output_type": "stream",
     "text": [
      "4\n",
      "2\n",
      "-1\n"
     ]
    }
   ],
   "source": [
    "print(is_prefix_of_signal(\"i love eating burger\", \"burg\"))\n",
    "print(is_prefix_of_signal(\"this problem is an easy problem\", \"pro\"))\n",
    "print(is_prefix_of_signal(\"i am tired\", \"you\"))"
   ]
  },
  {
   "cell_type": "markdown",
   "id": "e5ce57dd",
   "metadata": {},
   "source": [
    "# THE END"
   ]
  }
 ],
 "metadata": {
  "kernelspec": {
   "display_name": ".venv",
   "language": "python",
   "name": "python3"
  },
  "language_info": {
   "codemirror_mode": {
    "name": "ipython",
    "version": 3
   },
   "file_extension": ".py",
   "mimetype": "text/x-python",
   "name": "python",
   "nbconvert_exporter": "python",
   "pygments_lexer": "ipython3",
   "version": "3.12.12"
  }
 },
 "nbformat": 4,
 "nbformat_minor": 5
}
