{
 "cells": [
  {
   "cell_type": "markdown",
   "id": "ef32b2ec",
   "metadata": {},
   "source": [
    "## Problem 1: Score of Mystical Market Chains\n"
   ]
  },
  {
   "cell_type": "code",
   "execution_count": 10,
   "id": "7766fe30",
   "metadata": {},
   "outputs": [],
   "source": [
    "def score_of_mystical_market_chains(chain):\n",
    "    stack = [0]\n",
    "    for c in chain:\n",
    "        if c == '(':\n",
    "            stack.append(0)\n",
    "        else:\n",
    "            prev = stack.pop()\n",
    "            stack[-1] = stack[-1] + max(1, 2 * prev)\n",
    "    return stack[0]"
   ]
  },
  {
   "cell_type": "code",
   "execution_count": 11,
   "id": "4a022eb1",
   "metadata": {},
   "outputs": [
    {
     "name": "stdout",
     "output_type": "stream",
     "text": [
      "1\n",
      "2\n",
      "2\n",
      "6\n"
     ]
    }
   ],
   "source": [
    "print(score_of_mystical_market_chains(\"()\"))  \n",
    "print(score_of_mystical_market_chains(\"(())\"))\n",
    "print(score_of_mystical_market_chains(\"()()\")) \n",
    "print(score_of_mystical_market_chains(\"(()(()))\")) \n"
   ]
  },
  {
   "cell_type": "markdown",
   "id": "eab35570",
   "metadata": {},
   "source": [
    "## Problem 2: Arrange Magical Orbs\n"
   ]
  },
  {
   "cell_type": "code",
   "execution_count": 20,
   "id": "c7a910ad",
   "metadata": {},
   "outputs": [],
   "source": [
    "def arrange_magical_orbs(orbs):\n",
    "    zero_pointer = 0\n",
    "    one_pointer = 0\n",
    "    two_pointer = len(orbs) - 1\n",
    "\n",
    "    while one_pointer <= two_pointer:\n",
    "        if orbs[one_pointer] == 0:\n",
    "            orbs[zero_pointer], orbs[one_pointer] = orbs[one_pointer], orbs[zero_pointer]\n",
    "            zero_pointer += 1\n",
    "            one_pointer += 1\n",
    "        elif orbs[one_pointer] == 1:\n",
    "            one_pointer += 1\n",
    "        else:\n",
    "            orbs[two_pointer], orbs[one_pointer] = orbs[one_pointer], orbs[two_pointer]\n",
    "            two_pointer -= 1\n",
    "            one_pointer += 1\n",
    "        \n",
    "\n"
   ]
  },
  {
   "cell_type": "code",
   "execution_count": 21,
   "id": "c661fce5",
   "metadata": {},
   "outputs": [
    {
     "name": "stdout",
     "output_type": "stream",
     "text": [
      "[0, 0, 1, 1, 2, 2]\n",
      "[0, 1, 2]\n"
     ]
    }
   ],
   "source": [
    "orbs1 = [2, 0, 2, 1, 1, 0]\n",
    "arrange_magical_orbs(orbs1)\n",
    "print(orbs1) \n",
    "\n",
    "orbs2 = [2, 0, 1]\n",
    "arrange_magical_orbs(orbs2)\n",
    "print(orbs2) \n"
   ]
  },
  {
   "cell_type": "markdown",
   "id": "0e61556c",
   "metadata": {},
   "source": [
    "## Problem 3: Matching of Buyers with Sellers\n"
   ]
  },
  {
   "cell_type": "code",
   "execution_count": 37,
   "id": "2323ea81",
   "metadata": {},
   "outputs": [],
   "source": [
    "def match_buyers_and_sellers(buyers, sellers):\n",
    "    buyers.sort()\n",
    "    sellers.sort()\n",
    "    # count = 0\n",
    "    # for i in range(min(len(buyers), len(sellers))):\n",
    "    #     if buyers[i] >= sellers[i]:\n",
    "    #         count += 1\n",
    "    #     else:\n",
    "    #         continue\n",
    "    # return count\n",
    "\n",
    "    count = i = j = 0\n",
    "    while i < len(buyers) and j < len(sellers):\n",
    "        if buyers[i] > sellers[j]:\n",
    "            i += 1\n",
    "            j += 1\n",
    "            count += 1\n",
    "        else:\n",
    "            i += 1\n",
    "    return count\n"
   ]
  },
  {
   "cell_type": "code",
   "execution_count": 38,
   "id": "c714d2de",
   "metadata": {},
   "outputs": [
    {
     "name": "stdout",
     "output_type": "stream",
     "text": [
      "3\n",
      "0\n",
      "3\n"
     ]
    }
   ],
   "source": [
    "buyers1 = [4, 7, 9]\n",
    "sellers1 = [8, 2, 5, 8]\n",
    "print(match_buyers_and_sellers(buyers1, sellers1)) \n",
    "\n",
    "buyers2 = [1, 1, 1]\n",
    "sellers2 = [10]\n",
    "print(match_buyers_and_sellers(buyers2, sellers2))\n",
    "\n",
    "buyers2 = [100, 90, 80]\n",
    "sellers2 = [10, 20, 30]\n",
    "print(match_buyers_and_sellers(buyers2, sellers2))\n"
   ]
  },
  {
   "cell_type": "markdown",
   "id": "3850d3e7",
   "metadata": {},
   "source": [
    "## Problem 4: Maximum Value from Removing Rare Items\n"
   ]
  },
  {
   "cell_type": "code",
   "execution_count": 46,
   "id": "5cac286f",
   "metadata": {},
   "outputs": [],
   "source": [
    "def maximum_value(items, x, y):\n",
    "    score = 0\n",
    "\n",
    "    if x > y:\n",
    "        firsta, firstb, firstval = 'a', 'b', x\n",
    "        seconda, secondb, secondval = 'b', 'a', y\n",
    "    else:\n",
    "        firsta, firstb, firstval = 'b', 'a', y\n",
    "        seconda, secondb, secondval = 'a', 'b', x\n",
    "    \n",
    "    stack = []\n",
    "    for ch in items:\n",
    "        if stack and stack[-1] == firsta and ch == firstb:\n",
    "            stack.pop()\n",
    "            score += firstval\n",
    "        else:\n",
    "            stack.append(ch)\n",
    "    \n",
    "    items = ''.join(stack)\n",
    "    stack = []\n",
    "    for ch in items:\n",
    "        if stack and stack[-1] == seconda and ch == secondb:\n",
    "            stack.pop()\n",
    "            score += secondval\n",
    "        else:\n",
    "            stack.append(ch)\n",
    "    return score"
   ]
  },
  {
   "cell_type": "code",
   "execution_count": 47,
   "id": "b892ba5f",
   "metadata": {},
   "outputs": [
    {
     "name": "stdout",
     "output_type": "stream",
     "text": [
      "19\n",
      "20\n"
     ]
    }
   ],
   "source": [
    "s1 = \"cdbcbbaaabab\"\n",
    "x1, y1 = 4, 5\n",
    "print(maximum_value(s1, x1, y1))\n",
    "\n",
    "s2 = \"aabbaaxybbaabb\"\n",
    "x2, y2 = 5, 4\n",
    "print(maximum_value(s2, x2, y2)) \n"
   ]
  },
  {
   "cell_type": "markdown",
   "id": "e7fee09a",
   "metadata": {},
   "source": [
    "## Problem 5: Strongest Magical Artifacts\n"
   ]
  },
  {
   "cell_type": "code",
   "execution_count": 3,
   "id": "2bb345e2",
   "metadata": {},
   "outputs": [],
   "source": [
    "def get_strongest_artifacts(artifacts, k):\n",
    "    artifacts.sort()\n",
    "    length = len(artifacts) - 1\n",
    "    median = artifacts[length // 2]\n",
    "\n",
    "    artifacts.sort(key = lambda x: (abs(x - median), x), reverse = True)\n",
    "    return artifacts[:k]"
   ]
  },
  {
   "cell_type": "code",
   "execution_count": 4,
   "id": "a662b694",
   "metadata": {},
   "outputs": [
    {
     "name": "stdout",
     "output_type": "stream",
     "text": [
      "[5, 1]\n",
      "[5, 5]\n",
      "[11, 8, 6, 6, 7]\n"
     ]
    }
   ],
   "source": [
    "print(get_strongest_artifacts([1, 2, 3, 4, 5], 2)) \n",
    "print(get_strongest_artifacts([1, 1, 3, 5, 5], 2)) \n",
    "print(get_strongest_artifacts([6, 7, 11, 7, 6, 8], 5)) \n"
   ]
  },
  {
   "cell_type": "markdown",
   "id": "246fb1b6",
   "metadata": {},
   "source": [
    "## Problem 6: Enchanted Boats\n"
   ]
  },
  {
   "cell_type": "code",
   "execution_count": 33,
   "id": "49d8b121",
   "metadata": {},
   "outputs": [],
   "source": [
    "def num_enchanted_boats(creatures, limit):\n",
    "    creatures.sort()\n",
    "    boats = 0\n",
    "\n",
    "    left = 0\n",
    "    right = len(creatures) - 1\n",
    "    while left <= right:\n",
    "        if creatures[left] + creatures[right] <= limit:\n",
    "            left += 1\n",
    "        right -= 1\n",
    "        boats += 1\n",
    "    return boats"
   ]
  },
  {
   "cell_type": "code",
   "execution_count": 34,
   "id": "f86dbb99",
   "metadata": {},
   "outputs": [
    {
     "name": "stdout",
     "output_type": "stream",
     "text": [
      "1\n",
      "3\n",
      "4\n"
     ]
    }
   ],
   "source": [
    "print(num_enchanted_boats([1, 2], 3)) \n",
    "print(num_enchanted_boats([3, 2, 2, 1], 3)) \n",
    "print(num_enchanted_boats([3, 5, 3, 4], 5)) \n"
   ]
  },
  {
   "cell_type": "markdown",
   "id": "c82c0973",
   "metadata": {},
   "source": [
    "## Problem 7: Market Token Value\n"
   ]
  },
  {
   "cell_type": "code",
   "execution_count": 59,
   "id": "c074cc76",
   "metadata": {},
   "outputs": [],
   "source": [
    "def token_value(token):\n",
    "    stack = [0]\n",
    "    for i in token:\n",
    "        if i == '(':\n",
    "            stack.append(0)\n",
    "        else:\n",
    "            value = stack.pop()\n",
    "            stack[-1] += 1 if value == 0 else value * 2\n",
    "    return sum(stack)\n"
   ]
  },
  {
   "cell_type": "code",
   "execution_count": 60,
   "id": "eb9c26fd",
   "metadata": {},
   "outputs": [
    {
     "name": "stdout",
     "output_type": "stream",
     "text": [
      "1\n",
      "2\n",
      "2\n"
     ]
    }
   ],
   "source": [
    "print(token_value(\"()\"))\n",
    "print(token_value(\"(())\")) \n",
    "print(token_value(\"()()\")) \n"
   ]
  },
  {
   "cell_type": "markdown",
   "id": "eec393b7",
   "metadata": {},
   "source": [
    "# THE END"
   ]
  }
 ],
 "metadata": {
  "kernelspec": {
   "display_name": ".venv",
   "language": "python",
   "name": "python3"
  },
  "language_info": {
   "codemirror_mode": {
    "name": "ipython",
    "version": 3
   },
   "file_extension": ".py",
   "mimetype": "text/x-python",
   "name": "python",
   "nbconvert_exporter": "python",
   "pygments_lexer": "ipython3",
   "version": "3.12.12"
  }
 },
 "nbformat": 4,
 "nbformat_minor": 5
}
