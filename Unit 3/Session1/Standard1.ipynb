{
 "cells": [
  {
   "cell_type": "markdown",
   "id": "b1f0163a",
   "metadata": {},
   "source": [
    "## Problem 1: Post Format Validator"
   ]
  },
  {
   "cell_type": "code",
   "execution_count": 3,
   "id": "c010bd67",
   "metadata": {},
   "outputs": [],
   "source": [
    "def is_valid_post_format(posts):\n",
    "    circle, curly, square = 0,0,0\n",
    "    mapping = {\n",
    "        '}': '{',\n",
    "        ']': '[',\n",
    "        ')': '('\n",
    "    }\n",
    "    stack = []\n",
    "    for i in posts:\n",
    "        if i in mapping.keys():\n",
    "            if stack and stack[-1] == mapping[i]:\n",
    "                stack.pop()\n",
    "            else:\n",
    "                return False\n",
    "        else:\n",
    "            stack.append(i)\n",
    "    return len(stack) == 0\n"
   ]
  },
  {
   "cell_type": "code",
   "execution_count": 4,
   "id": "0c264ab3",
   "metadata": {},
   "outputs": [
    {
     "name": "stdout",
     "output_type": "stream",
     "text": [
      "True\n",
      "True\n",
      "False\n"
     ]
    }
   ],
   "source": [
    "print(is_valid_post_format(\"()\"))\n",
    "print(is_valid_post_format(\"()[]{}\")) \n",
    "print(is_valid_post_format(\"(]\"))\n"
   ]
  },
  {
   "cell_type": "markdown",
   "id": "b1476cea",
   "metadata": {},
   "source": [
    "## Problem 2: Reverse User Comments Queue\n"
   ]
  },
  {
   "cell_type": "code",
   "execution_count": 5,
   "id": "91a2ff3f",
   "metadata": {},
   "outputs": [],
   "source": [
    "def reverse_comments_queue(comments):\n",
    "    stack = []\n",
    "    output = []\n",
    "    for i in comments:\n",
    "        stack.append(i)\n",
    "    while stack:\n",
    "        output.append(stack.pop())\n",
    "    return output"
   ]
  },
  {
   "cell_type": "code",
   "execution_count": 6,
   "id": "8ae962e8",
   "metadata": {},
   "outputs": [
    {
     "name": "stdout",
     "output_type": "stream",
     "text": [
      "['Thanks for sharing.', 'Love it!', 'Great post!']\n",
      "['Well written.', 'Interesting read.', 'First!']\n"
     ]
    }
   ],
   "source": [
    "print(reverse_comments_queue([\"Great post!\", \"Love it!\", \"Thanks for sharing.\"]))\n",
    "\n",
    "print(reverse_comments_queue([\"First!\", \"Interesting read.\", \"Well written.\"]))"
   ]
  },
  {
   "cell_type": "markdown",
   "id": "c5fe75c8",
   "metadata": {},
   "source": [
    "## Problem 3: Check Symmetry in Post Titles"
   ]
  },
  {
   "cell_type": "code",
   "execution_count": 11,
   "id": "f6a86d74",
   "metadata": {},
   "outputs": [],
   "source": [
    "def is_symmetrical_title(title):\n",
    "    title = title.lower()\n",
    "    l, r = 0, len(title) - 1\n",
    "    while l < r:\n",
    "        while title[l] == ' ':\n",
    "            l += 1\n",
    "        while title[r] == ' ':\n",
    "            r -= 1\n",
    "        if title[l] != title[r]: return False\n",
    "        l += 1\n",
    "        r -= 1\n",
    "    return True\n",
    "\n",
    "\n"
   ]
  },
  {
   "cell_type": "code",
   "execution_count": 12,
   "id": "4f077248",
   "metadata": {},
   "outputs": [
    {
     "name": "stdout",
     "output_type": "stream",
     "text": [
      "True\n",
      "False\n"
     ]
    }
   ],
   "source": [
    "print(is_symmetrical_title(\"A Santa at NASA\"))\n",
    "print(is_symmetrical_title(\"Social Media\"))"
   ]
  },
  {
   "cell_type": "markdown",
   "id": "afdba64f",
   "metadata": {},
   "source": [
    "## Problem 4: Engagement Boost\n"
   ]
  },
  {
   "cell_type": "code",
   "execution_count": 19,
   "id": "b93109a2",
   "metadata": {},
   "outputs": [],
   "source": [
    "def engagement_boost(engagements):\n",
    "    # squared_engagements = []\n",
    "    \n",
    "    # for i in range(len(engagements)):\n",
    "    #     squared_engagement = engagements[i] * engagements[i]\n",
    "    #     squared_engagements.append((squared_engagement, i))\n",
    "    \n",
    "    # squared_engagements.sort(reverse=True)\n",
    "    \n",
    "    # result = [0] * len(engagements)\n",
    "    # position = len(engagements) - 1\n",
    "    \n",
    "    # for square, original_index in squared_engagements:\n",
    "    #     result[position] = square\n",
    "    #     position -= 1\n",
    "    \n",
    "    # return result\n",
    "    engagements = [i*i for i in engagements]\n",
    "    return sorted(engagements)"
   ]
  },
  {
   "cell_type": "code",
   "execution_count": 31,
   "id": "e31a6dd3",
   "metadata": {},
   "outputs": [],
   "source": [
    "def engagement_boost(engagements):\n",
    "    result = []\n",
    "    l = 0\n",
    "    r = len(engagements) - 1\n",
    "\n",
    "    while l <= r:\n",
    "        left = abs(engagements[l])\n",
    "        right = abs(engagements[r])\n",
    "        if left<right:\n",
    "            result.append(right * right)\n",
    "            r -= 1\n",
    "        else:\n",
    "            result.append(left * left)\n",
    "            l += 1\n",
    "    return result[::-1]\n"
   ]
  },
  {
   "cell_type": "code",
   "execution_count": 32,
   "id": "dac269d8",
   "metadata": {},
   "outputs": [
    {
     "name": "stdout",
     "output_type": "stream",
     "text": [
      "[0, 1, 9, 16, 100]\n",
      "[4, 9, 9, 49, 121]\n"
     ]
    }
   ],
   "source": [
    "print(engagement_boost([-4, -1, 0, 3, 10]))\n",
    "print(engagement_boost([-7, -3, 2, 3, 11]))"
   ]
  },
  {
   "cell_type": "markdown",
   "id": "c6d6d27c",
   "metadata": {},
   "source": [
    "## Problem 5: Content Cleaner\n"
   ]
  },
  {
   "cell_type": "code",
   "execution_count": 59,
   "id": "f13c4506",
   "metadata": {},
   "outputs": [],
   "source": [
    "def clean_post(post):\n",
    "    arr = list(post)\n",
    "    stack = []\n",
    "    for i in post:\n",
    "        if i.isupper():\n",
    "            if stack and stack[-1] == i.lower():\n",
    "                stack.pop()\n",
    "            else:\n",
    "                stack.append(i)\n",
    "        if i.islower():\n",
    "            if stack and stack[-1] == i.upper():\n",
    "                stack.pop()\n",
    "            else:\n",
    "                stack.append(i)\n",
    "    return ''.join(stack)"
   ]
  },
  {
   "cell_type": "code",
   "execution_count": 60,
   "id": "ff99b754",
   "metadata": {},
   "outputs": [
    {
     "name": "stdout",
     "output_type": "stream",
     "text": [
      "post\n",
      "\n",
      "s\n"
     ]
    }
   ],
   "source": [
    "print(clean_post(\"poOost\"))\n",
    "print(clean_post(\"abBAcC\"))\n",
    "print(clean_post(\"s\"))"
   ]
  },
  {
   "cell_type": "markdown",
   "id": "d2e81dcc",
   "metadata": {},
   "source": [
    "## Problem 6: Post Editor\n"
   ]
  },
  {
   "cell_type": "code",
   "execution_count": 65,
   "id": "452131cf",
   "metadata": {},
   "outputs": [],
   "source": [
    "def edit_post(post):\n",
    "    arr = post.split()\n",
    "    res = []\n",
    "    for word in arr:\n",
    "        res.append(word[::-1])\n",
    "    return ' '.join(res)"
   ]
  },
  {
   "cell_type": "code",
   "execution_count": 121,
   "id": "85195122",
   "metadata": {},
   "outputs": [],
   "source": [
    "def edit_post(post):\n",
    "    arr = list(post)\n",
    "    i = 0\n",
    "    for j in range(len(arr) + 1):\n",
    "        if j == len(arr) or arr[j] == ' ':\n",
    "            arr[i:j] = reversed(arr[i: j])\n",
    "            i = j + 1\n",
    "    return ''.join(arr)\n"
   ]
  },
  {
   "cell_type": "code",
   "execution_count": 139,
   "id": "757ebb22",
   "metadata": {},
   "outputs": [],
   "source": [
    "from collections import deque\n",
    "\n",
    "def edit_post(post):\n",
    "    arr = list(post)\n",
    "    res = []\n",
    "    temp = []\n",
    "    # temp = deque()\n",
    "    for ch in post:\n",
    "        if ch != ' ':\n",
    "            temp.append(ch)\n",
    "        elif ch == \" \":\n",
    "            while temp:\n",
    "                res.append(temp.pop())\n",
    "            res.append(' ')\n",
    "    while temp:\n",
    "        res.append(temp.pop())\n",
    "\n",
    "    return ''.join(res)"
   ]
  },
  {
   "cell_type": "code",
   "execution_count": 140,
   "id": "c059110d",
   "metadata": {},
   "outputs": [
    {
     "name": "stdout",
     "output_type": "stream",
     "text": [
      "tsooB ruoy tnemegagne htiw eseht spit\n",
      "kcehC tuo ym tsetal golv\n"
     ]
    }
   ],
   "source": [
    "print(edit_post(\"Boost your engagement with these tips\"))\n",
    "print(edit_post(\"Check out my latest vlog\"))"
   ]
  },
  {
   "cell_type": "markdown",
   "id": "2c7aa215",
   "metadata": {},
   "source": [
    "## Problem 7: Post Compare\n"
   ]
  },
  {
   "cell_type": "code",
   "execution_count": 145,
   "id": "77dffcf4",
   "metadata": {},
   "outputs": [],
   "source": [
    "def post_compare(draft1, draft2):\n",
    "    stack1 = []\n",
    "    for i in draft1:\n",
    "        if i == \"#\" and stack1:\n",
    "            stack1.pop()\n",
    "        else:\n",
    "            stack1.append(i)\n",
    "    stack2 = []\n",
    "    for i in draft2:\n",
    "        if i == \"#\" and stack2:\n",
    "            stack2.pop()\n",
    "        else:\n",
    "            stack2.append(i)\n",
    "    return stack1==stack2"
   ]
  },
  {
   "cell_type": "code",
   "execution_count": 148,
   "id": "85258985",
   "metadata": {},
   "outputs": [
    {
     "name": "stdout",
     "output_type": "stream",
     "text": [
      "True\n",
      "True\n",
      "False\n"
     ]
    }
   ],
   "source": [
    "print(post_compare(\"ab#c\", \"ad#c\"))\n",
    "print(post_compare(\"ab##\", \"c#d#\"))\n",
    "print(post_compare(\"a#c\", \"b\"))"
   ]
  },
  {
   "cell_type": "markdown",
   "id": "2c50ce95",
   "metadata": {},
   "source": [
    "## THE END"
   ]
  }
 ],
 "metadata": {
  "kernelspec": {
   "display_name": "codepath",
   "language": "python",
   "name": "python3"
  },
  "language_info": {
   "codemirror_mode": {
    "name": "ipython",
    "version": 3
   },
   "file_extension": ".py",
   "mimetype": "text/x-python",
   "name": "python",
   "nbconvert_exporter": "python",
   "pygments_lexer": "ipython3",
   "version": "3.12.11"
  }
 },
 "nbformat": 4,
 "nbformat_minor": 5
}
