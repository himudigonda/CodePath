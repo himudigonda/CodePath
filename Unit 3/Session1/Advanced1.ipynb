{
 "cells": [
  {
   "cell_type": "markdown",
   "id": "c987a31d",
   "metadata": {},
   "source": [
    "## Problem 1: Arrange Guest Arrival Order"
   ]
  },
  {
   "cell_type": "code",
   "execution_count": 11,
   "id": "08ab6023",
   "metadata": {},
   "outputs": [],
   "source": [
    "def arrange_guest_arrival_order(arrival_pattern):\n",
    "    n = len(arrival_pattern)\n",
    "    res = []\n",
    "    stack = []\n",
    "    num = 1\n",
    "    for idx, char in enumerate(arrival_pattern):\n",
    "        stack.append(num)\n",
    "        num += 1\n",
    "        if char == 'I':\n",
    "            while stack:\n",
    "                res.append(stack.pop())\n",
    "    stack.append(num)\n",
    "    while stack:\n",
    "        res.append(stack.pop())\n",
    "    return ''.join(str(x) for x in res)"
   ]
  },
  {
   "cell_type": "code",
   "execution_count": 12,
   "id": "d05d318c",
   "metadata": {},
   "outputs": [
    {
     "name": "stdout",
     "output_type": "stream",
     "text": [
      "123549876\n",
      "4321\n"
     ]
    }
   ],
   "source": [
    "print(arrange_guest_arrival_order(\"IIIDIDDD\"))\n",
    "print(arrange_guest_arrival_order(\"DDD\"))"
   ]
  },
  {
   "cell_type": "markdown",
   "id": "820e695b",
   "metadata": {},
   "source": [
    "## Problem 2: Reveal Attendee List in Order\n"
   ]
  },
  {
   "cell_type": "code",
   "execution_count": null,
   "id": "2adfe800",
   "metadata": {},
   "outputs": [],
   "source": [
    "from collections import deque\n",
    "def reveal_attendee_list_in_order(attendees):\n",
    "    attendees.sort(reverse=True)\n",
    "    ret = deque()\n",
    "    for num in attendees:\n",
    "        if ret:\n",
    "            ret.appendleft(ret.pop())\n",
    "        ret.appendleft(num)\n",
    "    return list(ret)"
   ]
  },
  {
   "cell_type": "code",
   "execution_count": 14,
   "id": "ff72cb6f",
   "metadata": {},
   "outputs": [
    {
     "name": "stdout",
     "output_type": "stream",
     "text": [
      "[2, 13, 3, 11, 5, 17, 7]\n",
      "[1, 1000]\n"
     ]
    }
   ],
   "source": [
    "print(reveal_attendee_list_in_order([17, 13, 11, 2, 3, 5, 7]))\n",
    "print(reveal_attendee_list_in_order([1, 1000]))"
   ]
  },
  {
   "cell_type": "markdown",
   "id": "eab4ad6d",
   "metadata": {},
   "source": [
    "## Problem 3: Arrange Event Attendees by Priority"
   ]
  },
  {
   "cell_type": "code",
   "execution_count": 33,
   "id": "6722e21b",
   "metadata": {},
   "outputs": [],
   "source": [
    "def arrange_attendees_by_priority(attendees, priority):\n",
    "    \n",
    "    ## 3 loops\n",
    "    # ret = []\n",
    "    # for i in attendees:\n",
    "    #     if i < priority:\n",
    "    #         ret.append(i)\n",
    "    # for i in attendees:\n",
    "    #     if i == priority:\n",
    "    #         ret.append(i)\n",
    "    # for i in attendees:\n",
    "    #     if i > priority:\n",
    "    #         ret.append(i)\n",
    "    # return ret\n",
    "    \n",
    "    ## 1 loop, 3 arr, concat\n",
    "    # left, right, eq = [], [], []\n",
    "    # for i in attendees:\n",
    "    #     if i < priority:\n",
    "    #         left.append(i)\n",
    "    #     elif i == priority:\n",
    "    #         eq.append(i)\n",
    "    #     else:\n",
    "    #         right.append(i)\n",
    "    # return left + eq + right\n",
    "    \n",
    "    ## optimal 2 pointer\n",
    "    n = len(attendees)\n",
    "    result = [None] * n\n",
    "    left, right = 0, n - 1\n",
    "    equals = []\n",
    "    for x in attendees:\n",
    "        if x < priority:\n",
    "            result[left] = x\n",
    "            left += 1\n",
    "        if x > priority:\n",
    "            result[right] = x\n",
    "            right -= 1\n",
    "        if x == priority:\n",
    "            equals.append(x)\n",
    "    result[left:left + len(equals)] = equals\n",
    "    return result\n"
   ]
  },
  {
   "cell_type": "code",
   "execution_count": 34,
   "id": "9a29e61d",
   "metadata": {},
   "outputs": [
    {
     "name": "stdout",
     "output_type": "stream",
     "text": [
      "[9, 5, 3, 10, 10, 14, 12]\n",
      "[-3, 2, 3, 4]\n"
     ]
    }
   ],
   "source": [
    "print(arrange_attendees_by_priority([9, 12, 5, 10, 14, 3, 10], 10))\n",
    "print(arrange_attendees_by_priority([-3, 4, 3, 2], 2))"
   ]
  },
  {
   "cell_type": "markdown",
   "id": "2b28d534",
   "metadata": {},
   "source": [
    "## Problem 4: Rearrange Guests by Attendance and Absence\n"
   ]
  },
  {
   "cell_type": "code",
   "execution_count": null,
   "id": "c7291c1d",
   "metadata": {},
   "outputs": [],
   "source": [
    "# New arrs, O(n) space, O(n) time\n",
    "def rearrange_guests(guests):\n",
    "    pos = []\n",
    "    neg = []\n",
    "    res = []\n",
    "    for guest in guests:\n",
    "        if guest > 0:\n",
    "            pos.append(guest)\n",
    "        else:\n",
    "            neg.append(guest)\n",
    "    # for i in range(len(pos)):\n",
    "    #     res.append(pos[i])\n",
    "    #     res.append(neg[i])\n",
    "    \n",
    "    # return [pair for posnegguests in zip(pos, neg) for pair in posnegguests]\n",
    "\n",
    "    for p, n in zip(pos, neg):\n",
    "        res.extend([p, n])\n",
    "    return res"
   ]
  },
  {
   "cell_type": "code",
   "execution_count": 54,
   "id": "7ebc180c",
   "metadata": {},
   "outputs": [],
   "source": [
    "# Swapping, O(1) space, O(n^2) time\n",
    "def rearrange_guests(guests):\n",
    "    n = len(guests)\n",
    "    for i in range(n):\n",
    "        loc_is_pos = (i % 2 == 0)\n",
    "        if loc_is_pos and guests[i] > 0:\n",
    "            continue\n",
    "        if not loc_is_pos and guests[i] < 0:\n",
    "            continue\n",
    "\n",
    "\n",
    "        j = i + 1\n",
    "        while j < n and ((guests[j] > 0) != loc_is_pos):\n",
    "            j += 1\n",
    "\n",
    "        if j == n: break\n",
    "\n",
    "        temp = guests[j]\n",
    "        while j > i:\n",
    "            guests[j] = guests[j - 1]\n",
    "            j -= 1\n",
    "        guests[i] = temp\n",
    "\n",
    "    return guests"
   ]
  },
  {
   "cell_type": "code",
   "execution_count": 55,
   "id": "ab414b85",
   "metadata": {},
   "outputs": [
    {
     "name": "stdout",
     "output_type": "stream",
     "text": [
      "[3, -2, 1, -5, 2, -4]\n",
      "[1, -1]\n"
     ]
    }
   ],
   "source": [
    "print(rearrange_guests([3, 1, -2, -5, 2, -4]))\n",
    "print(rearrange_guests([-1, 1]))"
   ]
  },
  {
   "cell_type": "markdown",
   "id": "62660cd3",
   "metadata": {},
   "source": [
    "## Problem 5: Minimum Changes to Make Schedule Balanced"
   ]
  },
  {
   "cell_type": "code",
   "execution_count": 3,
   "id": "f2a185d3",
   "metadata": {},
   "outputs": [],
   "source": [
    "def min_changes_to_make_balanced(schedule):\n",
    "    stack = []\n",
    "    for i in schedule:\n",
    "        if i == '(':\n",
    "            stack.append(i)\n",
    "        else:\n",
    "            if stack and stack[-1] == '(':\n",
    "                stack.pop()\n",
    "            else:\n",
    "                stack.append(i)\n",
    "    return len(stack)\n",
    "            "
   ]
  },
  {
   "cell_type": "code",
   "execution_count": 4,
   "id": "da0179fc",
   "metadata": {},
   "outputs": [
    {
     "name": "stdout",
     "output_type": "stream",
     "text": [
      "1\n",
      "3\n"
     ]
    }
   ],
   "source": [
    "print(min_changes_to_make_balanced(\"())\"))\n",
    "print(min_changes_to_make_balanced(\"(((\"))"
   ]
  },
  {
   "cell_type": "markdown",
   "id": "a7063810",
   "metadata": {},
   "source": [
    "## Problem 6: Marking the Event Timeline"
   ]
  },
  {
   "cell_type": "code",
   "execution_count": 9,
   "id": "1d3739ab",
   "metadata": {},
   "outputs": [],
   "source": [
    "def mark_event_timeline(event, timeline):\n",
    "    m = len(event)\n",
    "    n = len(timeline)\n",
    "    timeline = list(timeline)\n",
    "    res = []\n",
    "    if n < m:\n",
    "        return []\n",
    "\n",
    "    def can_erase_at(i):\n",
    "        count = 0\n",
    "        for j in range(m):\n",
    "            char = timeline[i + j]\n",
    "            cur_event = event[j]\n",
    "            if char == '?':\n",
    "                continue\n",
    "            # if char == cur_event:\n",
    "            if char != cur_event:\n",
    "                return False, 0\n",
    "            count += 1\n",
    "        if count == 0: return False, 0\n",
    "        return True, count\n",
    "\n",
    "    def erase(i): \n",
    "        for j in range(m):\n",
    "            timeline[i + j] = '?'\n",
    "\n",
    "    erased = 0\n",
    "    progress = True\n",
    "    visited = [False] * (n - m + 1)\n",
    "    while erased < n and progress:\n",
    "        progress = False\n",
    "        for i in range(n - m + 1):\n",
    "            if visited[i]:\n",
    "                continue\n",
    "            ok, count = can_erase_at(i)\n",
    "            if not ok:\n",
    "                continue\n",
    "            erase(i)\n",
    "            visited[i] = True\n",
    "            res.append(i)\n",
    "            erased += count\n",
    "            progress = True\n",
    "    \n",
    "    if erased != n: return []\n",
    "\n",
    "    res.reverse()\n",
    "    if len(res) > 10 * n: return []\n",
    "    return res\n",
    "\n"
   ]
  },
  {
   "cell_type": "code",
   "execution_count": 10,
   "id": "309ac99c",
   "metadata": {},
   "outputs": [
    {
     "name": "stdout",
     "output_type": "stream",
     "text": [
      "[0, 2]\n",
      "[0, 3, 1]\n"
     ]
    }
   ],
   "source": [
    "print(mark_event_timeline(\"abc\", \"ababc\"))\n",
    "print(mark_event_timeline(\"abca\", \"aabcaca\"))"
   ]
  },
  {
   "cell_type": "markdown",
   "id": "999a6fbe",
   "metadata": {},
   "source": [
    "# THE END"
   ]
  }
 ],
 "metadata": {
  "kernelspec": {
   "display_name": ".venv",
   "language": "python",
   "name": "python3"
  },
  "language_info": {
   "codemirror_mode": {
    "name": "ipython",
    "version": 3
   },
   "file_extension": ".py",
   "mimetype": "text/x-python",
   "name": "python",
   "nbconvert_exporter": "python",
   "pygments_lexer": "ipython3",
   "version": "3.12.12"
  }
 },
 "nbformat": 4,
 "nbformat_minor": 5
}
