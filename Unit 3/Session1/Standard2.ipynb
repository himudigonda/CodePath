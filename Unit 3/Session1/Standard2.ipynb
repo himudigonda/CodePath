{
 "cells": [
  {
   "cell_type": "markdown",
   "id": "bdc0515e",
   "metadata": {},
   "source": [
    "## Problem 1: Time Needed to Stream Movies\n"
   ]
  },
  {
   "cell_type": "code",
   "execution_count": 17,
   "id": "6ae99484",
   "metadata": {},
   "outputs": [],
   "source": [
    "from collections import deque\n",
    "def time_required_to_stream(movies, k):\n",
    "    time = 0\n",
    "    queue = deque()\n",
    "    for idx, val in enumerate(movies):\n",
    "        queue.append((idx, val))\n",
    "    \n",
    "    while queue:\n",
    "        time += 1\n",
    "        idx, val = queue.popleft()\n",
    "        val = val - 1\n",
    "        if val > 0:\n",
    "            queue.append((idx, val))\n",
    "        elif val == 0 and idx == k:\n",
    "            return time\n"
   ]
  },
  {
   "cell_type": "code",
   "execution_count": 18,
   "id": "19400631",
   "metadata": {},
   "outputs": [
    {
     "name": "stdout",
     "output_type": "stream",
     "text": [
      "6\n",
      "8\n"
     ]
    }
   ],
   "source": [
    "print(time_required_to_stream([2, 3, 2], 2))\n",
    "print(time_required_to_stream([5, 1, 1, 1], 0))"
   ]
  },
  {
   "cell_type": "markdown",
   "id": "a95ac718",
   "metadata": {},
   "source": [
    "## Problem 2: Reverse Watchlist"
   ]
  },
  {
   "cell_type": "code",
   "execution_count": 19,
   "id": "4584dfea",
   "metadata": {},
   "outputs": [],
   "source": [
    "def reverse_watchlist(watchlist):\n",
    "    left = 0\n",
    "    right = len(watchlist) - 1\n",
    "    while left < right:\n",
    "        watchlist[left], watchlist[right] = watchlist[right], watchlist[left]\n",
    "        left += 1\n",
    "        right -= 1\n",
    "    return watchlist"
   ]
  },
  {
   "cell_type": "code",
   "execution_count": 20,
   "id": "411639c0",
   "metadata": {},
   "outputs": [
    {
     "name": "stdout",
     "output_type": "stream",
     "text": [
      "['The Witcher', 'The Crown', 'Stranger Things', 'Breaking Bad']\n"
     ]
    }
   ],
   "source": [
    "watchlist = [\"Breaking Bad\", \"Stranger Things\", \"The Crown\", \"The Witcher\"]\n",
    "\n",
    "print(reverse_watchlist(watchlist))"
   ]
  },
  {
   "cell_type": "markdown",
   "id": "4c9262dc",
   "metadata": {},
   "source": [
    "## Problem 3: Remove All Adjacent Duplicate Shows"
   ]
  },
  {
   "cell_type": "code",
   "execution_count": 21,
   "id": "761d5bc5",
   "metadata": {},
   "outputs": [],
   "source": [
    "def remove_duplicate_shows(schedule):\n",
    "    stack = []\n",
    "    for ch in schedule:\n",
    "        if stack and stack[-1] == ch:\n",
    "            stack.pop()\n",
    "        else:\n",
    "            stack.append(ch)\n",
    "    return ''.join(stack)"
   ]
  },
  {
   "cell_type": "code",
   "execution_count": 22,
   "id": "0c48a422",
   "metadata": {},
   "outputs": [
    {
     "name": "stdout",
     "output_type": "stream",
     "text": [
      "ca\n",
      "ay\n"
     ]
    }
   ],
   "source": [
    "print(remove_duplicate_shows(\"abbaca\"))\n",
    "print(remove_duplicate_shows(\"azxxzy\"))"
   ]
  },
  {
   "cell_type": "markdown",
   "id": "c1a44d59",
   "metadata": {},
   "source": [
    "## Problem 4: Minimum Average of Smallest and Largest View Counts"
   ]
  },
  {
   "cell_type": "code",
   "execution_count": 31,
   "id": "91a05f0d",
   "metadata": {},
   "outputs": [],
   "source": [
    "def minimum_average_view_count(view_counts):\n",
    "    q = deque(sorted(view_counts))\n",
    "    i = 0\n",
    "    n = len(view_counts)\n",
    "    avg = []\n",
    "    while i < n/2:\n",
    "        minn = q.popleft()\n",
    "        maxx = q.pop()\n",
    "        avg.append((minn + maxx)/2)\n",
    "        i += 1\n",
    "    return min(avg)\n",
    "\n"
   ]
  },
  {
   "cell_type": "code",
   "execution_count": 32,
   "id": "b649e19b",
   "metadata": {},
   "outputs": [
    {
     "name": "stdout",
     "output_type": "stream",
     "text": [
      "5.5\n",
      "5.5\n",
      "5.0\n"
     ]
    }
   ],
   "source": [
    "print(minimum_average_view_count([7, 8, 3, 4, 15, 13, 4, 1]))\n",
    "print(minimum_average_view_count([1, 9, 8, 3, 10, 5]))\n",
    "print(minimum_average_view_count([1, 2, 3, 7, 8, 9]))"
   ]
  },
  {
   "cell_type": "markdown",
   "id": "32988989",
   "metadata": {},
   "source": [
    "## Problem 5: Minimum Remaining Watchlist After Removing Movies\n"
   ]
  },
  {
   "cell_type": "code",
   "execution_count": 41,
   "id": "4496a7b4",
   "metadata": {},
   "outputs": [],
   "source": [
    "def min_remaining_watchlist(watchlist):\n",
    "    stack = []\n",
    "    for i in watchlist:\n",
    "        if i == 'B':\n",
    "            if stack and stack[-1] == 'A':\n",
    "                stack.pop()\n",
    "            else:\n",
    "                stack.append(i)\n",
    "        elif i == 'D':\n",
    "            if stack and stack[-1] == 'C':\n",
    "                stack.pop()\n",
    "            else:\n",
    "                stack.append(i)\n",
    "        else:\n",
    "            stack.append(i)\n",
    "    return len(stack)"
   ]
  },
  {
   "cell_type": "code",
   "execution_count": 42,
   "id": "46a02685",
   "metadata": {},
   "outputs": [
    {
     "name": "stdout",
     "output_type": "stream",
     "text": [
      "2\n",
      "5\n"
     ]
    }
   ],
   "source": [
    "print(min_remaining_watchlist(\"ABFCACDB\"))\n",
    "print(min_remaining_watchlist(\"ACBBD\"))"
   ]
  },
  {
   "cell_type": "markdown",
   "id": "bab1d01f",
   "metadata": {},
   "source": [
    "## Problem 6: Apply Operations to Show Ratings"
   ]
  },
  {
   "cell_type": "code",
   "execution_count": 63,
   "id": "6ef32159",
   "metadata": {},
   "outputs": [],
   "source": [
    "def apply_rating_operations(ratings):\n",
    "    for i in range(len(ratings) - 1):\n",
    "        if ratings[i] == ratings[i + 1]:\n",
    "            ratings[i] *= 2\n",
    "            ratings[i + 1] = 0\n",
    "\n",
    "    # res = []\n",
    "    # zeros = 0\n",
    "    # for i in ratings:\n",
    "    #     if i == 0:\n",
    "    #         zeros += 1\n",
    "    #     else:\n",
    "    #         res.append(i)\n",
    "    # for i in range(zeros):\n",
    "    #     res.append(0)\n",
    "    # return res\n",
    "    left = 0\n",
    "    right = len(ratings) - 1\n",
    "    while left < right:\n",
    "        while ratings[right] == 0:\n",
    "            right -= 1\n",
    "        while ratings[left] != 0:\n",
    "            left += 1\n",
    "        ratings[left], ratings[right] = ratings[right], ratings[left]\n",
    "        right -= 1\n",
    "        left += 1\n",
    "    return ratings"
   ]
  },
  {
   "cell_type": "code",
   "execution_count": 64,
   "id": "89c90818",
   "metadata": {},
   "outputs": [
    {
     "name": "stdout",
     "output_type": "stream",
     "text": [
      "[1, 4, 2, 0, 0, 0]\n",
      "[1, 0]\n"
     ]
    }
   ],
   "source": [
    "print(apply_rating_operations([1, 2, 2, 1, 1, 0]))\n",
    "print(apply_rating_operations([0, 1]))"
   ]
  },
  {
   "cell_type": "markdown",
   "id": "57b5fb04",
   "metadata": {},
   "source": [
    "## Problem 7: Lexicographically Smallest Watchlist"
   ]
  },
  {
   "cell_type": "code",
   "execution_count": 69,
   "id": "c9246229",
   "metadata": {},
   "outputs": [],
   "source": [
    "def make_smallest_watchlist(watchlist):\n",
    "    arr = list(watchlist)\n",
    "    left = 0\n",
    "    right = len(watchlist) - 1\n",
    "    while left < right:\n",
    "        if arr[left] > arr[right]:\n",
    "            arr[left] = arr[right]\n",
    "        elif arr[right] > arr[left]:\n",
    "            arr[right] = arr[left]\n",
    "        left += 1\n",
    "        right -= 1\n",
    "    return ''.join(arr)"
   ]
  },
  {
   "cell_type": "code",
   "execution_count": 70,
   "id": "90da80c7",
   "metadata": {},
   "outputs": [
    {
     "name": "stdout",
     "output_type": "stream",
     "text": [
      "efcfe\n",
      "abba\n",
      "neven\n"
     ]
    }
   ],
   "source": [
    "print(make_smallest_watchlist(\"egcfe\"))\n",
    "print(make_smallest_watchlist(\"abcd\"))\n",
    "print(make_smallest_watchlist(\"seven\"))"
   ]
  },
  {
   "cell_type": "markdown",
   "id": "de76780b",
   "metadata": {},
   "source": [
    "# THE END"
   ]
  }
 ],
 "metadata": {
  "kernelspec": {
   "display_name": ".venv",
   "language": "python",
   "name": "python3"
  },
  "language_info": {
   "codemirror_mode": {
    "name": "ipython",
    "version": 3
   },
   "file_extension": ".py",
   "mimetype": "text/x-python",
   "name": "python",
   "nbconvert_exporter": "python",
   "pygments_lexer": "ipython3",
   "version": "3.12.11"
  }
 },
 "nbformat": 4,
 "nbformat_minor": 5
}
