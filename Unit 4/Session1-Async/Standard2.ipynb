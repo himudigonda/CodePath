{
 "cells": [
  {
   "cell_type": "markdown",
   "id": "a3a76026",
   "metadata": {},
   "source": [
    "## Problem 1: Track Podcast Episodes by Length\n"
   ]
  },
  {
   "cell_type": "code",
   "execution_count": 11,
   "id": "bc6a0720",
   "metadata": {},
   "outputs": [],
   "source": [
    "from collections import defaultdict\n",
    "def track_episode_lengths(episode_lengths):\n",
    "    counts ={0:0, 1:0, 2:0} \n",
    "    for episode in episode_lengths:\n",
    "        if episode < 30:\n",
    "            counts[0] += 1\n",
    "        elif 30 <= episode <60:\n",
    "            counts[1] += 1\n",
    "        elif episode >= 60:\n",
    "            counts[2] += 1\n",
    "    return tuple(counts.values())\n"
   ]
  },
  {
   "cell_type": "code",
   "execution_count": 12,
   "id": "233e874c",
   "metadata": {},
   "outputs": [
    {
     "name": "stdout",
     "output_type": "stream",
     "text": [
      "(2, 3, 2)\n",
      "(2, 3, 2)\n",
      "(0, 5, 0)\n"
     ]
    }
   ],
   "source": [
    "episode_lengths = [15, 45, 32, 67, 22, 59, 70]\n",
    "print(track_episode_lengths(episode_lengths))\n",
    "\n",
    "episode_lengths_2 = [10, 25, 30, 45, 55, 65, 80]\n",
    "print(track_episode_lengths(episode_lengths_2))\n",
    "\n",
    "episode_lengths_3 = [30, 30, 30, 30, 30]\n",
    "print(track_episode_lengths(episode_lengths_3))"
   ]
  },
  {
   "cell_type": "markdown",
   "id": "d8706b27",
   "metadata": {},
   "source": [
    "## Problem 2: Identify Longest Episode\n"
   ]
  },
  {
   "cell_type": "code",
   "execution_count": 19,
   "id": "83094b62",
   "metadata": {},
   "outputs": [],
   "source": [
    "def identify_longest_episode(durations):\n",
    "    maxx = float('-inf')\n",
    "    for i in durations:\n",
    "        maxx = max(maxx, i)\n",
    "    return maxx"
   ]
  },
  {
   "cell_type": "code",
   "execution_count": 20,
   "id": "ee8c1e66",
   "metadata": {},
   "outputs": [
    {
     "name": "stdout",
     "output_type": "stream",
     "text": [
      "60\n",
      "40\n",
      "60\n"
     ]
    }
   ],
   "source": [
    "print(identify_longest_episode([30, 45, 60, 45, 30]))\n",
    "print(identify_longest_episode([20, 30, 40, 40, 30, 20]))\n",
    "print(identify_longest_episode([55, 60, 55, 60, 60]))"
   ]
  },
  {
   "cell_type": "markdown",
   "id": "7fb7c922",
   "metadata": {},
   "source": [
    "## Problem 3: Find Most Frequent Episode Length\n"
   ]
  },
  {
   "cell_type": "code",
   "execution_count": 31,
   "id": "5124a3cd",
   "metadata": {},
   "outputs": [],
   "source": [
    "from collections import Counter\n",
    "def most_frequent_length(episode_lengths):\n",
    "    counts = Counter(episode_lengths)\n",
    "    return max(counts, key = counts.get)\n",
    "    # return counts.most_common(1)[0][0]"
   ]
  },
  {
   "cell_type": "code",
   "execution_count": 32,
   "id": "91712fa3",
   "metadata": {},
   "outputs": [
    {
     "name": "stdout",
     "output_type": "stream",
     "text": [
      "30\n",
      "40\n",
      "50\n"
     ]
    }
   ],
   "source": [
    "print(most_frequent_length([30, 45, 30, 60, 45, 30]))\n",
    "print(most_frequent_length([20, 20, 30, 30, 40, 40, 40]))\n",
    "print(most_frequent_length([50, 60, 70, 80, 90, 100]))"
   ]
  },
  {
   "cell_type": "markdown",
   "id": "1766ed16",
   "metadata": {},
   "source": [
    "## Problem 4: Find Median Episode Length\n"
   ]
  },
  {
   "cell_type": "code",
   "execution_count": 49,
   "id": "e0429997",
   "metadata": {},
   "outputs": [],
   "source": [
    "def find_median_episode_length(durations):\n",
    "    durations.sort()\n",
    "    length = len(durations)\n",
    "    if length % 2 == 0:\n",
    "        return (durations[length//2] + durations[length//2 - 1]) /2\n",
    "    else:\n",
    "        return durations[length//2]"
   ]
  },
  {
   "cell_type": "code",
   "execution_count": 50,
   "id": "3ab1bf6e",
   "metadata": {},
   "outputs": [
    {
     "name": "stdout",
     "output_type": "stream",
     "text": [
      "45\n",
      "70\n",
      "30.0\n"
     ]
    }
   ],
   "source": [
    "print(find_median_episode_length([45, 30, 60, 30, 90]))\n",
    "print(find_median_episode_length([90, 80, 60, 70, 50]))\n",
    "print(find_median_episode_length([30, 10, 20, 40, 30, 50]))"
   ]
  },
  {
   "cell_type": "markdown",
   "id": "e90f6de6",
   "metadata": {},
   "source": [
    "## Problem 5: Find Unique Genres with Minimum Episode Length\n"
   ]
  },
  {
   "cell_type": "code",
   "execution_count": 62,
   "id": "596a326d",
   "metadata": {},
   "outputs": [],
   "source": [
    "def unique_genres_with_min_length(episodes, threshold):\n",
    "    min_duration = float('inf')\n",
    "    arr = set()\n",
    "    for ep, genre, duration in episodes:\n",
    "        if duration < threshold:\n",
    "            continue\n",
    "        else:\n",
    "            arr.add(genre)\n",
    "    return list(arr)\n"
   ]
  },
  {
   "cell_type": "code",
   "execution_count": 63,
   "id": "a9b8f3a1",
   "metadata": {},
   "outputs": [
    {
     "name": "stdout",
     "output_type": "stream",
     "text": [
      "['Tech', 'Entertainment', 'Health']\n",
      "['Art', 'Science']\n",
      "['Drama', 'Music']\n"
     ]
    }
   ],
   "source": [
    "print(\n",
    "    unique_genres_with_min_length(\n",
    "        [\n",
    "            (\"Episode 1\", \"Tech\", 30),\n",
    "            (\"Episode 2\", \"Health\", 45),\n",
    "            (\"Episode 3\", \"Tech\", 35),\n",
    "            (\"Episode 4\", \"Entertainment\", 60),\n",
    "        ],\n",
    "        30,\n",
    "    )\n",
    ")\n",
    "print(\n",
    "    unique_genres_with_min_length(\n",
    "        [\n",
    "            (\"Episode A\", \"Science\", 40),\n",
    "            (\"Episode B\", \"Science\", 50),\n",
    "            (\"Episode C\", \"Art\", 25),\n",
    "            (\"Episode D\", \"Art\", 30),\n",
    "        ],\n",
    "        30,\n",
    "    )\n",
    ")\n",
    "print(\n",
    "    unique_genres_with_min_length(\n",
    "        [\n",
    "            (\"Episode X\", \"Music\", 20),\n",
    "            (\"Episode Y\", \"Music\", 15),\n",
    "            (\"Episode Z\", \"Drama\", 25),\n",
    "        ],\n",
    "        20,\n",
    "    )\n",
    ")"
   ]
  },
  {
   "cell_type": "markdown",
   "id": "f80cf629",
   "metadata": {},
   "source": [
    "## Problem 6: Find Recent Podcast Episodes\n"
   ]
  },
  {
   "cell_type": "code",
   "execution_count": 68,
   "id": "62ad4964",
   "metadata": {},
   "outputs": [],
   "source": [
    "def get_recent_episodes(episodes, n):\n",
    "    episodes.reverse()\n",
    "    return episodes[:n:]"
   ]
  },
  {
   "cell_type": "code",
   "execution_count": 69,
   "id": "4c68765d",
   "metadata": {},
   "outputs": [
    {
     "name": "stdout",
     "output_type": "stream",
     "text": [
      "['episode4', 'episode3', 'episode2']\n",
      "['ep3', 'ep2']\n",
      "['d', 'c', 'b', 'a']\n"
     ]
    }
   ],
   "source": [
    "episodes1 = [\"episode1\", \"episode2\", \"episode3\", \"episode4\"]\n",
    "n = 3\n",
    "print(get_recent_episodes(episodes1, n))\n",
    "\n",
    "episodes2 = [\"ep1\", \"ep2\", \"ep3\"]\n",
    "n = 2\n",
    "print(get_recent_episodes(episodes2, n))\n",
    "\n",
    "episodes3 = [\"a\", \"b\", \"c\", \"d\"]\n",
    "n = 5\n",
    "print(get_recent_episodes(episodes3, n))"
   ]
  },
  {
   "cell_type": "markdown",
   "id": "dc6c8b21",
   "metadata": {},
   "source": [
    "## Problem 7: Reorder Podcast Episodes\n"
   ]
  },
  {
   "cell_type": "code",
   "execution_count": 74,
   "id": "d2888857",
   "metadata": {},
   "outputs": [],
   "source": [
    "def reorder_stack(stack, indices):\n",
    "    mapping = dict()\n",
    "    ret = [0] * len(stack)\n",
    "    # for idx, val in zip(indices, stack):\n",
    "    #     mapping[idx] = val\n",
    "    # for idx, mapping in mapping.items():\n",
    "    #     ret[idx] = mapping\n",
    "    for idx, mapping in zip(indices, stack):\n",
    "        ret[idx] = mapping\n",
    "    return ret"
   ]
  },
  {
   "cell_type": "code",
   "execution_count": 75,
   "id": "57b457d3",
   "metadata": {},
   "outputs": [
    {
     "name": "stdout",
     "output_type": "stream",
     "text": [
      "['Episode2', 'Episode4', 'Episode1', 'Episode3']\n",
      "['D', 'A', 'B', 'C']\n",
      "['Alpha', 'Gamma', 'Beta']\n"
     ]
    }
   ],
   "source": [
    "stack1 = [\"Episode1\", \"Episode2\", \"Episode3\", \"Episode4\"]\n",
    "indices = [2, 0, 3, 1]\n",
    "print(reorder_stack(stack1, indices))\n",
    "\n",
    "stack2 = [\"A\", \"B\", \"C\", \"D\"]\n",
    "indices = [1, 2, 3, 0]\n",
    "print(reorder_stack(stack2, indices))\n",
    "\n",
    "stack3 = [\"Alpha\", \"Beta\", \"Gamma\"]\n",
    "indices = [0, 2, 1]\n",
    "print(reorder_stack(stack3, indices))"
   ]
  },
  {
   "cell_type": "markdown",
   "id": "f7e39230",
   "metadata": {},
   "source": [
    "## Problem 8: Find Longest Consecutive Listen Gaps"
   ]
  },
  {
   "cell_type": "code",
   "execution_count": 76,
   "id": "bd04b575",
   "metadata": {},
   "outputs": [],
   "source": [
    "def find_longest_gap(timestamps):\n",
    "    gap = 0\n",
    "    longest = 0\n",
    "    for i in range(len(timestamps[1:])):\n",
    "        gap = timestamps[i] - timestamps[i - 1]\n",
    "        if gap > longest:\n",
    "            longest = gap\n",
    "    return longest"
   ]
  },
  {
   "cell_type": "code",
   "execution_count": 77,
   "id": "56c1d3a4",
   "metadata": {},
   "outputs": [
    {
     "name": "stdout",
     "output_type": "stream",
     "text": [
      "30\n",
      "20\n",
      "10\n"
     ]
    }
   ],
   "source": [
    "timestamps1 = [30, 50, 70, 100, 120, 150]\n",
    "print(find_longest_gap(timestamps1))\n",
    "\n",
    "timestamps2 = [10, 20, 30, 50, 60, 90]\n",
    "print(find_longest_gap(timestamps2))\n",
    "\n",
    "timestamps3 = [5, 10, 15, 25, 35, 45]\n",
    "print(find_longest_gap(timestamps3))"
   ]
  },
  {
   "cell_type": "markdown",
   "id": "daf157d7",
   "metadata": {},
   "source": [
    "# THE END"
   ]
  }
 ],
 "metadata": {
  "kernelspec": {
   "display_name": ".venv",
   "language": "python",
   "name": "python3"
  },
  "language_info": {
   "codemirror_mode": {
    "name": "ipython",
    "version": 3
   },
   "file_extension": ".py",
   "mimetype": "text/x-python",
   "name": "python",
   "nbconvert_exporter": "python",
   "pygments_lexer": "ipython3",
   "version": "3.12.11"
  }
 },
 "nbformat": 4,
 "nbformat_minor": 5
}
