{
 "cells": [
  {
   "cell_type": "markdown",
   "id": "be52db39",
   "metadata": {},
   "source": [
    "## Problem 1: Planning Your Daily Work Schedule\n"
   ]
  },
  {
   "cell_type": "code",
   "execution_count": 3,
   "id": "32e9b8d0",
   "metadata": {},
   "outputs": [],
   "source": [
    "def find_task_pair(task_times, available_time):\n",
    "  sett = set()\n",
    "  for i in task_times:\n",
    "    if i in sett:\n",
    "      return True\n",
    "    else:\n",
    "      sett.add(available_time - i)\n",
    "  return False\n"
   ]
  },
  {
   "cell_type": "code",
   "execution_count": 4,
   "id": "17926743",
   "metadata": {},
   "outputs": [
    {
     "name": "stdout",
     "output_type": "stream",
     "text": [
      "True\n",
      "True\n",
      "False\n"
     ]
    }
   ],
   "source": [
    "task_times = [30, 45, 60, 90, 120]\n",
    "available_time = 105\n",
    "print(find_task_pair(task_times, available_time))\n",
    "\n",
    "task_times_2 = [15, 25, 35, 45, 55]\n",
    "available_time = 100\n",
    "print(find_task_pair(task_times_2, available_time))\n",
    "\n",
    "task_times_3 = [20, 30, 50, 70]\n",
    "available_time = 60\n",
    "print(find_task_pair(task_times_3, available_time))\n"
   ]
  },
  {
   "cell_type": "markdown",
   "id": "52652f72",
   "metadata": {},
   "source": [
    "## Problem 2: Minimizing Workload Gaps\n"
   ]
  },
  {
   "cell_type": "code",
   "execution_count": 21,
   "id": "2400473c",
   "metadata": {},
   "outputs": [],
   "source": [
    "def find_smallest_gap(work_sessions):\n",
    "    work_sessions.sort(key = lambda x:x[0])\n",
    "\n",
    "    def minutes(time):\n",
    "        return (time//100) * 60 + time%100\n",
    "\n",
    "    smallest_time = float('inf')\n",
    "    prevend = work_sessions[0][1]\n",
    "\n",
    "    for start, end in work_sessions[1:]:\n",
    "        print(prevend, smallest_time, start, end)\n",
    "        breaktime = minutes(start) - minutes(prevend)\n",
    "\n",
    "        prevend = end\n",
    "        smallest_time = min(smallest_time, breaktime)\n",
    "    return smallest_time"
   ]
  },
  {
   "cell_type": "code",
   "execution_count": 22,
   "id": "c9fb44c5",
   "metadata": {},
   "outputs": [
    {
     "name": "stdout",
     "output_type": "stream",
     "text": [
      "1100 inf 1300 1500\n",
      "1500 120 1600 1800\n",
      "60\n",
      "1130 inf 1200 1300\n",
      "1300 30 1400 1500\n",
      "30\n",
      "1100 inf 1115 1300\n",
      "1300 15 1315 1500\n",
      "15\n"
     ]
    }
   ],
   "source": [
    "work_sessions = [(900, 1100), (1300, 1500), (1600, 1800)]\n",
    "print(find_smallest_gap(work_sessions))\n",
    "\n",
    "work_sessions_2 = [(1000, 1130), (1200, 1300), (1400, 1500)]\n",
    "print(find_smallest_gap(work_sessions_2))\n",
    "\n",
    "work_sessions_3 = [(900, 1100), (1115, 1300), (1315, 1500)]\n",
    "print(find_smallest_gap(work_sessions_3))"
   ]
  },
  {
   "cell_type": "markdown",
   "id": "1d44959f",
   "metadata": {},
   "source": [
    "## Problem 3: Expense Tracking and Categorization\n"
   ]
  },
  {
   "cell_type": "code",
   "execution_count": 27,
   "id": "18a304c0",
   "metadata": {},
   "outputs": [],
   "source": [
    "from collections import defaultdict\n",
    "def calculate_expenses(expenses):\n",
    "    highestname = ''\n",
    "    highestexp = 0\n",
    "    totals = defaultdict(int)\n",
    "\n",
    "    for name, exp in expenses:\n",
    "        totals[name] += exp\n",
    "        if totals[name] > highestexp:\n",
    "            highestexp = totals[name]\n",
    "            highestname = name\n",
    "    return (dict(totals), highestname)"
   ]
  },
  {
   "cell_type": "code",
   "execution_count": 28,
   "id": "04ef7672",
   "metadata": {},
   "outputs": [
    {
     "name": "stdout",
     "output_type": "stream",
     "text": [
      "({'Food': 30.0, 'Transport': 25.0, 'Accommodation': 50.0}, 'Accommodation')\n",
      "({'Entertainment': 25.0, 'Food': 40.0, 'Transport': 10.0, 'Accommodation': 40.0}, 'Food')\n",
      "({'Utilities': 150.0, 'Food': 75.0, 'Transport': 75.0}, 'Utilities')\n"
     ]
    }
   ],
   "source": [
    "expenses = [\n",
    "    (\"Food\", 12.5),\n",
    "    (\"Transport\", 15.0),\n",
    "    (\"Accommodation\", 50.0),\n",
    "    (\"Food\", 7.5),\n",
    "    (\"Transport\", 10.0),\n",
    "    (\"Food\", 10.0),\n",
    "]\n",
    "print(calculate_expenses(expenses))\n",
    "\n",
    "expenses_2 = [\n",
    "    (\"Entertainment\", 20.0),\n",
    "    (\"Food\", 15.0),\n",
    "    (\"Transport\", 10.0),\n",
    "    (\"Entertainment\", 5.0),\n",
    "    (\"Food\", 25.0),\n",
    "    (\"Accommodation\", 40.0),\n",
    "]\n",
    "print(calculate_expenses(expenses_2))\n",
    "\n",
    "expenses_3 = [\n",
    "    (\"Utilities\", 100.0),\n",
    "    (\"Food\", 50.0),\n",
    "    (\"Transport\", 75.0),\n",
    "    (\"Utilities\", 50.0),\n",
    "    (\"Food\", 25.0),\n",
    "]\n",
    "print(calculate_expenses(expenses_3))"
   ]
  },
  {
   "cell_type": "markdown",
   "id": "0bb2673a",
   "metadata": {},
   "source": [
    "## Problem 4: Analyzing Word Frequency\n"
   ]
  },
  {
   "cell_type": "code",
   "execution_count": 71,
   "id": "510cdf44",
   "metadata": {},
   "outputs": [],
   "source": [
    "from collections import Counter\n",
    "def word_frequency_analysis(text):\n",
    "    words = text.lower().split()\n",
    "    # clean_words = [''.join(ch for ch in w if ch.isalnum()) for w in words if any(ch.isalnum() for ch in w)]\n",
    "    clean_words = []\n",
    "    for word in words:\n",
    "        cur = []\n",
    "        for ch in word:\n",
    "            if ch.isalnum():\n",
    "                cur.append(ch)\n",
    "        clean_words.append(''.join(cur))\n",
    "\n",
    "    if not clean_words:\n",
    "        return ({}, [])\n",
    "\n",
    "    counter = Counter(clean_words)\n",
    "    maxes = []\n",
    "    maxfreq = max(counter.values())\n",
    "    for name, freq in counter.items():\n",
    "        if freq == maxfreq:\n",
    "            maxes.append(name)\n",
    "    \n",
    "    \n",
    "    \n",
    "    return (dict(counter), maxes)"
   ]
  },
  {
   "cell_type": "code",
   "execution_count": 72,
   "id": "a70ddfbe",
   "metadata": {},
   "outputs": [
    {
     "name": "stdout",
     "output_type": "stream",
     "text": [
      "({'the': 3, 'quick': 1, 'brown': 1, 'fox': 1, 'jumps': 1, 'over': 1, 'lazy': 1, 'dog': 2, 'was': 1, 'not': 1, 'amused': 1}, ['the'])\n",
      "({'digital': 1, 'nomads': 1, 'love': 1, 'to': 1, 'travel': 2, 'is': 1, 'their': 1, 'passion': 1}, ['travel'])\n",
      "({'stay': 3, 'connected': 1, 'productive': 1, 'happy': 1}, ['stay'])\n"
     ]
    }
   ],
   "source": [
    "text = \"The quick brown fox jumps over the lazy dog. The dog was not amused.\"\n",
    "print(word_frequency_analysis(text))\n",
    "\n",
    "text_2 = \"Digital nomads love to travel. Travel is their passion.\"\n",
    "print(word_frequency_analysis(text_2))\n",
    "\n",
    "text_3 = \"Stay connected. Stay productive. Stay happy.\"\n",
    "print(word_frequency_analysis(text_3))"
   ]
  },
  {
   "cell_type": "markdown",
   "id": "aad6ab7a",
   "metadata": {},
   "source": [
    "## Problem 5: Validating HTML Tags\n"
   ]
  },
  {
   "cell_type": "code",
   "execution_count": 80,
   "id": "0824f8c7",
   "metadata": {},
   "outputs": [],
   "source": [
    "def validate_html_tags(html):\n",
    "    tokens = html[1:-1].split('><')\n",
    "    stack = []\n",
    "    for token in tokens:\n",
    "        if token[0] == '/':\n",
    "            if stack and stack[-1] == token[1:]:\n",
    "                stack.pop()\n",
    "            else:\n",
    "                return False\n",
    "        else:\n",
    "            stack.append(token)\n",
    "    return len(stack) == 0"
   ]
  },
  {
   "cell_type": "code",
   "execution_count": 81,
   "id": "ba7fc7bf",
   "metadata": {},
   "outputs": [
    {
     "name": "stdout",
     "output_type": "stream",
     "text": [
      "True\n",
      "False\n",
      "True\n",
      "False\n"
     ]
    }
   ],
   "source": [
    "html = \"<div><p></p></div>\"\n",
    "print(validate_html_tags(html))\n",
    "\n",
    "html_2 = \"<div><p></div></p>\"\n",
    "print(validate_html_tags(html_2))\n",
    "\n",
    "html_3 = \"<div><p><a></a></p></div>\"\n",
    "print(validate_html_tags(html_3))\n",
    "\n",
    "html_4 = \"<div><p></a></p></div>\"\n",
    "print(validate_html_tags(html_4))"
   ]
  },
  {
   "cell_type": "markdown",
   "id": "3ec0ce07",
   "metadata": {},
   "source": [
    "## Problem 6: Task Prioritization with Limited Time\n"
   ]
  },
  {
   "cell_type": "code",
   "execution_count": 114,
   "id": "3a508a1a",
   "metadata": {},
   "outputs": [],
   "source": [
    "def max_tasks_within_time(tasks, time_limit):\n",
    "    tasks.sort()\n",
    "    count = 0\n",
    "    for i in tasks:\n",
    "        if time_limit >= i:\n",
    "            time_limit -= i\n",
    "            count += 1\n",
    "        else:\n",
    "            return count\n",
    "    return count"
   ]
  },
  {
   "cell_type": "code",
   "execution_count": 115,
   "id": "4f8ac491",
   "metadata": {},
   "outputs": [
    {
     "name": "stdout",
     "output_type": "stream",
     "text": [
      "3\n",
      "4\n",
      "3\n"
     ]
    }
   ],
   "source": [
    "tasks = [5, 10, 7, 8]\n",
    "time_limit = 20\n",
    "print(max_tasks_within_time(tasks, time_limit))\n",
    "\n",
    "tasks_2 = [2, 4, 6, 3, 1]\n",
    "time_limit = 10\n",
    "print(max_tasks_within_time(tasks_2, time_limit))\n",
    "\n",
    "tasks_3 = [8, 5, 3, 2, 7]\n",
    "time_limit = 15\n",
    "print(max_tasks_within_time(tasks_3, time_limit))"
   ]
  },
  {
   "cell_type": "markdown",
   "id": "f11f297b",
   "metadata": {},
   "source": [
    "## Problem 7: Frequent Co-working Spaces\n"
   ]
  },
  {
   "cell_type": "code",
   "execution_count": 123,
   "id": "c8c17c3d",
   "metadata": {},
   "outputs": [],
   "source": [
    "def most_frequent_spaces(visits):\n",
    "    counts = Counter(visits)\n",
    "    maxfreq = max(counts.values())\n",
    "    ret = []\n",
    "    for name, freq in counts.items():\n",
    "        if freq == maxfreq:\n",
    "            ret.append(name)\n",
    "    return ret"
   ]
  },
  {
   "cell_type": "code",
   "execution_count": 124,
   "id": "c9a30108",
   "metadata": {},
   "outputs": [
    {
     "name": "stdout",
     "output_type": "stream",
     "text": [
      "['WeWork']\n",
      "['IndieDesk']\n",
      "['Hub', 'Regus']\n"
     ]
    }
   ],
   "source": [
    "visits = [\"WeWork\", \"Regus\", \"Spaces\", \"WeWork\", \"Regus\", \"WeWork\"]\n",
    "print(most_frequent_spaces(visits))\n",
    "\n",
    "visits_2 = [\n",
    "    \"IndieDesk\",\n",
    "    \"Spaces\",\n",
    "    \"IndieDesk\",\n",
    "    \"WeWork\",\n",
    "    \"Spaces\",\n",
    "    \"IndieDesk\",\n",
    "    \"WeWork\",\n",
    "]\n",
    "print(most_frequent_spaces(visits_2))\n",
    "\n",
    "visits_3 = [\"Hub\", \"Regus\", \"WeWork\", \"Hub\", \"WeWork\", \"Regus\", \"Hub\", \"Regus\"]\n",
    "print(most_frequent_spaces(visits_3))"
   ]
  },
  {
   "cell_type": "markdown",
   "id": "73c0d174",
   "metadata": {},
   "source": [
    "## Problem 8: Track Popular Destinations\n"
   ]
  },
  {
   "cell_type": "code",
   "execution_count": 131,
   "id": "0ecee409",
   "metadata": {},
   "outputs": [],
   "source": [
    "def most_popular_destination(visits):\n",
    "    visits.sort(key= lambda x:x[1])\n",
    "    places = [name for name, _ in visits]\n",
    "\n",
    "    counts = Counter(places)\n",
    "    maxfreq = max(counts.values())\n",
    "\n",
    "    compare = [name for name, freq in counts.items() if freq == maxfreq]\n",
    "    \n",
    "    for name, _ in reversed(visits):\n",
    "        if name in compare:\n",
    "            return (name, maxfreq)"
   ]
  },
  {
   "cell_type": "code",
   "execution_count": 149,
   "id": "e7c077bf",
   "metadata": {},
   "outputs": [],
   "source": [
    "from collections import defaultdict\n",
    "\n",
    "def most_popular_destination(visits):\n",
    "    stats = defaultdict(lambda: [0, ''])\n",
    "\n",
    "    for dest, date in visits:\n",
    "        stats[dest][0] += 1\n",
    "        if date > stats[dest][1]:\n",
    "            stats[dest][1] = date\n",
    "    \n",
    "    max_count = 0\n",
    "    latest_date = \"\"\n",
    "    best_dest = None\n",
    "\n",
    "    for dest, (count, latest) in stats.items():\n",
    "        if count > max_count or (count == max_count and latest > latest_date):\n",
    "            best_dest = dest\n",
    "            max_count = count\n",
    "            latest_date = latest\n",
    "    return(best_dest, max_count)"
   ]
  },
  {
   "cell_type": "code",
   "execution_count": 150,
   "id": "d41f120b",
   "metadata": {},
   "outputs": [
    {
     "name": "stdout",
     "output_type": "stream",
     "text": [
      "('Paris', 3)\n",
      "('London', 3)\n",
      "('Dubai', 3)\n"
     ]
    }
   ],
   "source": [
    "visits = [\n",
    "    (\"Paris\", \"2024-07-15\"),\n",
    "    (\"Tokyo\", \"2024-08-01\"),\n",
    "    (\"Paris\", \"2024-08-05\"),\n",
    "    (\"New York\", \"2024-08-10\"),\n",
    "    (\"Tokyo\", \"2024-08-15\"),\n",
    "    (\"Paris\", \"2024-08-20\"),\n",
    "]\n",
    "print(most_popular_destination(visits))\n",
    "\n",
    "visits_2 = [\n",
    "    (\"London\", \"2024-06-01\"),\n",
    "    (\"Berlin\", \"2024-06-15\"),\n",
    "    (\"London\", \"2024-07-01\"),\n",
    "    (\"Berlin\", \"2024-07-10\"),\n",
    "    (\"London\", \"2024-07-15\"),\n",
    "]\n",
    "print(most_popular_destination(visits_2))\n",
    "\n",
    "visits_3 = [\n",
    "    (\"Sydney\", \"2024-05-01\"),\n",
    "    (\"Dubai\", \"2024-05-15\"),\n",
    "    (\"Sydney\", \"2024-05-20\"),\n",
    "    (\"Dubai\", \"2024-06-01\"),\n",
    "    (\"Dubai\", \"2024-06-15\"),\n",
    "]\n",
    "print(most_popular_destination(visits_3))"
   ]
  },
  {
   "cell_type": "markdown",
   "id": "7a5397b7",
   "metadata": {},
   "source": [
    "# THE END"
   ]
  }
 ],
 "metadata": {
  "kernelspec": {
   "display_name": "codepath",
   "language": "python",
   "name": "python3"
  },
  "language_info": {
   "codemirror_mode": {
    "name": "ipython",
    "version": 3
   },
   "file_extension": ".py",
   "mimetype": "text/x-python",
   "name": "python",
   "nbconvert_exporter": "python",
   "pygments_lexer": "ipython3",
   "version": "3.12.11"
  }
 },
 "nbformat": 4,
 "nbformat_minor": 5
}
