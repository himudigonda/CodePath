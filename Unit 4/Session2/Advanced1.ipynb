{
 "cells": [
  {
   "cell_type": "markdown",
   "id": "767688d7",
   "metadata": {},
   "source": [
    "## Problem 1: Brand Filter\n"
   ]
  },
  {
   "cell_type": "code",
   "execution_count": 15,
   "id": "36be3122",
   "metadata": {},
   "outputs": [],
   "source": [
    "def filter_sustainable_brands(brands, criterion):\n",
    "    res = []\n",
    "    for brand in brands:\n",
    "        name = brand['name']\n",
    "        criterias = brand[\"criteria\"]\n",
    "        if criterion in criterias:\n",
    "            res.append(name)\n",
    "    return res\n",
    "        \n",
    "        \n",
    "        \n"
   ]
  },
  {
   "cell_type": "code",
   "execution_count": 16,
   "id": "f0f4f99c",
   "metadata": {},
   "outputs": [
    {
     "name": "stdout",
     "output_type": "stream",
     "text": [
      "['EcoWear', 'GreenThreads']\n",
      "['Earthly']\n",
      "['GreenLife']\n"
     ]
    }
   ],
   "source": [
    "brands = [\n",
    "    {\"name\": \"EcoWear\", \"criteria\": [\"eco-friendly\", \"ethical labor\"]},\n",
    "    {\"name\": \"FastFashion\", \"criteria\": [\"cheap materials\", \"fast production\"]},\n",
    "    {\"name\": \"GreenThreads\", \"criteria\": [\"eco-friendly\", \"carbon-neutral\"]},\n",
    "    {\"name\": \"TrendyStyle\", \"criteria\": [\"trendy designs\"]},\n",
    "]\n",
    "\n",
    "brands_2 = [\n",
    "    {\"name\": \"Earthly\", \"criteria\": [\"ethical labor\", \"fair wages\"]},\n",
    "    {\"name\": \"FastStyle\", \"criteria\": [\"mass production\"]},\n",
    "    {\"name\": \"NatureWear\", \"criteria\": [\"eco-friendly\"]},\n",
    "    {\"name\": \"GreenFit\", \"criteria\": [\"recycled materials\", \"eco-friendly\"]},\n",
    "]\n",
    "\n",
    "brands_3 = [\n",
    "    {\"name\": \"OrganicThreads\", \"criteria\": [\"organic cotton\", \"fair trade\"]},\n",
    "    {\"name\": \"GreenLife\", \"criteria\": [\"recycled materials\", \"carbon-neutral\"]},\n",
    "    {\"name\": \"FastCloth\", \"criteria\": [\"cheap production\"]},\n",
    "]\n",
    "\n",
    "print(filter_sustainable_brands(brands, \"eco-friendly\"))\n",
    "print(filter_sustainable_brands(brands_2, \"ethical labor\"))\n",
    "print(filter_sustainable_brands(brands_3, \"carbon-neutral\"))"
   ]
  },
  {
   "cell_type": "markdown",
   "id": "2c502a2b",
   "metadata": {},
   "source": [
    "## Problem 2: Eco-Friendly Materials"
   ]
  },
  {
   "cell_type": "code",
   "execution_count": 21,
   "id": "3cf6cc94",
   "metadata": {},
   "outputs": [],
   "source": [
    "def count_material_usage(brands):\n",
    "    res = {}\n",
    "\n",
    "    for brand in brands:\n",
    "        for material in brand['materials']:\n",
    "            res[material] = 1 + res.get(material, 0)\n",
    "    return res"
   ]
  },
  {
   "cell_type": "code",
   "execution_count": 22,
   "id": "e46b90d9",
   "metadata": {},
   "outputs": [
    {
     "name": "stdout",
     "output_type": "stream",
     "text": [
      "{'organic cotton': 2, 'recycled polyester': 2, 'bamboo': 2}\n",
      "{'hemp': 2, 'linen': 2, 'organic cotton': 1, 'recycled wool': 1}\n",
      "{'organic cotton': 1, 'recycled polyester': 2, 'hemp': 1, 'bamboo': 1}\n"
     ]
    }
   ],
   "source": [
    "brands = [\n",
    "    {\"name\": \"EcoWear\", \"materials\": [\"organic cotton\", \"recycled polyester\"]},\n",
    "    {\"name\": \"GreenThreads\", \"materials\": [\"organic cotton\", \"bamboo\"]},\n",
    "    {\"name\": \"SustainableStyle\", \"materials\": [\"bamboo\", \"recycled polyester\"]},\n",
    "]\n",
    "\n",
    "brands_2 = [\n",
    "    {\"name\": \"NatureWear\", \"materials\": [\"hemp\", \"linen\"]},\n",
    "    {\"name\": \"Earthly\", \"materials\": [\"organic cotton\", \"hemp\"]},\n",
    "    {\"name\": \"GreenFit\", \"materials\": [\"linen\", \"recycled wool\"]},\n",
    "]\n",
    "\n",
    "brands_3 = [\n",
    "    {\"name\": \"OrganicThreads\", \"materials\": [\"organic cotton\"]},\n",
    "    {\"name\": \"EcoFashion\", \"materials\": [\"recycled polyester\", \"hemp\"]},\n",
    "    {\"name\": \"GreenLife\", \"materials\": [\"recycled polyester\", \"bamboo\"]},\n",
    "]\n",
    "\n",
    "print(count_material_usage(brands))\n",
    "print(count_material_usage(brands_2))\n",
    "print(count_material_usage(brands_3))"
   ]
  },
  {
   "cell_type": "markdown",
   "id": "d604c710",
   "metadata": {},
   "source": [
    "## Problem 3: Fashion Trends"
   ]
  },
  {
   "cell_type": "code",
   "execution_count": 34,
   "id": "9e1da405",
   "metadata": {},
   "outputs": [],
   "source": [
    "def find_trending_materials(brands):\n",
    "    res = {}\n",
    "    trending = []\n",
    "    for brand in brands:\n",
    "        for material in brand['materials']:\n",
    "            res[material] = 1 + res.get(material, 0)\n",
    "\n",
    "    for name, value in res.items():\n",
    "        if value >= 2:\n",
    "            trending.append(name)\n",
    "    return trending"
   ]
  },
  {
   "cell_type": "code",
   "execution_count": 35,
   "id": "18da6efd",
   "metadata": {},
   "outputs": [
    {
     "name": "stdout",
     "output_type": "stream",
     "text": [
      "['organic cotton', 'recycled polyester', 'bamboo']\n",
      "['hemp', 'linen']\n",
      "['recycled polyester']\n"
     ]
    }
   ],
   "source": [
    "brands = [\n",
    "    {\"name\": \"EcoWear\", \"materials\": [\"organic cotton\", \"recycled polyester\"]},\n",
    "    {\"name\": \"GreenThreads\", \"materials\": [\"organic cotton\", \"bamboo\"]},\n",
    "    {\"name\": \"SustainableStyle\", \"materials\": [\"bamboo\", \"recycled polyester\"]},\n",
    "]\n",
    "\n",
    "brands_2 = [\n",
    "    {\"name\": \"NatureWear\", \"materials\": [\"hemp\", \"linen\"]},\n",
    "    {\"name\": \"Earthly\", \"materials\": [\"organic cotton\", \"hemp\"]},\n",
    "    {\"name\": \"GreenFit\", \"materials\": [\"linen\", \"recycled wool\"]},\n",
    "]\n",
    "\n",
    "brands_3 = [\n",
    "    {\"name\": \"OrganicThreads\", \"materials\": [\"organic cotton\"]},\n",
    "    {\"name\": \"EcoFashion\", \"materials\": [\"recycled polyester\", \"hemp\"]},\n",
    "    {\"name\": \"GreenLife\", \"materials\": [\"recycled polyester\", \"bamboo\"]},\n",
    "]\n",
    "\n",
    "print(find_trending_materials(brands))\n",
    "print(find_trending_materials(brands_2))\n",
    "print(find_trending_materials(brands_3))"
   ]
  },
  {
   "cell_type": "markdown",
   "id": "ae843d98",
   "metadata": {},
   "source": [
    "## Problem 4: Fabric Pairing\n"
   ]
  },
  {
   "cell_type": "code",
   "execution_count": 50,
   "id": "24ad3067",
   "metadata": {},
   "outputs": [],
   "source": [
    "def find_best_fabric_pair(fabrics, budget):\n",
    "    fabrics.sort(key = lambda x:x[1])\n",
    "    l = 0\n",
    "    r = len(fabrics) - 1\n",
    "    res = ()\n",
    "    total = 0\n",
    "    maxtotal = 0\n",
    "\n",
    "    while l < r:\n",
    "        if fabrics[l][1] + fabrics[r][1] <= budget:\n",
    "            total = fabrics[l][1] + fabrics[r][1] \n",
    "            if total > maxtotal:\n",
    "                maxtotal = total\n",
    "                res = (fabrics[l][0], fabrics[r][0])\n",
    "            l += 1\n",
    "        else:\n",
    "            r -= 1\n",
    "    return res\n"
   ]
  },
  {
   "cell_type": "code",
   "execution_count": 51,
   "id": "25182370",
   "metadata": {},
   "outputs": [
    {
     "name": "stdout",
     "output_type": "stream",
     "text": [
      "('Hemp', 'Organic Cotton')\n",
      "('Tencel', 'Recycled Wool')\n",
      "('Bamboo', 'Linen')\n"
     ]
    }
   ],
   "source": [
    "fabrics = [\n",
    "    (\"Organic Cotton\", 30),\n",
    "    (\"Recycled Polyester\", 20),\n",
    "    (\"Bamboo\", 25),\n",
    "    (\"Hemp\", 15),\n",
    "]\n",
    "fabrics_2 = [\n",
    "    (\"Linen\", 50),\n",
    "    (\"Recycled Wool\", 40),\n",
    "    (\"Tencel\", 30),\n",
    "    (\"Organic Cotton\", 60),\n",
    "]\n",
    "fabrics_3 = [(\"Linen\", 40), (\"Hemp\", 35), (\"Recycled Polyester\", 25), (\"Bamboo\", 20)]\n",
    "\n",
    "print(find_best_fabric_pair(fabrics, 45))\n",
    "print(find_best_fabric_pair(fabrics_2, 70))\n",
    "print(find_best_fabric_pair(fabrics_3, 60))"
   ]
  },
  {
   "cell_type": "markdown",
   "id": "c2826cd3",
   "metadata": {},
   "source": [
    "## Problem 5: Fabric Stacks"
   ]
  },
  {
   "cell_type": "code",
   "execution_count": 38,
   "id": "1c90ca97",
   "metadata": {},
   "outputs": [],
   "source": [
    "import heapq\n",
    "def organize_fabrics(fabrics):\n",
    "    # fabrics.sort(key=lambda x: x[1], reverse=True)\n",
    "    # fabrics.sort(key=lambda x: -x[1])\n",
    "    # return [element for element, score in fabrics]\n",
    "    heap = []\n",
    "    heapq.heapify(heap)\n",
    "\n",
    "    while fabrics:\n",
    "        element, score = fabrics.pop()\n",
    "        heapq.heappush(heap, (-score, element))\n",
    "\n",
    "    res = []\n",
    "    while heap:\n",
    "        score, element= heapq.heappop(heap)\n",
    "        res.append(element)\n",
    "    return res"
   ]
  },
  {
   "cell_type": "code",
   "execution_count": 39,
   "id": "203a4cd6",
   "metadata": {},
   "outputs": [
    {
     "name": "stdout",
     "output_type": "stream",
     "text": [
      "['Hemp', 'Organic Cotton', 'Bamboo', 'Recycled Polyester']\n",
      "['Recycled Wool', 'Tencel', 'Organic Cotton', 'Linen']\n",
      "['Hemp', 'Bamboo', 'Recycled Polyester', 'Linen']\n"
     ]
    }
   ],
   "source": [
    "fabrics = [(\"Organic Cotton\", 8), (\"Recycled Polyester\", 6), (\"Bamboo\", 7), (\"Hemp\", 9)]\n",
    "fabrics_2 = [(\"Linen\", 5), (\"Recycled Wool\", 9), (\"Tencel\", 7), (\"Organic Cotton\", 6)]\n",
    "fabrics_3 = [(\"Linen\", 4), (\"Hemp\", 8), (\"Recycled Polyester\", 5), (\"Bamboo\", 7)]\n",
    "\n",
    "print(organize_fabrics(fabrics))\n",
    "print(organize_fabrics(fabrics_2))\n",
    "print(organize_fabrics(fabrics_3))"
   ]
  },
  {
   "cell_type": "markdown",
   "id": "2081f66b",
   "metadata": {},
   "source": [
    "## Problem 6: Supply Chain"
   ]
  },
  {
   "cell_type": "code",
   "execution_count": 58,
   "id": "1f085ee2",
   "metadata": {},
   "outputs": [],
   "source": [
    "def process_supplies(supplies):\n",
    "    supplies.sort(key = lambda x: -x[1])\n",
    "    return [name for name, priority in supplies]"
   ]
  },
  {
   "cell_type": "code",
   "execution_count": 59,
   "id": "6a25f9ba",
   "metadata": {},
   "outputs": [
    {
     "name": "stdout",
     "output_type": "stream",
     "text": [
      "['Bamboo', 'Organic Cotton', 'Recycled Polyester', 'Hemp']\n",
      "['Recycled Wool', 'Organic Cotton', 'Tencel', 'Linen']\n",
      "['Recycled Polyester', 'Linen', 'Hemp', 'Bamboo']\n"
     ]
    }
   ],
   "source": [
    "supplies = [\n",
    "    (\"Organic Cotton\", 3),\n",
    "    (\"Recycled Polyester\", 2),\n",
    "    (\"Bamboo\", 4),\n",
    "    (\"Hemp\", 1),\n",
    "]\n",
    "supplies_2 = [(\"Linen\", 2), (\"Recycled Wool\", 5), (\"Tencel\", 3), (\"Organic Cotton\", 4)]\n",
    "supplies_3 = [(\"Linen\", 3), (\"Hemp\", 2), (\"Recycled Polyester\", 5), (\"Bamboo\", 1)]\n",
    "\n",
    "print(process_supplies(supplies))\n",
    "print(process_supplies(supplies_2))\n",
    "print(process_supplies(supplies_3))"
   ]
  },
  {
   "cell_type": "markdown",
   "id": "19a567fb",
   "metadata": {},
   "source": [
    "## Problem 7: Calculate Fabric Waste"
   ]
  },
  {
   "cell_type": "code",
   "execution_count": 77,
   "id": "951c7f74",
   "metadata": {},
   "outputs": [],
   "source": [
    "def calculate_fabric_waste(items, fabric_rolls):\n",
    "    if len(items) != len(fabric_rolls): return False\n",
    "    n = len(items)\n",
    "    wastage = 0\n",
    "    for i in range(n):\n",
    "        cur_wastage = fabric_rolls[i] - items[i][1]\n",
    "        wastage += cur_wastage\n",
    "    return wastage"
   ]
  },
  {
   "cell_type": "code",
   "execution_count": 78,
   "id": "bf194a31",
   "metadata": {},
   "outputs": [
    {
     "name": "stdout",
     "output_type": "stream",
     "text": [
      "5\n",
      "3\n",
      "6\n"
     ]
    }
   ],
   "source": [
    "items = [(\"T-Shirt\", 2), (\"Pants\", 3), (\"Jacket\", 5)]\n",
    "fabric_rolls = [5, 5, 5]\n",
    "print(calculate_fabric_waste(items, fabric_rolls))\n",
    "\n",
    "items_2 = [(\"Dress\", 4), (\"Skirt\", 3), (\"Blouse\", 2)]\n",
    "fabric_rolls = [4, 4, 4]\n",
    "print(calculate_fabric_waste(items_2, fabric_rolls))\n",
    "\n",
    "items_3 = [(\"Jacket\", 6), (\"Shirt\", 2), (\"Shorts\", 3)]\n",
    "fabric_rolls = [7, 5, 5]\n",
    "print(calculate_fabric_waste(items_3, fabric_rolls))\n"
   ]
  },
  {
   "cell_type": "markdown",
   "id": "1f3ee886",
   "metadata": {},
   "source": [
    "## Problem 8: Fabric Roll Organizer\n"
   ]
  },
  {
   "cell_type": "code",
   "execution_count": null,
   "id": "f41fe610",
   "metadata": {},
   "outputs": [],
   "source": [
    "def organize_fabric_rolls(fabric_rolls):\n",
    "    if not fabric_rolls:\n",
    "        return []\n",
    "    \n",
    "    fabric_rolls.sort()\n",
    "    length = len(fabric_rolls)\n",
    "    flag = -1 if length%2!=0 else 0\n",
    "    output = []\n",
    "    for i in range(1, len(fabric_rolls), 2):\n",
    "        output.append((fabric_rolls[i - 1], fabric_rolls[i]))\n",
    "    if flag == -1:\n",
    "        output.append(fabric_rolls[flag])\n",
    "    return output\n",
    "    \n"
   ]
  },
  {
   "cell_type": "code",
   "execution_count": 42,
   "id": "f5719397",
   "metadata": {},
   "outputs": [
    {
     "name": "stdout",
     "output_type": "stream",
     "text": [
      "[(10, 15), (22, 25), 30]\n",
      "[(5, 7), (8, 10), (12, 14)]\n",
      "[(10, 15), (25, 30), 40]\n",
      "[(10, 15), (25, 40)]\n"
     ]
    }
   ],
   "source": [
    "fabric_rolls = [15, 10, 25, 30, 22]\n",
    "fabric_rolls_2 = [5, 8, 10, 7, 12, 14]\n",
    "fabric_rolls_3 = [40, 10, 25, 15, 30]\n",
    "fabric_rolls_4 = [40, 10, 25, 15]\n",
    "\n",
    "print(organize_fabric_rolls(fabric_rolls))\n",
    "print(organize_fabric_rolls(fabric_rolls_2))\n",
    "print(organize_fabric_rolls(fabric_rolls_3))\n",
    "print(organize_fabric_rolls(fabric_rolls_4))"
   ]
  },
  {
   "cell_type": "markdown",
   "id": "30f9994b",
   "metadata": {},
   "source": [
    "# THE END"
   ]
  }
 ],
 "metadata": {
  "kernelspec": {
   "display_name": ".venv",
   "language": "python",
   "name": "python3"
  },
  "language_info": {
   "codemirror_mode": {
    "name": "ipython",
    "version": 3
   },
   "file_extension": ".py",
   "mimetype": "text/x-python",
   "name": "python",
   "nbconvert_exporter": "python",
   "pygments_lexer": "ipython3",
   "version": "3.12.12"
  }
 },
 "nbformat": 4,
 "nbformat_minor": 5
}
