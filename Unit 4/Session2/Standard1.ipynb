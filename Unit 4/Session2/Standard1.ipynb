{
 "cells": [
  {
   "cell_type": "markdown",
   "id": "4f36844c",
   "metadata": {},
   "source": [
    "## Problem 1: NFT Name Extractor\n"
   ]
  },
  {
   "cell_type": "code",
   "execution_count": 18,
   "id": "68149174",
   "metadata": {},
   "outputs": [],
   "source": [
    "def extract_nft_names(nft_collection):\n",
    "    ret = []\n",
    "    for nft in nft_collection:\n",
    "        ret.append(nft['name'])\n",
    "    return ret\n"
   ]
  },
  {
   "cell_type": "code",
   "execution_count": 19,
   "id": "f492483d",
   "metadata": {},
   "outputs": [
    {
     "name": "stdout",
     "output_type": "stream",
     "text": [
      "['Abstract Horizon', 'Pixel Dreams', 'Future City']\n",
      "['Crypto Kitty', 'Galactic Voyage']\n",
      "['Golden Hour']\n"
     ]
    }
   ],
   "source": [
    "# Example usage:\n",
    "nft_collection = [\n",
    "    {\"name\": \"Abstract Horizon\", \"creator\": \"ArtByAlex\", \"value\": 5.4},\n",
    "    {\"name\": \"Pixel Dreams\", \"creator\": \"DreamyPixel\", \"value\": 7.2},\n",
    "    {\"name\": \"Future City\", \"creator\": \"UrbanArt\", \"value\": 3.8}\n",
    "]\n",
    "\n",
    "nft_collection_2 = [\n",
    "    {\"name\": \"Crypto Kitty\", \"creator\": \"CryptoPets\", \"value\": 10.5},\n",
    "    {\"name\": \"Galactic Voyage\", \"creator\": \"SpaceArt\", \"value\": 6.7}\n",
    "]\n",
    "\n",
    "nft_collection_3 = [\n",
    "    {\"name\": \"Golden Hour\", \"creator\": \"SunsetArtist\", \"value\": 8.9}\n",
    "]\n",
    "\n",
    "print(extract_nft_names(nft_collection))\n",
    "print(extract_nft_names(nft_collection_2))\n",
    "print(extract_nft_names(nft_collection_3))\n"
   ]
  },
  {
   "cell_type": "markdown",
   "id": "0bad87df",
   "metadata": {},
   "source": [
    "## Problem 2: NFT Collection Review\n"
   ]
  },
  {
   "cell_type": "code",
   "execution_count": 38,
   "id": "feb9a594",
   "metadata": {},
   "outputs": [],
   "source": [
    "def extract_nft_names(nft_collection):\n",
    "    nft_names = []\n",
    "    for nft in nft_collection:\n",
    "        # nft_names += nft[\"name\"] # arr uses + as an extend operator\n",
    "        # nft_names.extend(nft[\"name\"]) # arr uses + as an extend operator same as this\n",
    "        # use append\n",
    "        nft_names.append(nft['name'])\n",
    "    return nft_names"
   ]
  },
  {
   "cell_type": "code",
   "execution_count": 39,
   "id": "b00d65d6",
   "metadata": {},
   "outputs": [
    {
     "name": "stdout",
     "output_type": "stream",
     "text": [
      "['Abstract Horizon', 'Pixel Dreams']\n",
      "['Golden Hour']\n",
      "[]\n"
     ]
    }
   ],
   "source": [
    "nft_collection = [\n",
    "    {\"name\": \"Abstract Horizon\", \"creator\": \"ArtByAlex\", \"value\": 5.4},\n",
    "    {\"name\": \"Pixel Dreams\", \"creator\": \"DreamyPixel\", \"value\": 7.2},\n",
    "]\n",
    "\n",
    "nft_collection_2 = [{\"name\": \"Golden Hour\", \"creator\": \"SunsetArtist\", \"value\": 8.9}]\n",
    "\n",
    "nft_collection_3 = []\n",
    "\n",
    "print(extract_nft_names(nft_collection))\n",
    "print(extract_nft_names(nft_collection_2))\n",
    "print(extract_nft_names(nft_collection_3))"
   ]
  },
  {
   "cell_type": "markdown",
   "id": "6d1b9cbe",
   "metadata": {},
   "source": [
    "## Problem 3: Identify Popular Creators"
   ]
  },
  {
   "cell_type": "code",
   "execution_count": 64,
   "id": "525fb5d6",
   "metadata": {},
   "outputs": [],
   "source": [
    "from collections import Counter\n",
    "\n",
    "def identify_popular_creators(nft_collection):\n",
    "    counts = defaultdict(int)\n",
    "    for i in nft_collection:\n",
    "        counts[i['creator']] += 1\n",
    "    return [i for i,v in counts.items() if counts if v > 1]"
   ]
  },
  {
   "cell_type": "code",
   "execution_count": 65,
   "id": "3ee00319",
   "metadata": {},
   "outputs": [
    {
     "name": "stdout",
     "output_type": "stream",
     "text": [
      "['ArtByAlex']\n",
      "['SpaceArt']\n",
      "[]\n"
     ]
    }
   ],
   "source": [
    "nft_collection = [\n",
    "    {\"name\": \"Abstract Horizon\", \"creator\": \"ArtByAlex\", \"value\": 5.4},\n",
    "    {\"name\": \"Pixel Dreams\", \"creator\": \"DreamyPixel\", \"value\": 7.2},\n",
    "    {\"name\": \"Urban Jungle\", \"creator\": \"ArtByAlex\", \"value\": 4.5},\n",
    "]\n",
    "\n",
    "nft_collection_2 = [\n",
    "    {\"name\": \"Crypto Kitty\", \"creator\": \"CryptoPets\", \"value\": 10.5},\n",
    "    {\"name\": \"Galactic Voyage\", \"creator\": \"SpaceArt\", \"value\": 6.7},\n",
    "    {\"name\": \"Future Galaxy\", \"creator\": \"SpaceArt\", \"value\": 8.3},\n",
    "]\n",
    "\n",
    "nft_collection_3 = [{\"name\": \"Golden Hour\", \"creator\": \"SunsetArtist\", \"value\": 8.9}]\n",
    "\n",
    "print(identify_popular_creators(nft_collection))\n",
    "print(identify_popular_creators(nft_collection_2))\n",
    "print(identify_popular_creators(nft_collection_3))"
   ]
  },
  {
   "cell_type": "markdown",
   "id": "a0665be4",
   "metadata": {},
   "source": [
    "## Problem 4: NFT Collection Statistics\n"
   ]
  },
  {
   "cell_type": "code",
   "execution_count": 78,
   "id": "9db1a81e",
   "metadata": {},
   "outputs": [],
   "source": [
    "def average_nft_value(nft_collection):\n",
    "    if len(nft_collection) == 0: return 0\n",
    "    summ = 0\n",
    "    count = 0\n",
    "    for i in nft_collection:\n",
    "        summ += i['value']\n",
    "        count += 1\n",
    "    return summ/count"
   ]
  },
  {
   "cell_type": "code",
   "execution_count": 79,
   "id": "181fabbe",
   "metadata": {},
   "outputs": [
    {
     "name": "stdout",
     "output_type": "stream",
     "text": [
      "5.7\n",
      "9.15\n",
      "0\n"
     ]
    }
   ],
   "source": [
    "nft_collection = [\n",
    "    {\"name\": \"Abstract Horizon\", \"creator\": \"ArtByAlex\", \"value\": 5.4},\n",
    "    {\"name\": \"Pixel Dreams\", \"creator\": \"DreamyPixel\", \"value\": 7.2},\n",
    "    {\"name\": \"Urban Jungle\", \"creator\": \"ArtByAlex\", \"value\": 4.5},\n",
    "]\n",
    "print(average_nft_value(nft_collection))\n",
    "\n",
    "nft_collection_2 = [\n",
    "    {\"name\": \"Golden Hour\", \"creator\": \"SunsetArtist\", \"value\": 8.9},\n",
    "    {\"name\": \"Sunset Serenade\", \"creator\": \"SunsetArtist\", \"value\": 9.4},\n",
    "]\n",
    "print(average_nft_value(nft_collection_2))\n",
    "\n",
    "nft_collection_3 = []\n",
    "print(average_nft_value(nft_collection_3))"
   ]
  },
  {
   "cell_type": "markdown",
   "id": "b61ba49e",
   "metadata": {},
   "source": [
    "## Problem 5: NFT Tag Search\n"
   ]
  },
  {
   "cell_type": "code",
   "execution_count": 115,
   "id": "c157ba60",
   "metadata": {},
   "outputs": [],
   "source": [
    "def search_nft_by_tag(nft_collections, tag):\n",
    "    ret = []\n",
    "    for i in nft_collections:\n",
    "        for k in i:\n",
    "            for j in k['tags']:\n",
    "                if j == tag:\n",
    "                    ret.append(k['name'])\n",
    "    return ret"
   ]
  },
  {
   "cell_type": "code",
   "execution_count": 117,
   "id": "f7e667e5",
   "metadata": {},
   "outputs": [
    {
     "name": "stdout",
     "output_type": "stream",
     "text": [
      "['Urban Jungle', 'City Lights']\n",
      "['Golden Hour', 'Sunset Serenade']\n",
      "[]\n"
     ]
    }
   ],
   "source": [
    "nft_collections = [\n",
    "    [\n",
    "        {\"name\": \"Abstract Horizon\", \"tags\": [\"abstract\", \"modern\"]},\n",
    "        {\"name\": \"Pixel Dreams\", \"tags\": [\"pixel\", \"retro\"]},\n",
    "    ],\n",
    "    [\n",
    "        {\"name\": \"Urban Jungle\", \"tags\": [\"urban\", \"landscape\"]},\n",
    "        {\"name\": \"City Lights\", \"tags\": [\"modern\", \"landscape\"]},\n",
    "    ],\n",
    "]\n",
    "\n",
    "nft_collections_2 = [\n",
    "    [\n",
    "        {\"name\": \"Golden Hour\", \"tags\": [\"sunset\", \"landscape\"]},\n",
    "        {\"name\": \"Sunset Serenade\", \"tags\": [\"sunset\", \"serene\"]},\n",
    "    ],\n",
    "    [{\"name\": \"Pixel Odyssey\", \"tags\": [\"pixel\", \"adventure\"]}],\n",
    "]\n",
    "\n",
    "nft_collections_3 = [\n",
    "    [{\"name\": \"The Last Piece\", \"tags\": [\"finale\", \"abstract\"]}],\n",
    "    [\n",
    "        {\"name\": \"Ocean Waves\", \"tags\": [\"seascape\", \"calm\"]},\n",
    "        {\"name\": \"Mountain Peak\", \"tags\": [\"landscape\", \"adventure\"]},\n",
    "    ],\n",
    "]\n",
    "\n",
    "print(search_nft_by_tag(nft_collections, \"landscape\"))\n",
    "print(search_nft_by_tag(nft_collections_2, \"sunset\"))\n",
    "print(search_nft_by_tag(nft_collections_3, \"modern\"))"
   ]
  },
  {
   "cell_type": "markdown",
   "id": "d7a98e8b",
   "metadata": {},
   "source": [
    "## Problem 6: NFT Queue Processing\n"
   ]
  },
  {
   "cell_type": "code",
   "execution_count": 126,
   "id": "6e05b184",
   "metadata": {},
   "outputs": [],
   "source": [
    "from collections import deque\n",
    "def process_nft_queue(nft_queue):\n",
    "    q = deque()\n",
    "    for i in nft_queue:\n",
    "        name = i['name']\n",
    "        q.append(name)\n",
    "    return list(q)"
   ]
  },
  {
   "cell_type": "code",
   "execution_count": 127,
   "id": "ddb44410",
   "metadata": {},
   "outputs": [
    {
     "name": "stdout",
     "output_type": "stream",
     "text": [
      "['Abstract Horizon', 'Pixel Dreams', 'Urban Jungle']\n",
      "['Golden Hour', 'Sunset Serenade', 'Ocean Waves']\n",
      "['Crypto Kitty', 'Galactic Voyage']\n"
     ]
    }
   ],
   "source": [
    "nft_queue = [\n",
    "    {\"name\": \"Abstract Horizon\", \"processing_time\": 2},\n",
    "    {\"name\": \"Pixel Dreams\", \"processing_time\": 3},\n",
    "    {\"name\": \"Urban Jungle\", \"processing_time\": 1},\n",
    "]\n",
    "print(process_nft_queue(nft_queue))\n",
    "\n",
    "nft_queue_2 = [\n",
    "    {\"name\": \"Golden Hour\", \"processing_time\": 4},\n",
    "    {\"name\": \"Sunset Serenade\", \"processing_time\": 2},\n",
    "    {\"name\": \"Ocean Waves\", \"processing_time\": 3},\n",
    "]\n",
    "print(process_nft_queue(nft_queue_2))\n",
    "\n",
    "nft_queue_3 = [\n",
    "    {\"name\": \"Crypto Kitty\", \"processing_time\": 5},\n",
    "    {\"name\": \"Galactic Voyage\", \"processing_time\": 6},\n",
    "]\n",
    "print(process_nft_queue(nft_queue_3))"
   ]
  },
  {
   "cell_type": "markdown",
   "id": "bcae642d",
   "metadata": {},
   "source": [
    "## Problem 7: Validate NFT Addition\n"
   ]
  },
  {
   "cell_type": "code",
   "execution_count": 128,
   "id": "f4ea6c4a",
   "metadata": {},
   "outputs": [],
   "source": [
    "def validate_nft_actions(actions):\n",
    "    stack = []\n",
    "    for i in actions:\n",
    "        if i == 'add':\n",
    "            stack.append(i)\n",
    "        else:\n",
    "            if not stack: return False\n",
    "            stack.pop()\n",
    "    return len(stack) == 0"
   ]
  },
  {
   "cell_type": "code",
   "execution_count": 129,
   "id": "47e42e33",
   "metadata": {},
   "outputs": [
    {
     "name": "stdout",
     "output_type": "stream",
     "text": [
      "True\n",
      "True\n",
      "False\n"
     ]
    }
   ],
   "source": [
    "actions = [\"add\", \"add\", \"remove\", \"remove\"]\n",
    "actions_2 = [\"add\", \"remove\", \"add\", \"remove\"]\n",
    "actions_3 = [\"add\", \"remove\", \"remove\", \"add\"]\n",
    "\n",
    "print(validate_nft_actions(actions))\n",
    "print(validate_nft_actions(actions_2))\n",
    "print(validate_nft_actions(actions_3))"
   ]
  },
  {
   "cell_type": "markdown",
   "id": "bd0edf74",
   "metadata": {},
   "source": [
    "## Problem 8: Find Closest NFT Values\n"
   ]
  },
  {
   "cell_type": "code",
   "execution_count": 148,
   "id": "d67e0ad8",
   "metadata": {},
   "outputs": [],
   "source": [
    "def find_closest_nft_values(nft_values, budget):\n",
    "    above = float('inf')\n",
    "    beloweq = float(\"-inf\")\n",
    "    for i in nft_values:\n",
    "        if budget < i < above:\n",
    "            above = i\n",
    "        elif beloweq < i <= budget:\n",
    "            beloweq = i\n",
    "    return (beloweq, above)"
   ]
  },
  {
   "cell_type": "code",
   "execution_count": 149,
   "id": "8f5ed866",
   "metadata": {},
   "outputs": [
    {
     "name": "stdout",
     "output_type": "stream",
     "text": [
      "(7.2, 9.0)\n",
      "(6.3, 7.8)\n",
      "(2.5, 4.0)\n"
     ]
    }
   ],
   "source": [
    "nft_values = [3.5, 5.4, 7.2, 9.0, 10.5]\n",
    "nft_values_2 = [2.0, 4.5, 6.3, 7.8, 12.1]\n",
    "nft_values_3 = [1.0, 2.5, 4.0, 6.0, 9.0]\n",
    "\n",
    "print(find_closest_nft_values(nft_values, 8.0))\n",
    "print(find_closest_nft_values(nft_values_2, 6.5))\n",
    "print(find_closest_nft_values(nft_values_3, 3.0))"
   ]
  },
  {
   "cell_type": "markdown",
   "id": "1ec96332",
   "metadata": {},
   "source": [
    "# THE END"
   ]
  }
 ],
 "metadata": {
  "kernelspec": {
   "display_name": ".venv",
   "language": "python",
   "name": "python3"
  },
  "language_info": {
   "codemirror_mode": {
    "name": "ipython",
    "version": 3
   },
   "file_extension": ".py",
   "mimetype": "text/x-python",
   "name": "python",
   "nbconvert_exporter": "python",
   "pygments_lexer": "ipython3",
   "version": "3.12.11"
  }
 },
 "nbformat": 4,
 "nbformat_minor": 5
}
