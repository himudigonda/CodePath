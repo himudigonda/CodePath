{
 "cells": [
  {
   "cell_type": "markdown",
   "id": "c0ad3831",
   "metadata": {},
   "source": [
    "## Problem 1: Meme Length Filter\n"
   ]
  },
  {
   "cell_type": "code",
   "execution_count": 1,
   "id": "49c2414e",
   "metadata": {},
   "outputs": [],
   "source": [
    "def filter_meme_lengths(memes, max_length):\n",
    "    ret = []\n",
    "    for meme in memes:\n",
    "        if len(meme) < max_length:\n",
    "            ret.append(meme)\n",
    "    return ret"
   ]
  },
  {
   "cell_type": "code",
   "execution_count": 2,
   "id": "41a5b87b",
   "metadata": {},
   "outputs": [
    {
     "name": "stdout",
     "output_type": "stream",
     "text": [
      "['This is hilarious!', 'Short and sweet']\n",
      "['Just right', 'Perfect length']\n",
      "['Short', 'Tiny meme']\n"
     ]
    }
   ],
   "source": [
    "memes = [\n",
    "    \"This is hilarious!\",\n",
    "    \"A very long meme that goes on and on and on...\",\n",
    "    \"Short and sweet\",\n",
    "    \"Too long! Way too long!\",\n",
    "]\n",
    "memes_2 = [\n",
    "    \"Just right\",\n",
    "    \"This one's too long though, sadly\",\n",
    "    \"Perfect length\",\n",
    "    \"A bit too wordy for a meme\",\n",
    "]\n",
    "memes_3 = [\n",
    "    \"Short\",\n",
    "    \"Tiny meme\",\n",
    "    \"Small but impactful\",\n",
    "    \"Extremely lengthy meme that no one will read\",\n",
    "]\n",
    "\n",
    "print(filter_meme_lengths(memes, 20))\n",
    "print(filter_meme_lengths(memes_2, 15))\n",
    "print(filter_meme_lengths(memes_3, 10))"
   ]
  },
  {
   "cell_type": "markdown",
   "id": "ba251bfc",
   "metadata": {},
   "source": [
    "## Problem 2: Top Meme Creators\n"
   ]
  },
  {
   "cell_type": "code",
   "execution_count": 13,
   "id": "a7122352",
   "metadata": {},
   "outputs": [],
   "source": [
    "from collections import defaultdict\n",
    "def count_meme_creators(memes):\n",
    "    mapping = defaultdict(int)\n",
    "\n",
    "    for meme in memes:\n",
    "        mapping[meme['creator']] += 1\n",
    "    return dict(mapping)"
   ]
  },
  {
   "cell_type": "code",
   "execution_count": 14,
   "id": "7a85a533",
   "metadata": {},
   "outputs": [
    {
     "name": "stdout",
     "output_type": "stream",
     "text": [
      "{'Alex': 2, 'Jordan': 2, 'Chris': 1}\n",
      "{'Sam': 3, 'Taylor': 1}\n",
      "{'Blake': 2}\n"
     ]
    }
   ],
   "source": [
    "memes = [\n",
    "    {\"creator\": \"Alex\", \"text\": \"Meme 1\"},\n",
    "    {\"creator\": \"Jordan\", \"text\": \"Meme 2\"},\n",
    "    {\"creator\": \"Alex\", \"text\": \"Meme 3\"},\n",
    "    {\"creator\": \"Chris\", \"text\": \"Meme 4\"},\n",
    "    {\"creator\": \"Jordan\", \"text\": \"Meme 5\"},\n",
    "]\n",
    "\n",
    "memes_2 = [\n",
    "    {\"creator\": \"Sam\", \"text\": \"Meme 1\"},\n",
    "    {\"creator\": \"Sam\", \"text\": \"Meme 2\"},\n",
    "    {\"creator\": \"Sam\", \"text\": \"Meme 3\"},\n",
    "    {\"creator\": \"Taylor\", \"text\": \"Meme 4\"},\n",
    "]\n",
    "\n",
    "memes_3 = [\n",
    "    {\"creator\": \"Blake\", \"text\": \"Meme 1\"},\n",
    "    {\"creator\": \"Blake\", \"text\": \"Meme 2\"},\n",
    "]\n",
    "\n",
    "print(count_meme_creators(memes))\n",
    "print(count_meme_creators(memes_2))\n",
    "print(count_meme_creators(memes_3))"
   ]
  },
  {
   "cell_type": "markdown",
   "id": "ea02c533",
   "metadata": {},
   "source": [
    "## Problem 3: Meme Trend Identification\n"
   ]
  },
  {
   "cell_type": "code",
   "execution_count": 35,
   "id": "c563a871",
   "metadata": {},
   "outputs": [],
   "source": [
    "def find_trending_memes(memes):\n",
    "    ret = []\n",
    "    mapping = defaultdict(int)\n",
    "    for meme in memes:\n",
    "        mapping[meme] += 1\n",
    "    max_freq = max([value for name, value in mapping.items()])\n",
    "    if max_freq == 1: return []\n",
    "    for meme, value in mapping.items():\n",
    "        if value == max_freq:\n",
    "            ret.append(meme)\n",
    "    return ret"
   ]
  },
  {
   "cell_type": "code",
   "execution_count": 36,
   "id": "a619e968",
   "metadata": {},
   "outputs": [
    {
     "name": "stdout",
     "output_type": "stream",
     "text": [
      "['Dogecoin to the moon!', 'One does not simply walk into Mordor']\n",
      "['Surprised Pikachu']\n",
      "[]\n"
     ]
    }
   ],
   "source": [
    "memes = [\n",
    "    \"Dogecoin to the moon!\",\n",
    "    \"One does not simply walk into Mordor\",\n",
    "    \"Dogecoin to the moon!\",\n",
    "    \"Distracted boyfriend\",\n",
    "    \"One does not simply walk into Mordor\",\n",
    "]\n",
    "memes_2 = [\n",
    "    \"Surprised Pikachu\",\n",
    "    \"Expanding brain\",\n",
    "    \"This is fine\",\n",
    "    \"Surprised Pikachu\",\n",
    "    \"Surprised Pikachu\",\n",
    "]\n",
    "memes_3 = [\"Y U No?\", \"First world problems\", \"Philosoraptor\", \"Bad Luck Brian\"]\n",
    "\n",
    "print(find_trending_memes(memes))\n",
    "print(find_trending_memes(memes_2))\n",
    "print(find_trending_memes(memes_3))"
   ]
  },
  {
   "cell_type": "markdown",
   "id": "9b890066",
   "metadata": {},
   "source": [
    "## Problem 4: Reverse Meme Order\n"
   ]
  },
  {
   "cell_type": "code",
   "execution_count": 39,
   "id": "f8c07508",
   "metadata": {},
   "outputs": [],
   "source": [
    "def reverse_memes(memes):\n",
    "    ret = []\n",
    "    for i in memes[::-1]:\n",
    "        ret.append(i)\n",
    "    return ret"
   ]
  },
  {
   "cell_type": "code",
   "execution_count": 40,
   "id": "5b3386da",
   "metadata": {},
   "outputs": [
    {
     "name": "stdout",
     "output_type": "stream",
     "text": [
      "['One does not simply walk into Mordor', 'Distracted boyfriend', 'Dogecoin to the moon!']\n",
      "['This is fine', 'Expanding brain', 'Surprised Pikachu']\n",
      "['Bad Luck Brian', 'Philosoraptor', 'First world problems', 'Y U No?']\n"
     ]
    }
   ],
   "source": [
    "memes = [\n",
    "    \"Dogecoin to the moon!\",\n",
    "    \"Distracted boyfriend\",\n",
    "    \"One does not simply walk into Mordor\",\n",
    "]\n",
    "memes_2 = [\"Surprised Pikachu\", \"Expanding brain\", \"This is fine\"]\n",
    "memes_3 = [\"Y U No?\", \"First world problems\", \"Philosoraptor\", \"Bad Luck Brian\"]\n",
    "\n",
    "print(reverse_memes(memes))\n",
    "print(reverse_memes(memes_2))\n",
    "print(reverse_memes(memes_3))"
   ]
  },
  {
   "cell_type": "markdown",
   "id": "50e80fb2",
   "metadata": {},
   "source": [
    "## Problem 5: Trending Meme Pairs\n"
   ]
  },
  {
   "cell_type": "code",
   "execution_count": null,
   "id": "e469f024",
   "metadata": {},
   "outputs": [],
   "source": [
    "def find_trending_meme_pairs(meme_posts):\n",
    "    pair_count = {}\n",
    "\n",
    "    for post in meme_posts:\n",
    "        for i in range(len(post)):\n",
    "            for j in range(i + 1, len(post)): # start from i + 1 instead of from 1\n",
    "                # to avoid duplicates\n",
    "                # No longer need the if i != j since there will be no dups\n",
    "                meme1 = post[i]\n",
    "                meme2 = post[j]\n",
    "\n",
    "                if meme1 > meme2: # flipped sign\n",
    "                    meme1, meme2 = meme2, meme1\n",
    "                pair = (meme1, meme2)\n",
    "                if pair in pair_count:\n",
    "                    pair_count[pair] += 1\n",
    "                else:\n",
    "                    pair_count[pair] = 1\n",
    "\n",
    "    trending_pairs = []\n",
    "    for pair in pair_count:\n",
    "        if pair_count[pair] >= 2:\n",
    "            trending_pairs.append(pair)\n",
    "\n",
    "    return trending_pairs"
   ]
  },
  {
   "cell_type": "code",
   "execution_count": 49,
   "id": "8ebd74d8",
   "metadata": {},
   "outputs": [
    {
     "name": "stdout",
     "output_type": "stream",
     "text": [
      "[('Distracted boyfriend', 'Dogecoin to the moon!'), ('Dogecoin to the moon!', 'One does not simply walk into Mordor'), ('Distracted boyfriend', 'One does not simply walk into Mordor')]\n",
      "[('Surprised Pikachu', 'This is fine')]\n",
      "[('First world problems', 'Y U No?')]\n"
     ]
    }
   ],
   "source": [
    "meme_posts_1 = [\n",
    "    [\"Dogecoin to the moon!\", \"Distracted boyfriend\"],\n",
    "    [\"One does not simply walk into Mordor\", \"Dogecoin to the moon!\"],\n",
    "    [\n",
    "        \"Dogecoin to the moon!\",\n",
    "        \"Distracted boyfriend\",\n",
    "        \"One does not simply walk into Mordor\",\n",
    "    ],\n",
    "    [\"Distracted boyfriend\", \"One does not simply walk into Mordor\"],\n",
    "]\n",
    "\n",
    "meme_posts_2 = [\n",
    "    [\"Surprised Pikachu\", \"This is fine\"],\n",
    "    [\"Expanding brain\", \"Surprised Pikachu\"],\n",
    "    [\"This is fine\", \"Expanding brain\"],\n",
    "    [\"Surprised Pikachu\", \"This is fine\"],\n",
    "]\n",
    "\n",
    "meme_posts_3 = [\n",
    "    [\"Y U No?\", \"First world problems\"],\n",
    "    [\"Philosoraptor\", \"Bad Luck Brian\"],\n",
    "    [\"First world problems\", \"Philosoraptor\"],\n",
    "    [\"Y U No?\", \"First world problems\"],\n",
    "]\n",
    "\n",
    "print(find_trending_meme_pairs(meme_posts_1))\n",
    "print(find_trending_meme_pairs(meme_posts_2))\n",
    "print(find_trending_meme_pairs(meme_posts_3))"
   ]
  },
  {
   "cell_type": "markdown",
   "id": "ecbe7aa0",
   "metadata": {},
   "source": [
    "## Problem 6: Meme Popularity Queue\n"
   ]
  },
  {
   "cell_type": "code",
   "execution_count": 65,
   "id": "5b1a1e04",
   "metadata": {},
   "outputs": [],
   "source": [
    "from collections import deque\n",
    "def simulate_meme_reposts(memes, reposts):\n",
    "    if len(memes) != len(reposts): return []\n",
    "    q = deque()\n",
    "    summ = sum(reposts)\n",
    "    while summ > 0:\n",
    "        for i in range(len(memes)):\n",
    "            if reposts[i]:\n",
    "                q.append(memes[i])\n",
    "                reposts[i] -= 1\n",
    "                summ -= 1\n",
    "    return list(q)"
   ]
  },
  {
   "cell_type": "code",
   "execution_count": 77,
   "id": "4ec3fe6a",
   "metadata": {},
   "outputs": [],
   "source": [
    "from collections import deque\n",
    "def simulate_meme_reposts(memes, reposts):\n",
    "    q = deque()\n",
    "    for i in range(len(memes)):\n",
    "        q.append((memes[i], reposts[i]))\n",
    "    ret = []\n",
    "\n",
    "    while q:\n",
    "        meme, count = q.popleft()\n",
    "        ret.append(meme)\n",
    "        if count > 1:\n",
    "            q.append((meme, count - 1))\n",
    "\n",
    "    return ret"
   ]
  },
  {
   "cell_type": "code",
   "execution_count": 78,
   "id": "5eb334fb",
   "metadata": {},
   "outputs": [
    {
     "name": "stdout",
     "output_type": "stream",
     "text": [
      "['Distracted boyfriend', 'Dogecoin to the moon!', 'One does not simply walk into Mordor', 'Distracted boyfriend', 'One does not simply walk into Mordor', 'One does not simply walk into Mordor']\n",
      "['Surprised Pikachu', 'This is fine', 'Expanding brain', 'This is fine', 'Expanding brain']\n",
      "['Y U No?', 'Philosoraptor', 'Y U No?', 'Y U No?']\n"
     ]
    }
   ],
   "source": [
    "memes = [\n",
    "    \"Distracted boyfriend\",\n",
    "    \"Dogecoin to the moon!\",\n",
    "    \"One does not simply walk into Mordor\",\n",
    "]\n",
    "reposts = [2, 1, 3]\n",
    "print(simulate_meme_reposts(memes, reposts))\n",
    "\n",
    "memes_2 = [\"Surprised Pikachu\", \"This is fine\", \"Expanding brain\"]\n",
    "reposts = [1, 2, 2]\n",
    "print(simulate_meme_reposts(memes_2, reposts))\n",
    "\n",
    "memes_3 = [\"Y U No?\", \"Philosoraptor\"]\n",
    "reposts = [3, 1]\n",
    "print(simulate_meme_reposts(memes_3, reposts))\n"
   ]
  },
  {
   "cell_type": "markdown",
   "id": "3d04ffa2",
   "metadata": {},
   "source": [
    "## Problem 7: Search for Viral Meme Groups\n"
   ]
  },
  {
   "cell_type": "code",
   "execution_count": 119,
   "id": "15a9d1c1",
   "metadata": {},
   "outputs": [],
   "source": [
    "def find_closest_meme_pair(memes, target):\n",
    "    memes.sort(key=lambda x: x[1])\n",
    "    l: int = 0\n",
    "    r: int= len(memes) - 1\n",
    "    ret: tuple = ()\n",
    "    closest: int = float(\"inf\")\n",
    "    while l < r:\n",
    "        summ = memes[l][1] + memes[r][1]\n",
    "        cur = abs(target - summ)\n",
    "        if closest > cur:\n",
    "            closest = cur\n",
    "            ret = (memes[l][0], memes[r][0])\n",
    "        if target > summ:\n",
    "            l += 1\n",
    "        elif target < summ:\n",
    "            r -= 1\n",
    "        else:\n",
    "            return (memes[l][0], memes[r][0])\n",
    "    return ret"
   ]
  },
  {
   "cell_type": "code",
   "execution_count": 120,
   "id": "fb80a2f7",
   "metadata": {},
   "outputs": [
    {
     "name": "stdout",
     "output_type": "stream",
     "text": [
      "('Distracted boyfriend', 'Dogecoin to the moon!')\n",
      "('Surprised Pikachu', 'Expanding brain')\n",
      "('Bad Luck Brian', 'First world problems')\n"
     ]
    }
   ],
   "source": [
    "memes_1 = [\n",
    "    (\"Distracted boyfriend\", 5),\n",
    "    (\"Dogecoin to the moon!\", 7),\n",
    "    (\"One does not simply walk into Mordor\", 12),\n",
    "]\n",
    "memes_2 = [\n",
    "    (\"Surprised Pikachu\", 2),\n",
    "    (\"This is fine\", 6),\n",
    "    (\"Expanding brain\", 9),\n",
    "    (\"Y U No?\", 15),\n",
    "]\n",
    "memes_3 = [\n",
    "    (\"Philosoraptor\", 1),\n",
    "    (\"Bad Luck Brian\", 4),\n",
    "    (\"First world problems\", 8),\n",
    "    (\"Y U No?\", 13),\n",
    "]\n",
    "\n",
    "print(find_closest_meme_pair(memes_1, 13))\n",
    "print(find_closest_meme_pair(memes_2, 10))\n",
    "print(find_closest_meme_pair(memes_3, 12))"
   ]
  },
  {
   "cell_type": "markdown",
   "id": "8e3ab8ff",
   "metadata": {},
   "source": [
    "## Problem 8: Analyze Meme Trends\n"
   ]
  },
  {
   "cell_type": "code",
   "execution_count": 135,
   "id": "e5813874",
   "metadata": {},
   "outputs": [],
   "source": [
    "def find_trending_meme(memes, start_day, end_day):\n",
    "    maxx = ''\n",
    "    prev = 0\n",
    "    for i in memes:\n",
    "        name = i['name']\n",
    "        reposts = i['reposts']\n",
    "        votes = reposts[start_day : end_day + 1]\n",
    "        count = sum(votes)\n",
    "        if count > prev: maxx = name\n",
    "        prev = count\n",
    "    return maxx"
   ]
  },
  {
   "cell_type": "code",
   "execution_count": 136,
   "id": "eb3116f2",
   "metadata": {},
   "outputs": [
    {
     "name": "stdout",
     "output_type": "stream",
     "text": [
      "Dogecoin to the moon!\n",
      "This is fine\n",
      "Philosoraptor\n"
     ]
    }
   ],
   "source": [
    "memes = [\n",
    "    {\"name\": \"Distracted boyfriend\", \"reposts\": [5, 3, 2, 7, 6]},\n",
    "    {\"name\": \"Dogecoin to the moon!\", \"reposts\": [2, 4, 6, 8, 10]},\n",
    "    {\"name\": \"One does not simply walk into Mordor\", \"reposts\": [3, 3, 5, 4, 2]},\n",
    "]\n",
    "\n",
    "memes_2 = [\n",
    "    {\"name\": \"Surprised Pikachu\", \"reposts\": [2, 1, 4, 5, 3]},\n",
    "    {\"name\": \"This is fine\", \"reposts\": [3, 5, 2, 6, 4]},\n",
    "    {\"name\": \"Expanding brain\", \"reposts\": [4, 2, 1, 4, 2]},\n",
    "]\n",
    "\n",
    "memes_3 = [\n",
    "    {\"name\": \"Y U No?\", \"reposts\": [1, 2, 1, 2, 1]},\n",
    "    {\"name\": \"Philosoraptor\", \"reposts\": [3, 1, 3, 1, 3]},\n",
    "]\n",
    "print(find_trending_meme(memes, 1, 3))\n",
    "print(find_trending_meme(memes_2, 0, 2))\n",
    "print(find_trending_meme(memes_3, 2, 4))"
   ]
  },
  {
   "cell_type": "markdown",
   "id": "9b0c74cc",
   "metadata": {},
   "source": [
    "# THE END"
   ]
  }
 ],
 "metadata": {
  "kernelspec": {
   "display_name": ".venv",
   "language": "python",
   "name": "python3"
  },
  "language_info": {
   "codemirror_mode": {
    "name": "ipython",
    "version": 3
   },
   "file_extension": ".py",
   "mimetype": "text/x-python",
   "name": "python",
   "nbconvert_exporter": "python",
   "pygments_lexer": "ipython3",
   "version": "3.12.11"
  }
 },
 "nbformat": 4,
 "nbformat_minor": 5
}
