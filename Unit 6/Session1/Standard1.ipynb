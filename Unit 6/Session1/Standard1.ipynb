{
 "cells": [
  {
   "cell_type": "markdown",
   "id": "2cf4ff32",
   "metadata": {},
   "source": [
    "## Problem 1: Building a Playlist\n"
   ]
  },
  {
   "cell_type": "code",
   "execution_count": 12,
   "id": "0e36ad29",
   "metadata": {},
   "outputs": [],
   "source": [
    "class SongNode:\n",
    "    def __init__(self, song, next=None):\n",
    "        self.song = song\n",
    "        self.next = next\n",
    "\n",
    "# For testing\n",
    "def print_linked_list(node):\n",
    "    current = node\n",
    "    while current:\n",
    "        print(current.song, end=\" -> \" if current.next else \"\")\n",
    "        current = current.next\n",
    "    print()\n",
    "        \n",
    "# top_hits_2010s = SongNode(\"Uptown Funk\", SongNode(\"Party Rock Anthem\", SongNode(\"Bad Romance\")))\n",
    "top_hits_2010s = SongNode('Uptown Funk')\n",
    "cur = top_hits_2010s\n",
    "cur.next = SongNode('Party Rock Anthem')\n",
    "cur = cur.next\n",
    "cur.next = SongNode('Bad Romance')"
   ]
  },
  {
   "cell_type": "code",
   "execution_count": 13,
   "id": "f8a40716",
   "metadata": {},
   "outputs": [
    {
     "name": "stdout",
     "output_type": "stream",
     "text": [
      "Uptown Funk -> Party Rock Anthem -> Bad Romance\n"
     ]
    }
   ],
   "source": [
    "print_linked_list(top_hits_2010s)\n"
   ]
  },
  {
   "cell_type": "markdown",
   "id": "2517af02",
   "metadata": {},
   "source": [
    "## Problem 2: Top Artists\n"
   ]
  },
  {
   "cell_type": "code",
   "execution_count": 20,
   "id": "f8dabd98",
   "metadata": {},
   "outputs": [],
   "source": [
    "\n",
    "from collections import defaultdict\n",
    "\n",
    "\n",
    "class SongNode:\n",
    "    def __init__(self, song, artist, next=None):\n",
    "        self.song = song\n",
    "        self.artist = artist\n",
    "        self.next = next\n",
    "\n",
    "# For testing\n",
    "def print_linked_list(node):\n",
    "    current = node\n",
    "    while current:\n",
    "        print((current.song, current.artist), end=\" -> \" if current.next else \"\")\n",
    "        current = current.next\n",
    "    print()\n",
    "\n",
    "\n",
    "def get_artist_frequency(playlist):\n",
    "    counts = defaultdict(int)\n",
    "    cur = playlist\n",
    "    while cur:\n",
    "        counts[cur.artist] += 1\n",
    "        cur = cur.next\n",
    "    return dict(counts)\n"
   ]
  },
  {
   "cell_type": "code",
   "execution_count": 21,
   "id": "4d351391",
   "metadata": {},
   "outputs": [
    {
     "data": {
      "text/plain": [
       "{'SZA': 2, 'Jimin': 1, 'Sabrina Carpenter': 1}"
      ]
     },
     "execution_count": 21,
     "metadata": {},
     "output_type": "execute_result"
    }
   ],
   "source": [
    "playlist = SongNode(\"Saturn\", \"SZA\", \n",
    "                SongNode(\"Who\", \"Jimin\", \n",
    "                        SongNode(\"Espresso\", \"Sabrina Carpenter\", \n",
    "                                SongNode(\"Snooze\", \"SZA\"))))\n",
    "\n",
    "get_artist_frequency(playlist)\n",
    "\n"
   ]
  },
  {
   "cell_type": "markdown",
   "id": "d35a0dce",
   "metadata": {},
   "source": [
    "## Problem 3: Glitching Out\n"
   ]
  },
  {
   "cell_type": "code",
   "execution_count": 24,
   "id": "c3900436",
   "metadata": {},
   "outputs": [],
   "source": [
    "class SongNode:\n",
    "    def __init__(self, song, artist, next=None):\n",
    "        self.song = song\n",
    "        self.artist = artist\n",
    "        self.next = next\n",
    "        \n",
    "# For testing\n",
    "def print_linked_list(node):\n",
    "    current = node\n",
    "    while current:\n",
    "        print((current.song, current.artist), end=\" -> \" if current.next else \"\")\n",
    "        current = current.next\n",
    "    print()\n",
    "\n",
    "\n",
    "# Function with a bug!\n",
    "def remove_song(playlist_head, song):\n",
    "    if not playlist_head:\n",
    "        return None\n",
    "    if playlist_head.song == song:\n",
    "        return playlist_head.next\n",
    "\n",
    "    current = playlist_head\n",
    "    while current.next:\n",
    "        if current.next.song == song:\n",
    "            current.next = current.next.next  \n",
    "            return playlist_head \n",
    "        current = current.next\n",
    "\n",
    "    return playlist_head\n"
   ]
  },
  {
   "cell_type": "code",
   "execution_count": 25,
   "id": "24428c61",
   "metadata": {},
   "outputs": [
    {
     "name": "stdout",
     "output_type": "stream",
     "text": [
      "('SOS', 'ABBA') -> ('Simple Twist of Fate', 'Bob Dylan') -> ('Lovely Day', 'Bill Withers')\n"
     ]
    }
   ],
   "source": [
    "playlist = SongNode(\"SOS\", \"ABBA\", \n",
    "                SongNode(\"Simple Twist of Fate\", \"Bob Dylan\",\n",
    "                    SongNode(\"Dreams\", \"Fleetwood Mac\",\n",
    "                        SongNode(\"Lovely Day\", \"Bill Withers\"))))\n",
    "\n",
    "print_linked_list(remove_song(playlist, \"Dreams\"))\n"
   ]
  },
  {
   "cell_type": "markdown",
   "id": "e79a66d4",
   "metadata": {},
   "source": [
    "## Problem 4: On Repeat\n"
   ]
  },
  {
   "cell_type": "code",
   "execution_count": 26,
   "id": "e8a499fb",
   "metadata": {},
   "outputs": [],
   "source": [
    "class SongNode:\n",
    "    def __init__(self, song, artist, next=None):\n",
    "        self.song = song\n",
    "        self.artist = artist\n",
    "        self.next = next\n",
    "\n",
    "def on_repeat(playlist_head):\n",
    "    slow = playlist_head\n",
    "    fast = playlist_head\n",
    "    while fast:\n",
    "        if slow == fast:\n",
    "            return True\n",
    "        slow = slow.next\n",
    "        fast = fast.next.next\n",
    "    return False\n",
    "\n",
    "        \n"
   ]
  },
  {
   "cell_type": "code",
   "execution_count": 27,
   "id": "b67e10b6",
   "metadata": {},
   "outputs": [
    {
     "name": "stdout",
     "output_type": "stream",
     "text": [
      "True\n"
     ]
    }
   ],
   "source": [
    "song1 = SongNode(\"GO!\", \"Common\")\n",
    "song2 = SongNode(\"N95\", \"Kendrick Lamar\")\n",
    "song3 = SongNode(\"WIN\", \"Jay Rock\")\n",
    "song4 = SongNode(\"ATM\", \"J. Cole\")\n",
    "song1.next = song2\n",
    "song2.next = song3\n",
    "song3.next = song4\n",
    "song4.next = song2\n",
    "\n",
    "print(on_repeat(song1))\n"
   ]
  },
  {
   "cell_type": "markdown",
   "id": "dd454c84",
   "metadata": {},
   "source": [
    "## Problem 5: Looped\n"
   ]
  },
  {
   "cell_type": "code",
   "execution_count": 54,
   "id": "f913168f",
   "metadata": {},
   "outputs": [],
   "source": [
    "class SongNode:\n",
    "    def __init__(self, song, artist, next=None):\n",
    "        self.song = song\n",
    "        self.artist = artist\n",
    "        self.next = next\n",
    "\n",
    "# For testing\n",
    "def print_linked_list(node):\n",
    "    current = node\n",
    "    while current:\n",
    "        print((current.song, current.artist), end=\" -> \" if current.next else \"\")\n",
    "        current = current.next\n",
    "    print()\n",
    "\n",
    "def loop_length(playlist_head):\n",
    "    cur = playlist_head\n",
    "    fast = playlist_head.next\n",
    "    while cur:\n",
    "        if cur == fast:\n",
    "            break\n",
    "        cur = cur.next\n",
    "        fast = fast.next.next\n",
    "\n",
    "    hope = fast\n",
    "    cur = cur.next\n",
    "    count = 1\n",
    "    while cur:\n",
    "        if cur == hope:\n",
    "            break\n",
    "        count += 1\n",
    "        cur = cur.next\n",
    "\n",
    "\n",
    "    return count"
   ]
  },
  {
   "cell_type": "code",
   "execution_count": 55,
   "id": "39615810",
   "metadata": {},
   "outputs": [
    {
     "name": "stdout",
     "output_type": "stream",
     "text": [
      "3\n"
     ]
    }
   ],
   "source": [
    "song1 = SongNode(\"Wein\", \"AL SHAMI\")\n",
    "song2 = SongNode(\"Si Ai\", \"Tayna\")\n",
    "song3 = SongNode(\"Qalbi\", \"Yasser Abd Alwahab\")\n",
    "song4 = SongNode(\"La\", \"DYSTINCT\")\n",
    "song1.next = song2\n",
    "song2.next = song3\n",
    "song3.next = song4\n",
    "song4.next = song2\n",
    "\n",
    "print(loop_length(song1))\n"
   ]
  },
  {
   "cell_type": "markdown",
   "id": "0bf8edef",
   "metadata": {},
   "source": [
    "## Problem 6: Volume Control\n"
   ]
  },
  {
   "cell_type": "code",
   "execution_count": 63,
   "id": "1c8ae20a",
   "metadata": {},
   "outputs": [],
   "source": [
    "class Node:\n",
    "    def __init__(self, value, next=None):\n",
    "        self.value = value\n",
    "        self.next = next\n",
    "\n",
    "# For testing\n",
    "def print_linked_list(head):\n",
    "    current = head\n",
    "    while current:\n",
    "        print(current.value, end=\" -> \" if current.next else \"\\n\")\n",
    "        current = current.next\n",
    "\n",
    "def count_critical_points(song_audio):\n",
    "    if not song_audio or not song_audio.next or not song_audio.next.next: return 0\n",
    "    prev = song_audio.value\n",
    "    cur = song_audio.next\n",
    "    points = 0\n",
    "\n",
    "    while cur and cur.next:\n",
    "        if cur.value > prev and cur.value > cur.next.value:\n",
    "            points += 1\n",
    "        elif cur.value < prev and cur.value < cur.next.value:\n",
    "            points += 1\n",
    "        prev = cur.value\n",
    "        cur = cur.next\n",
    "    return points"
   ]
  },
  {
   "cell_type": "code",
   "execution_count": 64,
   "id": "fcb0fe42",
   "metadata": {},
   "outputs": [
    {
     "name": "stdout",
     "output_type": "stream",
     "text": [
      "3\n"
     ]
    }
   ],
   "source": [
    "song_audio = Node(5, Node(3, Node(1, Node(2, Node(5, Node(1, Node(2)))))))\n",
    "\n",
    "print(count_critical_points(song_audio))\n"
   ]
  },
  {
   "cell_type": "markdown",
   "id": "0505e537",
   "metadata": {},
   "source": [
    "# THE END"
   ]
  }
 ],
 "metadata": {
  "kernelspec": {
   "display_name": ".venv",
   "language": "python",
   "name": "python3"
  },
  "language_info": {
   "codemirror_mode": {
    "name": "ipython",
    "version": 3
   },
   "file_extension": ".py",
   "mimetype": "text/x-python",
   "name": "python",
   "nbconvert_exporter": "python",
   "pygments_lexer": "ipython3",
   "version": "3.12.12"
  }
 },
 "nbformat": 4,
 "nbformat_minor": 5
}
