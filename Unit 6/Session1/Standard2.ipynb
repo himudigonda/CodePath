{
 "cells": [
  {
   "cell_type": "markdown",
   "id": "ac71013d",
   "metadata": {},
   "source": [
    "## Problem 1: Why is it Always You Three\n"
   ]
  },
  {
   "cell_type": "code",
   "execution_count": 5,
   "id": "b98ee16c",
   "metadata": {},
   "outputs": [],
   "source": [
    "class Node:\n",
    "    def __init__(self, value, next=None):\n",
    "        self.value = value\n",
    "        self.next = next\n",
    "\n",
    "# For testing\n",
    "def print_linked_list(head):\n",
    "    current = head\n",
    "    while current:\n",
    "        print(current.value, end=\" -> \" if current.next else \"\\n\")\n",
    "        current = current.next\n",
    "\n",
    "# Add your assignment statement here\n",
    "head = Node('Harry', Node('Ron', Node('Hermione')))"
   ]
  },
  {
   "cell_type": "code",
   "execution_count": 6,
   "id": "8a8362f1",
   "metadata": {},
   "outputs": [
    {
     "name": "stdout",
     "output_type": "stream",
     "text": [
      "Harry -> Ron -> Hermione\n"
     ]
    }
   ],
   "source": [
    "print_linked_list(head)\n"
   ]
  },
  {
   "cell_type": "markdown",
   "id": "6f2932d3",
   "metadata": {},
   "source": [
    "## Problem 2: 200 Points for Gryffindor\n"
   ]
  },
  {
   "cell_type": "code",
   "execution_count": 9,
   "id": "005330a0",
   "metadata": {},
   "outputs": [],
   "source": [
    "class Node:\n",
    "    def __init__(self, house, score, next=None):\n",
    "        self.house = house\n",
    "        self.value = score\n",
    "        self.next = next\n",
    "\n",
    "# For testing\n",
    "def print_linked_list(head):\n",
    "    current = head\n",
    "    while current:\n",
    "        print((current.house, current.value), end=\" -> \" if current.next else \"\\n\")\n",
    "        current = current.next\n",
    "\n",
    "def count_element(house_points, score):\n",
    "    count = 0\n",
    "    cur = house_points\n",
    "    while cur:\n",
    "        if cur.value == score:\n",
    "            count += 1\n",
    "        cur = cur.next\n",
    "    return count\n"
   ]
  },
  {
   "cell_type": "code",
   "execution_count": 10,
   "id": "9ae4e3ce",
   "metadata": {},
   "outputs": [
    {
     "name": "stdout",
     "output_type": "stream",
     "text": [
      "2\n"
     ]
    }
   ],
   "source": [
    "house_points = Node(\"Gryffindor\", 600, \n",
    "                Node(\"Ravenclaw\", 300,\n",
    "                    Node(\"Slytherin\", 500,\n",
    "                        Node(\"Hufflepuff\", 600))))                  \n",
    "\n",
    "print(count_element(house_points, 600))\n"
   ]
  },
  {
   "cell_type": "markdown",
   "id": "3865730e",
   "metadata": {},
   "source": [
    "## Problem 3: Target Practice\n"
   ]
  },
  {
   "cell_type": "code",
   "execution_count": 13,
   "id": "9556c1d2",
   "metadata": {},
   "outputs": [],
   "source": [
    "class Node:\n",
    "    def __init__(self, potion, next=None):\n",
    "        self.potion = potion\n",
    "        self.next = next\n",
    "\n",
    "# For testing\n",
    "def print_linked_list(head):\n",
    "    current = head\n",
    "    while current:\n",
    "        print(current.potion, end=\" -> \" if current.next else \"\\n\")\n",
    "        current = current.next\n",
    "\n",
    "def find_middle_potion(potions):\n",
    "    slow = potions\n",
    "    fast = potions\n",
    "    while fast and fast.next:\n",
    "        slow = slow.next\n",
    "        fast = fast.next.next\n",
    "        if fast == None or fast.next == None:\n",
    "            return slow.potion\n",
    "    return None\n"
   ]
  },
  {
   "cell_type": "code",
   "execution_count": 14,
   "id": "b4470bf8",
   "metadata": {},
   "outputs": [
    {
     "name": "stdout",
     "output_type": "stream",
     "text": [
      "Shrinking Solution\n",
      "Babbling Beverage\n"
     ]
    }
   ],
   "source": [
    "potions1 = Node(\"Poison Antidote\", Node(\"Shrinking Solution\", Node(\"Trollblood Tincture\")))\n",
    "potions2 = Node(\"Elixir of Life\", Node(\"Sleeping Draught\", Node(\"Babbling Beverage\", Node(\"Aging Potion\"))))\n",
    "\n",
    "print(find_middle_potion(potions1))\n",
    "print(find_middle_potion(potions2))\n"
   ]
  },
  {
   "cell_type": "markdown",
   "id": "79e415e2",
   "metadata": {},
   "source": [
    "## Problem 4: Turn Back Time\n"
   ]
  },
  {
   "cell_type": "code",
   "execution_count": 17,
   "id": "fa100e62",
   "metadata": {},
   "outputs": [],
   "source": [
    "class Node:\n",
    "    def __init__(self, value, next=None):\n",
    "        self.value = value\n",
    "        self.next = next\n",
    "\n",
    "# For testing\n",
    "def print_linked_list(head):\n",
    "    current = head\n",
    "    while current:\n",
    "        print(current.value, end=\" -> \" if current.next else \"\\n\")\n",
    "        current = current.next\n",
    "\n",
    "def reverse(events):\n",
    "    prev = None\n",
    "    cur = events\n",
    "\n",
    "    while cur:\n",
    "        nxt = cur.next\n",
    "        cur.next = prev\n",
    "        prev = cur\n",
    "        cur = nxt\n",
    "    return prev\n",
    "    \n"
   ]
  },
  {
   "cell_type": "code",
   "execution_count": 18,
   "id": "d7495e54",
   "metadata": {},
   "outputs": [
    {
     "name": "stdout",
     "output_type": "stream",
     "text": [
      "Broomstick Flying -> Dragon Taming -> Wand Making -> Spell Casting -> Potion Brewing\n"
     ]
    }
   ],
   "source": [
    "events = Node(\"Potion Brewing\", \n",
    "            Node(\"Spell Casting\", \n",
    "                Node(\"Wand Making\", \n",
    "                    Node(\"Dragon Taming\", \n",
    "                        Node(\"Broomstick Flying\")))))\n",
    "\n",
    "print_linked_list(reverse(events))\n"
   ]
  },
  {
   "cell_type": "markdown",
   "id": "ddca066b",
   "metadata": {},
   "source": [
    "## Problem 5: Mirror, Mirror\n"
   ]
  },
  {
   "cell_type": "code",
   "execution_count": 21,
   "id": "9bb58392",
   "metadata": {},
   "outputs": [],
   "source": [
    "class Node:\n",
    "    def __init__(self, value, next=None):\n",
    "        self.value = value\n",
    "        self.next = next\n",
    "\n",
    "# For testing\n",
    "def print_linked_list(head):\n",
    "    current = head\n",
    "    while current:\n",
    "        print(current.value, end=\" -> \" if current.next else \"\\n\")\n",
    "        current = current.next\n",
    "\n",
    "def is_mirrored(head):\n",
    "    slow = head\n",
    "    fast = head\n",
    "    while fast and fast.next:\n",
    "        slow = slow.next\n",
    "        fast = fast.next.next\n",
    "\n",
    "    prev = None\n",
    "    cur = slow\n",
    "    while cur:\n",
    "        nxt = cur.next\n",
    "        cur.next = prev\n",
    "        prev = cur\n",
    "        cur = nxt\n",
    "    \n",
    "    cur = head\n",
    "    while prev:\n",
    "        if prev.value == cur.value:\n",
    "            cur = cur.next\n",
    "            prev = prev.next\n",
    "        else:\n",
    "            return False\n",
    "    return True\n"
   ]
  },
  {
   "cell_type": "code",
   "execution_count": 25,
   "id": "5d2972b8",
   "metadata": {},
   "outputs": [
    {
     "name": "stdout",
     "output_type": "stream",
     "text": [
      "True\n",
      "False\n",
      "True\n"
     ]
    }
   ],
   "source": [
    "list1 = Node(\"Phoenix\", Node(\"Dragon\", Node(\"Phoenix\")))\n",
    "list2 = Node(\"Werewolf\", Node(\"Vampire\", Node(\"Griffin\")))\n",
    "list3 = Node(\"Werewolf\", Node(\"Vampire\", Node(\"Griffin\", Node(\"Vampire\", Node('Werewolf')))))\n",
    "\n",
    "print(is_mirrored(list1))\n",
    "print(is_mirrored(list2))\n",
    "print(is_mirrored(list3))"
   ]
  },
  {
   "cell_type": "markdown",
   "id": "aa091d79",
   "metadata": {},
   "source": [
    "## Problem 6: Magic Loop\n"
   ]
  },
  {
   "cell_type": "code",
   "execution_count": 42,
   "id": "a34870d3",
   "metadata": {},
   "outputs": [],
   "source": [
    "class Node:\n",
    "    def __init__(self, value, next=None):\n",
    "        self.value = value\n",
    "        self.next = next\n",
    "\n",
    "# For testing\n",
    "def print_linked_list(head):\n",
    "    current = head\n",
    "    while current:\n",
    "        print(current.value, end=\" -> \" if current.next else \"\\n\")\n",
    "        current = current.next\n",
    "\n",
    "def loop_start(path_start):\n",
    "    if not path_start or not path_start.next:\n",
    "        return None\n",
    "\n",
    "    slow = path_start\n",
    "    fast = path_start\n",
    "\n",
    "    while fast and fast.next:\n",
    "        slow = slow.next\n",
    "        fast = fast.next.next\n",
    "        if slow == fast:\n",
    "            break\n",
    "    else:\n",
    "        return None\n",
    "    \n",
    "    left = slow\n",
    "    right = path_start\n",
    "    while left != right:\n",
    "        # if left == right:\n",
    "        #     return left.value\n",
    "        left = left.next\n",
    "        right = right.next\n",
    "    \n",
    "    return left.value\n"
   ]
  },
  {
   "cell_type": "code",
   "execution_count": 43,
   "id": "45951df4",
   "metadata": {},
   "outputs": [
    {
     "name": "stdout",
     "output_type": "stream",
     "text": [
      "Troll's Bridge\n"
     ]
    }
   ],
   "source": [
    "path_start = Node(\"Mystic Falls\")\n",
    "waypoint1 = Node(\"Troll's Bridge\")\n",
    "waypoint2 = Node(\"Elven Arbor\")\n",
    "waypoint3 = Node(\"Fairy Glade\")\n",
    "\n",
    "path_start.next = waypoint1\n",
    "waypoint1.next = waypoint2\n",
    "waypoint2.next = waypoint3\n",
    "waypoint3.next = waypoint1\n",
    "\n",
    "print(loop_start(path_start))\n"
   ]
  },
  {
   "cell_type": "markdown",
   "id": "b0300e2f",
   "metadata": {},
   "source": [
    "# THE END"
   ]
  }
 ],
 "metadata": {
  "kernelspec": {
   "display_name": ".venv",
   "language": "python",
   "name": "python3"
  },
  "language_info": {
   "codemirror_mode": {
    "name": "ipython",
    "version": 3
   },
   "file_extension": ".py",
   "mimetype": "text/x-python",
   "name": "python",
   "nbconvert_exporter": "python",
   "pygments_lexer": "ipython3",
   "version": "3.12.12"
  }
 },
 "nbformat": 4,
 "nbformat_minor": 5
}
