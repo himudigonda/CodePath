{
 "cells": [
  {
   "cell_type": "markdown",
   "id": "1b86eabe",
   "metadata": {},
   "source": [
    "## Problem 1: Wild Goose Chase\n"
   ]
  },
  {
   "cell_type": "code",
   "execution_count": 3,
   "id": "69d7c6d9",
   "metadata": {},
   "outputs": [],
   "source": [
    "class Node:\n",
    "    def __init__(self, value, next=None):\n",
    "        self.value = value\n",
    "        self.next = next\n",
    "\n",
    "def is_circular(clues):\n",
    "    slow = clues\n",
    "    fast = clues\n",
    "\n",
    "    while slow:\n",
    "        slow = slow.next\n",
    "        fast = fast.next.next\n",
    "        if slow == fast:\n",
    "            return True\n",
    "\n",
    "    return False"
   ]
  },
  {
   "cell_type": "code",
   "execution_count": 4,
   "id": "1ddf5f0b",
   "metadata": {},
   "outputs": [
    {
     "name": "stdout",
     "output_type": "stream",
     "text": [
      "True\n"
     ]
    }
   ],
   "source": [
    "clue1 = Node(\"The stolen goods are at an abandoned warehouse\")\n",
    "clue2 = Node(\"The mayor is accepting bribes\")\n",
    "clue3 = Node(\"They dumped their disguise in the lake\")\n",
    "clue1.next = clue2\n",
    "clue2.next = clue3\n",
    "clue3.next = clue1\n",
    "\n",
    "print(is_circular(clue1))\n"
   ]
  },
  {
   "cell_type": "markdown",
   "id": "4a3443a5",
   "metadata": {},
   "source": [
    "## Problem 2: Breaking the Cycle\n"
   ]
  },
  {
   "cell_type": "code",
   "execution_count": 35,
   "id": "4678c3ff",
   "metadata": {},
   "outputs": [],
   "source": [
    "class Node:\n",
    "    def __init__(self, value, next=None):\n",
    "        self.value = value\n",
    "        self.next = next\n",
    "\n",
    "def collect_false_evidence(evidence):\n",
    "    if not evidence: return []\n",
    "    slow = evidence\n",
    "    fast = evidence\n",
    "\n",
    "    while fast and fast.next:\n",
    "        slow = slow.next\n",
    "        fast = fast.next.next\n",
    "\n",
    "        if slow == fast: break\n",
    "    else:\n",
    "        return []\n",
    "\n",
    "    slow = evidence\n",
    "\n",
    "    while slow != fast:\n",
    "        slow = slow.next\n",
    "        fast = fast.next\n",
    "    \n",
    "    start = slow\n",
    "    output = [start.value]\n",
    "    slow = slow.next\n",
    "    while slow != start:\n",
    "        output.append(slow.value)\n",
    "        slow = slow.next\n",
    "    return output"
   ]
  },
  {
   "cell_type": "code",
   "execution_count": 36,
   "id": "8049940d",
   "metadata": {},
   "outputs": [
    {
     "name": "stdout",
     "output_type": "stream",
     "text": [
      "['The stolen goods are at an abandoned warehouse', 'The mayor is accepting bribes', 'They dumped their disguise in the lake']\n",
      "[]\n"
     ]
    }
   ],
   "source": [
    "clue1 = Node(\"Unmarked sedan seen near the crime scene\")\n",
    "clue2 = Node(\"The stolen goods are at an abandoned warehouse\")\n",
    "clue3 = Node(\"The mayor is accepting bribes\")\n",
    "clue4 = Node(\"They dumped their disguise in the lake\")\n",
    "clue1.next = clue2\n",
    "clue2.next = clue3\n",
    "clue3.next = clue4\n",
    "clue4.next = clue2\n",
    "\n",
    "clue5 = Node(\"A masked figure was seen fleeing the scene\")\n",
    "clue6 = Node(\"Footprints lead to the nearby woods\")\n",
    "clue7 = Node(\"A broken window was found at the back\")\n",
    "clue5.next = clue6\n",
    "clue6.next = clue7\n",
    "\n",
    "print(collect_false_evidence(clue1))\n",
    "print(collect_false_evidence(clue5))\n"
   ]
  },
  {
   "cell_type": "markdown",
   "id": "de6ed4ca",
   "metadata": {},
   "source": [
    "## Problem 3: Prioritizing Suspects\n"
   ]
  },
  {
   "cell_type": "code",
   "execution_count": 54,
   "id": "d4b5cdfb",
   "metadata": {},
   "outputs": [],
   "source": [
    "class Node:\n",
    "    def __init__(self, value, next=None):\n",
    "        self.value = value\n",
    "        self.next = next\n",
    "    \n",
    "# For testing\n",
    "def print_linked_list(head):\n",
    "    current = head\n",
    "    while current:\n",
    "        print(current.value, end=\" -> \" if current.next else \"\\n\")\n",
    "        current = current.next\n",
    "\n",
    "def partition(suspect_ratings, threshold):\n",
    "    greater = Node(0)\n",
    "    greaterhead = greater\n",
    "    lesser = Node(0)\n",
    "    lesserhead = lesser\n",
    "\n",
    "    cur = suspect_ratings\n",
    "    while cur:\n",
    "        if cur.value > threshold:\n",
    "            newnode = Node(cur.value)\n",
    "            greater.next = newnode\n",
    "            greater = greater.next\n",
    "        else:\n",
    "            newnode = Node(cur.value)\n",
    "            lesser.next = newnode\n",
    "            lesser = lesser.next\n",
    "        cur = cur.next\n",
    "    \n",
    "    greater.next = lesserhead.next\n",
    "    return greaterhead.next"
   ]
  },
  {
   "cell_type": "code",
   "execution_count": 57,
   "id": "cb5893f3",
   "metadata": {},
   "outputs": [],
   "source": [
    "class Node:\n",
    "    def __init__(self, value, next=None):\n",
    "        self.value = value\n",
    "        self.next = next\n",
    "    \n",
    "# For testing\n",
    "def print_linked_list(head):\n",
    "    current = head\n",
    "    while current:\n",
    "        print(current.value, end=\" -> \" if current.next else \"\\n\")\n",
    "        current = current.next\n",
    "\n",
    "def partition(suspect_ratings, threshold):\n",
    "    greater_tail = greater_head = Node(0)\n",
    "    lesser_tail = lesser_head = Node(0)\n",
    "\n",
    "    current = suspect_ratings\n",
    "\n",
    "    while current:\n",
    "        nxt = current.next\n",
    "        current.next = None\n",
    "        if current.value > threshold:\n",
    "            greater_tail.next = current\n",
    "            greater_tail = greater_tail.next\n",
    "        else:\n",
    "            lesser_tail.next = current\n",
    "            lesser_tail = lesser_tail.next\n",
    "        current = nxt\n",
    "    greater_tail.next = lesser_head.next\n",
    "    return greater_head.next"
   ]
  },
  {
   "cell_type": "code",
   "execution_count": 58,
   "id": "4b64f2ae",
   "metadata": {},
   "outputs": [
    {
     "name": "stdout",
     "output_type": "stream",
     "text": [
      "4 -> 5 -> 1 -> 3 -> 2 -> 2\n"
     ]
    }
   ],
   "source": [
    "suspect_ratings = Node(1, Node(4, Node(3, Node(2, Node(5, Node(2))))))\n",
    "\n",
    "print_linked_list(partition(suspect_ratings, 3))\n"
   ]
  },
  {
   "cell_type": "markdown",
   "id": "f0aceeac",
   "metadata": {},
   "source": [
    "## Problem 4: Puzzling it Out\n"
   ]
  },
  {
   "cell_type": "code",
   "execution_count": 67,
   "id": "78cae082",
   "metadata": {},
   "outputs": [],
   "source": [
    "class Node:\n",
    "    def __init__(self, value, next=None):\n",
    "        self.value = value\n",
    "        self.next = next\n",
    "    \n",
    "# For testing\n",
    "def print_linked_list(head):\n",
    "    current = head\n",
    "    while current:\n",
    "        print(current.value, end=\" -> \" if current.next else \"\\n\")\n",
    "        current = current.next\n",
    "\n",
    "def merge_timelines(known_timeline, witness_timeline):  \n",
    "    known = known_timeline\n",
    "    witness = witness_timeline  \n",
    "    outputhead = output = Node(0)\n",
    "    while known and witness:\n",
    "        if known.value < witness.value:\n",
    "            output.next = known\n",
    "            output = output.next\n",
    "            known = known.next\n",
    "        else:\n",
    "            output.next = witness\n",
    "            output = output.next\n",
    "            witness = witness.next\n",
    "    output.next = known if known else witness\n",
    "    return outputhead.next"
   ]
  },
  {
   "cell_type": "code",
   "execution_count": 68,
   "id": "f09a5594",
   "metadata": {},
   "outputs": [
    {
     "name": "stdout",
     "output_type": "stream",
     "text": [
      "1 -> 1 -> 2 -> 3 -> 4 -> 4\n"
     ]
    }
   ],
   "source": [
    "known_timeline = Node(1, Node(2, Node(4)))\n",
    "witness_timeline = Node(1, Node(3, Node(4)))\n",
    "\n",
    "print_linked_list(merge_timelines(known_timeline, witness_timeline))\n"
   ]
  },
  {
   "cell_type": "markdown",
   "id": "012c9474",
   "metadata": {},
   "source": [
    "## Problem 5: A New Perspective\n"
   ]
  },
  {
   "cell_type": "code",
   "execution_count": 95,
   "id": "ced90dd9",
   "metadata": {},
   "outputs": [],
   "source": [
    "class Node:\n",
    "    def __init__(self, value, next=None):\n",
    "        self.value = value\n",
    "        self.next = next\n",
    "\n",
    "# For testing\n",
    "def print_linked_list(head):\n",
    "    current = head\n",
    "    while current:\n",
    "        print(current.value, end=\" -> \" if current.next else \"\\n\")\n",
    "        current = current.next\n",
    "\n",
    "def rotate_right(evidence, k):\n",
    "    if not evidence or not evidence.next or k == 0:\n",
    "        return evidence\n",
    "    \n",
    "    length = 1\n",
    "    tail = evidence\n",
    "    while tail.next: \n",
    "        tail = tail.next\n",
    "        length += 1\n",
    "\n",
    "    k = k % length\n",
    "    if k == 0:\n",
    "        return evidence\n",
    "\n",
    "    tail.next = evidence\n",
    "\n",
    "    to_move = length - k\n",
    "    newtail = evidence\n",
    "\n",
    "    for _ in range(to_move - 1):\n",
    "        newtail = newtail.next\n",
    "\n",
    "    newhead = newtail.next\n",
    "    newtail.next = None\n",
    "\n",
    "    return newhead\n"
   ]
  },
  {
   "cell_type": "code",
   "execution_count": 96,
   "id": "0b27c546",
   "metadata": {},
   "outputs": [
    {
     "name": "stdout",
     "output_type": "stream",
     "text": [
      "4 -> 5 -> 1 -> 2 -> 3\n",
      "2 -> 0 -> 1\n",
      "2 -> 0 -> 1\n"
     ]
    }
   ],
   "source": [
    "evidence_list1 = Node(1, Node(2, Node(3, Node(4, Node(5)))))\n",
    "evidence_list2 = Node(0, Node(1, Node(2)))\n",
    "\n",
    "print_linked_list(rotate_right(evidence_list1, 2))\n",
    "print_linked_list(rotate_right(evidence_list2, 4))\n",
    "evidence_list2 = Node(0, Node(1, Node(2)))\n",
    "print_linked_list(rotate_right(evidence_list2, 1))\n"
   ]
  },
  {
   "cell_type": "markdown",
   "id": "931c84be",
   "metadata": {},
   "source": [
    "## Problem 6: Adding Up the Evidence\n"
   ]
  },
  {
   "cell_type": "code",
   "execution_count": 113,
   "id": "fcb125f5",
   "metadata": {},
   "outputs": [],
   "source": [
    "class Node:\n",
    "    def __init__(self, value, next=None):\n",
    "        self.value = value\n",
    "        self.next = next\n",
    "\n",
    "# For testing\n",
    "def print_linked_list(head):\n",
    "    current = head\n",
    "    while current:\n",
    "        print(current.value, end=\" -> \" if current.next else \"\\n\")\n",
    "        current = current.next\n",
    "\n",
    "def add_two_numbers(head_a, head_b):\n",
    "    carry = 0\n",
    "    a = head_a\n",
    "    b = head_b\n",
    "    ret = Node(0)\n",
    "    rethead = ret\n",
    "    # while a and b:\n",
    "    #     summ = (a.value + b.value + carry)\n",
    "    #     ret.next = Node((summ)%10)\n",
    "    #     carry = summ//10\n",
    "    #     ret = ret.next\n",
    "    #     a = a.next\n",
    "    #     b = b.next\n",
    "    # ret.next = a if a else b\n",
    "    # if carry: ret.next.value += carry\n",
    "    # return rethead.next\n",
    "    while a or b or carry:\n",
    "        vala = a.value if a else 0\n",
    "        valb = b.value if b else 0\n",
    "        summ = vala + valb + carry\n",
    "        ret.next = Node(summ%10)\n",
    "        carry = summ//10\n",
    "\n",
    "        ret = ret.next\n",
    "        a = a.next if a else None\n",
    "        b = b.next if b else None\n",
    "    return rethead"
   ]
  },
  {
   "cell_type": "code",
   "execution_count": 114,
   "id": "151af420",
   "metadata": {},
   "outputs": [
    {
     "name": "stdout",
     "output_type": "stream",
     "text": [
      "0 -> 7 -> 0 -> 8\n",
      "0 -> 4 -> 1 -> 3 -> 9 -> 2\n"
     ]
    }
   ],
   "source": [
    "head_a = Node(2, Node(4, Node(3))) # 342\n",
    "head_b = Node(5, Node(6, Node(4))) # 465\n",
    "\n",
    "print_linked_list(add_two_numbers(head_a, head_b))\n",
    "head_a = Node(9, Node(4, Node(3))) # 342\n",
    "head_b = Node(5, Node(6, Node(9, Node(8, Node(2))))) # 465\n",
    "\n",
    "print_linked_list(add_two_numbers(head_a, head_b))\n"
   ]
  },
  {
   "cell_type": "markdown",
   "id": "97c9a755",
   "metadata": {},
   "source": [
    "# THE END"
   ]
  }
 ],
 "metadata": {
  "kernelspec": {
   "display_name": ".venv",
   "language": "python",
   "name": "python3"
  },
  "language_info": {
   "codemirror_mode": {
    "name": "ipython",
    "version": 3
   },
   "file_extension": ".py",
   "mimetype": "text/x-python",
   "name": "python",
   "nbconvert_exporter": "python",
   "pygments_lexer": "ipython3",
   "version": "3.12.12"
  }
 },
 "nbformat": 4,
 "nbformat_minor": 5
}
