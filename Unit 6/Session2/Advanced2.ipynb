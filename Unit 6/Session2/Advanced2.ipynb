{
 "cells": [
  {
   "cell_type": "markdown",
   "id": "4a93cfdd",
   "metadata": {},
   "source": [
    "## Problem 1: Stack 'Em Up!"
   ]
  },
  {
   "cell_type": "code",
   "execution_count": 33,
   "id": "bdb22c69",
   "metadata": {},
   "outputs": [],
   "source": [
    "class Node:\n",
    "\tdef __init__(self, value, next=None):\n",
    "\t\tself.value = value\n",
    "\t\tself.next = next\n",
    "\n",
    "# For testing\n",
    "def print_stack(head):\n",
    "    current = head.front\n",
    "    while current:\n",
    "        print(current.value, end=\" -> \" if current.next else \"\")\n",
    "        current = current.next\n",
    "    print()\n",
    "\n",
    "class Stack:\n",
    "    def __init__(self):\n",
    "        self.front = None\n",
    "\n",
    "    def is_empty(self):\n",
    "        # return False if self.front else True\n",
    "        return not self.front\n",
    "\n",
    "\n",
    "    def push(self, value):\n",
    "        # head = \n",
    "        self.front = Node(value, self.front)\n",
    "        # return head\n",
    "    \n",
    "    def pop(self):\n",
    "        if not self.front: return None\n",
    "        res = self.front.value\n",
    "        head = self.front\n",
    "        self.front = self.front.next\n",
    "        del head\n",
    "        return res\n",
    "    \n",
    "    def peek(self):\n",
    "        return self.front.value if self.front else None\n",
    "    \n"
   ]
  },
  {
   "cell_type": "code",
   "execution_count": 34,
   "id": "c4a6d630",
   "metadata": {},
   "outputs": [
    {
     "name": "stdout",
     "output_type": "stream",
     "text": [
      "('Dune', 'Frank Herbert') -> ('Gone Girl', 'Gillian Flynn') -> ('Educated', 'Tara Westover')\n",
      "Peek:  ('Dune', 'Frank Herbert')\n",
      "Pop:  ('Dune', 'Frank Herbert')\n",
      "Pop:  ('Gone Girl', 'Gillian Flynn')\n",
      "Is Empty:  False\n",
      "Pop:  ('Educated', 'Tara Westover')\n",
      "Is Empty: True\n"
     ]
    }
   ],
   "source": [
    "# Create a new Stack\n",
    "stack = Stack()\n",
    "\n",
    "# Add elements to the stack\n",
    "stack.push(('Educated', 'Tara Westover'))\n",
    "stack.push(('Gone Girl', 'Gillian Flynn'))\n",
    "stack.push(('Dune', 'Frank Herbert'))\n",
    "print_stack(stack)\n",
    "\n",
    "# View the front element\n",
    "print(\"Peek: \", stack.peek()) \n",
    "\n",
    "# Remove elements from the stack\n",
    "print(\"Pop: \", stack.pop()) \n",
    "print(\"Pop: \", stack.pop()) \n",
    "\n",
    "# Check if the stack is empty\n",
    "print(\"Is Empty: \", stack.is_empty()) \n",
    "\n",
    "# Remove the last element\n",
    "print(\"Pop: \", stack.pop()) \n",
    "\n",
    "# Check if the queue is empty\n",
    "print(\"Is Empty:\", stack.is_empty()) \n"
   ]
  },
  {
   "cell_type": "markdown",
   "id": "1f679e59",
   "metadata": {},
   "source": [
    "## Problem 2: Surprise Me\n"
   ]
  },
  {
   "cell_type": "code",
   "execution_count": 91,
   "id": "b29d444d",
   "metadata": {},
   "outputs": [],
   "source": [
    "from random import randint\n",
    "\n",
    "\n",
    "class Node:\n",
    "    def __init__(self, value, next=None):\n",
    "        self.value = value\n",
    "        self.next = next\n",
    "\n",
    "# For testing\n",
    "def print_linked_list(head):\n",
    "    current = head\n",
    "    while current:\n",
    "        print(current.value, end=\" -> \" if current.next else \"\")\n",
    "        current = current.next\n",
    "    print()\n",
    "\n",
    "def get_random(catalogue):\n",
    "    length = 0\n",
    "    cur = catalogue\n",
    "    while cur:\n",
    "        length += 1\n",
    "        cur = cur.next\n",
    "    head = catalogue\n",
    "    cur = head\n",
    "    move = randint(1, length)\n",
    "    for _ in range(move - 1):\n",
    "        if cur.value != None:\n",
    "            cur = cur.next\n",
    "        else:\n",
    "            cur = head\n",
    "    return cur.value"
   ]
  },
  {
   "cell_type": "code",
   "execution_count": 104,
   "id": "6d844dc3",
   "metadata": {},
   "outputs": [
    {
     "name": "stdout",
     "output_type": "stream",
     "text": [
      "('The Night Watchman', 'Louise Erdrich')\n"
     ]
    }
   ],
   "source": [
    "from collections import defaultdict\n",
    "\n",
    "\n",
    "catalogue = Node(('Homegoing', 'Yaa Gyasi'), \n",
    "                Node(('Pachinko', 'Min Jin Lee'),\n",
    "                         Node(('The Night Watchman', 'Louise Erdrich'))))\n",
    "\n",
    "print(get_random(catalogue))\n",
    "# counter = defaultdict(int)\n",
    "# for i in range(10000000):\n",
    "#     counter[get_random(catalogue)] += 1\n",
    "# print(counter)"
   ]
  },
  {
   "cell_type": "markdown",
   "id": "9a6dc016",
   "metadata": {},
   "source": [
    "## Problem 3: Properly Reshelve\n"
   ]
  },
  {
   "cell_type": "code",
   "execution_count": null,
   "id": "33bad17f",
   "metadata": {},
   "outputs": [],
   "source": [
    "class Node:\n",
    "    def __init__(self, value, next=None):\n",
    "        self.value = value\n",
    "        self.next = next\n",
    "\n",
    "# For testing\n",
    "def print_linked_list(head):\n",
    "    current = head\n",
    "    while current:\n",
    "        print(current.value, end=\" -> \" if current.next else \"\")\n",
    "        current = current.next\n",
    "    print()\n",
    "\n",
    "def swap_books(shelf, k):\n",
    "    cur = shelf\n",
    "    length = 0\n",
    "\n",
    "    while cur:\n",
    "        length += 1\n",
    "        cur = cur.next\n",
    "\n",
    "    left = shelf\n",
    "    right = shelf\n",
    "    nminusk = length - k\n",
    "    \n",
    "    num = 1\n",
    "    while num < k:\n",
    "        left = left.next\n",
    "        num += 1\n",
    "    \n",
    "    num = 0\n",
    "    while num < nminusk:\n",
    "        right = right.next\n",
    "        num += 1\n",
    "    \n",
    "    right.value, left.value = left.value, right.value\n",
    "    \n",
    "    return shelf"
   ]
  },
  {
   "cell_type": "code",
   "execution_count": 125,
   "id": "6d643dd2",
   "metadata": {},
   "outputs": [
    {
     "name": "stdout",
     "output_type": "stream",
     "text": [
      "Book 1 -> Book 4 -> Book 3 -> Book 2 -> Book 5\n"
     ]
    }
   ],
   "source": [
    "shelf = Node('Book 1', Node('Book 2', Node('Book 3', Node('Book 4', Node('Book 5')))))\n",
    "\n",
    "print_linked_list(swap_books(shelf, 2))\n"
   ]
  },
  {
   "cell_type": "markdown",
   "id": "e3ea940b",
   "metadata": {},
   "source": [
    "## Problem 4: Book Display\n"
   ]
  },
  {
   "cell_type": "code",
   "execution_count": 5,
   "id": "92fab8ff",
   "metadata": {},
   "outputs": [],
   "source": [
    "class Node:\n",
    "    def __init__(self, value, next=None):\n",
    "        self.value = value\n",
    "        self.next = next\n",
    "\n",
    "# For testing\n",
    "def print_linked_list(head):\n",
    "    current = head\n",
    "    while current:\n",
    "        print(current.value, end=\" -> \" if current.next else \"\")\n",
    "        current = current.next\n",
    "    print()\n",
    "\n",
    "def spiralize_books(m, n, new_reads):\n",
    "    matrix = [[None] * n for _ in range(m)]\n",
    "    top, bottom = 0, m - 1\n",
    "    left, right = 0, n - 1\n",
    "    current = new_reads\n",
    "\n",
    "    while current and top <= bottom and left <= right:\n",
    "        for j in range(left, right + 1):\n",
    "            if not current: return matrix\n",
    "            matrix[top][j] = current.value\n",
    "            current = current.next\n",
    "        top += 1\n",
    "\n",
    "        for j in range(top, bottom + 1):\n",
    "            if not current: return matrix\n",
    "            matrix[j][right] = current.value\n",
    "            current = current.next\n",
    "        right -= 1\n",
    "\n",
    "        for j in range(right, left - 1, -1):\n",
    "            if not current: return matrix\n",
    "            matrix[bottom][j] = current.value\n",
    "            current = current.next\n",
    "        bottom -= 1\n",
    "\n",
    "        for j in range(bottom, top - 1, -1):\n",
    "            if not current: return matrix\n",
    "            matrix[j][left] = current.value\n",
    "            current = current.next\n",
    "        left += 1\n",
    "    return matrix\n",
    "\n",
    "\n",
    "    \n"
   ]
  },
  {
   "cell_type": "code",
   "execution_count": 6,
   "id": "b0e579f0",
   "metadata": {},
   "outputs": [
    {
     "name": "stdout",
     "output_type": "stream",
     "text": [
      "[['Book 1', 'Book 2', 'Book 3', 'Book 4', 'Book 5'], ['Book 12', 'Book 13', None, None, 'Book 6'], ['Book 11', 'Book 10', 'Book 9', 'Book 8', 'Book 7']]\n",
      "[['Book 1', 'Book 2', 'Book 3', None]]\n"
     ]
    }
   ],
   "source": [
    "new_reads1 = Node('Book 1', Node('Book 2', Node('Book 3', Node('Book 4', Node('Book 5', Node('Book 6', \n",
    "Node('Book 7', Node('Book 8', Node('Book 9', Node('Book 10', Node('Book 11', Node('Book 12', Node('Book 13')))))))))))))\n",
    "new_reads2 = Node('Book 1', Node('Book 2', Node('Book 3')))\n",
    "\n",
    "print(spiralize_books(3, 5, new_reads1))\n",
    "print(spiralize_books(1, 4, new_reads2))\n"
   ]
  },
  {
   "cell_type": "markdown",
   "id": "5a263f34",
   "metadata": {},
   "source": [
    "## Problem 5: Book Similarity\n"
   ]
  },
  {
   "cell_type": "code",
   "execution_count": 11,
   "id": "41f00778",
   "metadata": {},
   "outputs": [],
   "source": [
    "class Node:\n",
    "    def __init__(self, value, next=None):\n",
    "        self.value = value\n",
    "        self.next = next\n",
    "\n",
    "# For testing\n",
    "def print_linked_list(head):\n",
    "    current = head\n",
    "    while current:\n",
    "        print(current.value, end=\" -> \" if current.next else \"\")\n",
    "        current = current.next\n",
    "    print()\n",
    "\n",
    "def similar_book_count(all_books, subset):\n",
    "    subsett = set(subset)\n",
    "    cur = all_books\n",
    "    count = 0\n",
    "\n",
    "    while cur:\n",
    "        if cur.value in subsett and (cur.next is None or cur.next.value not in subsett):\n",
    "            count += 1\n",
    "        cur = cur.next\n",
    "    return count\n",
    "\n"
   ]
  },
  {
   "cell_type": "code",
   "execution_count": 12,
   "id": "42d605c1",
   "metadata": {},
   "outputs": [
    {
     "name": "stdout",
     "output_type": "stream",
     "text": [
      "2\n",
      "2\n"
     ]
    }
   ],
   "source": [
    "all_books1 = Node(0, Node(1, Node(2, Node(3))))\n",
    "subset1 = [0, 1, 3]\n",
    "\n",
    "all_books2 = Node(0, Node(1, Node(2, Node(3, Node(4)))))\n",
    "subset2 = [0, 3, 1, 4]\n",
    "\n",
    "print(similar_book_count(all_books1, subset1))\n",
    "print(similar_book_count(all_books2, subset2))\n"
   ]
  },
  {
   "cell_type": "markdown",
   "id": "33f2eaa7",
   "metadata": {},
   "source": [
    "# THE END"
   ]
  }
 ],
 "metadata": {
  "kernelspec": {
   "display_name": ".venv",
   "language": "python",
   "name": "python3"
  },
  "language_info": {
   "codemirror_mode": {
    "name": "ipython",
    "version": 3
   },
   "file_extension": ".py",
   "mimetype": "text/x-python",
   "name": "python",
   "nbconvert_exporter": "python",
   "pygments_lexer": "ipython3",
   "version": "3.12.12"
  }
 },
 "nbformat": 4,
 "nbformat_minor": 5
}
