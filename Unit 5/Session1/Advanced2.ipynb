{
 "cells": [
  {
   "cell_type": "markdown",
   "id": "f9c9c5fb",
   "metadata": {},
   "source": [
    "## Problem 1: Player Class II\n"
   ]
  },
  {
   "cell_type": "code",
   "execution_count": 5,
   "id": "8ac00186",
   "metadata": {},
   "outputs": [],
   "source": [
    "class Player:\n",
    "    def __init__(self, character, kart):\n",
    "        self.character = character\n",
    "        self.kart = kart\n",
    "        self.items = []\n"
   ]
  },
  {
   "cell_type": "code",
   "execution_count": 6,
   "id": "115a46b8",
   "metadata": {},
   "outputs": [
    {
     "name": "stdout",
     "output_type": "stream",
     "text": [
      "Yoshi\n",
      "Super Blooper\n",
      "[]\n"
     ]
    }
   ],
   "source": [
    "player_one = Player(\"Yoshi\", \"Super Blooper\")\n",
    "print(player_one.character)\n",
    "print(player_one.kart) \n",
    "print(player_one.items)\n"
   ]
  },
  {
   "cell_type": "markdown",
   "id": "e7208104",
   "metadata": {},
   "source": [
    "## Problem 2: Add Special Item\n"
   ]
  },
  {
   "cell_type": "code",
   "execution_count": 10,
   "id": "a9fef9e1",
   "metadata": {},
   "outputs": [],
   "source": [
    "class Player:\n",
    "    def __init__(self, character, kart):\n",
    "        self.character = character\n",
    "        self.kart = kart\n",
    "        self.items = []\n",
    "\n",
    "    def add_item(self, item_name):\n",
    "        if item_name in set([\"banana\", \"green shell\", \"red shell\", \"bob-omb\", \"super star\", \"lightning\", \"bullet bill\"]):\n",
    "            self.items.append(item_name)"
   ]
  },
  {
   "cell_type": "code",
   "execution_count": 11,
   "id": "8d72e3a5",
   "metadata": {},
   "outputs": [
    {
     "name": "stdout",
     "output_type": "stream",
     "text": [
      "[]\n",
      "['red shell']\n",
      "['red shell', 'super star']\n",
      "['red shell', 'super star']\n"
     ]
    }
   ],
   "source": [
    "player_one = Player(\"Yoshi\", \"Dolphin Dasher\")\n",
    "print(player_one.items)\n",
    "\n",
    "player_one.add_item(\"red shell\")\n",
    "print(player_one.items)\n",
    "\n",
    "player_one.add_item(\"super star\")\n",
    "print(player_one.items)\n",
    "\n",
    "player_one.add_item(\"super smash\")\n",
    "print(player_one.items)"
   ]
  },
  {
   "cell_type": "markdown",
   "id": "0487d8fe",
   "metadata": {},
   "source": [
    "## Problem 3: Race Results\n"
   ]
  },
  {
   "cell_type": "code",
   "execution_count": 18,
   "id": "9293d18b",
   "metadata": {},
   "outputs": [],
   "source": [
    "class Player:\n",
    "    def __init__(self, character, kart):\n",
    "        self.character = character\n",
    "        self.kart = kart\n",
    "        self.items = []\n",
    "\n",
    "    def add_item(self, item_name):\n",
    "        if item_name in set(\n",
    "            [\n",
    "                \"banana\",\n",
    "                \"green shell\",\n",
    "                \"red shell\",\n",
    "                \"bob-omb\",\n",
    "                \"super star\",\n",
    "                \"lightning\",\n",
    "                \"bullet bill\",\n",
    "            ]\n",
    "        ):\n",
    "            self.items.append(item_name)\n",
    "\n",
    "\n",
    "def print_results(race_results):\n",
    "    for idx, val in enumerate(race_results):\n",
    "        print(str(idx + 1) +  \".\", val.character)"
   ]
  },
  {
   "cell_type": "code",
   "execution_count": 19,
   "id": "0e1bd259",
   "metadata": {},
   "outputs": [
    {
     "name": "stdout",
     "output_type": "stream",
     "text": [
      "1. Peach\n",
      "2. Mario\n",
      "3. Luigi\n"
     ]
    }
   ],
   "source": [
    "peach = Player(\"Peach\", \"Daytripper\")\n",
    "mario = Player(\"Mario\", \"Standard Kart M\")\n",
    "luigi = Player(\"Luigi\", \"Super Blooper\")\n",
    "race_one = [peach, mario, luigi]\n",
    "\n",
    "print_results(race_one)"
   ]
  },
  {
   "cell_type": "markdown",
   "id": "03740b9e",
   "metadata": {},
   "source": [
    "## Problem 4: Get Rank\n"
   ]
  },
  {
   "cell_type": "code",
   "execution_count": 25,
   "id": "b53ba67c",
   "metadata": {},
   "outputs": [],
   "source": [
    "class Player:\n",
    "    def __init__(self, character, kart, opponent=None):\n",
    "        self.character = character\n",
    "        self.kart = kart\n",
    "        self.items = []\n",
    "        self.ahead = opponent\n",
    "\n",
    "\n",
    "def get_place(my_player):\n",
    "    if not my_player.ahead:\n",
    "        return 1\n",
    "    count = 1\n",
    "    while my_player:\n",
    "        if my_player.ahead:\n",
    "            count += 1\n",
    "            my_player = my_player.ahead\n",
    "        else:\n",
    "            return count\n",
    "    return count"
   ]
  },
  {
   "cell_type": "code",
   "execution_count": 26,
   "id": "887846b2",
   "metadata": {},
   "outputs": [
    {
     "name": "stdout",
     "output_type": "stream",
     "text": [
      "3\n",
      "1\n",
      "2\n"
     ]
    }
   ],
   "source": [
    "peach = Player(\"Peach\", \"Daytripper\")\n",
    "mario = Player(\"Mario\", \"Standard Kart M\", peach)\n",
    "luigi = Player(\"Luigi\", \"Super Blooper\", mario)\n",
    "\n",
    "player1_rank = get_place(luigi)\n",
    "player2_rank = get_place(peach)\n",
    "player3_rank = get_place(mario)\n",
    "\n",
    "print(player1_rank)\n",
    "print(player2_rank)\n",
    "print(player3_rank)"
   ]
  },
  {
   "cell_type": "markdown",
   "id": "19dee2d7",
   "metadata": {},
   "source": [
    "## Problem 5: Daisy Chain\n"
   ]
  },
  {
   "cell_type": "code",
   "execution_count": 29,
   "id": "eb577bc3",
   "metadata": {},
   "outputs": [],
   "source": [
    "class Node:\n",
    "    def __init__(self, value, next=None):\n",
    "        self.value = value\n",
    "        self.next = next\n",
    "\n",
    "\n",
    "# For testing\n",
    "def print_linked_list(head):\n",
    "    current = head\n",
    "    while current:\n",
    "        print(current.value, end=\" -> \" if current.next else \"\\n\")\n",
    "        current = current.next\n",
    "\n",
    "\n",
    "daisy = Node(\"Daisy\")\n",
    "peach = Node(\"Peach\")\n",
    "luigi = Node(\"Luigi\")\n",
    "mario = Node(\"Mario\")\n",
    "\n",
    "daisy.next = peach\n",
    "peach.next = luigi\n",
    "luigi.next = mario\n",
    "mario.next = None"
   ]
  },
  {
   "cell_type": "code",
   "execution_count": 30,
   "id": "b7d0f7cf",
   "metadata": {},
   "outputs": [
    {
     "name": "stdout",
     "output_type": "stream",
     "text": [
      "Daisy -> Peach -> Luigi -> Mario\n"
     ]
    }
   ],
   "source": [
    "print_linked_list(daisy)"
   ]
  },
  {
   "cell_type": "markdown",
   "id": "6592d88b",
   "metadata": {},
   "source": [
    "## Problem 6: Count Racers\n"
   ]
  },
  {
   "cell_type": "code",
   "execution_count": 37,
   "id": "9e06f53f",
   "metadata": {},
   "outputs": [],
   "source": [
    "class Node:\n",
    "    def __init__(self, player, next=None):\n",
    "        self.player_name = player\n",
    "        self.next = next\n",
    "\n",
    "\n",
    "# For testing\n",
    "def print_linked_list(head):\n",
    "    current = head\n",
    "    while current:\n",
    "        print(current.player_name, end=\" -> \" if current.next else \"\\n\")\n",
    "        current = current.next\n",
    "\n",
    "\n",
    "def count_racers(head):\n",
    "    if not head: return 0\n",
    "    count = 1\n",
    "    while head:\n",
    "        if head.next:\n",
    "            count += 1\n",
    "            head = head.next\n",
    "        else:\n",
    "            return count\n",
    "    return count"
   ]
  },
  {
   "cell_type": "code",
   "execution_count": 38,
   "id": "a9718d3d",
   "metadata": {},
   "outputs": [
    {
     "name": "stdout",
     "output_type": "stream",
     "text": [
      "4\n",
      "1\n",
      "0\n"
     ]
    }
   ],
   "source": [
    "racers1 = Node(\"Mario\", Node(\"Peach\", Node(\"Luigi\", Node(\"Daisy\"))))\n",
    "racers2 = Node(\"Mario\")\n",
    "\n",
    "print(count_racers(racers1))\n",
    "print(count_racers(racers2))\n",
    "print(count_racers(None))"
   ]
  },
  {
   "cell_type": "markdown",
   "id": "c0757e78",
   "metadata": {},
   "source": [
    "## Problem 7: Last Place\n"
   ]
  },
  {
   "cell_type": "code",
   "execution_count": 42,
   "id": "9610b3d8",
   "metadata": {},
   "outputs": [],
   "source": [
    "class Node:\n",
    "    def __init__(self, player, next=None):\n",
    "        self.player_name = player\n",
    "        self.next = next\n",
    "\n",
    "\n",
    "# For testing\n",
    "def print_linked_list(head):\n",
    "    current = head\n",
    "    while current:\n",
    "        print(current.player_name, end=\" -> \" if current.next else \"\\n\")\n",
    "        current = current.next\n",
    "\n",
    "\n",
    "def last_place(head):\n",
    "    if not head: return None\n",
    "    while head:\n",
    "        if head.next:\n",
    "            head = head.next\n",
    "        else:\n",
    "            return head.player_name\n",
    "    return None"
   ]
  },
  {
   "cell_type": "code",
   "execution_count": 43,
   "id": "bfd1d738",
   "metadata": {},
   "outputs": [
    {
     "name": "stdout",
     "output_type": "stream",
     "text": [
      "Daisy\n",
      "Mario\n",
      "None\n"
     ]
    }
   ],
   "source": [
    "racers1 = Node(\"Mario\", Node(\"Peach\", Node(\"Luigi\", Node(\"Daisy\"))))\n",
    "racers2 = Node(\"Mario\")\n",
    "\n",
    "print(last_place(racers1))\n",
    "print(last_place(racers2))\n",
    "print(last_place(None))"
   ]
  },
  {
   "cell_type": "markdown",
   "id": "52158e40",
   "metadata": {},
   "source": [
    "## Problem 8: Update Rankings\n"
   ]
  },
  {
   "cell_type": "code",
   "execution_count": 52,
   "id": "19860eaa",
   "metadata": {},
   "outputs": [],
   "source": [
    "class Node:\n",
    "    def __init__(self, player, next=None):\n",
    "        self.player_name = player\n",
    "        self.next = next\n",
    "\n",
    "\n",
    "# For testing\n",
    "def print_linked_list(head):\n",
    "    current = head\n",
    "    while current:\n",
    "        print(current.player_name, end=\" -> \" if current.next else \"\\n\")\n",
    "        current = current.next\n",
    "\n",
    "\n",
    "def increment_rank(head, target):\n",
    "    if not head or target <= 1:\n",
    "        return head\n",
    "\n",
    "    dummy = Node(None, head)\n",
    "    prev = dummy\n",
    "    for _ in range(target - 2):\n",
    "        if not prev.next or not prev.next.next:\n",
    "            return head\n",
    "        prev = prev.next\n",
    "    \n",
    "    a = prev.next\n",
    "    b = prev.next.next\n",
    "\n",
    "    if not b:\n",
    "        return head\n",
    "    \n",
    "    a.next = b.next\n",
    "    b.next = a\n",
    "    prev.next = b\n",
    "\n",
    "    return dummy.next\n"
   ]
  },
  {
   "cell_type": "code",
   "execution_count": 53,
   "id": "ca70c12b",
   "metadata": {},
   "outputs": [
    {
     "name": "stdout",
     "output_type": "stream",
     "text": [
      "Mario -> Luigi -> Peach -> Daisy\n",
      "Mario -> Luigi\n"
     ]
    }
   ],
   "source": [
    "racers1 = Node(\"Mario\", Node(\"Peach\", Node(\"Luigi\", Node(\"Daisy\"))))\n",
    "racers2 = Node(\"Mario\", Node(\"Luigi\"))\n",
    "\n",
    "print_linked_list(increment_rank(racers1, 3))\n",
    "print_linked_list(increment_rank(racers2, 1)) \n",
    "print_linked_list(increment_rank(None, 1)) \n"
   ]
  },
  {
   "cell_type": "markdown",
   "id": "f83cf68a",
   "metadata": {},
   "source": [
    "# THE END"
   ]
  }
 ],
 "metadata": {
  "kernelspec": {
   "display_name": ".venv",
   "language": "python",
   "name": "python3"
  },
  "language_info": {
   "codemirror_mode": {
    "name": "ipython",
    "version": 3
   },
   "file_extension": ".py",
   "mimetype": "text/x-python",
   "name": "python",
   "nbconvert_exporter": "python",
   "pygments_lexer": "ipython3",
   "version": "3.12.11"
  }
 },
 "nbformat": 4,
 "nbformat_minor": 5
}
