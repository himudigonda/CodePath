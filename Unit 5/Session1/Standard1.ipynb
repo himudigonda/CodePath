{
 "cells": [
  {
   "cell_type": "markdown",
   "id": "37d7606a",
   "metadata": {},
   "source": [
    "## Problem 1: New Horizons\n"
   ]
  },
  {
   "cell_type": "code",
   "execution_count": 1,
   "id": "74a9b281",
   "metadata": {},
   "outputs": [],
   "source": [
    "class Villager:\n",
    "    def __init__(self, name, species, catchphrase):\n",
    "        self.name = name\n",
    "        self.species = species\n",
    "        self.catchphrase = catchphrase\n",
    "        self.furniture = []\n",
    "\n",
    "\n",
    "# Instantiate your villager here\n",
    "apollo = Villager(\"Apollo\", \"Eagle\", 'pah')"
   ]
  },
  {
   "cell_type": "code",
   "execution_count": 2,
   "id": "522120e6",
   "metadata": {},
   "outputs": [
    {
     "name": "stdout",
     "output_type": "stream",
     "text": [
      "Apollo\n",
      "Eagle\n",
      "pah\n",
      "[]\n"
     ]
    }
   ],
   "source": [
    "print(apollo.name)\n",
    "print(apollo.species)\n",
    "print(apollo.catchphrase)\n",
    "print(apollo.furniture)"
   ]
  },
  {
   "cell_type": "markdown",
   "id": "fa79d13b",
   "metadata": {},
   "source": [
    "## Problem 2: Greet Player"
   ]
  },
  {
   "cell_type": "code",
   "execution_count": 5,
   "id": "c5bc57b8",
   "metadata": {},
   "outputs": [
    {
     "data": {
      "text/plain": [
       "\"Bones: Hey there, Himansh! How's it going, yip yip!!\""
      ]
     },
     "execution_count": 5,
     "metadata": {},
     "output_type": "execute_result"
    }
   ],
   "source": [
    "class Villager:\n",
    "    def __init__(self, name, species, catchphrase):\n",
    "        self.name = name\n",
    "        self.species = species\n",
    "        self.catchphrase = catchphrase\n",
    "        self.furniture = []\n",
    "    def greet_player(self, player_name):\n",
    "        return f\"{self.name}: Hey there, {player_name}! How's it going, {self.catchphrase}!\"\n",
    "\n",
    "apollo = Villager(\"Apollo\", \"Eagle\", \"pah\")\n",
    "bones = Villager(\"Bones\", \"Dog\", \"yip yip!\")\n",
    "bones.greet_player('Himansh')"
   ]
  },
  {
   "cell_type": "markdown",
   "id": "6d7a79b6",
   "metadata": {},
   "source": [
    "## Problem 3: Update Catchphrase\n",
    "\n"
   ]
  },
  {
   "cell_type": "code",
   "execution_count": 6,
   "id": "10ff2a15",
   "metadata": {},
   "outputs": [
    {
     "data": {
      "text/plain": [
       "\"Bones: Hey there, Samia! How's it going, ruff it up!\""
      ]
     },
     "execution_count": 6,
     "metadata": {},
     "output_type": "execute_result"
    }
   ],
   "source": [
    "bones.catchphrase = \"ruff it up\"\n",
    "bones.greet_player(\"Samia\")"
   ]
  },
  {
   "cell_type": "markdown",
   "id": "13899158",
   "metadata": {},
   "source": [
    "## Problem 4: Set Character"
   ]
  },
  {
   "cell_type": "code",
   "execution_count": 23,
   "id": "54866687",
   "metadata": {},
   "outputs": [],
   "source": [
    "class Villager:\n",
    "    def __init__(self, name, species, catchphrase):\n",
    "        self.name = name\n",
    "        self.species = species\n",
    "        self.catchphrase = catchphrase\n",
    "        self.furniture = []\n",
    "\n",
    "    def greet_player(self, player_name):\n",
    "        return f\"{self.name}: Hey there, {player_name}! How's it going, {self.catchphrase}!\"\n",
    "\n",
    "    def set_catchphrase(self, new_catchphrase):\n",
    "        if len(new_catchphrase) < 20:\n",
    "            for char in new_catchphrase:\n",
    "                if char.isalpha() or char.isspace():\n",
    "                    self.catchphrase = new_catchphrase\n",
    "            print(\"Catchphrase updated\")\n",
    "        else:\n",
    "            print(\"Invalid catchphrase\")"
   ]
  },
  {
   "cell_type": "code",
   "execution_count": 24,
   "id": "dda41914",
   "metadata": {},
   "outputs": [
    {
     "name": "stdout",
     "output_type": "stream",
     "text": [
      "Catchphrase updated\n",
      "sweet dreams\n",
      "Catchphrase updated\n",
      "sweet dreams\n"
     ]
    }
   ],
   "source": [
    "alice = Villager(\"Alice\", \"Koala\", \"guvnor\")\n",
    "\n",
    "alice.set_catchphrase(\"sweet dreams\")\n",
    "print(alice.catchphrase)\n",
    "alice.set_catchphrase(\"#?!\")\n",
    "print(alice.catchphrase)"
   ]
  },
  {
   "cell_type": "markdown",
   "id": "39cb3e73",
   "metadata": {},
   "source": [
    "## Problem 5: Add Furniture\n"
   ]
  },
  {
   "cell_type": "code",
   "execution_count": 3,
   "id": "28ba8e2c",
   "metadata": {},
   "outputs": [],
   "source": [
    "class Villager:\n",
    "    def __init__(self, name, species, catchphrase):\n",
    "        self.name = name\n",
    "        self.species = species\n",
    "        self.catchphrase = catchphrase\n",
    "        self.furniture = []\n",
    "\n",
    "    def greet_player(self, player_name):\n",
    "        return f\"{self.name}: Hey there, {player_name}! How's it going, {self.catchphrase}!\"\n",
    "\n",
    "    def set_catchphrase(self, new_catchphrase):\n",
    "        if len(new_catchphrase) < 20:\n",
    "            for char in new_catchphrase:\n",
    "                if char.isalpha() or char.isspace():\n",
    "                    self.catchphrase = new_catchphrase\n",
    "            print(\"Catchphrase updated\")\n",
    "        else:\n",
    "            print(\"Invalid catchphrase\")\n",
    "    \n",
    "    def add_item(self, item_name):\n",
    "        if item_name in set([\"acoustic guitar\", \"ironwood kitchenette\", \"rattan armchair\", \"kotatsu\", \"cacao tree\"]):\n",
    "            self.furniture.append(item_name)"
   ]
  },
  {
   "cell_type": "code",
   "execution_count": 4,
   "id": "313936b6",
   "metadata": {},
   "outputs": [
    {
     "name": "stdout",
     "output_type": "stream",
     "text": [
      "[]\n",
      "['acoustic guitar']\n",
      "['acoustic guitar', 'cacao tree']\n",
      "['acoustic guitar', 'cacao tree']\n"
     ]
    }
   ],
   "source": [
    "alice = Villager(\"Alice\", \"Koala\", \"guvnor\")\n",
    "print(alice.furniture)\n",
    "\n",
    "alice.add_item(\"acoustic guitar\")\n",
    "print(alice.furniture)\n",
    "\n",
    "alice.add_item(\"cacao tree\")\n",
    "print(alice.furniture)\n",
    "\n",
    "alice.add_item(\"nintendo switch\")\n",
    "print(alice.furniture)"
   ]
  },
  {
   "cell_type": "markdown",
   "id": "9220f804",
   "metadata": {},
   "source": [
    "## Problem 6: Print Inventory\n"
   ]
  },
  {
   "cell_type": "code",
   "execution_count": 11,
   "id": "5693c17f",
   "metadata": {},
   "outputs": [],
   "source": [
    "from collections import Counter\n",
    "class Villager:\n",
    "    def __init__(self, name, species, catchphrase):\n",
    "        self.name = name\n",
    "        self.species = species\n",
    "        self.catchphrase = catchphrase\n",
    "        self.furniture = []\n",
    "\n",
    "    def greet_player(self, player_name):\n",
    "        return f\"{self.name}: Hey there, {player_name}! How's it going, {self.catchphrase}!\"\n",
    "\n",
    "    def set_catchphrase(self, new_catchphrase):\n",
    "        if len(new_catchphrase) < 20:\n",
    "            for char in new_catchphrase:\n",
    "                if char.isalpha() or char.isspace():\n",
    "                    self.catchphrase = new_catchphrase\n",
    "            print(\"Catchphrase updated\")\n",
    "        else:\n",
    "            print(\"Invalid catchphrase\")\n",
    "\n",
    "    def add_item(self, item_name):\n",
    "        if item_name in set(\n",
    "            [\n",
    "                \"acoustic guitar\",\n",
    "                \"ironwood kitchenette\",\n",
    "                \"rattan armchair\",\n",
    "                \"kotatsu\",\n",
    "                \"cacao tree\",\n",
    "            ]\n",
    "        ):\n",
    "            self.furniture.append(item_name)\n",
    "\n",
    "    def print_inventory(self):\n",
    "        if not self.furniture:\n",
    "            print(\"Inventory empty\")\n",
    "        ret = []\n",
    "        counts = Counter(self.furniture)\n",
    "        for name, value in counts.items():\n",
    "            ret.append(str(name) + \" : \" + str(value))\n",
    "        print(', '.join(ret))"
   ]
  },
  {
   "cell_type": "code",
   "execution_count": 14,
   "id": "c8e9d5a2",
   "metadata": {},
   "outputs": [
    {
     "name": "stdout",
     "output_type": "stream",
     "text": [
      "Inventory empty\n",
      "\n",
      "acoustic guitar : 1, ironwood kitchenette : 1, kotatsu : 2\n"
     ]
    }
   ],
   "source": [
    "alice = Villager(\"Alice\", \"Koala\", \"guvnor\")\n",
    "alice.print_inventory()\n",
    "\n",
    "alice.furniture = [\"acoustic guitar\", \"ironwood kitchenette\", \"kotatsu\", \"kotatsu\"]\n",
    "alice.print_inventory()"
   ]
  },
  {
   "cell_type": "markdown",
   "id": "e70318da",
   "metadata": {},
   "source": [
    "## Problem 7: Group by Personality\n"
   ]
  },
  {
   "cell_type": "code",
   "execution_count": 21,
   "id": "6e52b632",
   "metadata": {},
   "outputs": [],
   "source": [
    "from collections import Counter\n",
    "\n",
    "\n",
    "class Villager:\n",
    "    def __init__(self, name, species, personality, catchphrase):\n",
    "        self.name = name\n",
    "        self.species = species\n",
    "        self.personality = personality\n",
    "        self.catchphrase = catchphrase\n",
    "        self.furniture = []\n",
    "\n",
    "    def greet_player(self, player_name):\n",
    "        return f\"{self.name}: Hey there, {player_name}! How's it going, {self.catchphrase}!\"\n",
    "\n",
    "    def set_catchphrase(self, new_catchphrase):\n",
    "        if len(new_catchphrase) < 20:\n",
    "            for char in new_catchphrase:\n",
    "                if char.isalpha() or char.isspace():\n",
    "                    self.catchphrase = new_catchphrase\n",
    "            print(\"Catchphrase updated\")\n",
    "        else:\n",
    "            print(\"Invalid catchphrase\")\n",
    "\n",
    "    def add_item(self, item_name):\n",
    "        if item_name in set(\n",
    "            [\n",
    "                \"acoustic guitar\",\n",
    "                \"ironwood kitchenette\",\n",
    "                \"rattan armchair\",\n",
    "                \"kotatsu\",\n",
    "                \"cacao tree\",\n",
    "            ]\n",
    "        ):\n",
    "            self.furniture.append(item_name)\n",
    "\n",
    "    def print_inventory(self):\n",
    "        if not self.furniture:\n",
    "            print(\"Inventory empty\")\n",
    "        ret = []\n",
    "        counts = Counter(self.furniture)\n",
    "        for name, value in counts.items():\n",
    "            ret.append(str(name) + \" : \" + str(value))\n",
    "        print(\", \".join(ret))\n",
    "\n",
    "\n",
    "def of_personality_type(townies, personality_type):\n",
    "    ret = []\n",
    "    \n",
    "    for char in townies:\n",
    "        if char.personality == personality_type:\n",
    "            ret.append(char.name)\n",
    "    return ret if ret else []"
   ]
  },
  {
   "cell_type": "code",
   "execution_count": 22,
   "id": "32b1330c",
   "metadata": {},
   "outputs": [
    {
     "name": "stdout",
     "output_type": "stream",
     "text": [
      "['Bob', 'Stitches']\n"
     ]
    }
   ],
   "source": [
    "isabelle = Villager(\"Isabelle\", \"Dog\", \"Normal\", \"what's up?\")\n",
    "bob = Villager(\"Bob\", \"Cat\", \"Lazy\", \"pthhhpth\")\n",
    "stitches = Villager(\"Stitches\", \"Cub\", \"Lazy\", \"stuffin'\")\n",
    "\n",
    "print(of_personality_type([isabelle, bob, stitches], \"Lazy\"))"
   ]
  },
  {
   "cell_type": "markdown",
   "id": "d8cd9ba3",
   "metadata": {},
   "source": [
    "## Problem 8: Telephone\n"
   ]
  },
  {
   "cell_type": "code",
   "execution_count": 36,
   "id": "167964d2",
   "metadata": {},
   "outputs": [],
   "source": [
    "from collections import Counter\n",
    "\n",
    "\n",
    "class Villager:\n",
    "    def __init__(self, name, species, personality, catchphrase, neighbor=None):\n",
    "        self.name = name\n",
    "        self.species = species\n",
    "        self.personality = personality\n",
    "        self.catchphrase = catchphrase\n",
    "        self.furniture = []\n",
    "        self.neighbor = neighbor\n",
    "\n",
    "    def greet_player(self, player_name):\n",
    "        return f\"{self.name}: Hey there, {player_name}! How's it going, {self.catchphrase}!\"\n",
    "\n",
    "    def set_catchphrase(self, new_catchphrase):\n",
    "        if len(new_catchphrase) < 20:\n",
    "            for char in new_catchphrase:\n",
    "                if char.isalpha() or char.isspace():\n",
    "                    self.catchphrase = new_catchphrase\n",
    "            print(\"Catchphrase updated\")\n",
    "        else:\n",
    "            print(\"Invalid catchphrase\")\n",
    "\n",
    "    def add_item(self, item_name):\n",
    "        if item_name in set(\n",
    "            [\n",
    "                \"acoustic guitar\",\n",
    "                \"ironwood kitchenette\",\n",
    "                \"rattan armchair\",\n",
    "                \"kotatsu\",\n",
    "                \"cacao tree\",\n",
    "            ]\n",
    "        ):\n",
    "            self.furniture.append(item_name)\n",
    "\n",
    "    def print_inventory(self):\n",
    "        if not self.furniture:\n",
    "            print(\"Inventory empty\")\n",
    "        ret = []\n",
    "        counts = Counter(self.furniture)\n",
    "        for name, value in counts.items():\n",
    "            ret.append(str(name) + \" : \" + str(value))\n",
    "        print(\", \".join(ret))\n",
    "\n",
    "\n",
    "def of_personality_type(townies, personality_type):\n",
    "    ret = []\n",
    "\n",
    "    for char in townies:\n",
    "        if char.personality == personality_type:\n",
    "            ret.append(char.name)\n",
    "    return ret if ret else []\n",
    "\n",
    "\n",
    "def message_received(start_villager, target_villager):\n",
    "    head = start_villager\n",
    "    while head:\n",
    "        if head == target_villager:\n",
    "            return True\n",
    "        else:\n",
    "            head = head.neighbor\n",
    "    return False            "
   ]
  },
  {
   "cell_type": "code",
   "execution_count": 37,
   "id": "7b5d8f24",
   "metadata": {},
   "outputs": [
    {
     "name": "stdout",
     "output_type": "stream",
     "text": [
      "True\n",
      "False\n"
     ]
    }
   ],
   "source": [
    "isabelle = Villager(\"Isabelle\", \"Dog\", \"Normal\", \"what's up?\")\n",
    "tom_nook = Villager(\"Tom Nook\", \"Raccoon\", \"Cranky\", \"yes, yes\")\n",
    "kk_slider = Villager(\"K.K. Slider\", \"Dog\", \"Lazy\", \"dig it\")\n",
    "isabelle.neighbor = tom_nook\n",
    "tom_nook.neighbor = kk_slider\n",
    "\n",
    "print(message_received(isabelle, kk_slider))\n",
    "print(message_received(kk_slider, isabelle))"
   ]
  },
  {
   "cell_type": "markdown",
   "id": "2b9ef325",
   "metadata": {},
   "source": [
    "## Problem 9: Nook's Cranny\n"
   ]
  },
  {
   "cell_type": "code",
   "execution_count": 39,
   "id": "e017d7f1",
   "metadata": {},
   "outputs": [],
   "source": [
    "class Node:\n",
    "    def __init__(self, value, next=None):\n",
    "        self.value = value\n",
    "        self.next = next"
   ]
  },
  {
   "cell_type": "code",
   "execution_count": 40,
   "id": "c2bc0a58",
   "metadata": {},
   "outputs": [
    {
     "name": "stdout",
     "output_type": "stream",
     "text": [
      "Tom Nook\n",
      "Tommy\n",
      "Tommy\n",
      "None\n"
     ]
    }
   ],
   "source": [
    "tom_nook = Node(\"Tom Nook\")\n",
    "tommy = Node(\"Tommy\") \n",
    "tom_nook.next = tommy \n",
    "print(tom_nook.value) \n",
    "print(tom_nook.next.value) \n",
    "print(tommy.value) \n",
    "print(tommy.next) "
   ]
  },
  {
   "cell_type": "markdown",
   "id": "7659b2bc",
   "metadata": {},
   "source": [
    "## Problem 10: Timmy and Tommy\n"
   ]
  },
  {
   "cell_type": "code",
   "execution_count": 41,
   "id": "8086223a",
   "metadata": {},
   "outputs": [
    {
     "name": "stdout",
     "output_type": "stream",
     "text": [
      "Tom Nook\n",
      "Timmy\n",
      "Timmy\n",
      "Tommy\n",
      "Tommy\n",
      "None\n"
     ]
    }
   ],
   "source": [
    "timmy = Node(\"Timmy\")\n",
    "tom_nook.next = timmy\n",
    "timmy.next = tommy\n",
    "\n",
    "print(tom_nook.value)\n",
    "print(tom_nook.next.value)\n",
    "print(timmy.value)\n",
    "print(timmy.next.value)\n",
    "print(tommy.value)\n",
    "print(tommy.next)"
   ]
  },
  {
   "cell_type": "markdown",
   "id": "e6e82e14",
   "metadata": {},
   "source": [
    "## Problem 11: Saharah\n"
   ]
  },
  {
   "cell_type": "code",
   "execution_count": null,
   "id": "4b44c653",
   "metadata": {},
   "outputs": [],
   "source": [
    "class Node:\n",
    "    def __init__(self, value, next=None):\n",
    "        self.value = value\n",
    "        self.next = next"
   ]
  },
  {
   "cell_type": "code",
   "execution_count": 42,
   "id": "3590e983",
   "metadata": {},
   "outputs": [
    {
     "name": "stdout",
     "output_type": "stream",
     "text": [
      "None\n",
      "Timmy\n",
      "Tommy\n",
      "Tommy\n",
      "Sahara\n",
      "Sahara\n",
      "None\n"
     ]
    }
   ],
   "source": [
    "saharah = Node('Sahara')\n",
    "timmy.next = tommy\n",
    "tommy.next = saharah\n",
    "tom_nook.next = None\n",
    "\n",
    "print(tom_nook.next)\n",
    "print(timmy.value)\n",
    "print(timmy.next.value)\n",
    "print(tommy.value)\n",
    "print(tommy.next.value)\n",
    "print(saharah.value)\n",
    "print(saharah.next)"
   ]
  },
  {
   "cell_type": "markdown",
   "id": "3e4bc49f",
   "metadata": {},
   "source": [
    "## Problem 12: Print List\n"
   ]
  },
  {
   "cell_type": "code",
   "execution_count": 44,
   "id": "18ca7136",
   "metadata": {},
   "outputs": [],
   "source": [
    "def print_list(head):\n",
    "    ret = []\n",
    "    while head:\n",
    "        ret.append(head.value)\n",
    "        head = head.next\n",
    "    return ' -> '.join(ret)"
   ]
  },
  {
   "cell_type": "code",
   "execution_count": 45,
   "id": "24ab301c",
   "metadata": {},
   "outputs": [
    {
     "name": "stdout",
     "output_type": "stream",
     "text": [
      "Isabelle -> Saharah -> C.J.\n"
     ]
    }
   ],
   "source": [
    "isabelle = Node(\"Isabelle\")\n",
    "saharah = Node(\"Saharah\")\n",
    "cj = Node(\"C.J.\")\n",
    "\n",
    "isabelle.next = saharah\n",
    "saharah.next = cj\n",
    "\n",
    "print(print_list(isabelle))"
   ]
  },
  {
   "cell_type": "markdown",
   "id": "e2fc5de4",
   "metadata": {},
   "source": [
    "# THE END"
   ]
  }
 ],
 "metadata": {
  "kernelspec": {
   "display_name": ".venv",
   "language": "python",
   "name": "python3"
  },
  "language_info": {
   "codemirror_mode": {
    "name": "ipython",
    "version": 3
   },
   "file_extension": ".py",
   "mimetype": "text/x-python",
   "name": "python",
   "nbconvert_exporter": "python",
   "pygments_lexer": "ipython3",
   "version": "3.12.11"
  }
 },
 "nbformat": 4,
 "nbformat_minor": 5
}
