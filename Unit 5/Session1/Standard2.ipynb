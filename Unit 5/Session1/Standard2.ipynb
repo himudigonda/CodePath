{
 "cells": [
  {
   "cell_type": "markdown",
   "id": "ee55915e",
   "metadata": {},
   "source": [
    "## Problem 1: Player Class\n"
   ]
  },
  {
   "cell_type": "code",
   "execution_count": 1,
   "id": "21df194c",
   "metadata": {},
   "outputs": [],
   "source": [
    "class Player():\n",
    "    def __init__(self, character, kart):\n",
    "        self.character = character\n",
    "        self.kart = kart\n",
    "        self.items = []\n"
   ]
  },
  {
   "cell_type": "code",
   "execution_count": 18,
   "id": "91dd8e80",
   "metadata": {},
   "outputs": [
    {
     "name": "stdout",
     "output_type": "stream",
     "text": [
      "Yoshi\n",
      "Super Blooper\n",
      "[]\n"
     ]
    }
   ],
   "source": [
    "player_one = Player(character=\"Yoshi\", kart=\"Super Blooper\")\n",
    "print(player_one.character)\n",
    "print(player_one.kart)\n",
    "print(player_one.items)"
   ]
  },
  {
   "cell_type": "markdown",
   "id": "ce8524b2",
   "metadata": {},
   "source": [
    "## Problem 2: Get Player\n"
   ]
  },
  {
   "cell_type": "code",
   "execution_count": 14,
   "id": "9c1cc330",
   "metadata": {},
   "outputs": [],
   "source": [
    "class Player:\n",
    "    def __init__(self, character, kart):\n",
    "        self.character = character\n",
    "        self.kart = kart\n",
    "        self.items = []\n",
    "\n",
    "    def get_player(self):\n",
    "        return f\"{self.character} driving the {self.kart}\""
   ]
  },
  {
   "cell_type": "code",
   "execution_count": 15,
   "id": "8cd26d17",
   "metadata": {},
   "outputs": [
    {
     "name": "stdout",
     "output_type": "stream",
     "text": [
      "Bowser\n",
      "Pirahna Prowler\n",
      "[]\n",
      "Bowser driving the Pirahna Prowler\n"
     ]
    }
   ],
   "source": [
    "player_two = Player(character=\"Bowser\", kart=\"Pirahna Prowler\")\n",
    "print(player_two.character)\n",
    "print(player_two.kart)\n",
    "print(player_two.items)\n",
    "print(player_two.get_player())"
   ]
  },
  {
   "cell_type": "markdown",
   "id": "51294a48",
   "metadata": {},
   "source": [
    "## Problem 3: Update Kart\n"
   ]
  },
  {
   "cell_type": "code",
   "execution_count": 22,
   "id": "adcb15cb",
   "metadata": {},
   "outputs": [],
   "source": [
    "class Player:\n",
    "    def __init__(self, character, kart):\n",
    "        self.character = character\n",
    "        self.kart = kart\n",
    "        self.items = []\n",
    "\n",
    "    def get_player(self):\n",
    "        return f\"{self.character} driving the {self.kart}\"\n",
    "\n",
    "\n",
    "player_one = Player(character=\"Yoshi\", kart=\"Super Blooper\")\n",
    "player_one.kart = \"Dolphin Dasher\""
   ]
  },
  {
   "cell_type": "code",
   "execution_count": 23,
   "id": "e7873ce9",
   "metadata": {},
   "outputs": [
    {
     "name": "stdout",
     "output_type": "stream",
     "text": [
      "Yoshi driving the Dolphin Dasher\n"
     ]
    }
   ],
   "source": [
    "print(player_one.get_player())"
   ]
  },
  {
   "cell_type": "markdown",
   "id": "ebb669b3",
   "metadata": {},
   "source": [
    "## Problem 4: Set Character\n"
   ]
  },
  {
   "cell_type": "code",
   "execution_count": 26,
   "id": "c6ac1b2b",
   "metadata": {},
   "outputs": [],
   "source": [
    "class Player:\n",
    "    def __init__(self, character, kart):\n",
    "        self.character = character\n",
    "        self.kart = kart\n",
    "        self.items = []\n",
    "\n",
    "    def set_character(self, name):\n",
    "        if name in [\"Mario\", \"Luigi\", \"Peach\", \"Yoshi\", \"Toad\", \"Wario\", \"Donkey Kong\", \"Bowser\"]:\n",
    "            self.character = name\n",
    "            print(\"Character updated\")\n",
    "        else:\n",
    "            print(\"Invalid character\")"
   ]
  },
  {
   "cell_type": "code",
   "execution_count": 27,
   "id": "26ad1e13",
   "metadata": {},
   "outputs": [
    {
     "name": "stdout",
     "output_type": "stream",
     "text": [
      "Character updated\n",
      "Peach\n",
      "Invalid character\n",
      "Peach\n"
     ]
    }
   ],
   "source": [
    "player_three = Player(\"Donkey Kong\", \"Standard Kart\")\n",
    "\n",
    "player_three.set_character(\"Peach\")\n",
    "print(player_three.character)\n",
    "player_three.set_character(\"Baby Peach\")\n",
    "print(player_three.character)"
   ]
  },
  {
   "cell_type": "markdown",
   "id": "5b11b4fc",
   "metadata": {},
   "source": [
    "## Problem 5: Add Special Item\n"
   ]
  },
  {
   "cell_type": "code",
   "execution_count": 28,
   "id": "1c76d13f",
   "metadata": {},
   "outputs": [],
   "source": [
    "class Player:\n",
    "    def __init__(self, character, kart):\n",
    "        self.character = character\n",
    "        self.kart = kart\n",
    "        self.items = []\n",
    "\n",
    "    def add_item(self, item_name):\n",
    "        if item_name in [\"banana\", \"green shell\", \"red shell\", \"bob-omb\", \"super star\", \"lightning\", \"bullet bill\"]:\n",
    "            self.items.append(item_name)"
   ]
  },
  {
   "cell_type": "code",
   "execution_count": 29,
   "id": "500ac2f3",
   "metadata": {},
   "outputs": [
    {
     "name": "stdout",
     "output_type": "stream",
     "text": [
      "[]\n",
      "['red shell']\n",
      "['red shell', 'super star']\n",
      "['red shell', 'super star']\n"
     ]
    }
   ],
   "source": [
    "player_one = Player(\"Yoshi\", \"Dolphin Dasher\")\n",
    "\n",
    "print(player_one.items)\n",
    "\n",
    "player_one.add_item(\"red shell\")\n",
    "print(player_one.items)\n",
    "\n",
    "player_one.add_item(\"super star\")\n",
    "print(player_one.items)\n",
    "\n",
    "player_one.add_item(\"super smash\")\n",
    "print(player_one.items)"
   ]
  },
  {
   "cell_type": "markdown",
   "id": "ab58d89a",
   "metadata": {},
   "source": [
    "## Problem 6: Print Inventory\n"
   ]
  },
  {
   "cell_type": "code",
   "execution_count": 79,
   "id": "5d175a23",
   "metadata": {},
   "outputs": [],
   "source": [
    "from collections import Counter\n",
    "class Player:\n",
    "    def __init__(self, character, kart):\n",
    "        self.character = character\n",
    "        self.kart = kart\n",
    "        self.items = []\n",
    "\n",
    "    def add_item(self, item_name):\n",
    "        if item_name in [\n",
    "            \"banana\",\n",
    "            \"green shell\",\n",
    "            \"red shell\",\n",
    "            \"bob-omb\",\n",
    "            \"super star\",\n",
    "            \"lightning\",\n",
    "            \"bullet bill\",\n",
    "        ]:\n",
    "            self.items.append(item_name)\n",
    "\n",
    "    def print_inventory(self):\n",
    "        if self.items:\n",
    "            print('Inventory:', end='')\n",
    "            for i, count in Counter(self.items).items():\n",
    "                print(' ', i, \":\", count, end='')\n",
    "            print()\n",
    "            return\n",
    "        print(\"Inventory empty\")\n",
    "\n",
    "        # print(\"Inventory\", Counter(self.items)) if self.items else print(\"Inventory empty\")"
   ]
  },
  {
   "cell_type": "code",
   "execution_count": 80,
   "id": "26f416aa",
   "metadata": {},
   "outputs": [
    {
     "name": "stdout",
     "output_type": "stream",
     "text": [
      "Inventory:  banana : 2  bob-omb : 1  super star : 1\n",
      "Inventory empty\n"
     ]
    }
   ],
   "source": [
    "player_one = Player(\"Yoshi\", \"Super Blooper\")\n",
    "player_one.items = [\"banana\", \"bob-omb\", \"banana\", \"super star\"]\n",
    "player_two = Player(\"Peach\", \"Dolphin Dasher\")\n",
    "\n",
    "player_one.print_inventory()\n",
    "player_two.print_inventory()"
   ]
  },
  {
   "cell_type": "markdown",
   "id": "6491285c",
   "metadata": {},
   "source": [
    "## Problem 7: Race Results\n"
   ]
  },
  {
   "cell_type": "code",
   "execution_count": 98,
   "id": "4bb0e154",
   "metadata": {},
   "outputs": [],
   "source": [
    "from collections import Counter\n",
    "\n",
    "\n",
    "class Player:\n",
    "    def __init__(self, character, kart):\n",
    "        self.character = character\n",
    "        self.kart = kart\n",
    "        self.items = []\n",
    "\n",
    "    def add_item(self, item_name):\n",
    "        if item_name in [\n",
    "            \"banana\",\n",
    "            \"green shell\",\n",
    "            \"red shell\",\n",
    "            \"bob-omb\",\n",
    "            \"super star\",\n",
    "            \"lightning\",\n",
    "            \"bullet bill\",\n",
    "        ]:\n",
    "            self.items.append(item_name)\n",
    "\n",
    "    def print_inventory(self):\n",
    "        if self.items:\n",
    "            print(\"Inventory:\", end=\"\")\n",
    "            for i, count in Counter(self.items).items():\n",
    "                print(\" \", i, \":\", count, end=\"\")\n",
    "            print()\n",
    "            return\n",
    "        print(\"Inventory empty\")\n",
    "\n",
    "def print_results(race_results):\n",
    "    for idx, val in enumerate(race_results):\n",
    "        print(str(idx + 1) + '. ' + val.character)"
   ]
  },
  {
   "cell_type": "code",
   "execution_count": 99,
   "id": "66200b37",
   "metadata": {},
   "outputs": [
    {
     "name": "stdout",
     "output_type": "stream",
     "text": [
      "1. Peach\n",
      "2. Mario\n",
      "3. Luigi\n"
     ]
    }
   ],
   "source": [
    "peach = Player(\"Peach\", \"Daytripper\")\n",
    "mario = Player(\"Mario\", \"Standard Kart M\")\n",
    "luigi = Player(\"Luigi\", \"Super Blooper\")\n",
    "race_one = [peach, mario, luigi]\n",
    "\n",
    "print_results(race_one)"
   ]
  },
  {
   "cell_type": "markdown",
   "id": "58bf630a",
   "metadata": {},
   "source": [
    "## Problem 8: Get Rank\n"
   ]
  },
  {
   "cell_type": "code",
   "execution_count": 100,
   "id": "46cfa532",
   "metadata": {},
   "outputs": [],
   "source": [
    "class Player:\n",
    "    def __init__(self, character, kart, opponent=None):\n",
    "        self.character = character\n",
    "        self.kart = kart\n",
    "        self.items = []\n",
    "        self.ahead = opponent\n",
    "\n",
    "\n",
    "def get_rank(my_player):\n",
    "    if not my_player.ahead:\n",
    "        return 1\n",
    "    count = 1\n",
    "    while my_player.ahead:\n",
    "        my_player = my_player.ahead\n",
    "        count += 1\n",
    "    return count"
   ]
  },
  {
   "cell_type": "code",
   "execution_count": 101,
   "id": "e6b05a1c",
   "metadata": {},
   "outputs": [
    {
     "name": "stdout",
     "output_type": "stream",
     "text": [
      "3\n",
      "1\n",
      "2\n"
     ]
    }
   ],
   "source": [
    "peach = Player(\"Peach\", \"Daytripper\")\n",
    "mario = Player(\"Mario\", \"Standard Kart M\", peach)\n",
    "luigi = Player(\"Luigi\", \"Super Blooper\", mario)\n",
    "\n",
    "print(get_rank(luigi))\n",
    "print(get_rank(peach))\n",
    "print(get_rank(mario))"
   ]
  },
  {
   "cell_type": "markdown",
   "id": "6c2691bb",
   "metadata": {},
   "source": [
    "## Problem 9: Tom and Jerry\n"
   ]
  },
  {
   "cell_type": "code",
   "execution_count": 104,
   "id": "76e53c2a",
   "metadata": {},
   "outputs": [],
   "source": [
    "class Node:\n",
    "    def __init__(self, value, next=None):\n",
    "        self.value = value\n",
    "        self.next = next"
   ]
  },
  {
   "cell_type": "code",
   "execution_count": 109,
   "id": "b6699b74",
   "metadata": {},
   "outputs": [
    {
     "name": "stdout",
     "output_type": "stream",
     "text": [
      "Tom\n",
      "<__main__.Node object at 0x10d8b56d0>\n",
      "Jerry\n",
      "Jerry\n",
      "None\n"
     ]
    }
   ],
   "source": [
    "mouse = Node(\"Jerry\", None)\n",
    "cat = Node('Tom', mouse)\n",
    "print(cat.value)\n",
    "print(cat.next)\n",
    "print(cat.next.value)\n",
    "print(mouse.value)\n",
    "print(mouse.next)"
   ]
  },
  {
   "cell_type": "markdown",
   "id": "6be272b0",
   "metadata": {},
   "source": [
    "## Problem 10: Chase List\n"
   ]
  },
  {
   "cell_type": "code",
   "execution_count": 110,
   "id": "e03e939e",
   "metadata": {},
   "outputs": [],
   "source": [
    "dog = Node('Spike', cat)"
   ]
  },
  {
   "cell_type": "code",
   "execution_count": 112,
   "id": "21749a0b",
   "metadata": {},
   "outputs": [
    {
     "name": "stdout",
     "output_type": "stream",
     "text": [
      "Spike\n",
      "<__main__.Node object at 0x10d8b4d10>\n",
      "Tom\n",
      "<__main__.Node object at 0x10d8b56d0>\n",
      "Jerry\n",
      "None\n"
     ]
    }
   ],
   "source": [
    "print(dog.value)\n",
    "print(dog.next)\n",
    "print(dog.next.value)\n",
    "print(cat.next)\n",
    "print(cat.next.value)\n",
    "print(mouse.next)"
   ]
  },
  {
   "cell_type": "markdown",
   "id": "3dbeb497",
   "metadata": {},
   "source": [
    "## Problem 11: Update Chase\n"
   ]
  },
  {
   "cell_type": "code",
   "execution_count": 113,
   "id": "7232315b",
   "metadata": {},
   "outputs": [],
   "source": [
    "cheese = Node('Gouda')\n",
    "mouse = Node('Jerry', cheese)\n",
    "cat = Node('Tom', mouse)"
   ]
  },
  {
   "cell_type": "markdown",
   "id": "54956090",
   "metadata": {},
   "source": [
    "## Problem 12: Chase String\n"
   ]
  },
  {
   "cell_type": "code",
   "execution_count": 175,
   "id": "2a49291d",
   "metadata": {},
   "outputs": [],
   "source": [
    "def chase_list(dog):\n",
    "    # if not dog:\n",
    "    #     return \"\"\n",
    "    # values = []\n",
    "    # current = dog\n",
    "    # while current:\n",
    "    #     values.append(current.value)\n",
    "    #     current = current.next\n",
    "    # return \" chases \".join(values)\n",
    "\n",
    "    if not dog: return \"\"\n",
    "    if not dog.next: return dog.value\n",
    "    return dog.value + ' chases ' + chase_list(dog.next)\n"
   ]
  },
  {
   "cell_type": "code",
   "execution_count": 176,
   "id": "602b5e00",
   "metadata": {},
   "outputs": [
    {
     "name": "stdout",
     "output_type": "stream",
     "text": [
      "Spike chases Tom chases Jerry chases Gouda\n"
     ]
    }
   ],
   "source": [
    "dog = Node(\"Spike\")\n",
    "cat = Node(\"Tom\")\n",
    "mouse = Node(\"Jerry\")\n",
    "cheese = Node(\"Gouda\")\n",
    "\n",
    "dog.next = cat\n",
    "cat.next = mouse\n",
    "mouse.next = cheese\n",
    "\n",
    "print(chase_list(dog))"
   ]
  },
  {
   "cell_type": "markdown",
   "id": "3da34f58",
   "metadata": {},
   "source": [
    "# THE END"
   ]
  }
 ],
 "metadata": {
  "kernelspec": {
   "display_name": ".venv",
   "language": "python",
   "name": "python3"
  },
  "language_info": {
   "codemirror_mode": {
    "name": "ipython",
    "version": 3
   },
   "file_extension": ".py",
   "mimetype": "text/x-python",
   "name": "python",
   "nbconvert_exporter": "python",
   "pygments_lexer": "ipython3",
   "version": "3.12.11"
  }
 },
 "nbformat": 4,
 "nbformat_minor": 5
}
