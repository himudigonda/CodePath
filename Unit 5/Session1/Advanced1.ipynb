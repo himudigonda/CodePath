{
 "cells": [
  {
   "cell_type": "markdown",
   "id": "dab18cd6",
   "metadata": {},
   "source": [
    "## Problem 1: Villager Class"
   ]
  },
  {
   "cell_type": "code",
   "execution_count": 1,
   "id": "2424e366",
   "metadata": {},
   "outputs": [],
   "source": [
    "class Villager:\n",
    "    def __init__(self, name, species, catchphrase):\n",
    "        self.name = name\n",
    "        self.species = species\n",
    "        self.catchphrase = catchphrase\n",
    "        self.furniture = []"
   ]
  },
  {
   "cell_type": "code",
   "execution_count": 2,
   "id": "b5ec627b",
   "metadata": {},
   "outputs": [
    {
     "name": "stdout",
     "output_type": "stream",
     "text": [
      "Apollo\n",
      "Eagle\n",
      "pah\n",
      "[]\n"
     ]
    }
   ],
   "source": [
    "apollo = Villager(\"Apollo\", \"Eagle\", \"pah\")\n",
    "print(apollo.name)\n",
    "print(apollo.species)\n",
    "print(apollo.catchphrase)\n",
    "print(apollo.furniture)"
   ]
  },
  {
   "cell_type": "markdown",
   "id": "15daea6a",
   "metadata": {},
   "source": [
    "## Problem 2: Add Furniture\n"
   ]
  },
  {
   "cell_type": "code",
   "execution_count": 15,
   "id": "a68c2a78",
   "metadata": {},
   "outputs": [],
   "source": [
    "class Villager:\n",
    "\n",
    "    def __init__(self, name, species, catchphrase):\n",
    "        self.name = name\n",
    "        self.species = species\n",
    "        self.catchphrase = catchphrase\n",
    "        self.furniture = []\n",
    "        self.sett = set([\"acoustic guitar\", \"ironwood kitchenette\", \"rattan armchair\", \"kotatsu\", \"cacao tree\"])\n",
    "        self.furniture = []\n",
    "\n",
    "    def add_item(self, item_name):\n",
    "        if item_name in self.sett:\n",
    "            self.furniture.append(item_name)"
   ]
  },
  {
   "cell_type": "code",
   "execution_count": 16,
   "id": "7d5d21b9",
   "metadata": {},
   "outputs": [
    {
     "name": "stdout",
     "output_type": "stream",
     "text": [
      "[]\n",
      "['acoustic guitar']\n",
      "['acoustic guitar', 'cacao tree']\n",
      "['acoustic guitar', 'cacao tree']\n"
     ]
    }
   ],
   "source": [
    "alice = Villager(\"Alice\", \"Koala\", \"guvnor\")\n",
    "print(alice.furniture)\n",
    "\n",
    "alice.add_item(\"acoustic guitar\")\n",
    "print(alice.furniture)\n",
    "\n",
    "alice.add_item(\"cacao tree\")\n",
    "print(alice.furniture)\n",
    "\n",
    "alice.add_item(\"nintendo switch\")\n",
    "print(alice.furniture)"
   ]
  },
  {
   "cell_type": "markdown",
   "id": "3502e5e4",
   "metadata": {},
   "source": [
    "## Problem 3: Group by Personality"
   ]
  },
  {
   "cell_type": "code",
   "execution_count": 17,
   "id": "de277e5a",
   "metadata": {},
   "outputs": [],
   "source": [
    "class Villager:\n",
    "    def __init__(self, name, species, personality, catchphrase):\n",
    "        self.name = name\n",
    "        self.species = species\n",
    "        self.personality = personality\n",
    "        self.catchphrase = catchphrase\n",
    "        self.furniture = []\n",
    "\n",
    "    def add_item(self, item_name):\n",
    "        if item_name in self.sett:\n",
    "            self.furniture.append(item_name)\n",
    "\n",
    "def of_personality_type(townies, personality_type):\n",
    "    result = []\n",
    "    for villager in townies:\n",
    "        if villager.personality == personality_type:\n",
    "            result.append(villager.name)\n",
    "    return result\n"
   ]
  },
  {
   "cell_type": "code",
   "execution_count": 18,
   "id": "e2bc352f",
   "metadata": {},
   "outputs": [
    {
     "name": "stdout",
     "output_type": "stream",
     "text": [
      "['Bob', 'Stitches']\n",
      "[]\n"
     ]
    }
   ],
   "source": [
    "isabelle = Villager(\"Isabelle\", \"Dog\", \"Normal\", \"what's up?\")\n",
    "bob = Villager(\"Bob\", \"Cat\", \"Lazy\", \"pthhhpth\")\n",
    "stitches = Villager(\"Stitches\", \"Cub\", \"Lazy\", \"stuffin'\")\n",
    "\n",
    "print(of_personality_type([isabelle, bob, stitches], \"Lazy\"))\n",
    "print(of_personality_type([isabelle, bob, stitches], \"Cranky\"))"
   ]
  },
  {
   "cell_type": "markdown",
   "id": "4a240919",
   "metadata": {},
   "source": [
    "## Problem 4: Telephone\n"
   ]
  },
  {
   "cell_type": "code",
   "execution_count": 27,
   "id": "12b3aed5",
   "metadata": {},
   "outputs": [],
   "source": [
    "class Villager:\n",
    "    def __init__(self, name, species, personality, catchphrase, neighbor=None):\n",
    "        self.name = name\n",
    "        self.species = species\n",
    "        self.personality = personality\n",
    "        self.catchphrase = catchphrase\n",
    "        self.furniture = []\n",
    "        self.neighbor = neighbor\n",
    "\n",
    "\n",
    "    def add_item(self, item_name):\n",
    "        if item_name in self.sett:\n",
    "            self.furniture.append(item_name)\n",
    "\n",
    "\n",
    "def of_personality_type(townies, personality_type):\n",
    "    result = []\n",
    "    for villager in townies:\n",
    "        if villager.personality == personality_type:\n",
    "            result.append(villager.name)\n",
    "    return result\n",
    "\n",
    "def message_received(start_villager, target_villager):\n",
    "    curr = start_villager\n",
    "    while curr:\n",
    "        if curr.neighbor == target_villager:\n",
    "            return True\n",
    "        curr = curr.neighbor\n",
    "    return False"
   ]
  },
  {
   "cell_type": "code",
   "execution_count": 28,
   "id": "ce497a97",
   "metadata": {},
   "outputs": [
    {
     "name": "stdout",
     "output_type": "stream",
     "text": [
      "True\n",
      "False\n"
     ]
    }
   ],
   "source": [
    "isabelle = Villager(\"Isabelle\", \"Dog\", \"Normal\", \"what's up?\")\n",
    "tom_nook = Villager(\"Tom Nook\", \"Raccoon\", \"Cranky\", \"yes, yes\")\n",
    "kk_slider = Villager(\"K.K. Slider\", \"Dog\", \"Lazy\", \"dig it\")\n",
    "isabelle.neighbor = tom_nook\n",
    "tom_nook.neighbor = kk_slider\n",
    "\n",
    "print(message_received(isabelle, kk_slider))\n",
    "print(message_received(kk_slider, isabelle))"
   ]
  },
  {
   "cell_type": "markdown",
   "id": "bd8df2f8",
   "metadata": {},
   "source": [
    "## Problem 5: Linked Up"
   ]
  },
  {
   "cell_type": "code",
   "execution_count": null,
   "id": "18522065",
   "metadata": {},
   "outputs": [],
   "source": [
    "class Node:\n",
    "    def __init__(self, value, next=None):\n",
    "        self.value = value\n",
    "        self.next = next\n",
    "\n",
    "\n",
    "# For testing\n",
    "def print_linked_list(head):\n",
    "    current = head\n",
    "    while current:\n",
    "        print(current.value, end=\" -> \" if current.next else \"\\n\")\n",
    "        current = current.next\n"
   ]
  },
  {
   "cell_type": "code",
   "execution_count": 34,
   "id": "de432fec",
   "metadata": {},
   "outputs": [
    {
     "name": "stdout",
     "output_type": "stream",
     "text": [
      "K.K. Slider -> Harriet -> Saharah -> Isabelle\n"
     ]
    }
   ],
   "source": [
    "kk_slider = Node(\"K.K. Slider\")\n",
    "harriet = Node(\"Harriet\")\n",
    "saharah = Node(\"Saharah\")\n",
    "isabelle = Node(\"Isabelle\")\n",
    "\n",
    "kk_slider.next = harriet\n",
    "harriet.next = saharah\n",
    "saharah.next = isabelle\n",
    "\n",
    "print_linked_list(kk_slider)"
   ]
  },
  {
   "cell_type": "markdown",
   "id": "76b0e686",
   "metadata": {},
   "source": [
    "## Problem 6: Got One!"
   ]
  },
  {
   "cell_type": "code",
   "execution_count": 55,
   "id": "e7b1c2e3",
   "metadata": {},
   "outputs": [],
   "source": [
    "class Node:\n",
    "    def __init__(self, fish_name, next=None):\n",
    "        self.fish_name = fish_name\n",
    "        self.next = next\n",
    "\n",
    "\n",
    "# For testing\n",
    "def print_linked_list(head):\n",
    "    current = head\n",
    "    while current:\n",
    "        print(current.fish_name, end=\" -> \" if current.next else \"\\n\")\n",
    "        current = current.next\n",
    "\n",
    "\n",
    "def catch_fish(head):\n",
    "    temp = head\n",
    "    if temp is None:\n",
    "        print(\"Aw! Better luck next time!\")\n",
    "        return None\n",
    "    print(f\"I caught a {temp.fish_name}\")\n",
    "    head = head.next\n",
    "    del temp\n",
    "    return head"
   ]
  },
  {
   "cell_type": "code",
   "execution_count": 56,
   "id": "fee9efd2",
   "metadata": {},
   "outputs": [
    {
     "name": "stdout",
     "output_type": "stream",
     "text": [
      "Carp -> Dace -> Cherry Salmon\n",
      "I caught a Carp\n",
      "Dace -> Cherry Salmon\n",
      "Aw! Better luck next time!\n",
      "None\n"
     ]
    }
   ],
   "source": [
    "fish_list = Node(\"Carp\", Node(\"Dace\", Node(\"Cherry Salmon\")))\n",
    "empty_list = None\n",
    "\n",
    "print_linked_list(fish_list)\n",
    "print_linked_list(catch_fish(fish_list))\n",
    "print(catch_fish(empty_list))"
   ]
  },
  {
   "cell_type": "markdown",
   "id": "0a842dcd",
   "metadata": {},
   "source": [
    "## Problem 7: Fishing Probability\n"
   ]
  },
  {
   "cell_type": "code",
   "execution_count": 88,
   "id": "08361555",
   "metadata": {},
   "outputs": [],
   "source": [
    "from collections import defaultdict\n",
    "class Node:\n",
    "    def __init__(self, fish_name, next=None):\n",
    "        self.fish_name = fish_name\n",
    "        self.next = next\n",
    "\n",
    "\n",
    "# For testing\n",
    "def print_linked_list(head):\n",
    "    current = head\n",
    "    while current:\n",
    "        print(current.fish_name, end=\" -> \" if current.next else \"\\n\")\n",
    "        current = current.next\n",
    "\n",
    "\n",
    "def fish_chances(head, fish_name):\n",
    "    counter = defaultdict()\n",
    "    temp = head\n",
    "    while temp:\n",
    "        counter[temp.fish_name] = 1 + counter.get(temp.fish_name, 0)\n",
    "        temp = temp.next\n",
    "\n",
    "    return round(counter[fish_name]/sum(counter.values()), 2) if fish_name in counter.keys() else f\"{0:.2f}\""
   ]
  },
  {
   "cell_type": "code",
   "execution_count": 89,
   "id": "0346890e",
   "metadata": {},
   "outputs": [
    {
     "name": "stdout",
     "output_type": "stream",
     "text": [
      "0.33\n",
      "0.00\n"
     ]
    }
   ],
   "source": [
    "fish_list = Node(\"Carp\", Node(\"Dace\", Node(\"Cherry Salmon\")))\n",
    "print(fish_chances(fish_list, \"Dace\"))\n",
    "print(fish_chances(fish_list, \"Rainbow Trout\"))"
   ]
  },
  {
   "cell_type": "markdown",
   "id": "cd239fcc",
   "metadata": {},
   "source": [
    "## Problem 8: Restocking the Lake\n"
   ]
  },
  {
   "cell_type": "code",
   "execution_count": 93,
   "id": "f036509a",
   "metadata": {},
   "outputs": [],
   "source": [
    "class Node:\n",
    "    def __init__(self, fish_name, next=None):\n",
    "        self.fish_name = fish_name\n",
    "        self.next = next\n",
    "\n",
    "\n",
    "# For testing\n",
    "def print_linked_list(head):\n",
    "    current = head\n",
    "    while current:\n",
    "        print(current.fish_name, end=\" -> \" if current.next else \"\\n\")\n",
    "        current = current.next\n",
    "\n",
    "\n",
    "def restock(head, new_fish):\n",
    "    curr = head\n",
    "    while curr.next:\n",
    "        curr = curr.next\n",
    "    curr.next = Node(new_fish)\n",
    "    return head"
   ]
  },
  {
   "cell_type": "code",
   "execution_count": 94,
   "id": "2fca5692",
   "metadata": {},
   "outputs": [
    {
     "name": "stdout",
     "output_type": "stream",
     "text": [
      "Carp -> Dace -> Cherry Salmon -> Rainbow Trout\n"
     ]
    }
   ],
   "source": [
    "fish_list = Node(\"Carp\", Node(\"Dace\", Node(\"Cherry Salmon\")))\n",
    "print_linked_list(restock(fish_list, \"Rainbow Trout\"))"
   ]
  },
  {
   "cell_type": "markdown",
   "id": "25d075ce",
   "metadata": {},
   "source": [
    "# THE END"
   ]
  }
 ],
 "metadata": {
  "kernelspec": {
   "display_name": "codepath",
   "language": "python",
   "name": "python3"
  },
  "language_info": {
   "codemirror_mode": {
    "name": "ipython",
    "version": 3
   },
   "file_extension": ".py",
   "mimetype": "text/x-python",
   "name": "python",
   "nbconvert_exporter": "python",
   "pygments_lexer": "ipython3",
   "version": "3.12.11"
  }
 },
 "nbformat": 4,
 "nbformat_minor": 5
}
