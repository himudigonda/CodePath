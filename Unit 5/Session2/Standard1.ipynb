{
 "cells": [
  {
   "cell_type": "markdown",
   "id": "7a22f825",
   "metadata": {},
   "source": [
    "## Problem 1: Mutual Friends\n"
   ]
  },
  {
   "cell_type": "code",
   "execution_count": 5,
   "id": "9e94420a",
   "metadata": {},
   "outputs": [],
   "source": [
    "class Villager:\n",
    "    def __init__(self, name, species, catchphrase):\n",
    "        self.name = name\n",
    "        self.species = species\n",
    "        self.catchphrase = catchphrase\n",
    "        self.friends = []\n",
    "\n",
    "    def get_mutuals(self, new_contact):\n",
    "        output = []\n",
    "        list1 = self.friends\n",
    "        list2 = new_contact.friends\n",
    "\n",
    "        for i in list1:\n",
    "            if i in list2:\n",
    "                output.append(i.name)\n",
    "        return output\n"
   ]
  },
  {
   "cell_type": "code",
   "execution_count": 6,
   "id": "49a48436",
   "metadata": {},
   "outputs": [
    {
     "name": "stdout",
     "output_type": "stream",
     "text": [
      "['Raymond', 'Fauna']\n",
      "[]\n"
     ]
    }
   ],
   "source": [
    "bob = Villager(\"Bob\", \"Cat\", \"pthhhpth\")\n",
    "marshal = Villager(\"Marshal\", \"Squirrel\", \"sulky\")\n",
    "ankha = Villager(\"Ankha\", \"Cat\", \"me meow\")\n",
    "fauna = Villager(\"Fauna\", \"Deer\", \"dearie\")\n",
    "raymond = Villager(\"Raymond\", \"Cat\", \"crisp\")\n",
    "stitches = Villager(\"Stitches\", \"Cub\", \"stuffin\")\n",
    "\n",
    "bob.friends = [stitches, raymond, fauna]\n",
    "marshal.friends = [raymond, ankha, fauna]\n",
    "print(bob.get_mutuals(marshal))\n",
    "\n",
    "ankha.friends = [marshal]\n",
    "print(bob.get_mutuals(ankha))\n"
   ]
  },
  {
   "cell_type": "markdown",
   "id": "c36cf49c",
   "metadata": {},
   "source": [
    "## Problem 2: Linked Up\n"
   ]
  },
  {
   "cell_type": "code",
   "execution_count": 7,
   "id": "7e8bb138",
   "metadata": {},
   "outputs": [],
   "source": [
    "class Node:\n",
    "    def __init__(self, value, next=None):\n",
    "        self.value = value\n",
    "        self.next = next\n",
    "\n",
    "# For testing\n",
    "def print_linked_list(head):\n",
    "    current = head\n",
    "    while current:\n",
    "        print(current.value, end=\" -> \" if current.next else \"\\n\")\n",
    "        current = current.next\n",
    "\n",
    "kk_slider = Node(\"K.K. Slider\")\n",
    "harriet = Node(\"Harriet\")\n",
    "saharah = Node(\"Saharah\")\n",
    "isabelle = Node(\"Isabelle\")\n",
    "\n",
    "kk_slider.next = harriet\n",
    "harriet.next = saharah\n",
    "saharah.next = isabelle\n"
   ]
  },
  {
   "cell_type": "code",
   "execution_count": 8,
   "id": "4d6d51f7",
   "metadata": {},
   "outputs": [
    {
     "name": "stdout",
     "output_type": "stream",
     "text": [
      "K.K. Slider -> Harriet -> Saharah -> Isabelle\n"
     ]
    }
   ],
   "source": [
    "print_linked_list(kk_slider)\n"
   ]
  },
  {
   "cell_type": "markdown",
   "id": "b224c2b5",
   "metadata": {},
   "source": [
    "## Problem 3: Daily Tasks\n"
   ]
  },
  {
   "cell_type": "code",
   "execution_count": 9,
   "id": "335e01a3",
   "metadata": {},
   "outputs": [],
   "source": [
    "class Node:\n",
    "    def __init__(self, value, next=None):\n",
    "        self.value = value\n",
    "        self.next = next\n",
    "\n",
    "# For testing\n",
    "def print_linked_list(head):\n",
    "    current = head\n",
    "    while current:\n",
    "        print(current.value, end=\" -> \" if current.next else \"\\n\")\n",
    "        current = current.next\n",
    "\n",
    "def add_first(head, task):\n",
    "    node = Node(task, head)\n",
    "    return node\n"
   ]
  },
  {
   "cell_type": "code",
   "execution_count": 10,
   "id": "704b1ec3",
   "metadata": {},
   "outputs": [
    {
     "name": "stdout",
     "output_type": "stream",
     "text": [
      "check turnip prices -> shake tree -> dig fossils -> catch bugs\n"
     ]
    }
   ],
   "source": [
    "task_1 = Node(\"shake tree\")\n",
    "task_2 = Node(\"dig fossils\")\n",
    "task_3 = Node(\"catch bugs\")\n",
    "task_1.next = task_2\n",
    "task_2.next = task_3\n",
    "\n",
    "# Linked List: shake tree -> dig fossils -> catch bugs\n",
    "print_linked_list(add_first(task_1, \"check turnip prices\"))\n"
   ]
  },
  {
   "cell_type": "markdown",
   "id": "5fb9e40e",
   "metadata": {},
   "source": [
    "## Problem 4: Halve List\n"
   ]
  },
  {
   "cell_type": "code",
   "execution_count": 18,
   "id": "56289042",
   "metadata": {},
   "outputs": [],
   "source": [
    "class Node:\n",
    "    def __init__(self, value, next=None):\n",
    "        self.value = value\n",
    "        self.next = next\n",
    "\n",
    "# For testing\n",
    "def print_linked_list(head):\n",
    "    current = head\n",
    "    while current:\n",
    "        print(current.value, end=\" -> \" if current.next else \"\\n\")\n",
    "        current = current.next\n",
    "\n",
    "def halve_list(head):\n",
    "    cur = head\n",
    "    while cur:\n",
    "        if cur.value % 2 == 0:\n",
    "            cur.value = cur.value//2\n",
    "        else:\n",
    "            cur.value = cur.value/2\n",
    "        cur = cur.next\n",
    "    return head\n"
   ]
  },
  {
   "cell_type": "code",
   "execution_count": 19,
   "id": "72a643bf",
   "metadata": {},
   "outputs": [
    {
     "name": "stdout",
     "output_type": "stream",
     "text": [
      "2.5 -> 3 -> 3.5\n"
     ]
    }
   ],
   "source": [
    "node_one = Node(5)\n",
    "node_two = Node(6)\n",
    "node_three = Node(7)\n",
    "node_one.next = node_two\n",
    "node_two.next = node_three\n",
    "\n",
    "# Input List: 5 -> 6 -> 7\n",
    "print_linked_list(halve_list(node_one))\n"
   ]
  },
  {
   "cell_type": "markdown",
   "id": "d9eb4ab2",
   "metadata": {},
   "source": [
    "## Problem 5: Remove Last\n"
   ]
  },
  {
   "cell_type": "code",
   "execution_count": 22,
   "id": "61e0e904",
   "metadata": {},
   "outputs": [],
   "source": [
    "class Node:\n",
    "    def __init__(self, value, next=None):\n",
    "        self.value = value\n",
    "        self.next = next\n",
    "\n",
    "# For testing\n",
    "def print_linked_list(head):\n",
    "    current = head\n",
    "    while current:\n",
    "        print(current.value, end=\" -> \" if current.next else \"\\n\")\n",
    "        current = current.next\n",
    "\n",
    "def delete_tail(head):\n",
    "    cur = head\n",
    "    while cur and cur.next and cur.next.next:\n",
    "        cur = cur.next\n",
    "\n",
    "    del cur.next\n",
    "    cur.next = None\n",
    "    return head\n",
    "\n"
   ]
  },
  {
   "cell_type": "code",
   "execution_count": 23,
   "id": "0ddb7e68",
   "metadata": {},
   "outputs": [
    {
     "name": "stdout",
     "output_type": "stream",
     "text": [
      "Common Butterfly -> Ladybug\n"
     ]
    }
   ],
   "source": [
    "butterfly = Node(\"Common Butterfly\")\n",
    "ladybug = Node(\"Ladybug\")\n",
    "beetle = Node(\"Scarab Beetle\")\n",
    "butterfly.next = ladybug\n",
    "ladybug.next = beetle\n",
    "\n",
    "# Input List: butterfly -> ladybug -> beetle\n",
    "print_linked_list(delete_tail(butterfly))\n"
   ]
  },
  {
   "cell_type": "markdown",
   "id": "4d790a69",
   "metadata": {},
   "source": [
    "## Problem 6: Find Minimum in Linked List\n"
   ]
  },
  {
   "cell_type": "code",
   "execution_count": 27,
   "id": "3ac0eafe",
   "metadata": {},
   "outputs": [],
   "source": [
    "class Node:\n",
    "    def __init__(self, value, next=None):\n",
    "        self.value = value\n",
    "        self.next = next\n",
    "\n",
    "# For testing\n",
    "def print_linked_list(head):\n",
    "    current = head\n",
    "    while current:\n",
    "        print(current.value, end=\" -> \" if current.next else \"\\n\")\n",
    "        current = current.next\n",
    "\n",
    "def find_min(head):\n",
    "    cur = head\n",
    "    mini = float('inf')\n",
    "\n",
    "    while cur:\n",
    "        if cur.value < mini:\n",
    "            mini = cur.value\n",
    "        cur = cur.next\n",
    "    return mini\n"
   ]
  },
  {
   "cell_type": "code",
   "execution_count": 28,
   "id": "e63e3ce8",
   "metadata": {},
   "outputs": [
    {
     "name": "stdout",
     "output_type": "stream",
     "text": [
      "5\n",
      "5\n"
     ]
    }
   ],
   "source": [
    "head1 = Node(5, Node(6, Node(7, Node(8))))\n",
    "head2 = Node(8, Node(5, Node(6, Node(7))))\n",
    "\n",
    "# Linked List: 5 -> 6 -> 7 -> 8\n",
    "print(find_min(head1))\n",
    "\n",
    "# Linked List: 8 -> 5 -> 6 -> 7\n",
    "print(find_min(head2))\n"
   ]
  },
  {
   "cell_type": "markdown",
   "id": "23379fa8",
   "metadata": {},
   "source": [
    "## Problem 7: Remove From Inventory\n"
   ]
  },
  {
   "cell_type": "code",
   "execution_count": 31,
   "id": "03172fc5",
   "metadata": {},
   "outputs": [],
   "source": [
    "class Node:\n",
    "    def __init__(self, value, next=None):\n",
    "        self.value = value\n",
    "        self.next = next\n",
    "\n",
    "# For testing\n",
    "def print_linked_list(head):\n",
    "    current = head\n",
    "    while current:\n",
    "        print(current.value, end=\" -> \" if current.next else \"\\n\")\n",
    "        current = current.next\n",
    "\n",
    "def delete_item(head, item):\n",
    "    cur = head\n",
    "\n",
    "    while cur and cur.next:\n",
    "        if cur.next.value == item:\n",
    "            temp = cur.next\n",
    "            cur.next = cur.next.next\n",
    "            del temp\n",
    "        cur = cur.next\n",
    "    return head\n"
   ]
  },
  {
   "cell_type": "code",
   "execution_count": 32,
   "id": "80e9fbb7",
   "metadata": {},
   "outputs": [
    {
     "name": "stdout",
     "output_type": "stream",
     "text": [
      "Slingshot -> Scarab Beetle\n",
      "Slingshot -> Scarab Beetle\n"
     ]
    }
   ],
   "source": [
    "slingshot = Node(\"Slingshot\")\n",
    "peaches = Node(\"Peaches\")\n",
    "beetle = Node(\"Scarab Beetle\")\n",
    "slingshot.next = peaches\n",
    "peaches.next = beetle\n",
    "\n",
    "# Linked List: slingshot -> peaches -> beetle\n",
    "print_linked_list(delete_item(slingshot, \"Peaches\"))\n",
    "\n",
    "# Linked List: slingshot -> beetle\n",
    "print_linked_list(delete_item(slingshot, \"Triceratops Torso\"))\n"
   ]
  },
  {
   "cell_type": "markdown",
   "id": "4dcb6c7e",
   "metadata": {},
   "source": [
    "## Problem 8: Move Tail to Front of Linked List\n"
   ]
  },
  {
   "cell_type": "code",
   "execution_count": 37,
   "id": "2394f4eb",
   "metadata": {},
   "outputs": [],
   "source": [
    "class Node:\n",
    "    def __init__(self, value, next=None):\n",
    "        self.value = value\n",
    "        self.next = next\n",
    "\n",
    "# For testing\n",
    "def print_linked_list(head):\n",
    "    current = head\n",
    "    while current:\n",
    "        print(current.value, end=\" -> \" if current.next else \"\\n\")\n",
    "        current = current.next\n",
    "\n",
    "def tail_to_head(head):\n",
    "    cur = head\n",
    "    while cur and cur.next and cur.next.next:\n",
    "        cur = cur.next\n",
    "    temp = cur.next\n",
    "    cur.next = None\n",
    "    temp.next = head\n",
    "    return temp\n",
    "\n"
   ]
  },
  {
   "cell_type": "code",
   "execution_count": 38,
   "id": "5e276335",
   "metadata": {},
   "outputs": [
    {
     "name": "stdout",
     "output_type": "stream",
     "text": [
      "Peach -> Daisy -> Mario -> Toad\n"
     ]
    }
   ],
   "source": [
    "daisy = Node(\"Daisy\")\n",
    "mario = Node(\"Mario\")\n",
    "toad = Node(\"Toad\") \n",
    "peach = Node(\"Peach\")\n",
    "daisy.next = mario\n",
    "mario.next = toad\n",
    "toad.next = peach\n",
    "\n",
    "# Linked List: Daisy -> Mario -> Toad -> Peach\n",
    "print_linked_list(tail_to_head(daisy))\n"
   ]
  },
  {
   "cell_type": "markdown",
   "id": "497bbf7f",
   "metadata": {},
   "source": [
    "## Problem 9: Create Double Links\n"
   ]
  },
  {
   "cell_type": "code",
   "execution_count": 39,
   "id": "99c8daa1",
   "metadata": {},
   "outputs": [],
   "source": [
    "class Node:\n",
    "    def __init__(self, value, next=None, prev=None):\n",
    "        self.value = value\n",
    "        self.next = next\n",
    "        self.prev = prev\n",
    "\n",
    "head = Node(\"Isabelle\")\n",
    "tail = Node(\"K.K. Slider\")\n",
    "\n",
    "head.next = tail\n",
    "tail.prev = head\n"
   ]
  },
  {
   "cell_type": "code",
   "execution_count": 40,
   "id": "d5744f69",
   "metadata": {},
   "outputs": [
    {
     "name": "stdout",
     "output_type": "stream",
     "text": [
      "Isabelle <-> K.K. Slider\n",
      "Isabelle <-> K.K. Slider\n"
     ]
    }
   ],
   "source": [
    "print(head.value, \"<->\", head.next.value)\n",
    "print(tail.prev.value, \"<->\", tail.value)\n"
   ]
  },
  {
   "cell_type": "markdown",
   "id": "8fe15c2f",
   "metadata": {},
   "source": [
    "## Problem 10: Print Backwards\n"
   ]
  },
  {
   "cell_type": "code",
   "execution_count": 45,
   "id": "5b3cdd2c",
   "metadata": {},
   "outputs": [],
   "source": [
    "class Node:\n",
    "    def __init__(self, value, next=None, prev=None):\n",
    "        self.value = value\n",
    "        self.next = next\n",
    "        self.prev = prev\n",
    "\n",
    "def print_reverse(tail):\n",
    "    while tail:\n",
    "        print(tail.value, end = ' ')\n",
    "        tail = tail.prev\n",
    "\n"
   ]
  },
  {
   "cell_type": "code",
   "execution_count": 46,
   "id": "97c4e3e5",
   "metadata": {},
   "outputs": [
    {
     "name": "stdout",
     "output_type": "stream",
     "text": [
      "Saharah K.K. Slider Isabelle "
     ]
    }
   ],
   "source": [
    "isabelle = Node(\"Isabelle\")\n",
    "kk_slider = Node(\"K.K. Slider\")\n",
    "saharah = Node(\"Saharah\")\n",
    "isabelle.next = kk_slider\n",
    "kk_slider.next = saharah\n",
    "saharah.prev = kk_slider\n",
    "kk_slider.prev = isabelle\n",
    "\n",
    "# Linked List: Isabelle <-> K.K. Slider <-> Saharah\n",
    "print_reverse(saharah)\n"
   ]
  },
  {
   "cell_type": "markdown",
   "id": "5c3d24bc",
   "metadata": {},
   "source": [
    "# THE END"
   ]
  }
 ],
 "metadata": {
  "kernelspec": {
   "display_name": ".venv",
   "language": "python",
   "name": "python3"
  },
  "language_info": {
   "codemirror_mode": {
    "name": "ipython",
    "version": 3
   },
   "file_extension": ".py",
   "mimetype": "text/x-python",
   "name": "python",
   "nbconvert_exporter": "python",
   "pygments_lexer": "ipython3",
   "version": "3.12.12"
  }
 },
 "nbformat": 4,
 "nbformat_minor": 5
}
