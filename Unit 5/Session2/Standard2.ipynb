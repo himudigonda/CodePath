{
 "cells": [
  {
   "cell_type": "markdown",
   "id": "60a9fd13",
   "metadata": {},
   "source": [
    "## Problem 1: Calculate Tournament Placement\n"
   ]
  },
  {
   "cell_type": "code",
   "execution_count": 38,
   "id": "30d154f0",
   "metadata": {},
   "outputs": [],
   "source": [
    "from collections import defaultdict\n",
    "\n",
    "class Player:\n",
    "    def __init__(self, character, kart, outcomes):\n",
    "        self.character = character\n",
    "        self.kart = kart\n",
    "        self.items = []\n",
    "        self.race_outcomes = outcomes\n",
    "\n",
    "    def get_tournament_place(self, opponents):\n",
    "        self_avg = sum(self.race_outcomes)/len(self.race_outcomes)\n",
    "        mapping = defaultdict(float)\n",
    "        mapping[self.character] = self_avg\n",
    "\n",
    "        for i in opponents:\n",
    "            mapping[i.character] = sum(i.race_outcomes) / len(i.race_outcomes)\n",
    "\n",
    "        maps = sorted(mapping.items(), key = lambda x: x[1])\n",
    "\n",
    "        for idx, (char, _) in enumerate(maps):\n",
    "            if char == self.character:\n",
    "                return idx + 1"
   ]
  },
  {
   "cell_type": "code",
   "execution_count": 39,
   "id": "96f88939",
   "metadata": {},
   "outputs": [],
   "source": [
    "from collections import defaultdict\n",
    "\n",
    "\n",
    "class Player:\n",
    "    def __init__(self, character, kart, outcomes):\n",
    "        self.character = character\n",
    "        self.kart = kart\n",
    "        self.items = []\n",
    "        self.race_outcomes = outcomes\n",
    "\n",
    "    def get_tournament_place(self, opponents):\n",
    "        all_players = [self] + opponents\n",
    "        averages = [(p.character, sum(p.race_outcomes)/len(p.race_outcomes)) for p in all_players]\n",
    "        sorted_players = sorted(averages, key = lambda x:x[1])        \n",
    "        for idx, (char, _) in enumerate(sorted_players):\n",
    "            if char == self.character:\n",
    "                return idx + 1\n"
   ]
  },
  {
   "cell_type": "code",
   "execution_count": 40,
   "id": "afd310c6",
   "metadata": {},
   "outputs": [
    {
     "name": "stdout",
     "output_type": "stream",
     "text": [
      "1\n"
     ]
    }
   ],
   "source": [
    "player1 = Player(\"Mario\", \"Standard\", [1, 2, 1, 1, 3])\n",
    "player2 = Player(\"Luigi\", \"Standard\", [2, 1, 3, 2, 2])\n",
    "player3 = Player(\"Peach\", \"Standard\", [3, 3, 2, 3, 1])\n",
    "\n",
    "opponents = [player2, player3]\n",
    "print(player1.get_tournament_place(opponents))\n"
   ]
  },
  {
   "cell_type": "markdown",
   "id": "360d25cc",
   "metadata": {},
   "source": [
    "## Problem 2: Update Linked List Sequence\n"
   ]
  },
  {
   "cell_type": "code",
   "execution_count": 44,
   "id": "9b8e8372",
   "metadata": {},
   "outputs": [],
   "source": [
    "class Node:\n",
    "    def __init__(self, value, next=None):\n",
    "        self.value = value\n",
    "        self.next = next\n",
    "\n",
    "\n",
    "# For testing\n",
    "def print_linked_list(head):\n",
    "    current = head\n",
    "    while current:\n",
    "        print(current.value, end=\" -> \" if current.next else \"\\n\")\n",
    "        current = current.next\n",
    "\n",
    "\n",
    "shy_guy = Node(\"Shy Guy\")\n",
    "diddy_kong = Node(\"Diddy Kong\")\n",
    "dry_bones = Node(\"Dry Bones\")\n",
    "shy_guy.next = diddy_kong\n",
    "diddy_kong.next = dry_bones\n",
    "\n",
    "temp = shy_guy.next\n",
    "shy_guy.next = Node(\"link\", temp)\n",
    "temp = diddy_kong.next\n",
    "diddy_kong.next = Node(\"toad\", temp)\n"
   ]
  },
  {
   "cell_type": "code",
   "execution_count": 45,
   "id": "4c22a1b2",
   "metadata": {},
   "outputs": [
    {
     "name": "stdout",
     "output_type": "stream",
     "text": [
      "Current List:\n",
      "Shy Guy -> link -> Diddy Kong -> toad -> Dry Bones\n"
     ]
    }
   ],
   "source": [
    "print(\"Current List:\")\n",
    "print_linked_list(shy_guy)"
   ]
  },
  {
   "cell_type": "markdown",
   "id": "12fb4c60",
   "metadata": {},
   "source": [
    "## Problem 3: Insert Node as Second Element\n"
   ]
  },
  {
   "cell_type": "code",
   "execution_count": 53,
   "id": "607ee7c1",
   "metadata": {},
   "outputs": [],
   "source": [
    "class Node:\n",
    "    def __init__(self, value, next=None):\n",
    "        self.value = value\n",
    "        self.next = next\n",
    "\n",
    "\n",
    "# For testing\n",
    "def print_linked_list(head):\n",
    "    current = head\n",
    "    while current:\n",
    "        print(current.value, end=\" -> \" if current.next else \"\\n\")\n",
    "        current = current.next\n",
    "\n",
    "\n",
    "def add_second(head, val):\n",
    "    temp = head.next\n",
    "    node = Node(val, temp)\n",
    "    head.next = node\n",
    "    return head"
   ]
  },
  {
   "cell_type": "code",
   "execution_count": 54,
   "id": "42fa849e",
   "metadata": {},
   "outputs": [
    {
     "name": "stdout",
     "output_type": "stream",
     "text": [
      "banana -> red shell -> blue shell -> bullet bill\n"
     ]
    }
   ],
   "source": [
    "original_list_head = Node(\"banana\")\n",
    "second = Node(\"blue shell\")\n",
    "third = Node(\"bullet bill\")\n",
    "original_list_head.next = second\n",
    "second.next = third\n",
    "\n",
    "\n",
    "# Linked list: \"banana\" -> \"blue shell\" -> \"bullet bill\"\n",
    "head = original_list_head\n",
    "new_list = add_second(head, \"red shell\")\n",
    "print_linked_list(new_list)"
   ]
  },
  {
   "cell_type": "markdown",
   "id": "3b892bc0",
   "metadata": {},
   "source": [
    "## Problem 4: Increment Linked List Node Values\n"
   ]
  },
  {
   "cell_type": "code",
   "execution_count": 59,
   "id": "58b83906",
   "metadata": {},
   "outputs": [],
   "source": [
    "class Node:\n",
    "    def __init__(self, value, next=None):\n",
    "        self.value = value\n",
    "        self.next = next\n",
    "\n",
    "\n",
    "# For testing\n",
    "def print_linked_list(head):\n",
    "    current = head\n",
    "    while current:\n",
    "        print(current.value, end=\" -> \" if current.next else \"\\n\")\n",
    "        current = current.next\n",
    "\n",
    "\n",
    "def increment_ll(head):\n",
    "    cur = head\n",
    "    while cur:\n",
    "        cur.value += 1\n",
    "        cur = cur.next\n",
    "    return head"
   ]
  },
  {
   "cell_type": "code",
   "execution_count": 60,
   "id": "ef8278c4",
   "metadata": {},
   "outputs": [
    {
     "name": "stdout",
     "output_type": "stream",
     "text": [
      "6 -> 7 -> 8\n"
     ]
    }
   ],
   "source": [
    "node_one = Node(5)\n",
    "node_two = Node(6)\n",
    "node_three = Node(7)\n",
    "node_one.next = node_two\n",
    "node_two.next = node_three\n",
    "\n",
    "# Input List: 5 -> 6 -> 7\n",
    "print_linked_list(increment_ll(node_one))"
   ]
  },
  {
   "cell_type": "markdown",
   "id": "f354679f",
   "metadata": {},
   "source": [
    "## Problem 5: Copy Linked List\n"
   ]
  },
  {
   "cell_type": "code",
   "execution_count": 80,
   "id": "7ae7e0aa",
   "metadata": {},
   "outputs": [],
   "source": [
    "class Node:\n",
    "    def __init__(self, value, next=None):\n",
    "        self.value = value\n",
    "        self.next = next\n",
    "\n",
    "\n",
    "# For testing\n",
    "def print_linked_list(head):\n",
    "    current = head\n",
    "    while current:\n",
    "        print(current.value, end=\" -> \" if current.next else \"\\n\")\n",
    "        current = current.next\n",
    "\n",
    "\n",
    "def copy_ll(head):\n",
    "    if head is None: return None\n",
    "    \n",
    "    new_head = Node(head.value)\n",
    "    cur_orig = head.next\n",
    "    cur_copy = new_head\n",
    "\n",
    "    while cur_orig:\n",
    "        cur_copy.next = Node(cur_orig.value)\n",
    "        cur_copy = cur_copy.next\n",
    "        cur_orig = cur_orig.next\n",
    "\n",
    "    return new_head\n"
   ]
  },
  {
   "cell_type": "code",
   "execution_count": 81,
   "id": "15b07934",
   "metadata": {},
   "outputs": [
    {
     "name": "stdout",
     "output_type": "stream",
     "text": [
      "Original Mario -> Daisy -> Luigi\n",
      "Mario -> Daisy -> Luigi\n"
     ]
    }
   ],
   "source": [
    "mario = Node(\"Mario\")\n",
    "daisy = Node(\"Daisy\")\n",
    "luigi = Node(\"Luigi\")\n",
    "mario.next = daisy\n",
    "daisy.next = luigi\n",
    "\n",
    "# Linked List: Mario -> Daisy -> Luigi\n",
    "copy = copy_ll(mario)\n",
    "\n",
    "# Change original list -- should not affect the copy\n",
    "mario.value = \"Original Mario\"\n",
    "\n",
    "print_linked_list(mario)\n",
    "print_linked_list(copy)"
   ]
  },
  {
   "cell_type": "markdown",
   "id": "f363c330",
   "metadata": {},
   "source": [
    "## Problem 6: Making the Cut\n"
   ]
  },
  {
   "cell_type": "code",
   "execution_count": 82,
   "id": "fff33933",
   "metadata": {},
   "outputs": [],
   "source": [
    "class Node:\n",
    "    def __init__(self, value, next=None):\n",
    "        self.value = value\n",
    "        self.next = next\n",
    "\n",
    "\n",
    "# For testing\n",
    "def print_linked_list(head):\n",
    "    current = head\n",
    "    while current:\n",
    "        print(current.value, end=\" -> \" if current.next else \"\\n\")\n",
    "        current = current.next\n",
    "\n",
    "\n",
    "def top_n_finishers(head, n):\n",
    "    ret = []\n",
    "    cur = head\n",
    "    while cur and len(ret) < n:\n",
    "        ret.append(cur.value)\n",
    "        cur = cur.next\n",
    "    return ret\n"
   ]
  },
  {
   "cell_type": "code",
   "execution_count": 83,
   "id": "1f13d17e",
   "metadata": {},
   "outputs": [
    {
     "name": "stdout",
     "output_type": "stream",
     "text": [
      "['Daisy', 'Mario', 'Toad']\n",
      "['Daisy', 'Mario', 'Toad', 'Yoshi']\n"
     ]
    }
   ],
   "source": [
    "head = Node(\"Daisy\", Node(\"Mario\", Node(\"Toad\", Node(\"Yoshi\"))))\n",
    "\n",
    "# Linked List: Daisy -> Mario -> Toad -> Yoshi\n",
    "print(top_n_finishers(head, 3))\n",
    "\n",
    "# Linked List: Daisy -> Mario -> Toad -> Yoshi\n",
    "print(top_n_finishers(head, 5))"
   ]
  },
  {
   "cell_type": "markdown",
   "id": "3ef2437a",
   "metadata": {},
   "source": [
    "## Problem 7: Remove Racer\n"
   ]
  },
  {
   "cell_type": "code",
   "execution_count": 86,
   "id": "9465e58f",
   "metadata": {},
   "outputs": [],
   "source": [
    "class Node:\n",
    "    def __init__(self, value, next=None):\n",
    "        self.value = value\n",
    "        self.next = next\n",
    "\n",
    "\n",
    "# For testing\n",
    "def print_linked_list(head):\n",
    "    current = head\n",
    "    while current:\n",
    "        print(current.value, end=\" -> \" if current.next else \"\\n\")\n",
    "        current = current.next\n",
    "\n",
    "\n",
    "def remove_racer(head, racer):\n",
    "    if head.value == racer:\n",
    "        return head.next\n",
    "\n",
    "    cur = head.next\n",
    "    prev = head\n",
    "\n",
    "    while cur:\n",
    "        if cur.value == racer:\n",
    "            prev.next = cur.next\n",
    "            break\n",
    "        else:\n",
    "            cur = cur.next\n",
    "            prev = prev.next\n",
    "    return head"
   ]
  },
  {
   "cell_type": "code",
   "execution_count": 91,
   "id": "bfbe88ac",
   "metadata": {},
   "outputs": [
    {
     "name": "stdout",
     "output_type": "stream",
     "text": [
      "Daisy -> Toad -> Mario\n",
      "Daisy -> Toad -> Mario\n"
     ]
    }
   ],
   "source": [
    "head = Node(\"Daisy\", Node(\"Mario\", Node(\"Toad\", Node(\"Mario\"))))\n",
    "\n",
    "# Linked List: Daisy -> Mario -> Toad -> Mario\n",
    "print_linked_list(remove_racer(head, \"Mario\"))\n",
    "\n",
    "# Linked List: Daisy -> Mario -> Toad\n",
    "print_linked_list(remove_racer(head, \"Yoshi\"))"
   ]
  },
  {
   "cell_type": "markdown",
   "id": "0ebb3403",
   "metadata": {},
   "source": [
    "## Problem 8: Array to Linked List\n"
   ]
  },
  {
   "cell_type": "code",
   "execution_count": 130,
   "id": "e4669b31",
   "metadata": {},
   "outputs": [],
   "source": [
    "class Player:\n",
    "    def __init__(self, character, kart):\n",
    "        self.character = character\n",
    "        self.kart = kart\n",
    "        self.items = []\n",
    "\n",
    "\n",
    "class Node:\n",
    "    def __init__(self, value, next=None):\n",
    "        self.value = value\n",
    "        self.next = next\n",
    "\n",
    "\n",
    "# For testing\n",
    "def print_linked_list(head):\n",
    "    current = head\n",
    "    while current:\n",
    "        print(current.value.character, end=\" -> \" if current.next else \"\\n\")\n",
    "        current = current.next\n",
    "\n",
    "\n",
    "def arr_to_ll(arr):\n",
    "    if not arr: return None\n",
    "    head = Node(arr[0])\n",
    "    cur = head\n",
    "\n",
    "    # i = 1\n",
    "    # while i < len(arr):\n",
    "    #     nxt = Node(arr[i])\n",
    "    #     cur.next = nxt\n",
    "    #     nxt = nxt.next\n",
    "    #     i += 1\n",
    "    # return head\n",
    "\n",
    "    for i in range(1, len(arr)):\n",
    "        cur.next = Node(arr[i])\n",
    "        cur = cur.next\n",
    "\n",
    "    return head"
   ]
  },
  {
   "cell_type": "code",
   "execution_count": 131,
   "id": "75fc9e18",
   "metadata": {},
   "outputs": [
    {
     "name": "stdout",
     "output_type": "stream",
     "text": [
      "Mario -> Luigi -> Peach\n",
      "Peach\n"
     ]
    }
   ],
   "source": [
    "mario = Player(\"Mario\", \"Mushmellow\")\n",
    "luigi = Player(\"Luigi\", \"Standard LG\")\n",
    "peach = Player(\"Peach\", \"Bumble V\")\n",
    "\n",
    "print_linked_list(arr_to_ll([mario, luigi, peach]))\n",
    "print_linked_list(arr_to_ll([peach]))"
   ]
  },
  {
   "cell_type": "markdown",
   "id": "473c8b83",
   "metadata": {},
   "source": [
    "## Problem 9: Convert Singly Linked List to Doubly Linked List\n"
   ]
  },
  {
   "cell_type": "code",
   "execution_count": 135,
   "id": "e173f198",
   "metadata": {},
   "outputs": [],
   "source": [
    "class Node:\n",
    "    def __init__(self, value, next=None, prev=None):\n",
    "        self.value = value\n",
    "        self.next = next\n",
    "        self.prev = prev\n",
    "\n",
    "\n",
    "def print_linked_list(head):\n",
    "    curr = head\n",
    "    vals = []\n",
    "    while curr:\n",
    "        vals.append(str(curr.value))\n",
    "        curr = curr.next\n",
    "    print(\" -> \".join(vals))\n",
    "\n",
    "\n",
    "def print_linked_list_backwards(tail):\n",
    "    curr = tail\n",
    "    vals = []\n",
    "    while curr:\n",
    "        vals.append(str(curr.value))\n",
    "        curr = curr.prev\n",
    "    print(\" -> \".join(vals))\n",
    "\n",
    "\n",
    "# Singly linked list setup (Problem 9)\n",
    "koopa_troopa = Node(\"Koopa Troopa\")\n",
    "toadette = Node(\"Toadette\")\n",
    "waluigi = Node(\"Waluigi\")\n",
    "koopa_troopa.next = toadette\n",
    "toadette.next = waluigi\n",
    "\n",
    "\n",
    "# Add code to convert to doubly linked list here\n",
    "waluigi.prev = toadette\n",
    "toadette.prev = koopa_troopa"
   ]
  },
  {
   "cell_type": "code",
   "execution_count": 136,
   "id": "db934461",
   "metadata": {},
   "outputs": [
    {
     "name": "stdout",
     "output_type": "stream",
     "text": [
      "Koopa Troopa -> Toadette -> Waluigi\n",
      "Waluigi -> Toadette -> Koopa Troopa\n"
     ]
    }
   ],
   "source": [
    "print_linked_list(koopa_troopa)\n",
    "print_linked_list_backwards(waluigi)"
   ]
  },
  {
   "cell_type": "markdown",
   "id": "5a4c1fa6",
   "metadata": {},
   "source": [
    "## Problem 10: Find Length of Doubly Linked List from Any Node\n"
   ]
  },
  {
   "cell_type": "code",
   "execution_count": 144,
   "id": "9956bde0",
   "metadata": {},
   "outputs": [],
   "source": [
    "class Node:\n",
    "    def __init__(self, value, next=None, prev=None):\n",
    "        self.value = value\n",
    "        self.next = next\n",
    "        self.prev = prev\n",
    "\n",
    "\n",
    "# For testing\n",
    "def print_linked_list(head):\n",
    "    current = head\n",
    "    while current:\n",
    "        print(current.value, end=\" -> \" if current.next else \"\\n\")\n",
    "        current = current.next\n",
    "\n",
    "\n",
    "def get_length(node):\n",
    "    cur = node\n",
    "    while cur.next:\n",
    "        cur = cur.next\n",
    "    count = 0\n",
    "    while cur:\n",
    "        cur = cur.prev\n",
    "        count += 1\n",
    "    return count"
   ]
  },
  {
   "cell_type": "code",
   "execution_count": 147,
   "id": "0aed63d1",
   "metadata": {},
   "outputs": [
    {
     "name": "stdout",
     "output_type": "stream",
     "text": [
      "4\n"
     ]
    }
   ],
   "source": [
    "yoshi_falls = Node(\"Yoshi Falls\")\n",
    "moo_moo_farm = Node(\"Moo Moo Farm\")\n",
    "rainbow_road = Node(\"Rainbow Road\")\n",
    "dk_mountain = Node(\"DK Mountain\")\n",
    "yoshi_falls.next = moo_moo_farm\n",
    "moo_moo_farm.next = rainbow_road\n",
    "rainbow_road.next = dk_mountain\n",
    "dk_mountain.prev = rainbow_road\n",
    "rainbow_road.prev = moo_moo_farm\n",
    "moo_moo_farm.prev = yoshi_falls\n",
    "# List: Yoshi Falls <-> Moo Moo Farm <-> Rainbow Road <-> DK Mountain\n",
    "print(get_length(rainbow_road))"
   ]
  },
  {
   "cell_type": "markdown",
   "id": "3a7bf6db",
   "metadata": {},
   "source": [
    "# THE END"
   ]
  }
 ],
 "metadata": {
  "kernelspec": {
   "display_name": ".venv",
   "language": "python",
   "name": "python3"
  },
  "language_info": {
   "codemirror_mode": {
    "name": "ipython",
    "version": 3
   },
   "file_extension": ".py",
   "mimetype": "text/x-python",
   "name": "python",
   "nbconvert_exporter": "python",
   "pygments_lexer": "ipython3",
   "version": "3.12.11"
  }
 },
 "nbformat": 4,
 "nbformat_minor": 5
}
