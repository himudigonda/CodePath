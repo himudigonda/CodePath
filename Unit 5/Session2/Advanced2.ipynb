{
 "cells": [
  {
   "cell_type": "markdown",
   "id": "d758611b",
   "metadata": {},
   "source": [
    "## Problem 1: Array to Linked List"
   ]
  },
  {
   "cell_type": "code",
   "execution_count": 4,
   "id": "816c3469",
   "metadata": {},
   "outputs": [],
   "source": [
    "class Player:\n",
    "    def __init__(self, character, kart):\n",
    "        self.character = character\n",
    "        self.kart = kart\n",
    "        self.items = []\n",
    "\n",
    "class Node:\n",
    "    def __init__(self, value, next=None):\n",
    "        self.value = value\n",
    "        self.next = next\n",
    "\n",
    "# For testing\n",
    "def print_linked_list(head):\n",
    "    current = head\n",
    "    while current:\n",
    "        print(current.value.character, end=\" -> \" if current.next else \"\\n\")\n",
    "        current = current.next\n",
    "\n",
    "def arr_to_ll(arr):\n",
    "    if not arr: return None\n",
    "    \n",
    "    head = Node(arr[0])\n",
    "    cur = head\n",
    "    i = 1\n",
    "    while i < len(arr):\n",
    "        new_node = Node(arr[i])\n",
    "        cur.next = new_node\n",
    "        i += 1\n",
    "        cur = cur.next\n",
    "    return head"
   ]
  },
  {
   "cell_type": "code",
   "execution_count": 5,
   "id": "6eaa21b0",
   "metadata": {},
   "outputs": [
    {
     "name": "stdout",
     "output_type": "stream",
     "text": [
      "Mario -> Luigi -> Peach\n",
      "Peach\n"
     ]
    }
   ],
   "source": [
    "mario = Player(\"Mario\", \"Mushmellow\")\n",
    "luigi = Player(\"Luigi\", \"Standard LG\")\n",
    "peach = Player(\"Peach\", \"Bumble V\")\n",
    "\n",
    "print_linked_list(arr_to_ll([mario, luigi, peach]))\n",
    "print_linked_list(arr_to_ll([peach]))\n"
   ]
  },
  {
   "cell_type": "markdown",
   "id": "5bc1b7c6",
   "metadata": {},
   "source": [
    "## Problem 2: Get it Out of Here!\n"
   ]
  },
  {
   "cell_type": "code",
   "execution_count": 12,
   "id": "16113edd",
   "metadata": {},
   "outputs": [],
   "source": [
    "class Node:\n",
    "    def __init__(self, value=None, next=None):\n",
    "        self.value = value\n",
    "        self.next = next\n",
    "\n",
    "\n",
    "# For testing\n",
    "def print_linked_list(head):\n",
    "    current = head\n",
    "    while current:\n",
    "        print(current.value, end=\" -> \" if current.next else \"\\n\")\n",
    "        current = current.next\n",
    "\n",
    "\n",
    "# Function with a bug!\n",
    "def remove_by_value(head, val):\n",
    "    if not head:\n",
    "        return None\n",
    "    if head.value == val:\n",
    "        return head.next\n",
    "\n",
    "    current = head\n",
    "    while current.next:\n",
    "        if current.next.value == val:\n",
    "            current.next = current.next.next\n",
    "            return head\n",
    "        current = current.next\n",
    "\n",
    "    return head"
   ]
  },
  {
   "cell_type": "code",
   "execution_count": 13,
   "id": "84e116b3",
   "metadata": {},
   "outputs": [
    {
     "name": "stdout",
     "output_type": "stream",
     "text": [
      "Daisy -> Mario -> Baby Peach\n"
     ]
    }
   ],
   "source": [
    "head = Node(\"Daisy\", Node(\"Mario\", Node(\"Waluigi\", Node(\"Baby Peach\"))))\n",
    "\n",
    "print_linked_list(remove_by_value(head, \"Waluigi\"))"
   ]
  },
  {
   "cell_type": "markdown",
   "id": "6d57536c",
   "metadata": {},
   "source": [
    "## Problem 3: Partition List Around Value\n"
   ]
  },
  {
   "cell_type": "code",
   "execution_count": 34,
   "id": "101a6d0e",
   "metadata": {},
   "outputs": [],
   "source": [
    "class Node:\n",
    "    def __init__(self, value, next=None):\n",
    "        self.value = value\n",
    "        self.next = next\n",
    "\n",
    "\n",
    "# For testing\n",
    "def print_linked_list(head):\n",
    "    current = head\n",
    "    while current:\n",
    "        print(current.value, end=\" -> \" if current.next else \"\\n\")\n",
    "        current = current.next\n",
    "\n",
    "\n",
    "def partition(head, val):\n",
    "    arr_less = []\n",
    "    arr_more = []\n",
    "    current = head\n",
    "    while current:\n",
    "        if current.value < val:\n",
    "            arr_less.append(current.value)\n",
    "        if current.value >= val:\n",
    "            arr_more.append(current.value)\n",
    "        current = current.next\n",
    "    arr = arr_less + arr_more\n",
    "    ret = Node(arr[0])\n",
    "    \n",
    "    \n",
    "    head = ret\n",
    "    i = 1\n",
    "    while i < len(arr):\n",
    "        ret.next = Node(arr[i])\n",
    "        ret = ret.next\n",
    "        i += 1\n",
    "    return head"
   ]
  },
  {
   "cell_type": "code",
   "execution_count": 35,
   "id": "04b6f6a7",
   "metadata": {},
   "outputs": [
    {
     "name": "stdout",
     "output_type": "stream",
     "text": [
      "1 -> 2 -> 2 -> 4 -> 3 -> 5\n",
      "1 -> 4 -> 3 -> 2 -> 5 -> 2\n"
     ]
    }
   ],
   "source": [
    "head = Node(1, Node(4, Node(3, Node(2, Node(5, Node(2))))))\n",
    "print_linked_list(partition(head, 3))\n",
    "print_linked_list(partition(head, 2))"
   ]
  },
  {
   "cell_type": "markdown",
   "id": "70a870a7",
   "metadata": {},
   "source": [
    "## Problem 4: Middle Match"
   ]
  },
  {
   "cell_type": "code",
   "execution_count": 49,
   "id": "4122d097",
   "metadata": {},
   "outputs": [],
   "source": [
    "class Node:\n",
    "    def __init__(self, value, next=None):\n",
    "        self.value = value\n",
    "        self.next = next\n",
    "\n",
    "\n",
    "# For testing\n",
    "def print_linked_list(head):\n",
    "    current = head\n",
    "    while current:\n",
    "        print(current.value, end=\" -> \" if current.next else \"\\n\")\n",
    "        current = current.next\n",
    "\n",
    "\n",
    "def middle_match(head, val):\n",
    "    slow, fast = head, head\n",
    "    while fast and fast.next: # while fast and fast.next\n",
    "        slow = slow.next\n",
    "        fast = fast.next.next\n",
    "    \n",
    "    return slow.value == val\n"
   ]
  },
  {
   "cell_type": "code",
   "execution_count": 50,
   "id": "344575a8",
   "metadata": {},
   "outputs": [
    {
     "name": "stdout",
     "output_type": "stream",
     "text": [
      "True\n",
      "False\n",
      "True\n"
     ]
    }
   ],
   "source": [
    "kart_choices = Node(\"Bullet Bike\", Node(\"Wild Wing\", Node(\"Pirahna Prowler\")))\n",
    "tournament_tracks = Node(\n",
    "    \"Rainbow Road\", Node(\"Bowser Castle\", Node(\"Sherbet Land\", Node(\"Yoshi Valley\")))\n",
    ")\n",
    "\n",
    "print(middle_match(kart_choices, \"Wild Wing\")) # True\n",
    "print(middle_match(tournament_tracks, \"Bowser Castle\")) # False\n",
    "print(middle_match(tournament_tracks, \"Sherbet Land\"))  # True"
   ]
  },
  {
   "cell_type": "markdown",
   "id": "e0597422",
   "metadata": {},
   "source": [
    "## Problem 5: Put it in Reverse\n"
   ]
  },
  {
   "cell_type": "code",
   "execution_count": 57,
   "id": "e34e3a6f",
   "metadata": {},
   "outputs": [],
   "source": [
    "class Node:\n",
    "    def __init__(self, value, next=None):\n",
    "        self.value = value\n",
    "        self.next = next\n",
    "\n",
    "\n",
    "# For testing\n",
    "def print_linked_list(head):\n",
    "    current = head\n",
    "    while current:\n",
    "        print(current.value, end=\" -> \" if current.next else \"\\n\")\n",
    "        current = current.next\n",
    "\n",
    "\n",
    "def reverse(head):\n",
    "    cur = head\n",
    "    prev = None\n",
    "    while cur:\n",
    "        nxt = cur.next\n",
    "        cur.next = prev\n",
    "        prev = cur\n",
    "        cur = nxt\n",
    "    return prev"
   ]
  },
  {
   "cell_type": "code",
   "execution_count": 58,
   "id": "46f16a31",
   "metadata": {},
   "outputs": [
    {
     "name": "stdout",
     "output_type": "stream",
     "text": [
      "Pirahna Prowler -> Wild Wing -> Bullet Bike\n"
     ]
    }
   ],
   "source": [
    "kart_choices = Node(\"Bullet Bike\", Node(\"Wild Wing\", Node(\"Pirahna Prowler\")))\n",
    "\n",
    "print_linked_list(reverse(kart_choices))"
   ]
  },
  {
   "cell_type": "markdown",
   "id": "41c39a11",
   "metadata": {},
   "source": [
    "## Problem 6: Symmetrical"
   ]
  },
  {
   "cell_type": "code",
   "execution_count": 29,
   "id": "733bacba",
   "metadata": {},
   "outputs": [],
   "source": [
    "class Node:\n",
    "    def __init__(self, value, next=None):\n",
    "        self.value = value\n",
    "        self.next = next\n",
    "\n",
    "\n",
    "# For testing\n",
    "def print_linked_list(head):\n",
    "    current = head\n",
    "    while current:\n",
    "        print(current.value, end=\" -> \" if current.next else \"\\n\")\n",
    "        current = current.next\n",
    "\n",
    "def is_symmetric(head):\n",
    "    slow = head\n",
    "    fast = head\n",
    "\n",
    "    while fast and fast.next:\n",
    "        fast = fast.next.next\n",
    "        slow = slow.next\n",
    "\n",
    "    prev = None\n",
    "    while slow:\n",
    "        next = slow.next\n",
    "        slow.next = prev\n",
    "        prev = slow\n",
    "        slow = next\n",
    "    \n",
    "    left = head\n",
    "    right = prev\n",
    "\n",
    "    while right:\n",
    "        if left.value != right.value:\n",
    "            return False\n",
    "        left = left.next\n",
    "        right = right.next\n",
    "    \n",
    "    return True"
   ]
  },
  {
   "cell_type": "code",
   "execution_count": 30,
   "id": "d8680ac9",
   "metadata": {},
   "outputs": [
    {
     "name": "stdout",
     "output_type": "stream",
     "text": [
      "True\n",
      "False\n"
     ]
    }
   ],
   "source": [
    "head1 = Node(\"Bitterling\", Node(\"Crawfish\", Node(\"Bitterling\")))\n",
    "head2 = Node(\"Bitterling\", Node(\"Carp\", Node(\"Koi\")))\n",
    "\n",
    "print(is_symmetric(head1))\n",
    "print(is_symmetric(head2))"
   ]
  },
  {
   "cell_type": "markdown",
   "id": "3d28ec73",
   "metadata": {},
   "source": [
    "# THE END"
   ]
  }
 ],
 "metadata": {
  "kernelspec": {
   "display_name": ".venv",
   "language": "python",
   "name": "python3"
  },
  "language_info": {
   "codemirror_mode": {
    "name": "ipython",
    "version": 3
   },
   "file_extension": ".py",
   "mimetype": "text/x-python",
   "name": "python",
   "nbconvert_exporter": "python",
   "pygments_lexer": "ipython3",
   "version": "3.12.12"
  }
 },
 "nbformat": 4,
 "nbformat_minor": 5
}
